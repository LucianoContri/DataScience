{
 "cells": [
  {
   "cell_type": "markdown",
   "metadata": {},
   "source": [
    "# 1. Monte um passo a passo para o algoritmo RF \n",
    "    Carregue o dataset\n",
    "    Divida o dataset em treino e teste\n",
    "    conte o numero de features e defina o numero de features a serem usadas\n",
    "    defina quantas arvores serão usadas\n",
    "\n",
    "    para cada arvore:\n",
    "        selecione aleatoriamente as features\n",
    "        selecione aleatoriamente as amostras\n",
    "        treine a arvore\n",
    "        guarde a arvore\n",
    "\n",
    "    faça a predição para cada arvore\n",
    "    faça a predição final contando os votos de cada arvore(classificão) ou fazendo a média das predições(regressão)\n",
    "    calcule as métricas de avaliação\n",
    "\n",
    "# 2. Explique com suas palavras o Random forest \n",
    "    O Random Forest é um algoritmo que cria várias árvores de decisão com reamostragem dos dados e das features,\n",
    "    mas com features limitadas. Isso faz que cada árvore tenha um perfil completamente diferente das outras e quando\n",
    "    agregadas, o erro de cada uma vai se corrigindo com o acerto das outras e vice versa, criando um modelo mais robusto\n",
    "    que pega várias correlações diferentes entre as features e os dados, tornando o modelo mais preciso e com menos overfitting.\n",
    "\n",
    "# 3. Qual a diferença entre Bagging e Random Forest? \n",
    "    O Bagging é uma agregação de modelos utilizando apenas reamostragem dos dados, já o Random Forest faz reamostragem dos dados\n",
    "    e das features, além de limitar o número de features a serem usadas em cada árvore.\n",
    "    \n",
    "# 4. Implementar em python o Random Forest– Bootstrap– Feature selection– Modelagem com Decision trees– Agregação"
   ]
  },
  {
   "cell_type": "code",
   "execution_count": 1,
   "metadata": {},
   "outputs": [
    {
     "name": "stdout",
     "output_type": "stream",
     "text": [
      "              precision    recall  f1-score   support\n",
      "\n",
      "      setosa       1.00      1.00      1.00        50\n",
      "  versicolor       1.00      1.00      1.00        50\n",
      "   virginica       1.00      1.00      1.00        50\n",
      "\n",
      "    accuracy                           1.00       150\n",
      "   macro avg       1.00      1.00      1.00       150\n",
      "weighted avg       1.00      1.00      1.00       150\n",
      "\n"
     ]
    }
   ],
   "source": [
    "import numpy as np\n",
    "from sklearn.datasets import load_iris\n",
    "from sklearn.metrics import classification_report\n",
    "from sklearn.utils import resample\n",
    "from sklearn.tree import DecisionTreeClassifier\n",
    "\n",
    "# Carregar o conjunto de dados\n",
    "iris = load_iris()\n",
    "X, y = iris.data, iris.target\n",
    "n_samples, n_features = X.shape\n",
    "\n",
    "# Definir o número de estimadores (árvores)\n",
    "n_estimators = 10\n",
    "# Número de features a serem consideradas em cada divisão\n",
    "max_features = int(np.sqrt(n_features))\n",
    "\n",
    "estimators = []\n",
    "\n",
    "# Bootstrap e Modelagem com Seleção de Features\n",
    "for i in range(n_estimators):\n",
    "    # Criar uma amostra bootstrap\n",
    "    X_bootstrap, y_bootstrap = resample(X, y, replace=True, n_samples=n_samples)\n",
    "\n",
    "    # Inicializar a árvore de decisão com o número máximo de features a serem consideradas em cada divisão\n",
    "    tree = DecisionTreeClassifier(max_features=max_features)\n",
    "\n",
    "    # Treinar a árvore no conjunto bootstrap\n",
    "    tree.fit(X_bootstrap, y_bootstrap)\n",
    "\n",
    "    # Armazenar a árvore treinada\n",
    "    estimators.append(tree)\n",
    "\n",
    "# Função para Agregação das previsões\n",
    "def random_forest_predict(X):\n",
    "    # Obter previsões de todas as árvores\n",
    "    predictions = np.array([tree.predict(X) for tree in estimators])\n",
    "    # Transpor para alinhar as previsões\n",
    "    predictions = predictions.T\n",
    "    # Votação majoritária\n",
    "    final_predictions = []\n",
    "    for pred in predictions:\n",
    "        counts = np.bincount(pred)\n",
    "        final_predictions.append(np.argmax(counts))\n",
    "    return np.array(final_predictions)\n",
    "\n",
    "# Realizar previsões no conjunto de dados original\n",
    "y_pred = random_forest_predict(X)\n",
    "\n",
    "report = classification_report(y, y_pred, target_names=iris.target_names)\n",
    "print(report)"
   ]
  },
  {
   "cell_type": "code",
   "execution_count": null,
   "metadata": {},
   "outputs": [],
   "source": []
  }
 ],
 "metadata": {
  "kernelspec": {
   "display_name": "base",
   "language": "python",
   "name": "python3"
  },
  "language_info": {
   "codemirror_mode": {
    "name": "ipython",
    "version": 3
   },
   "file_extension": ".py",
   "mimetype": "text/x-python",
   "name": "python",
   "nbconvert_exporter": "python",
   "pygments_lexer": "ipython3",
   "version": "3.11.4"
  }
 },
 "nbformat": 4,
 "nbformat_minor": 2
}
