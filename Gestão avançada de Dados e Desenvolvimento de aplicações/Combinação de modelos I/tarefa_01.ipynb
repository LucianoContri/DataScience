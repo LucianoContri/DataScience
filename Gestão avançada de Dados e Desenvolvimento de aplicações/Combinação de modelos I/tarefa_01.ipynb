{
 "cells": [
  {
   "cell_type": "markdown",
   "metadata": {},
   "source": [
    "# 1. Monte um passo a passo para o Bagging \n",
    "    Importar Bibliotecas\n",
    "    Carregar dataframe\n",
    "    escolher numero de estimadores\n",
    "    fazer um Resample do dataframe para cada estimador\n",
    "    treinar cada modelo\n",
    "    fazer a predição de cada modelo\n",
    "    fazer a média das predições\n",
    "    calcular métricas\n",
    "\n",
    "\n",
    "# 2. Explique com suas palavras o Bagging \n",
    "    Bagging é uma forma de ensemble, ou melhor, juntar o resultado de vários modelos para dar mais estabilidade para as previsões.\n",
    "    O Bagging em si é um ensemble que treina vários modelos fazendo um resample(reamostragem) dos dados para que cada modelo tenha um conjunto de dados diferente e no final cada um consiga observar algo de diferente que os outros não conseguiram. Por fim tirasse a média das previsões de cada modelo para ter uma previsão mais estável.\n",
    "\n",
    "# 3. (Opcional) Implementar em python o código do Bagging– Bootstrap– Modelagem– Agregação\n",
    "\n"
   ]
  },
  {
   "cell_type": "code",
   "execution_count": 21,
   "metadata": {},
   "outputs": [
    {
     "name": "stdout",
     "output_type": "stream",
     "text": [
      "[0, 0, 0, 0, 0, 0, 0, 0, 0, 0, 0, 0, 0, 0, 0, 0, 0, 0, 0, 1, 1, 1, 0, 0, 0, 0, 0, 0, 0, 0, 0, 0, 0, 0, 0, 0, 0, 1, 0, 0, 0, 0, 0, 0, 0, 0, 1, 0, 1, 1, 1, 1, 1, 0, 0, 1, 0, 0, 1, 1, 1, 1, 0, 1, 0, 0, 1, 1, 1, 1, 0, 1, 0, 0, 1, 0, 1, 0, 0, 1, 1, 1, 0, 0, 1, 0, 0, 0, 1, 1, 1, 0, 1, 1, 0, 0, 1, 1, 1, 0, 0, 1, 1, 1, 1, 0, 1, 1, 0, 1, 1, 1, 1, 1, 1, 1, 1, 0, 0, 0, 1, 0, 0, 1, 1, 1, 0, 0, 1, 0, 1, 0, 0, 1, 0, 0, 1, 1, 0, 1, 1, 0, 1, 1, 1, 1, 0, 1, 1, 1, 1, 1, 1, 1, 1, 1, 0, 1, 1, 1, 1, 0, 0, 1, 0, 1, 1, 0, 0, 1, 1, 0, 0, 1, 1, 1, 1, 0, 1, 1, 0, 0, 0, 1, 0, 1, 0, 1, 1, 1, 0, 1, 1, 0, 0, 1, 0, 0, 0, 0, 1, 0, 0, 0, 1, 0, 1, 0, 1, 1, 0, 1, 0, 0, 0, 0, 1, 1, 0, 0, 1, 1, 1, 0, 1, 1, 1, 1, 1, 0, 0, 1, 1, 0, 1, 1, 0, 0, 1, 0, 1, 1, 1, 1, 0, 1, 1, 1, 1, 1, 0, 1, 0, 0, 0, 0, 0, 0, 0, 0, 0, 0, 0, 0, 0, 0, 1, 1, 1, 1, 1, 1, 0, 1, 0, 1, 1, 0, 1, 1, 0, 1, 0, 0, 1, 1, 1, 1, 1, 1, 1, 1, 1, 1, 1, 1, 1, 0, 1, 1, 0, 1, 0, 1, 1, 1, 1, 1, 1, 1, 1, 1, 1, 1, 1, 1, 1, 0, 1, 1, 1, 0, 1, 0, 1, 1, 1, 1, 0, 0, 0, 1, 1, 1, 1, 0, 1, 0, 1, 0, 1, 1, 1, 0, 1, 1, 1, 1, 1, 1, 1, 0, 0, 0, 1, 1, 1, 1, 1, 1, 1, 1, 1, 1, 1, 0, 0, 1, 0, 0, 0, 1, 0, 0, 1, 1, 1, 1, 1, 0, 1, 1, 1, 1, 1, 0, 1, 1, 1, 0, 1, 1, 0, 0, 1, 1, 1, 1, 1, 1, 0, 1, 1, 1, 1, 1, 1, 1, 0, 1, 1, 1, 1, 1, 0, 1, 1, 0, 1, 1, 1, 1, 1, 1, 1, 1, 1, 1, 1, 1, 0, 1, 0, 0, 1, 0, 1, 1, 1, 1, 1, 0, 1, 1, 0, 1, 0, 1, 1, 0, 1, 0, 1, 1, 1, 1, 1, 1, 1, 1, 0, 0, 1, 1, 1, 1, 1, 1, 0, 1, 1, 1, 1, 1, 1, 1, 1, 1, 1, 0, 1, 1, 1, 1, 1, 1, 1, 0, 1, 0, 1, 1, 0, 1, 1, 1, 1, 1, 0, 0, 1, 0, 1, 0, 1, 1, 1, 1, 1, 0, 1, 1, 0, 1, 0, 1, 0, 0, 1, 1, 1, 0, 1, 1, 1, 1, 1, 1, 1, 1, 1, 1, 1, 0, 1, 0, 0, 1, 1, 1, 1, 1, 1, 1, 1, 1, 1, 1, 1, 1, 1, 1, 1, 1, 1, 1, 1, 1, 1, 1, 1, 1, 0, 0, 0, 0, 0, 0, 1]\n",
      "sumário Bagging:              precision    recall  f1-score   support\n",
      "\n",
      "           0       1.00      1.00      1.00       212\n",
      "           1       1.00      1.00      1.00       357\n",
      "\n",
      "    accuracy                           1.00       569\n",
      "   macro avg       1.00      1.00      1.00       569\n",
      "weighted avg       1.00      1.00      1.00       569\n",
      "\n",
      "Acurácia Modelo Único:               precision    recall  f1-score   support\n",
      "\n",
      "           0       1.00      1.00      1.00       212\n",
      "           1       1.00      1.00      1.00       357\n",
      "\n",
      "    accuracy                           1.00       569\n",
      "   macro avg       1.00      1.00      1.00       569\n",
      "weighted avg       1.00      1.00      1.00       569\n",
      "\n"
     ]
    }
   ],
   "source": [
    "\n",
    "\n",
    "import numpy as np\n",
    "from sklearn.tree import DecisionTreeClassifier\n",
    "# Carregar o conjunto de dados mais dificeis do pacote sklearn\n",
    "from sklearn.datasets import load_breast_cancer\n",
    "from sklearn.metrics import classification_report\n",
    "from sklearn.utils import resample\n",
    "\n",
    "# Carregar o conjunto de dados mais dificeis do pacote sklearn\n",
    "df = load_breast_cancer()\n",
    "X, y = df.data, df.target\n",
    "\n",
    "# Definir o número de modelos (estimadores)\n",
    "n_estimators = 10\n",
    "estimators = []\n",
    "\n",
    "# Bootstrap e Modelagem\n",
    "for i in range(n_estimators):\n",
    "    # Criar uma amostra bootstrap\n",
    "    X_bootstrap, y_bootstrap = resample(X, y, replace=True, n_samples=len(X))\n",
    "    \n",
    "    # Treinar o modelo em cada amostra bootstrap\n",
    "    model = DecisionTreeClassifier()\n",
    "    model.fit(X_bootstrap, y_bootstrap)\n",
    "    \n",
    "    # Armazenar o modelo treinado\n",
    "    estimators.append(model)\n",
    "  \n",
    "# Previsões\n",
    "predictions = []\n",
    "for model in estimators:\n",
    "    y_pred = model.predict(X)\n",
    "    predictions.append(y_pred)\n",
    "    \n",
    "# Previsões finais\n",
    "predictions = np.array(predictions)\n",
    "y_pred_final = []\n",
    "for i in range(len(X)):\n",
    "    y_pred_final.append(np.bincount(predictions[:, i]).argmax())\n",
    "\n",
    "print(y_pred_final)\n",
    "accuracy = 0\n",
    "# Acurácia\n",
    "report = classification_report(y, y_pred_final)\n",
    "print(f'sumário Bagging:{report}')\n",
    "\n",
    "# modelo único para comparação\n",
    "model = DecisionTreeClassifier()\n",
    "model.fit(X, y)\n",
    "y_pred = model.predict(X)\n",
    "report = classification_report(y, y_pred)\n",
    "print(f'Acurácia Modelo Único: {report}')\n",
    "\n",
    "    "
   ]
  },
  {
   "cell_type": "code",
   "execution_count": null,
   "metadata": {},
   "outputs": [],
   "source": []
  },
  {
   "cell_type": "code",
   "execution_count": null,
   "metadata": {},
   "outputs": [],
   "source": []
  }
 ],
 "metadata": {
  "kernelspec": {
   "display_name": "base",
   "language": "python",
   "name": "python3"
  },
  "language_info": {
   "codemirror_mode": {
    "name": "ipython",
    "version": 3
   },
   "file_extension": ".py",
   "mimetype": "text/x-python",
   "name": "python",
   "nbconvert_exporter": "python",
   "pygments_lexer": "ipython3",
   "version": "3.11.4"
  }
 },
 "nbformat": 4,
 "nbformat_minor": 2
}
