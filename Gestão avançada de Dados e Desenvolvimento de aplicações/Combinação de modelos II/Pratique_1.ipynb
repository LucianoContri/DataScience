{
 "cells": [
  {
   "cell_type": "markdown",
   "metadata": {},
   "source": [
    "### 1. Cite 5 diferenças entre o Random Forest e o AdaBoost \n",
    "\n",
    "    - Random Forest cria árvores de profundidade variável, enquanto o AdaBoost cria árvores de profundidade fixa em 1 nó.\n",
    "    - Random Forest treina várias árvores de forma independente enquanto o AdaBoost treina um stump por vez e ajusta o peso de cada instância.\n",
    "    - O Random Forest utiliza algumas das features para treinar cada árvore, enquanto o AdaBoost utiliza todas as features mas o stump criado é de apenas uma unica feature.\n",
    "    - ambos usam o sistema de votação majoritária para classificar as instâncias, mas enquanto o random forest da o mesmo peso para cada árvore, o AdaBoost da pesos diferentes para cada stump. baseado na acurácia de cada stump.\n",
    "    - O Random Forest faz o bagging dos dados aleatoriamente, enquanto o AdaBoost faz o bagging dos dados utilizando os pesos de cada instância para que instâncias mal classificadas tenham mais representatividade no dado de treinamento da próxima stump.\n"
   ]
  },
  {
   "cell_type": "markdown",
   "metadata": {},
   "source": [
    "2. Acesse o link Scikit-learn– adaboost , leia a explicação (traduza se for preciso) e crie um jupyter notebook contendo o exemplo do AdaBoost. \n"
   ]
  },
  {
   "cell_type": "code",
   "execution_count": 1,
   "metadata": {},
   "outputs": [
    {
     "data": {
      "text/plain": [
       "0.9533333333333334"
      ]
     },
     "execution_count": 1,
     "metadata": {},
     "output_type": "execute_result"
    }
   ],
   "source": [
    "from sklearn.model_selection import cross_val_score\n",
    "from sklearn.datasets import load_iris\n",
    "from sklearn.ensemble import AdaBoostClassifier\n",
    "\n",
    "X, y = load_iris(return_X_y=True)\n",
    "clf = AdaBoostClassifier(n_estimators=100, algorithm=\"SAMME\",)\n",
    "scores = cross_val_score(clf, X, y, cv=5)\n",
    "scores.mean()"
   ]
  },
  {
   "cell_type": "markdown",
   "metadata": {},
   "source": [
    "3. Cite 5 Hyperparametros importantes no AdaBoost. \n",
    "    \n",
    "        - estimator \n",
    "        - n_estimators          \n",
    "        - learning_rate       \n",
    "        - algorithm está depreciado.    \n",
    "        - random_state\n",
    "        - base_estimator__max_depth     \n",
    "        - base_estimator__min_samples_split   \n",
    "        - base_estimator__min_samples_leaf     \n",
    "        - base_estimator__max_features\n"
   ]
  },
  {
   "cell_type": "markdown",
   "metadata": {},
   "source": [
    "\n",
    "4. (Opcional) Utilize o GridSearch para encontrar os melhores hyperparametros para o conjunto de dados do exemplo (load_iris)"
   ]
  },
  {
   "cell_type": "code",
   "execution_count": 5,
   "metadata": {},
   "outputs": [
    {
     "name": "stdout",
     "output_type": "stream",
     "text": [
      "Melhores parâmetros: {'estimator__max_depth': 1, 'estimator__max_features': None, 'estimator__min_samples_leaf': 1, 'estimator__min_samples_split': 2, 'learning_rate': 0.1, 'n_estimators': 200}\n",
      "Melhor precisão de validação cruzada: 0.9428571428571428\n",
      "Acurácia no conjunto de teste: 1.0\n"
     ]
    }
   ],
   "source": [
    "from sklearn.ensemble import AdaBoostClassifier\n",
    "from sklearn.tree import DecisionTreeClassifier\n",
    "from sklearn.model_selection import GridSearchCV\n",
    "from sklearn.datasets import load_iris\n",
    "from sklearn.metrics import accuracy_score\n",
    "from sklearn.model_selection import train_test_split\n",
    "\n",
    "# Carregar um conjunto de dados exemplo\n",
    "data = load_iris()\n",
    "X, y = data.data, data.target\n",
    "\n",
    "# Dividir os dados em treino e teste\n",
    "X_train, X_test, y_train, y_test = train_test_split(X, y, test_size=0.3, random_state=42)\n",
    "\n",
    "# Configurar o base_estimator como um \"stump\"\n",
    "base_stump = DecisionTreeClassifier()\n",
    "\n",
    "# Definir o modelo AdaBoost com o base_estimator como stump\n",
    "ada = AdaBoostClassifier(estimator=base_stump, algorithm='SAMME')\n",
    "\n",
    "# Definir o grid de parâmetros\n",
    "param_grid = {\n",
    "    'n_estimators': [50, 100, 200],          # Número de estimadores\n",
    "    'learning_rate': [0.01, 0.1, 1.0],       # Taxa de aprendizado\n",
    "    'estimator__max_depth': [1, 2],                      # Profundidade do \"stump\"\n",
    "    'estimator__min_samples_split': [2, 5, 10],          # Min. de amostras para dividir um nó\n",
    "    'estimator__min_samples_leaf': [1, 2, 5],            # Min. de amostras para um nó folha\n",
    "    'estimator__max_features': [None, 'sqrt', 'log2']   # Máximo de features para divisão\n",
    "}\n",
    "\n",
    "# Configurar a GridSearchCV\n",
    "grid_search = GridSearchCV(estimator=ada, param_grid=param_grid,n_jobs=-1, scoring='accuracy', cv=5)\n",
    "\n",
    "# Realizar a busca no grid\n",
    "grid_search.fit(X_train, y_train)\n",
    "\n",
    "# Exibir os melhores parâmetros encontrados\n",
    "print(\"Melhores parâmetros:\", grid_search.best_params_)\n",
    "print(\"Melhor precisão de validação cruzada:\", grid_search.best_score_)\n",
    "\n",
    "# Avaliar o modelo otimizado nos dados de teste\n",
    "best_model = grid_search.best_estimator_\n",
    "y_pred = best_model.predict(X_test)\n",
    "print(\"Acurácia no conjunto de teste:\", accuracy_score(y_test, y_pred))"
   ]
  },
  {
   "cell_type": "code",
   "execution_count": null,
   "metadata": {},
   "outputs": [],
   "source": []
  }
 ],
 "metadata": {
  "kernelspec": {
   "display_name": "base",
   "language": "python",
   "name": "python3"
  },
  "language_info": {
   "codemirror_mode": {
    "name": "ipython",
    "version": 3
   },
   "file_extension": ".py",
   "mimetype": "text/x-python",
   "name": "python",
   "nbconvert_exporter": "python",
   "pygments_lexer": "ipython3",
   "version": "3.11.4"
  }
 },
 "nbformat": 4,
 "nbformat_minor": 2
}
