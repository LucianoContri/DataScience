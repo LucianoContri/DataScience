{
 "cells": [
  {
   "cell_type": "markdown",
   "metadata": {},
   "source": [
    "![Cabec%CC%A7alho_notebook.png](cabecalho_notebook.png)"
   ]
  },
  {
   "cell_type": "markdown",
   "metadata": {},
   "source": [
    "# PCA - Tarefa 01: *HAR* com PCA\n",
    "\n",
    "Vamos trabalhar com a base da demonstração feita em aula, mas vamos explorar um pouco melhor como é o desempenho da árvore variando o número de componentes principais."
   ]
  },
  {
   "cell_type": "code",
   "execution_count": 5,
   "metadata": {},
   "outputs": [
    {
     "name": "stderr",
     "output_type": "stream",
     "text": [
      "C:\\Users\\Lucia\\AppData\\Local\\Temp\\ipykernel_28768\\234977206.py:23: FutureWarning: The squeeze argument has been deprecated and will be removed in a future version. Append .squeeze(\"columns\") to the call to squeeze.\n",
      "\n",
      "\n",
      "  features = pd.read_csv(filename_features, header=None, names=['nome_var'], squeeze=True, sep=\"#\")\n",
      "C:\\Users\\Lucia\\AppData\\Local\\Temp\\ipykernel_28768\\234977206.py:26: FutureWarning: The squeeze argument has been deprecated and will be removed in a future version. Append .squeeze(\"columns\") to the call to squeeze.\n",
      "\n",
      "\n",
      "  subject_train = pd.read_csv(filename_subtrain, header=None, names=['subject_id'], squeeze=True)\n",
      "C:\\Users\\Lucia\\AppData\\Local\\Temp\\ipykernel_28768\\234977206.py:30: FutureWarning: The squeeze argument has been deprecated and will be removed in a future version. Append .squeeze(\"columns\") to the call to squeeze.\n",
      "\n",
      "\n",
      "  subject_test = pd.read_csv(filename_subtest, header=None, names=['subject_id'], squeeze=True)\n"
     ]
    }
   ],
   "source": [
    "import pandas as pd\n",
    "\n",
    "from sklearn.tree import DecisionTreeClassifier\n",
    "\n",
    "from sklearn.decomposition import PCA\n",
    "from sklearn.metrics import accuracy_score\n",
    "from sklearn.model_selection import cross_val_score\n",
    "from sklearn.model_selection import GridSearchCV\n",
    "\n",
    "\n",
    "\n",
    "filename_features = \"C:/DEV/Datasets/EBAC/PCA/UCI HAR Dataset/features.txt\"\n",
    "filename_labels = \"C:/DEV/Datasets/EBAC/PCA/UCI HAR Dataset/activity_labels.txt\"\n",
    "\n",
    "filename_subtrain = \"C:/DEV/Datasets/EBAC/PCA/UCI HAR Dataset/train/subject_train.txt\"\n",
    "filename_xtrain = \"C:/DEV/Datasets/EBAC/PCA/UCI HAR Dataset/train/X_train.txt\"\n",
    "filename_ytrain = \"C:/DEV/Datasets/EBAC/PCA/UCI HAR Dataset/train/y_train.txt\"\n",
    "\n",
    "filename_subtest = \"C:/DEV/Datasets/EBAC/PCA/UCI HAR Dataset/test/subject_test.txt\"\n",
    "ffilename_xtest = \"C:/DEV/Datasets/EBAC/PCA/UCI HAR Dataset/test/X_test.txt\"\n",
    "filename_ytest = \"C:/DEV/Datasets/EBAC/PCA/UCI HAR Dataset/test/y_test.txt\"\n",
    "\n",
    "features = pd.read_csv(filename_features, header=None, names=['nome_var'], squeeze=True, sep=\"#\")\n",
    "labels = pd.read_csv(filename_labels, delim_whitespace=True, header=None, names=['cod_label', 'label'])\n",
    "\n",
    "subject_train = pd.read_csv(filename_subtrain, header=None, names=['subject_id'], squeeze=True)\n",
    "X_train = pd.read_csv(filename_xtrain, delim_whitespace=True, header=None, names=features.tolist())\n",
    "y_train = pd.read_csv(filename_ytrain, header=None, names=['cod_label'])\n",
    "\n",
    "subject_test = pd.read_csv(filename_subtest, header=None, names=['subject_id'], squeeze=True)\n",
    "X_test = pd.read_csv(ffilename_xtest, delim_whitespace=True, header=None, names=features.tolist())\n",
    "y_test = pd.read_csv(filename_ytest, header=None, names=['cod_label'])"
   ]
  },
  {
   "cell_type": "markdown",
   "metadata": {},
   "source": [
    "## Árvore de decisão\n",
    "\n",
    "Rode uma árvore de decisão com todas as variáveis, utilizando o ```ccp_alpha=0.001```. Avalie a acurácia nas bases de treinamento e teste. Avalie o tempo de processamento."
   ]
  },
  {
   "cell_type": "code",
   "execution_count": 8,
   "metadata": {},
   "outputs": [
    {
     "name": "stdout",
     "output_type": "stream",
     "text": [
      "Acurácia na base de treinamento: 0.98\n",
      "Acurácia na base de teste: 0.88\n",
      "CPU times: total: 1.66 s\n",
      "Wall time: 3.08 s\n"
     ]
    }
   ],
   "source": [
    "%%time\n",
    "\n",
    "# Rode uma árvore de decisão com todas as variáveis, utilizando o ```ccp_alpha=0.001```. Avalie a acurácia nas bases de treinamento e teste. Avalie o tempo de processamento.\n",
    "\n",
    "dt = DecisionTreeClassifier(ccp_alpha=0.001)\n",
    "dt.fit(X_train, y_train)\n",
    "\n",
    "# avaliando a acurácia na base de treinamento e teste\n",
    "y_pred_train = dt.predict(X_train)\n",
    "y_pred_test = dt.predict(X_test)\n",
    "\n",
    "acc_train = accuracy_score(y_train, y_pred_train)\n",
    "acc_test = accuracy_score(y_test, y_pred_test)\n",
    "\n",
    "print(f'Acurácia na base de treinamento: {acc_train:.2f}')\n",
    "print(f'Acurácia na base de teste: {acc_test:.2f}')"
   ]
  },
  {
   "cell_type": "markdown",
   "metadata": {},
   "source": [
    "## Árvore com PCA\n",
    "\n",
    "Faça uma análise de componemtes principais das variáveis originais. Utilize apenas uma componente. Faça uma árvore de decisão com esta componente como variável explicativa.\n",
    "\n",
    "- Avalie a acurácia nas bases de treinamento e teste\n",
    "- Avalie o tempo de processamento"
   ]
  },
  {
   "cell_type": "code",
   "execution_count": 9,
   "metadata": {},
   "outputs": [
    {
     "name": "stdout",
     "output_type": "stream",
     "text": [
      "Acurácia na base de treinamento: 0.50\n",
      "Acurácia na base de teste: 0.46\n",
      "CPU times: total: 109 ms\n",
      "Wall time: 177 ms\n"
     ]
    }
   ],
   "source": [
    "%%time\n",
    "\n",
    "# utilizando pca para reduzir a dimensionalidade para 1 componente\n",
    "pca = PCA(n_components=1).fit(X_train)\n",
    "\n",
    "X_train_pca = pca.transform(X_train)\n",
    "X_test_pca = pca.transform(X_test)\n",
    "\n",
    "# Rode uma árvore de decisão com a variável reduzida, utilizando o ```ccp_alpha=0.001```. Avalie a acurácia nas bases de treinamento e teste. Avalie o tempo de processamento.\n",
    "\n",
    "dt = DecisionTreeClassifier(ccp_alpha=0.001)\n",
    "dt.fit(X_train_pca, y_train)\n",
    "\n",
    "# avaliando a acurácia na base de treinamento e teste\n",
    "y_pred_train = dt.predict(X_train_pca)\n",
    "y_pred_test = dt.predict(X_test_pca)\n",
    "\n",
    "acc_train = accuracy_score(y_train, y_pred_train)\n",
    "acc_test = accuracy_score(y_test, y_pred_test)\n",
    "\n",
    "print(f'Acurácia na base de treinamento: {acc_train:.2f}')\n",
    "print(f'Acurácia na base de teste: {acc_test:.2f}')\n",
    "\n"
   ]
  },
  {
   "cell_type": "markdown",
   "metadata": {},
   "source": [
    "## Testando o número de componentes\n",
    "\n",
    "Com base no código acima, teste a árvore de classificação com pelo menos as seguintes possibilidades de quantidades de componentes: ```[1, 2, 5, 10, 50]```. Avalie para cada uma delas:\n",
    "\n",
    "- Acurácia nas bases de treino e teste\n",
    "- Tempo de processamento\n"
   ]
  },
  {
   "cell_type": "code",
   "execution_count": 19,
   "metadata": {},
   "outputs": [
    {
     "name": "stdout",
     "output_type": "stream",
     "text": [
      "                      params  mean_test_score  mean_fit_time\n",
      "3  {'pca__n_components': 10}         0.799102       0.526873\n",
      "5  {'pca__n_components': 50}         0.795428       0.589750\n",
      "4  {'pca__n_components': 20}         0.789035       0.564806\n",
      "2   {'pca__n_components': 5}         0.774078       0.379033\n",
      "1   {'pca__n_components': 3}         0.720754       0.340822\n",
      "0   {'pca__n_components': 1}         0.462866       0.469593 \n",
      "\n",
      "Melhor acurácia: 0.799101726346555\n",
      "Acurácia na base de teste: 0.8215134034611469\n",
      "CPU times: total: 453 ms\n",
      "Wall time: 1.99 s\n"
     ]
    }
   ],
   "source": [
    "%%time\n",
    "from sklearn.pipeline import Pipeline\n",
    "\n",
    "# utilizar o GridSearchCV para treinar arvores de decisão com diferentes quantidades de componentes principais\n",
    "\n",
    "pca = PCA()\n",
    "dt = DecisionTreeClassifier(ccp_alpha=0.001)\n",
    "\n",
    "pipe = Pipeline(steps=[('pca', pca), ('dt', dt)])\n",
    "\n",
    "param_grid = {\n",
    "    'pca__n_components': [1, 3, 5, 10, 20, 50],\n",
    "}\n",
    "\n",
    "search = GridSearchCV(pipe, param_grid, n_jobs=-1)\n",
    "\n",
    "search.fit(X_train, y_train)\n",
    "\n",
    "# mostrar todos os resultados do GridSearchCV incluindo o tempo de processamento de cada modelo\n",
    "results = pd.DataFrame(search.cv_results_)\n",
    "results.sort_values('rank_test_score', inplace=True)\n",
    "print(results[['params', 'mean_test_score', 'mean_fit_time']], '\\n')\n",
    "print(\"Melhor acurácia:\", search.best_score_)\n",
    "print(\"Acurácia na base de teste:\", search.score(X_test, y_test))\n",
    "\n"
   ]
  },
  {
   "cell_type": "markdown",
   "metadata": {},
   "source": [
    "## Conclua\n",
    "\n",
    "- O que aconteceu com a acurácia?  \n",
    "      A acurácia decaiu conforme o número de componentes aumentou. não superando a acurácia do modelo com 10 componentes.\n",
    "      \n",
    "- O que aconteceu com o tempo de processamento?  \n",
    "      O tempo de processamento aumentou conforme o número de componentes aumentou. Mas o tempo de processamento do próprio GridSearchCV foi \n",
    "    menor, menos da metade do tempo de processamento do modelo sem utilizar o PCA. Utilizando um número fixo de componentes, poderiamos treinar\n",
    "    um dataset muitas vezes maior no mesmo tempo."
   ]
  },
  {
   "cell_type": "code",
   "execution_count": null,
   "metadata": {},
   "outputs": [],
   "source": []
  }
 ],
 "metadata": {
  "kernelspec": {
   "display_name": "base",
   "language": "python",
   "name": "python3"
  },
  "language_info": {
   "codemirror_mode": {
    "name": "ipython",
    "version": 3
   },
   "file_extension": ".py",
   "mimetype": "text/x-python",
   "name": "python",
   "nbconvert_exporter": "python",
   "pygments_lexer": "ipython3",
   "version": "3.11.4"
  },
  "toc": {
   "base_numbering": 1,
   "nav_menu": {},
   "number_sections": true,
   "sideBar": true,
   "skip_h1_title": true,
   "title_cell": "Índice",
   "title_sidebar": "Conteúdo",
   "toc_cell": false,
   "toc_position": {},
   "toc_section_display": true,
   "toc_window_display": false
  },
  "varInspector": {
   "cols": {
    "lenName": 16,
    "lenType": 16,
    "lenVar": 40
   },
   "kernels_config": {
    "python": {
     "delete_cmd_postfix": "",
     "delete_cmd_prefix": "del ",
     "library": "var_list.py",
     "varRefreshCmd": "print(var_dic_list())"
    },
    "r": {
     "delete_cmd_postfix": ") ",
     "delete_cmd_prefix": "rm(",
     "library": "var_list.r",
     "varRefreshCmd": "cat(var_dic_list()) "
    }
   },
   "types_to_exclude": [
    "module",
    "function",
    "builtin_function_or_method",
    "instance",
    "_Feature"
   ],
   "window_display": false
  }
 },
 "nbformat": 4,
 "nbformat_minor": 4
}
