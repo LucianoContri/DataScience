{
 "cells": [
  {
   "cell_type": "markdown",
   "metadata": {},
   "source": [
    "# Módulo 5 Tarefa 1\n",
    "## Base de nascidos vivos do DataSUS\n",
    "O DataSUS disponibiliza diversos arquivos de dados com relação a seus segurados, conforme a [lei da transparência de informações públicas](https://www.sisgov.com/transparencia-acesso-informacao/#:~:text=A%20Lei%20da%20Transpar%C3%AAncia%20(LC,em%20um%20site%20na%20internet.). \n",
    "\n",
    "Essas informações podem ser obtidas pela internet [aqui](http://www2.datasus.gov.br/DATASUS/index.php?area=0901&item=1). Como o processo de obtenção desses arquivos foge um pouco do nosso escopo, deixamos o arquivo ```SINASC_RO_2019.csv``` já como vai ser encontrado no DataSUS. O dicionário de dados está no arquivo ```estrutura_sinasc_para_CD.pdf``` (o nome do arquivo tal qual no portal do DataSUS).\n",
    "\n",
    "### Nosso objetivo\n",
    "Queremos deixar uma base organizada para podermos estudar a relação entre partos com risco para o bebê e algumas condições como tempo de parto, consultas de pré-natal etc.\n",
    "\n",
    "#### Preparação da base\n",
    "1. Carregue a base 'SINASC_RO_2019.csv'. Conte o número de registros e o número de registros não duplicados da base. Dica: você aprendeu um método que remove duplicados, encadeie este método com um outro método que conta o número de linhas. **Há linhas duplicadas?**  \n",
    "\n",
    "2. Conte o número de valores *missing* por variável.  \n",
    "\n",
    "3. Ok, no item anterior você deve ter achado pouco prático ler a informação de tantas variáveis, muitas delas nem devem ser interesantes. Então crie uma seleção dessa base somente com as colunas que interessam. São elas:\n",
    "``` \n",
    "['LOCNASC', 'IDADEMAE', 'ESTCIVMAE', 'ESCMAE', 'QTDFILVIVO', \n",
    "    'GESTACAO', 'GRAVIDEZ', 'CONSULTAS', 'APGAR5'] \n",
    "```\n",
    "Refaça a contagem de valores *missings*.  \n",
    "\n",
    "4. Apgar é uma *nota* que o pediatra dá ao bebê quando nasce de acordo com algumas características associadas principalmente à respiração. Apgar 1 e Apgar 5 são as notas 1 e 5 minutos do nascimento. Apgar5 será a nossa variável de interesse principal. Então remova todos os registros com Apgar5 não preenchido. Para esta seleção, conte novamente o número de linhas e o número de *missings*.  \n",
    "\n",
    "5. observe que as variáveis ```['ESTCIVMAE', 'CONSULTAS']``` possuem o código ```9```, que significa *ignorado*. Vamos assumir que o não preenchido é o mesmo que o código ```9```.<br>\n",
    "6. Substitua os valores faltantes da quantitativa (```QTDFILVIVO```) por zero.  \n",
    "7. Das restantes, decida que valore te parece mais adequado (um 'não preenchido' ou um valor 'mais provável' como no item anterior) e preencha. Justifique. Lembre-se de que tratamento de dados é trabalho do cientista, e que estamos tomando decisões a todo o momento - não há necessariamente certo e errado aqui.  \n",
    "8. O Apgar possui uma classificação indicando se o bebê passou por asfixia:\n",
    "- Entre 8 e 10 está em uma faixa 'normal'. \n",
    "- Entre 6 e 7, significa que o recém-nascido passou por 'asfixia leve'. \n",
    "- Entre 4 e 5 significa 'asfixia moderada'.\n",
    "- Entre 0 e 3 significa 'asfixia severa'.  \n",
    "\n",
    "Crie uma categorização dessa variável com essa codificação e calcule as frequências dessa categorização.  \n",
    "<br>\n",
    "9. Renomeie as variáveis para que fiquem no *snake case*, ou seja, em letras minúsculas, com um *underscore* entre as palávras. Dica: repare que se você não quiser criar um *dataframe* novo, você vai precisar usar a opção ```inplace = True```."
   ]
  },
  {
   "cell_type": "code",
   "execution_count": 30,
   "metadata": {
    "ExecuteTime": {
     "end_time": "2023-11-01T14:44:40.952904500Z",
     "start_time": "2023-11-01T14:44:40.494060200Z"
    }
   },
   "source": [
    "import pandas as pd\n",
    "import requests\n",
    "\n",
    "# 1) seu código aqui\n",
    "sinasc = pd.read_csv('SINASC_RO_2019.csv')\n",
    "print(sinasc.shape)\n",
    "sinasc.drop_duplicates().shape\n",
    "# Não há duplicados"
   ],
   "outputs": []
  },
  {
   "cell_type": "code",
   "execution_count": 31,
   "metadata": {
    "ExecuteTime": {
     "end_time": "2023-11-01T14:44:42.516021800Z",
     "start_time": "2023-11-01T14:44:42.485977300Z"
    }
   },
   "source": [
    "# 2) seu código aqui\n",
    "sinasc.isna().sum().sort_values(ascending=False)"
   ],
   "outputs": []
  },
  {
   "cell_type": "code",
   "execution_count": 32,
   "metadata": {
    "ExecuteTime": {
     "end_time": "2023-11-01T14:44:44.128845200Z",
     "start_time": "2023-11-01T14:44:44.114227300Z"
    }
   },
   "source": [
    "# 3) seu código aqui\n",
    "sinasc_df = sinasc[['LOCNASC', 'IDADEMAE', 'ESTCIVMAE', 'ESCMAE', 'QTDFILVIVO',\n",
    "                    'GESTACAO', 'GRAVIDEZ', 'CONSULTAS', 'APGAR5']]\n",
    "sinasc_df.isna().sum().sort_values(ascending=False)"
   ],
   "outputs": []
  },
  {
   "cell_type": "code",
   "execution_count": 33,
   "metadata": {
    "ExecuteTime": {
     "end_time": "2023-11-01T14:44:45.822298700Z",
     "start_time": "2023-11-01T14:44:45.799126200Z"
    }
   },
   "source": [
    "# 4) seu código aqui\n",
    "sinasc_df.shape"
   ],
   "outputs": []
  },
  {
   "cell_type": "code",
   "execution_count": 34,
   "source": [
    "sinasc_df = sinasc_df.dropna(subset= ['APGAR5'])\n",
    "sinasc_df.shape"
   ],
   "metadata": {
    "collapsed": false,
    "ExecuteTime": {
     "end_time": "2023-11-01T14:44:47.535910200Z",
     "start_time": "2023-11-01T14:44:47.505398Z"
    }
   },
   "outputs": []
  },
  {
   "cell_type": "code",
   "execution_count": 35,
   "metadata": {
    "ExecuteTime": {
     "end_time": "2023-11-01T14:44:54.358052600Z",
     "start_time": "2023-11-01T14:44:54.309775300Z"
    }
   },
   "source": [
    "# 5) seu código aqui\n",
    "sinasc_df[['ESTCIVMAE', 'CONSULTAS']].head()"
   ],
   "outputs": []
  },
  {
   "cell_type": "code",
   "execution_count": 36,
   "source": [
    "sinasc_df.loc[:, ['ESTCIVMAE', 'CONSULTAS']] = sinasc_df[['ESTCIVMAE', 'CONSULTAS']].fillna(9)\n",
    "sinasc_df['ESTCIVMAE'].unique()"
   ],
   "metadata": {
    "collapsed": false,
    "ExecuteTime": {
     "end_time": "2023-11-01T14:44:55.943338900Z",
     "start_time": "2023-11-01T14:44:55.927654Z"
    }
   },
   "outputs": []
  },
  {
   "cell_type": "code",
   "execution_count": 37,
   "metadata": {
    "ExecuteTime": {
     "end_time": "2023-11-01T14:44:57.309212100Z",
     "start_time": "2023-11-01T14:44:57.298306700Z"
    }
   },
   "source": [
    "# 6) Seu código aqui\n",
    "sinasc_df['QTDFILVIVO'].isna().sum()\n"
   ],
   "outputs": []
  },
  {
   "cell_type": "code",
   "execution_count": 38,
   "source": [
    "sinasc_df.loc[:,'QTDFILVIVO'] = sinasc_df['QTDFILVIVO'].fillna(0)\n",
    "sinasc_df['QTDFILVIVO'].isna().sum()"
   ],
   "metadata": {
    "collapsed": false,
    "ExecuteTime": {
     "end_time": "2023-11-01T14:44:58.331806900Z",
     "start_time": "2023-11-01T14:44:58.312716700Z"
    }
   },
   "outputs": []
  },
  {
   "cell_type": "code",
   "execution_count": 39,
   "metadata": {
    "ExecuteTime": {
     "end_time": "2023-11-01T14:45:00.573624300Z",
     "start_time": "2023-11-01T14:45:00.550430400Z"
    }
   },
   "source": [
    "# 7) seu código aqui\n",
    "sinasc_df[['LOCNASC', 'IDADEMAE', 'ESCMAE',\n",
    "           'GESTACAO', 'GRAVIDEZ']].isna().sum()"
   ],
   "outputs": []
  },
  {
   "cell_type": "markdown",
   "source": [
    "Determinado que apenas as variáveis ESCMAE, GESTACAO e GRAVIDEZ, possuem valores nulos. GESTACAO e GRAVIDEZ parecem relevantes para determinar o APGAR, Como nossa base possue 27000 registros, dropar essas variáveis não será de grande impacto. Já ESCMAE não parece que terá grande relevância, portanto vale a pena preservar os registros que esse dado seja nulo, portanto substituiremos por 9: Ignorado, como é descrito na documentação."
   ],
   "metadata": {
    "collapsed": false
   }
  },
  {
   "cell_type": "code",
   "execution_count": 40,
   "source": [
    "sinasc_df.loc[:,'ESCMAE'] = sinasc_df['ESCMAE'].fillna(9)\n",
    "sinasc_df = sinasc_df.dropna(subset=['GESTACAO', 'GRAVIDEZ'])\n",
    "sinasc_df[['LOCNASC', 'IDADEMAE', 'ESCMAE',\n",
    "           'GESTACAO', 'GRAVIDEZ']].isna().sum()"
   ],
   "metadata": {
    "collapsed": false,
    "ExecuteTime": {
     "end_time": "2023-11-01T14:45:14.311042Z",
     "start_time": "2023-11-01T14:45:14.275715300Z"
    }
   },
   "outputs": []
  },
  {
   "cell_type": "code",
   "execution_count": 43,
   "metadata": {
    "ExecuteTime": {
     "end_time": "2023-11-01T14:48:08.108230200Z",
     "start_time": "2023-11-01T14:48:08.059670Z"
    }
   },
   "source": [
    "# 8) seu código aqui\n",
    "sinasc_df.loc[sinasc_df['APGAR5'] <=10,'APGAR5_CAT'] = 'normal'\n",
    "sinasc_df.loc[sinasc_df['APGAR5'] <=7,'APGAR5_CAT'] = 'asfixia leve'\n",
    "sinasc_df.loc[sinasc_df['APGAR5'] <=5,'APGAR5_CAT'] = 'asfixia moderada'\n",
    "sinasc_df.loc[sinasc_df['APGAR5'] <=3,'APGAR5_CAT'] = 'asfixia severa'\n",
    "sinasc_df['APGAR5_CAT'].value_counts()"
   ],
   "outputs": []
  },
  {
   "cell_type": "code",
   "execution_count": 45,
   "metadata": {
    "ExecuteTime": {
     "end_time": "2023-11-01T15:00:05.337344200Z",
     "start_time": "2023-11-01T15:00:05.288676700Z"
    }
   },
   "source": [
    "# 9) seu código aqui\n",
    "novos_nomes = {\n",
    "    'LOCNASC': 'loc_nasc',\n",
    "    'IDADEMAE': 'idade_mae',\n",
    "    'ESTCIVMAE': 'est_civ_mae',\n",
    "    'ESCMAE': 'esc_mae',\n",
    "    'QTDFILVIVO': 'qtd_fil_vivo',\n",
    "    'GESTACAO': 'gestacao',\n",
    "    'GRAVIDEZ': 'gravidez',\n",
    "    'CONSULTAS': 'consultas',\n",
    "    'APGAR5': 'apgar_5',\n",
    "    'APGAR5_CAT': 'apgar_5_cat'\n",
    "}\n",
    "\n",
    "# Renomeia as colunas\n",
    "sinasc_df.rename(columns=novos_nomes, inplace=True)\n",
    "\n",
    "# Verifica o resultado\n",
    "print(sinasc_df.columns)\n",
    "sinasc_df\n"
   ],
   "outputs": []
  },
  {
   "cell_type": "code",
   "execution_count": null,
   "source": [],
   "metadata": {
    "collapsed": false
   },
   "outputs": []
  }
 ],
 "metadata": {
  "kernelspec": {
   "display_name": "Python 3",
   "language": "python",
   "name": "python3"
  },
  "language_info": {
   "codemirror_mode": {
    "name": "ipython",
    "version": 3
   },
   "file_extension": ".py",
   "mimetype": "text/x-python",
   "name": "python",
   "nbconvert_exporter": "python",
   "pygments_lexer": "ipython3",
   "version": "3.8.5"
  }
 },
 "nbformat": 4,
 "nbformat_minor": 4
}
