{
 "cells": [
  {
   "cell_type": "markdown",
   "metadata": {},
   "source": [
    "# Tarefa 03\n",
    "\n",
    "- Leia os enunciados com atenção\n",
    "- Saiba que pode haver mais de uma resposta correta\n",
    "- Insira novas células de código sempre que achar necessário\n",
    "- Em caso de dúvidas, procure os Tutores\n",
    "- Divirta-se :)"
   ]
  },
  {
   "cell_type": "code",
   "execution_count": 1,
   "metadata": {
    "ExecuteTime": {
     "end_time": "2023-10-05T23:25:51.377499500Z",
     "start_time": "2023-10-05T23:25:50.773022400Z"
    }
   },
   "outputs": [],
   "source": [
    "import pandas as pd\n",
    "import requests"
   ]
  },
  {
   "cell_type": "markdown",
   "metadata": {},
   "source": [
    "####  1) Lendo de APIs\n",
    "Vimos em aula como carregar dados públicos do governo através de um API (*Application Programming Interface*). No exemplo de aula, baixamos os dados de pedidos de verificação de limites (PVL) realizados por estados, e selecionamos apenas aqueles referentes ao estado de São Paulo.\n",
    "\n",
    "1. Repita os mesmos passos feitos em aula, mas selecione os PVLs realizados por municípios no estado do Rio de Janeiro.\n",
    "2. Quais são os três *status* das solicitações mais frequentes na base? Quais são suas frequências?\n",
    "3. Construa uma nova variável que contenha o ano do **status**. Observe que ```data_status``` vem como tipo *object* no **DataFrame**. Dica: você pode usar o método ```.str``` para transformar o tipo da variável em string, em seguida um método como [**slice()**](https://pandas.pydata.org/docs/reference/api/pandas.Series.str.slice.html) ou [**split()**](https://pandas.pydata.org/pandas-docs/stable/reference/api/pandas.Series.str.split.html).\n",
    "4. Indique a frequência de cada ano do campo construído no item (3)."
   ]
  },
  {
   "cell_type": "code",
   "execution_count": 7,
   "metadata": {
    "ExecuteTime": {
     "end_time": "2023-10-05T23:38:39.755008Z",
     "start_time": "2023-10-05T23:38:39.585241600Z"
    }
   },
   "outputs": [],
   "source": [
    "# 1) Seu código aqui\n",
    "url = 'https://apidatalake.tesouro.gov.br/ords/sadipem/tt/pvl?uf=RJ&tipo_interessado=Munic%C3%ADpio'\n",
    "r = requests.get(url)\n",
    "data = r.json()"
   ]
  },
  {
   "cell_type": "code",
   "execution_count": 8,
   "outputs": [
    {
     "data": {
      "text/plain": "     id_pleito tipo_interessado     interessado  cod_ibge  uf  \\\n0        44142        Município          Paraty   3303807  RJ   \n1        34098        Município         Resende   3304201  RJ   \n2         9075        Município  Barra do Piraí   3300308  RJ   \n3         9161        Município   Volta Redonda   3306305  RJ   \n4         5475        Município     Nova Iguaçu   3303500  RJ   \n..         ...              ...             ...       ...  ..   \n252      10923        Município         Niterói   3303302  RJ   \n253      11415        Município         Niterói   3303302  RJ   \n254       5464        Município      Petrópolis   3303906  RJ   \n255      10745        Município  Angra dos Reis   3300100  RJ   \n256      11032        Município      Petrópolis   3303906  RJ   \n\n                  num_pvl              status          num_processo  \\\n0    PVL02.000434/2021-22   Deferido (PVL-IF)                  None   \n1    PVL02.003089/2019-64   Deferido (PVL-IF)                  None   \n2                    None           Arquivado  17944.000898/2008-24   \n3                    None  Arquivado a pedido  17944.000917/2010-37   \n4                    None           Arquivado  17944.000122/2010-29   \n..                    ...                 ...                   ...   \n252                  None            Deferido  17944.001314/2014-86   \n253                  None            Deferido  17944.001438/2008-13   \n254                  None           Arquivado  17944.000120/2010-30   \n255                  None            Deferido  17944.001273/2008-80   \n256                  None  Arquivado a pedido  17944.001341/2013-78   \n\n           data_protocolo                                      tipo_operacao  \\\n0                    None                        Operação contratual interna   \n1                    None                        Operação contratual interna   \n2    2008-08-18T03:00:00Z                        Operação contratual interna   \n3    2013-12-04T02:00:00Z                        Operação contratual interna   \n4    2010-12-03T02:00:00Z                        Operação contratual interna   \n..                    ...                                                ...   \n252  2015-11-12T02:00:00Z                        Operação contratual interna   \n253  2008-09-15T03:00:00Z                        Operação contratual interna   \n254  2010-05-17T03:00:00Z                        Operação contratual interna   \n255  2009-07-24T03:00:00Z                        Operação contratual interna   \n256  2017-03-31T17:18:53Z  Operação contratual interna (com garantia da U...   \n\n                                            finalidade  \\\n0                                       Infraestrutura   \n1                                    Aporte de capital   \n2                                  Caminho da Escola 2   \n3                             Aquisição de títulos CVS   \n4                             PAC - Pró-Moradia - 2009   \n..                                                 ...   \n252  PAC 2 - Pró-Transporte - Pavimentação e Qualif...   \n253                          PAC - Saneamento - 2008 B   \n254                           PAC - Pró-Moradia - 2009   \n255                          PAC - Saneamento - 2008 B   \n256  PAC 2 - Pró-Transporte - Pavimentação e Qualif...   \n\n                         tipo_credor                   credor moeda  \\\n0    Instituição Financeira Nacional      Banco do Brasil S/A  Real   \n1    Instituição Financeira Nacional  Caixa Econômica Federal  Real   \n2    Instituição Financeira Nacional      Banco do Brasil S/A  Real   \n3    Instituição Financeira Nacional  Caixa Econômica Federal  Real   \n4    Instituição Financeira Nacional  Caixa Econômica Federal  Real   \n..                               ...                      ...   ...   \n252  Instituição Financeira Nacional  Caixa Econômica Federal  Real   \n253  Instituição Financeira Nacional  Caixa Econômica Federal  Real   \n254  Instituição Financeira Nacional  Caixa Econômica Federal  Real   \n255  Instituição Financeira Nacional  Caixa Econômica Federal  Real   \n256  Instituição Financeira Nacional  Caixa Econômica Federal  Real   \n\n           valor  pvl_assoc_divida  pvl_contradado_credor data_status  \n0     4652518.73                 0                      1  20/07/2021  \n1     4000000.00                 0                      1  27/09/2019  \n2      459400.00                 0                      0  30/10/2008  \n3    20000000.00                 0                      0  20/02/2014  \n4    48440939.24                 0                      0  14/12/2010  \n..           ...               ...                    ...         ...  \n252  10000000.00                 0                      0  18/11/2015  \n253   9700000.00                 0                      0  23/09/2008  \n254  19000000.00                 0                      0  23/12/2010  \n255  20177032.00                 0                      0  29/07/2009  \n256  37046866.67                 0                      0  19/12/2017  \n\n[257 rows x 18 columns]",
      "text/html": "<div>\n<style scoped>\n    .dataframe tbody tr th:only-of-type {\n        vertical-align: middle;\n    }\n\n    .dataframe tbody tr th {\n        vertical-align: top;\n    }\n\n    .dataframe thead th {\n        text-align: right;\n    }\n</style>\n<table border=\"1\" class=\"dataframe\">\n  <thead>\n    <tr style=\"text-align: right;\">\n      <th></th>\n      <th>id_pleito</th>\n      <th>tipo_interessado</th>\n      <th>interessado</th>\n      <th>cod_ibge</th>\n      <th>uf</th>\n      <th>num_pvl</th>\n      <th>status</th>\n      <th>num_processo</th>\n      <th>data_protocolo</th>\n      <th>tipo_operacao</th>\n      <th>finalidade</th>\n      <th>tipo_credor</th>\n      <th>credor</th>\n      <th>moeda</th>\n      <th>valor</th>\n      <th>pvl_assoc_divida</th>\n      <th>pvl_contradado_credor</th>\n      <th>data_status</th>\n    </tr>\n  </thead>\n  <tbody>\n    <tr>\n      <th>0</th>\n      <td>44142</td>\n      <td>Município</td>\n      <td>Paraty</td>\n      <td>3303807</td>\n      <td>RJ</td>\n      <td>PVL02.000434/2021-22</td>\n      <td>Deferido (PVL-IF)</td>\n      <td>None</td>\n      <td>None</td>\n      <td>Operação contratual interna</td>\n      <td>Infraestrutura</td>\n      <td>Instituição Financeira Nacional</td>\n      <td>Banco do Brasil S/A</td>\n      <td>Real</td>\n      <td>4652518.73</td>\n      <td>0</td>\n      <td>1</td>\n      <td>20/07/2021</td>\n    </tr>\n    <tr>\n      <th>1</th>\n      <td>34098</td>\n      <td>Município</td>\n      <td>Resende</td>\n      <td>3304201</td>\n      <td>RJ</td>\n      <td>PVL02.003089/2019-64</td>\n      <td>Deferido (PVL-IF)</td>\n      <td>None</td>\n      <td>None</td>\n      <td>Operação contratual interna</td>\n      <td>Aporte de capital</td>\n      <td>Instituição Financeira Nacional</td>\n      <td>Caixa Econômica Federal</td>\n      <td>Real</td>\n      <td>4000000.00</td>\n      <td>0</td>\n      <td>1</td>\n      <td>27/09/2019</td>\n    </tr>\n    <tr>\n      <th>2</th>\n      <td>9075</td>\n      <td>Município</td>\n      <td>Barra do Piraí</td>\n      <td>3300308</td>\n      <td>RJ</td>\n      <td>None</td>\n      <td>Arquivado</td>\n      <td>17944.000898/2008-24</td>\n      <td>2008-08-18T03:00:00Z</td>\n      <td>Operação contratual interna</td>\n      <td>Caminho da Escola 2</td>\n      <td>Instituição Financeira Nacional</td>\n      <td>Banco do Brasil S/A</td>\n      <td>Real</td>\n      <td>459400.00</td>\n      <td>0</td>\n      <td>0</td>\n      <td>30/10/2008</td>\n    </tr>\n    <tr>\n      <th>3</th>\n      <td>9161</td>\n      <td>Município</td>\n      <td>Volta Redonda</td>\n      <td>3306305</td>\n      <td>RJ</td>\n      <td>None</td>\n      <td>Arquivado a pedido</td>\n      <td>17944.000917/2010-37</td>\n      <td>2013-12-04T02:00:00Z</td>\n      <td>Operação contratual interna</td>\n      <td>Aquisição de títulos CVS</td>\n      <td>Instituição Financeira Nacional</td>\n      <td>Caixa Econômica Federal</td>\n      <td>Real</td>\n      <td>20000000.00</td>\n      <td>0</td>\n      <td>0</td>\n      <td>20/02/2014</td>\n    </tr>\n    <tr>\n      <th>4</th>\n      <td>5475</td>\n      <td>Município</td>\n      <td>Nova Iguaçu</td>\n      <td>3303500</td>\n      <td>RJ</td>\n      <td>None</td>\n      <td>Arquivado</td>\n      <td>17944.000122/2010-29</td>\n      <td>2010-12-03T02:00:00Z</td>\n      <td>Operação contratual interna</td>\n      <td>PAC - Pró-Moradia - 2009</td>\n      <td>Instituição Financeira Nacional</td>\n      <td>Caixa Econômica Federal</td>\n      <td>Real</td>\n      <td>48440939.24</td>\n      <td>0</td>\n      <td>0</td>\n      <td>14/12/2010</td>\n    </tr>\n    <tr>\n      <th>...</th>\n      <td>...</td>\n      <td>...</td>\n      <td>...</td>\n      <td>...</td>\n      <td>...</td>\n      <td>...</td>\n      <td>...</td>\n      <td>...</td>\n      <td>...</td>\n      <td>...</td>\n      <td>...</td>\n      <td>...</td>\n      <td>...</td>\n      <td>...</td>\n      <td>...</td>\n      <td>...</td>\n      <td>...</td>\n      <td>...</td>\n    </tr>\n    <tr>\n      <th>252</th>\n      <td>10923</td>\n      <td>Município</td>\n      <td>Niterói</td>\n      <td>3303302</td>\n      <td>RJ</td>\n      <td>None</td>\n      <td>Deferido</td>\n      <td>17944.001314/2014-86</td>\n      <td>2015-11-12T02:00:00Z</td>\n      <td>Operação contratual interna</td>\n      <td>PAC 2 - Pró-Transporte - Pavimentação e Qualif...</td>\n      <td>Instituição Financeira Nacional</td>\n      <td>Caixa Econômica Federal</td>\n      <td>Real</td>\n      <td>10000000.00</td>\n      <td>0</td>\n      <td>0</td>\n      <td>18/11/2015</td>\n    </tr>\n    <tr>\n      <th>253</th>\n      <td>11415</td>\n      <td>Município</td>\n      <td>Niterói</td>\n      <td>3303302</td>\n      <td>RJ</td>\n      <td>None</td>\n      <td>Deferido</td>\n      <td>17944.001438/2008-13</td>\n      <td>2008-09-15T03:00:00Z</td>\n      <td>Operação contratual interna</td>\n      <td>PAC - Saneamento - 2008 B</td>\n      <td>Instituição Financeira Nacional</td>\n      <td>Caixa Econômica Federal</td>\n      <td>Real</td>\n      <td>9700000.00</td>\n      <td>0</td>\n      <td>0</td>\n      <td>23/09/2008</td>\n    </tr>\n    <tr>\n      <th>254</th>\n      <td>5464</td>\n      <td>Município</td>\n      <td>Petrópolis</td>\n      <td>3303906</td>\n      <td>RJ</td>\n      <td>None</td>\n      <td>Arquivado</td>\n      <td>17944.000120/2010-30</td>\n      <td>2010-05-17T03:00:00Z</td>\n      <td>Operação contratual interna</td>\n      <td>PAC - Pró-Moradia - 2009</td>\n      <td>Instituição Financeira Nacional</td>\n      <td>Caixa Econômica Federal</td>\n      <td>Real</td>\n      <td>19000000.00</td>\n      <td>0</td>\n      <td>0</td>\n      <td>23/12/2010</td>\n    </tr>\n    <tr>\n      <th>255</th>\n      <td>10745</td>\n      <td>Município</td>\n      <td>Angra dos Reis</td>\n      <td>3300100</td>\n      <td>RJ</td>\n      <td>None</td>\n      <td>Deferido</td>\n      <td>17944.001273/2008-80</td>\n      <td>2009-07-24T03:00:00Z</td>\n      <td>Operação contratual interna</td>\n      <td>PAC - Saneamento - 2008 B</td>\n      <td>Instituição Financeira Nacional</td>\n      <td>Caixa Econômica Federal</td>\n      <td>Real</td>\n      <td>20177032.00</td>\n      <td>0</td>\n      <td>0</td>\n      <td>29/07/2009</td>\n    </tr>\n    <tr>\n      <th>256</th>\n      <td>11032</td>\n      <td>Município</td>\n      <td>Petrópolis</td>\n      <td>3303906</td>\n      <td>RJ</td>\n      <td>None</td>\n      <td>Arquivado a pedido</td>\n      <td>17944.001341/2013-78</td>\n      <td>2017-03-31T17:18:53Z</td>\n      <td>Operação contratual interna (com garantia da U...</td>\n      <td>PAC 2 - Pró-Transporte - Pavimentação e Qualif...</td>\n      <td>Instituição Financeira Nacional</td>\n      <td>Caixa Econômica Federal</td>\n      <td>Real</td>\n      <td>37046866.67</td>\n      <td>0</td>\n      <td>0</td>\n      <td>19/12/2017</td>\n    </tr>\n  </tbody>\n</table>\n<p>257 rows × 18 columns</p>\n</div>"
     },
     "execution_count": 8,
     "metadata": {},
     "output_type": "execute_result"
    }
   ],
   "source": [
    "df = pd.DataFrame(data['items'])\n",
    "df"
   ],
   "metadata": {
    "collapsed": false,
    "ExecuteTime": {
     "end_time": "2023-10-05T23:38:41.442228800Z",
     "start_time": "2023-10-05T23:38:41.419083300Z"
    }
   }
  },
  {
   "cell_type": "code",
   "execution_count": 13,
   "metadata": {
    "ExecuteTime": {
     "end_time": "2023-10-05T23:44:07.460695100Z",
     "start_time": "2023-10-05T23:44:07.439225100Z"
    }
   },
   "outputs": [
    {
     "data": {
      "text/plain": "Deferido        104\nArquivado        53\nRegularizado     26\nName: status, dtype: int64"
     },
     "execution_count": 13,
     "metadata": {},
     "output_type": "execute_result"
    }
   ],
   "source": [
    "# 2) Seu código aqui\n",
    "df['status'].value_counts().head(3)"
   ]
  },
  {
   "cell_type": "code",
   "execution_count": 21,
   "metadata": {
    "ExecuteTime": {
     "end_time": "2023-10-05T23:53:35.737281800Z",
     "start_time": "2023-10-05T23:53:35.707760Z"
    }
   },
   "outputs": [
    {
     "data": {
      "text/plain": "2008    37\n2007    29\n2023    27\n2014    20\n2010    19\n2019    16\n2020    15\n2013    15\n2012    13\n2022    11\n2011    10\n2009     9\n2015     8\n2017     5\n2021     5\n2006     4\n2016     4\n2002     4\n2018     4\n2004     1\n2003     1\nName: ano, dtype: int64"
     },
     "execution_count": 21,
     "metadata": {},
     "output_type": "execute_result"
    }
   ],
   "source": [
    "# 3) Seu código aqui\n",
    "df['ano'] = df['data_status'].str.split('/').str[-1]\n",
    "df['ano'].value_counts()"
   ]
  },
  {
   "cell_type": "markdown",
   "metadata": {},
   "source": [
    "####  2) Melhorando a interação com o API\n",
    "Observe dois URLs de consultas diferentes, por exemplo o URL utilizado em aula, e o URL feito no exercício anterior. Compare-os e observe as diferenças.\n",
    "\n",
    "1. Faça uma função em Python que recebe como argumento o UF da consulta e o tipo de interessado (```'Estado'```ou ```Município```), e que devolve os dados da consulta no formato *DataFrame*.\n",
    "2. Quantas solicitações para o Estado podem ser consultadas para Minas Gerais com *status* em 'Arquivado por decurso de prazo' estão registradas?\n",
    "3. Qual é o município da Bahia com mais solicitações deferidas?\n",
    "4. Salve um arquivo .csv com os dados de solicitações da Bahia, com interessado = 'Estado'"
   ]
  },
  {
   "cell_type": "code",
   "execution_count": 43,
   "metadata": {
    "ExecuteTime": {
     "end_time": "2023-10-06T00:32:16.511945600Z",
     "start_time": "2023-10-06T00:32:16.483513500Z"
    }
   },
   "outputs": [],
   "source": [
    "#1) Seu código aqui\n",
    "\n",
    "def api_request_selector(uf = str, tipo = str):\n",
    "    \n",
    "    if tipo.upper().find('MUNIC') != -1: \n",
    "        urlselect = f'https://apidatalake.tesouro.gov.br/ords/sadipem/tt/pvl?uf={uf.upper()}&tipo_interessado=Munic%C3%ADpio'\n",
    "    \n",
    "    elif tipo.upper().find('ESTADO') != -1:\n",
    "        urlselect = f'https://apidatalake.tesouro.gov.br/ords/sadipem/tt/pvl?uf={uf.upper()}&tipo_interessado=Estado'\n",
    "    \n",
    "    else:\n",
    "        print('Nenhum tipo correto identificado')\n",
    "        return\n",
    "    \n",
    "    try:\n",
    "        re = requests.get(urlselect)\n",
    "        re.raise_for_status()  # Isso lançará uma exceção se houver um erro HTTP\n",
    "        dataselect = re.json()\n",
    "        return pd.DataFrame(dataselect['items'])\n",
    "    \n",
    "    except requests.HTTPError as e:\n",
    "        print(f\"Erro ao fazer a requisição: {e}\")\n",
    "        return None\n",
    "    "
   ]
  },
  {
   "cell_type": "code",
   "execution_count": 23,
   "metadata": {
    "ExecuteTime": {
     "end_time": "2023-10-06T00:21:27.471784900Z",
     "start_time": "2023-10-06T00:21:26.842449300Z"
    }
   },
   "outputs": [],
   "source": [
    "# 2) Seu código aqui\n",
    "dfselect = api_request_selector('MG','estado')\n"
   ]
  },
  {
   "cell_type": "code",
   "execution_count": 26,
   "outputs": [
    {
     "data": {
      "text/plain": "301"
     },
     "execution_count": 26,
     "metadata": {},
     "output_type": "execute_result"
    }
   ],
   "source": [
    "dfselect['status'].value_counts()['Arquivado por decurso de prazo']"
   ],
   "metadata": {
    "collapsed": false,
    "ExecuteTime": {
     "end_time": "2023-10-06T00:22:12.346023500Z",
     "start_time": "2023-10-06T00:22:12.330212100Z"
    }
   }
  },
  {
   "cell_type": "code",
   "execution_count": 44,
   "metadata": {
    "ExecuteTime": {
     "end_time": "2023-10-06T00:32:33.383051700Z",
     "start_time": "2023-10-06T00:32:33.117561200Z"
    }
   },
   "outputs": [],
   "source": [
    "# 3) Seu código aqui\n",
    "dfselect = api_request_selector('BA','Município')"
   ]
  },
  {
   "cell_type": "code",
   "execution_count": 50,
   "outputs": [
    {
     "data": {
      "text/plain": "'Camaçari'"
     },
     "execution_count": 50,
     "metadata": {},
     "output_type": "execute_result"
    }
   ],
   "source": [
    "dfselect['interessado'].value_counts().idxmax()"
   ],
   "metadata": {
    "collapsed": false,
    "ExecuteTime": {
     "end_time": "2023-10-06T00:35:29.703591800Z",
     "start_time": "2023-10-06T00:35:29.688087500Z"
    }
   }
  },
  {
   "cell_type": "code",
   "execution_count": 52,
   "metadata": {
    "ExecuteTime": {
     "end_time": "2023-10-06T00:38:17.558016100Z",
     "start_time": "2023-10-06T00:38:17.408380300Z"
    }
   },
   "outputs": [],
   "source": [
    "# 4) Seu código aqui\n",
    "dfselect = api_request_selector('BA','estado')"
   ]
  },
  {
   "cell_type": "code",
   "execution_count": 53,
   "outputs": [
    {
     "data": {
      "text/plain": "    id_pleito tipo_interessado interessado  cod_ibge  uf  \\\n0       44369           Estado       Bahia        29  BA   \n1       18503           Estado       Bahia        29  BA   \n2       18476           Estado       Bahia        29  BA   \n3       23723           Estado       Bahia        29  BA   \n4       18495           Estado       Bahia        29  BA   \n..        ...              ...         ...       ...  ..   \n79      10860           Estado       Bahia        29  BA   \n80      11491           Estado       Bahia        29  BA   \n81      18535           Estado       Bahia        29  BA   \n82      18592           Estado       Bahia        29  BA   \n83       5593           Estado       Bahia        29  BA   \n\n                 num_pvl                                             status  \\\n0   PVL02.000482/2021-11                                           Deferido   \n1                   None                                           Deferido   \n2                   None  Encaminhado à PGFN com manifestação técnica fa...   \n3   PVL02.000640/2016-75  Encaminhado à PGFN com manifestação técnica fa...   \n4                   None                                           Deferido   \n..                   ...                                                ...   \n79                  None                                 Arquivado a pedido   \n80                  None  Encaminhado à PGFN com manifestação técnica fa...   \n81                  None                                           Deferido   \n82                  None                                           Deferido   \n83                  None                                           Deferido   \n\n            num_processo        data_protocolo  \\\n0   17944.101324/2021-40  2021-05-03T19:36:30Z   \n1   19407.000037/2002-63  2002-06-11T03:00:00Z   \n2   19407.000030/2005-94  2005-12-30T02:00:00Z   \n3   17944.001273/2016-90  2017-06-06T18:33:06Z   \n4   19407.000035/2002-74  2002-06-26T03:00:00Z   \n..                   ...                   ...   \n79  17944.001302/2014-51  2015-04-14T03:00:00Z   \n80  17944.001460/2012-40  2013-01-10T02:00:00Z   \n81  19407.000045/2002-18  2002-06-19T03:00:00Z   \n82  19407.000059/2003-12  2004-11-17T02:00:00Z   \n83  17944.000151/2004-42  2004-02-28T03:00:00Z   \n\n                                        tipo_operacao  \\\n0                               Concessão de garantia   \n1                         Operação contratual interna   \n2   Operação contratual externa (com garantia da U...   \n3   Operação contratual interna (com garantia da U...   \n4                         Operação contratual interna   \n..                                                ...   \n79  Operação contratual externa (com garantia da U...   \n80  Operação contratual interna (com garantia da U...   \n81                        Operação contratual interna   \n82                        Operação contratual interna   \n83                        Operação contratual interna   \n\n                                           finalidade  \\\n0   Concessão de garantia a empresa estatal não de...   \n1                                   Saneamento básico   \n2                        Fortalecimento Institucional   \n3                                      Infraestrutura   \n4                 Preservação e recuperação ambiental   \n..                                                ...   \n79                       Fortalecimento Institucional   \n80                                         Proinveste   \n81                                  Saneamento básico   \n82                                     Multissetorial   \n83                            Renegociação de dívidas   \n\n                             tipo_credor  \\\n0                    Outras Organizações   \n1        Instituição Financeira Nacional   \n2   Instituição Financeira Internacional   \n3        Instituição Financeira Nacional   \n4        Instituição Financeira Nacional   \n..                                   ...   \n79  Instituição Financeira Internacional   \n80       Instituição Financeira Nacional   \n81       Instituição Financeira Nacional   \n82       Instituição Financeira Nacional   \n83       Instituição Financeira Nacional   \n\n                                               credor          moeda  \\\n0                                     Pessoa Jurídica           Real   \n1                             Caixa Econômica Federal           Real   \n2             Banco Interamericano de Desenvolvimento  Dólar dos EUA   \n3                                 Banco do Brasil S/A           Real   \n4                             Caixa Econômica Federal           Real   \n..                                                ...            ...   \n79            Banco Interamericano de Desenvolvimento  Dólar dos EUA   \n80  Banco Nacional de Desenvolvimento Econômico e ...           Real   \n81                            Caixa Econômica Federal           Real   \n82                    Banco do Nordeste do Brasil S/A  Dólar dos EUA   \n83                            Caixa Econômica Federal           Real   \n\n           valor  pvl_assoc_divida  pvl_contradado_credor data_status  \n0   4.990000e+08                 0                      0  17/05/2021  \n1   5.285441e+06                 1                      0  03/07/2002  \n2   1.200000e+07                 1                      0  04/07/2006  \n3   6.000000e+08                 1                      1  12/06/2017  \n4   3.688700e+07                 1                      0  08/07/2002  \n..           ...               ...                    ...         ...  \n79  5.000000e+07                 0                      0  02/10/2015  \n80  1.487691e+09                 1                      0  07/02/2013  \n81  2.975000e+06                 1                      0  05/07/2002  \n82  1.000000e+07                 1                      0  03/12/2004  \n83  1.863645e+08                 1                      0  18/03/2004  \n\n[84 rows x 18 columns]",
      "text/html": "<div>\n<style scoped>\n    .dataframe tbody tr th:only-of-type {\n        vertical-align: middle;\n    }\n\n    .dataframe tbody tr th {\n        vertical-align: top;\n    }\n\n    .dataframe thead th {\n        text-align: right;\n    }\n</style>\n<table border=\"1\" class=\"dataframe\">\n  <thead>\n    <tr style=\"text-align: right;\">\n      <th></th>\n      <th>id_pleito</th>\n      <th>tipo_interessado</th>\n      <th>interessado</th>\n      <th>cod_ibge</th>\n      <th>uf</th>\n      <th>num_pvl</th>\n      <th>status</th>\n      <th>num_processo</th>\n      <th>data_protocolo</th>\n      <th>tipo_operacao</th>\n      <th>finalidade</th>\n      <th>tipo_credor</th>\n      <th>credor</th>\n      <th>moeda</th>\n      <th>valor</th>\n      <th>pvl_assoc_divida</th>\n      <th>pvl_contradado_credor</th>\n      <th>data_status</th>\n    </tr>\n  </thead>\n  <tbody>\n    <tr>\n      <th>0</th>\n      <td>44369</td>\n      <td>Estado</td>\n      <td>Bahia</td>\n      <td>29</td>\n      <td>BA</td>\n      <td>PVL02.000482/2021-11</td>\n      <td>Deferido</td>\n      <td>17944.101324/2021-40</td>\n      <td>2021-05-03T19:36:30Z</td>\n      <td>Concessão de garantia</td>\n      <td>Concessão de garantia a empresa estatal não de...</td>\n      <td>Outras Organizações</td>\n      <td>Pessoa Jurídica</td>\n      <td>Real</td>\n      <td>4.990000e+08</td>\n      <td>0</td>\n      <td>0</td>\n      <td>17/05/2021</td>\n    </tr>\n    <tr>\n      <th>1</th>\n      <td>18503</td>\n      <td>Estado</td>\n      <td>Bahia</td>\n      <td>29</td>\n      <td>BA</td>\n      <td>None</td>\n      <td>Deferido</td>\n      <td>19407.000037/2002-63</td>\n      <td>2002-06-11T03:00:00Z</td>\n      <td>Operação contratual interna</td>\n      <td>Saneamento básico</td>\n      <td>Instituição Financeira Nacional</td>\n      <td>Caixa Econômica Federal</td>\n      <td>Real</td>\n      <td>5.285441e+06</td>\n      <td>1</td>\n      <td>0</td>\n      <td>03/07/2002</td>\n    </tr>\n    <tr>\n      <th>2</th>\n      <td>18476</td>\n      <td>Estado</td>\n      <td>Bahia</td>\n      <td>29</td>\n      <td>BA</td>\n      <td>None</td>\n      <td>Encaminhado à PGFN com manifestação técnica fa...</td>\n      <td>19407.000030/2005-94</td>\n      <td>2005-12-30T02:00:00Z</td>\n      <td>Operação contratual externa (com garantia da U...</td>\n      <td>Fortalecimento Institucional</td>\n      <td>Instituição Financeira Internacional</td>\n      <td>Banco Interamericano de Desenvolvimento</td>\n      <td>Dólar dos EUA</td>\n      <td>1.200000e+07</td>\n      <td>1</td>\n      <td>0</td>\n      <td>04/07/2006</td>\n    </tr>\n    <tr>\n      <th>3</th>\n      <td>23723</td>\n      <td>Estado</td>\n      <td>Bahia</td>\n      <td>29</td>\n      <td>BA</td>\n      <td>PVL02.000640/2016-75</td>\n      <td>Encaminhado à PGFN com manifestação técnica fa...</td>\n      <td>17944.001273/2016-90</td>\n      <td>2017-06-06T18:33:06Z</td>\n      <td>Operação contratual interna (com garantia da U...</td>\n      <td>Infraestrutura</td>\n      <td>Instituição Financeira Nacional</td>\n      <td>Banco do Brasil S/A</td>\n      <td>Real</td>\n      <td>6.000000e+08</td>\n      <td>1</td>\n      <td>1</td>\n      <td>12/06/2017</td>\n    </tr>\n    <tr>\n      <th>4</th>\n      <td>18495</td>\n      <td>Estado</td>\n      <td>Bahia</td>\n      <td>29</td>\n      <td>BA</td>\n      <td>None</td>\n      <td>Deferido</td>\n      <td>19407.000035/2002-74</td>\n      <td>2002-06-26T03:00:00Z</td>\n      <td>Operação contratual interna</td>\n      <td>Preservação e recuperação ambiental</td>\n      <td>Instituição Financeira Nacional</td>\n      <td>Caixa Econômica Federal</td>\n      <td>Real</td>\n      <td>3.688700e+07</td>\n      <td>1</td>\n      <td>0</td>\n      <td>08/07/2002</td>\n    </tr>\n    <tr>\n      <th>...</th>\n      <td>...</td>\n      <td>...</td>\n      <td>...</td>\n      <td>...</td>\n      <td>...</td>\n      <td>...</td>\n      <td>...</td>\n      <td>...</td>\n      <td>...</td>\n      <td>...</td>\n      <td>...</td>\n      <td>...</td>\n      <td>...</td>\n      <td>...</td>\n      <td>...</td>\n      <td>...</td>\n      <td>...</td>\n      <td>...</td>\n    </tr>\n    <tr>\n      <th>79</th>\n      <td>10860</td>\n      <td>Estado</td>\n      <td>Bahia</td>\n      <td>29</td>\n      <td>BA</td>\n      <td>None</td>\n      <td>Arquivado a pedido</td>\n      <td>17944.001302/2014-51</td>\n      <td>2015-04-14T03:00:00Z</td>\n      <td>Operação contratual externa (com garantia da U...</td>\n      <td>Fortalecimento Institucional</td>\n      <td>Instituição Financeira Internacional</td>\n      <td>Banco Interamericano de Desenvolvimento</td>\n      <td>Dólar dos EUA</td>\n      <td>5.000000e+07</td>\n      <td>0</td>\n      <td>0</td>\n      <td>02/10/2015</td>\n    </tr>\n    <tr>\n      <th>80</th>\n      <td>11491</td>\n      <td>Estado</td>\n      <td>Bahia</td>\n      <td>29</td>\n      <td>BA</td>\n      <td>None</td>\n      <td>Encaminhado à PGFN com manifestação técnica fa...</td>\n      <td>17944.001460/2012-40</td>\n      <td>2013-01-10T02:00:00Z</td>\n      <td>Operação contratual interna (com garantia da U...</td>\n      <td>Proinveste</td>\n      <td>Instituição Financeira Nacional</td>\n      <td>Banco Nacional de Desenvolvimento Econômico e ...</td>\n      <td>Real</td>\n      <td>1.487691e+09</td>\n      <td>1</td>\n      <td>0</td>\n      <td>07/02/2013</td>\n    </tr>\n    <tr>\n      <th>81</th>\n      <td>18535</td>\n      <td>Estado</td>\n      <td>Bahia</td>\n      <td>29</td>\n      <td>BA</td>\n      <td>None</td>\n      <td>Deferido</td>\n      <td>19407.000045/2002-18</td>\n      <td>2002-06-19T03:00:00Z</td>\n      <td>Operação contratual interna</td>\n      <td>Saneamento básico</td>\n      <td>Instituição Financeira Nacional</td>\n      <td>Caixa Econômica Federal</td>\n      <td>Real</td>\n      <td>2.975000e+06</td>\n      <td>1</td>\n      <td>0</td>\n      <td>05/07/2002</td>\n    </tr>\n    <tr>\n      <th>82</th>\n      <td>18592</td>\n      <td>Estado</td>\n      <td>Bahia</td>\n      <td>29</td>\n      <td>BA</td>\n      <td>None</td>\n      <td>Deferido</td>\n      <td>19407.000059/2003-12</td>\n      <td>2004-11-17T02:00:00Z</td>\n      <td>Operação contratual interna</td>\n      <td>Multissetorial</td>\n      <td>Instituição Financeira Nacional</td>\n      <td>Banco do Nordeste do Brasil S/A</td>\n      <td>Dólar dos EUA</td>\n      <td>1.000000e+07</td>\n      <td>1</td>\n      <td>0</td>\n      <td>03/12/2004</td>\n    </tr>\n    <tr>\n      <th>83</th>\n      <td>5593</td>\n      <td>Estado</td>\n      <td>Bahia</td>\n      <td>29</td>\n      <td>BA</td>\n      <td>None</td>\n      <td>Deferido</td>\n      <td>17944.000151/2004-42</td>\n      <td>2004-02-28T03:00:00Z</td>\n      <td>Operação contratual interna</td>\n      <td>Renegociação de dívidas</td>\n      <td>Instituição Financeira Nacional</td>\n      <td>Caixa Econômica Federal</td>\n      <td>Real</td>\n      <td>1.863645e+08</td>\n      <td>1</td>\n      <td>0</td>\n      <td>18/03/2004</td>\n    </tr>\n  </tbody>\n</table>\n<p>84 rows × 18 columns</p>\n</div>"
     },
     "execution_count": 53,
     "metadata": {},
     "output_type": "execute_result"
    }
   ],
   "source": [
    "dfselect"
   ],
   "metadata": {
    "collapsed": false,
    "ExecuteTime": {
     "end_time": "2023-10-06T00:38:27.509644500Z",
     "start_time": "2023-10-06T00:38:27.483608700Z"
    }
   }
  },
  {
   "cell_type": "code",
   "execution_count": 55,
   "outputs": [],
   "source": [
    "dfselect.to_csv('solicitacoes_da_Bahia.csv')"
   ],
   "metadata": {
    "collapsed": false,
    "ExecuteTime": {
     "end_time": "2023-10-06T00:40:27.265162500Z",
     "start_time": "2023-10-06T00:40:27.249059200Z"
    }
   }
  },
  {
   "cell_type": "code",
   "execution_count": null,
   "outputs": [],
   "source": [],
   "metadata": {
    "collapsed": false
   }
  }
 ],
 "metadata": {
  "kernelspec": {
   "display_name": "Python 3",
   "language": "python",
   "name": "python3"
  },
  "language_info": {
   "codemirror_mode": {
    "name": "ipython",
    "version": 3
   },
   "file_extension": ".py",
   "mimetype": "text/x-python",
   "name": "python",
   "nbconvert_exporter": "python",
   "pygments_lexer": "ipython3",
   "version": "3.8.5"
  }
 },
 "nbformat": 4,
 "nbformat_minor": 4
}
