{
 "cells": [
  {
   "cell_type": "markdown",
   "metadata": {},
   "source": [
    "# Módulo 6 tarefa 1\n",
    "\n",
    "#### 1) A base 'sinasc_RO_2019.csv' contém dados do sistema de nascidos vivos do DataSUS, cujo dicionário de dados está no arquivo 'Estrutura_SINASC_para_CD.pdf'. Carregue esses arquivos."
   ]
  },
  {
   "cell_type": "code",
   "execution_count": 55,
   "metadata": {
    "ExecuteTime": {
     "end_time": "2024-03-01T17:02:12.355175800Z",
     "start_time": "2024-03-01T17:02:12.209987400Z"
    }
   },
   "source": [
    "import pandas as pd\n",
    "import matplotlib.pyplot as plt\n",
    "import seaborn as sns\n",
    "import numpy as np\n",
    "df = pd.read_csv('b1abb33c4f.csv')\n",
    "df.head()"
   ],
   "outputs": []
  },
  {
   "cell_type": "code",
   "execution_count": 56,
   "source": [
    "df.shape"
   ],
   "metadata": {
    "collapsed": false,
    "ExecuteTime": {
     "end_time": "2024-03-01T17:02:12.359180700Z",
     "start_time": "2024-03-01T17:02:12.347626900Z"
    }
   },
   "outputs": []
  },
  {
   "cell_type": "code",
   "execution_count": 57,
   "source": [
    "df.info()"
   ],
   "metadata": {
    "collapsed": false,
    "ExecuteTime": {
     "end_time": "2024-03-01T17:02:12.503317800Z",
     "start_time": "2024-03-01T17:02:12.352173700Z"
    }
   },
   "outputs": []
  },
  {
   "cell_type": "markdown",
   "metadata": {},
   "source": [
    "####  2) Monte um gráficos de barras com as variáveis APGAR1, APGAR5, SEXO, GESTACAO, ESTCIVMAE."
   ]
  },
  {
   "cell_type": "code",
   "execution_count": 58,
   "source": [
    "fig, axes = plt.subplots(3, 2, figsize=(14, 18))\n",
    "fig.suptitle('Distribuição das Variáveis', fontsize=16)\n",
    "\n",
    "# Para APGAR1 e APGAR5, vamos usar histogramas, pois são variáveis contínuas\n",
    "df['APGAR1'].value_counts().sort_index().plot(kind='bar', ax=axes[0, 0], color='skyblue')\n",
    "axes[0, 0].set_title('APGAR1')\n",
    "axes[0, 0].set_xlabel('Pontuação')\n",
    "axes[0, 0].set_ylabel('Frequência')\n",
    "\n",
    "df['APGAR5'].value_counts().sort_index().plot(kind='bar', ax=axes[0, 1], color='lightgreen')\n",
    "axes[0, 1].set_title('APGAR5')\n",
    "axes[0, 1].set_xlabel('Pontuação')\n",
    "axes[0, 1].set_ylabel('Frequência')\n",
    "\n",
    "# Para SEXO, GESTACAO, e ESTCIVMAE, que são categóricas, usaremos gráficos de barras diretamente\n",
    "df['SEXO'].value_counts().plot(kind='bar', ax=axes[1, 0], color='lightpink')\n",
    "axes[1, 0].set_title('SEXO')\n",
    "axes[1, 0].set_ylabel('Frequência')\n",
    "\n",
    "df['GESTACAO'].value_counts().plot(kind='bar', ax=axes[1, 1], color='lightblue')\n",
    "axes[1, 1].set_title('GESTACAO')\n",
    "axes[1, 1].set_ylabel('Frequência')\n",
    "\n",
    "df['ESTCIVMAE'].value_counts().plot(kind='bar', ax=axes[2, 0], color='lightcoral')\n",
    "axes[2, 0].set_title('ESTCIVMAE')\n",
    "axes[2, 0].set_ylabel('Frequência')\n",
    "\n",
    "# Removendo o espaço vazio extra\n",
    "axes[2, 1].axis('off')"
   ],
   "metadata": {
    "collapsed": false,
    "ExecuteTime": {
     "end_time": "2024-03-01T17:02:13.467370700Z",
     "start_time": "2024-03-01T17:02:12.414235100Z"
    }
   },
   "outputs": []
  },
  {
   "cell_type": "code",
   "execution_count": 58,
   "source": [],
   "metadata": {
    "collapsed": false,
    "ExecuteTime": {
     "end_time": "2024-03-01T17:02:13.476473400Z",
     "start_time": "2024-03-01T17:02:13.468962500Z"
    }
   },
   "outputs": []
  },
  {
   "cell_type": "markdown",
   "metadata": {},
   "source": [
    "#### 3) Monte um gráfico de barras mostrando o APGAR5 médio por CONSULTAS"
   ]
  },
  {
   "cell_type": "code",
   "execution_count": 59,
   "metadata": {
    "ExecuteTime": {
     "end_time": "2024-03-01T17:02:13.719513400Z",
     "start_time": "2024-03-01T17:02:13.471469400Z"
    }
   },
   "source": [
    "plt.figure(figsize=(10,5))\n",
    "sns.barplot(x='CONSULTAS', y='APGAR5', data=df, estimator=np.mean, errorbar=None)\n",
    "plt.show()"
   ],
   "outputs": []
  },
  {
   "cell_type": "markdown",
   "metadata": {},
   "source": [
    "####  4) Monte um painel com 4 gráficos mostrando as frequencias de SEXO, GESTACAO, ESTCIVMAE e CONSULTAS"
   ]
  },
  {
   "cell_type": "code",
   "execution_count": 60,
   "metadata": {
    "ExecuteTime": {
     "end_time": "2024-03-01T17:02:14.141331100Z",
     "start_time": "2024-03-01T17:02:13.598526100Z"
    }
   },
   "source": [
    "fig, ax = plt.subplots(2,2, figsize=(10,10))    \n",
    "sns.countplot(ax= ax[0,0], x='SEXO', data=df)   \n",
    "sns.countplot(ax= ax[0,1], x='GESTACAO', data=df)\n",
    "ax[0,1].tick_params(axis='x', rotation=45)\n",
    "sns.countplot(ax= ax[1,0], x='ESTCIVMAE', data=df)\n",
    "sns.countplot(ax= ax[1,1], x='CONSULTAS', data=df)  \n",
    "plt.tight_layout()\n",
    "plt.show()  "
   ],
   "outputs": []
  },
  {
   "cell_type": "code",
   "execution_count": null,
   "source": [
    "\n"
   ],
   "metadata": {
    "collapsed": false
   },
   "outputs": []
  }
 ],
 "metadata": {
  "kernelspec": {
   "display_name": "Python 3",
   "language": "python",
   "name": "python3"
  },
  "language_info": {
   "codemirror_mode": {
    "name": "ipython",
    "version": 3
   },
   "file_extension": ".py",
   "mimetype": "text/x-python",
   "name": "python",
   "nbconvert_exporter": "python",
   "pygments_lexer": "ipython3",
   "version": "3.8.5"
  }
 },
 "nbformat": 4,
 "nbformat_minor": 4
}
