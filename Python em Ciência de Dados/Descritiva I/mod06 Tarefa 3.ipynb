{
 "cells": [
  {
   "cell_type": "markdown",
   "metadata": {},
   "source": [
    "# Módulo 6 tarefa 3\n",
    "\n",
    "#### 1) A base 'sinasc_RO_2019.csv' contém dados do sistema de nascidos vivos do DataSUS, cujo dicionário de dados está no arquivo 'Estrutura_SINASC_para_CD.pdf'. Carregue esse arquivo."
   ]
  },
  {
   "cell_type": "code",
   "execution_count": 31,
   "source": [
    "import pandas as pd\n",
    "import matplotlib.pyplot as plt\n",
    "import seaborn as sns\n",
    "\n"
   ],
   "metadata": {
    "collapsed": false,
    "ExecuteTime": {
     "end_time": "2024-03-12T20:02:18.208704400Z",
     "start_time": "2024-03-12T20:02:18.131776800Z"
    }
   },
   "outputs": []
  },
  {
   "cell_type": "code",
   "execution_count": 32,
   "source": [
    "df = pd.read_csv('b1abb33c4f.csv')\n",
    "df.head()"
   ],
   "metadata": {
    "collapsed": false,
    "ExecuteTime": {
     "end_time": "2024-03-12T20:02:18.342650300Z",
     "start_time": "2024-03-12T20:02:18.135804200Z"
    }
   },
   "outputs": []
  },
  {
   "cell_type": "markdown",
   "metadata": {},
   "source": [
    "#### 2) Categorize a variável APGAR5 conforme as seguintes quebras:\n",
    "\n",
    "- 0 a 3: 'asfixia grave'\n",
    "- 4 a 5: 'asfixia moderada'\n",
    "- 6 a 7: 'asfixia leve'\n",
    "- 8 a 10: 'normal'"
   ]
  },
  {
   "cell_type": "code",
   "execution_count": 33,
   "metadata": {
    "ExecuteTime": {
     "end_time": "2024-03-12T20:02:18.342650300Z",
     "start_time": "2024-03-12T20:02:18.289516100Z"
    }
   },
   "source": [
    "# Categorizando a coluna APGAR5\n",
    "bins = [-1, 3, 5, 7, 10]\n",
    "labels = ['asfixia grave', 'asfixia moderada', 'asfixia leve', 'normal']\n",
    "df['APGAR5_Categoria'] = pd.cut(df['APGAR5'], bins=bins, labels=labels, right=True)\n",
    "\n"
   ],
   "outputs": []
  },
  {
   "cell_type": "code",
   "execution_count": 34,
   "source": [
    "# Exibindo as primeiras linhas do DataFrame para verificar o resultado\n",
    "df[df['APGAR5'] < 8 ].sample(20)"
   ],
   "metadata": {
    "collapsed": false,
    "ExecuteTime": {
     "end_time": "2024-03-12T20:02:18.344662200Z",
     "start_time": "2024-03-12T20:02:18.295478Z"
    }
   },
   "outputs": []
  },
  {
   "cell_type": "markdown",
   "metadata": {},
   "source": [
    "#### 3) Monte um gráfico comparando a distribuição de APGAR5 por sexo para cada grupo de tempo de gestação (GESTACAO)."
   ]
  },
  {
   "cell_type": "markdown",
   "source": [],
   "metadata": {
    "collapsed": false
   }
  },
  {
   "cell_type": "code",
   "execution_count": 35,
   "metadata": {
    "ExecuteTime": {
     "end_time": "2024-03-12T20:02:20.017665900Z",
     "start_time": "2024-03-12T20:02:18.323254200Z"
    }
   },
   "source": [
    "sns.catplot(data=df, x='APGAR5_Categoria', col='GESTACAO', hue='SEXO', kind= 'count')"
   ],
   "outputs": []
  },
  {
   "cell_type": "markdown",
   "metadata": {},
   "source": [
    "####  4) Monte uma tabela cruzada com APGAR5 nas colunas e GESTACAO nas linhas"
   ]
  },
  {
   "cell_type": "code",
   "execution_count": 41,
   "source": [
    "crosstab = pd.crosstab(index = df['GESTACAO'],columns = df['APGAR5_Categoria'])\n",
    "plt.figure(figsize=(10, 8))\n",
    "sns.heatmap(crosstab, annot=True, cmap= 'coolwarm', cbar_kws={'label': 'Proporção'})\n",
    "plt.title('Distribuição de Categoria_APGAR5 por Tempo de Gestação')\n",
    "plt.xlabel('Categoria APGAR5')\n",
    "plt.ylabel('Tempo de Gestação')\n",
    "plt.xticks(rotation=45)\n",
    "plt.show()"
   ],
   "metadata": {
    "collapsed": false,
    "ExecuteTime": {
     "end_time": "2024-03-12T20:05:42.503433900Z",
     "start_time": "2024-03-12T20:05:42.230305300Z"
    }
   },
   "outputs": []
  },
  {
   "cell_type": "markdown",
   "metadata": {},
   "source": [
    "####  5) Da tabela cruzada do intem anterior, calcule os percentuais de linha. Ou seja, a distribuição da variável APGAR5 para cada classe de GESTACAO dado."
   ]
  },
  {
   "cell_type": "code",
   "execution_count": 42,
   "metadata": {
    "ExecuteTime": {
     "end_time": "2024-03-12T20:06:24.742026300Z",
     "start_time": "2024-03-12T20:06:24.483530700Z"
    }
   },
   "source": [
    "crosstab = pd.crosstab(index = df['GESTACAO'],columns = df['APGAR5_Categoria'], normalize='index')\n",
    "plt.figure(figsize=(10, 8))\n",
    "sns.heatmap(crosstab, annot=True, cmap= 'coolwarm', cbar_kws={'label': 'Proporção'})\n",
    "plt.title('Distribuição de Categoria_APGAR5 por Tempo de Gestação')\n",
    "plt.xlabel('Categoria APGAR5')\n",
    "plt.ylabel('Tempo de Gestação')\n",
    "plt.xticks(rotation=45)\n",
    "plt.show()"
   ],
   "outputs": []
  },
  {
   "cell_type": "markdown",
   "metadata": {},
   "source": [
    "####  6) Os médicos costumam classificar parto prematuro quando a gestação tem menos que 37 semanas. Faça um gráfico de barras da tabela cruzada acima e conclua se você acha que este conjunto de dados corrobora ou não com a afirmação dos médicos."
   ]
  },
  {
   "cell_type": "code",
   "execution_count": 44,
   "metadata": {
    "ExecuteTime": {
     "end_time": "2024-03-12T20:14:16.233876500Z",
     "start_time": "2024-03-12T20:14:16.022755Z"
    }
   },
   "source": [
    "df['PREMATURO'] = df['GESTACAO'].isin(['22 a 27 semanas', '28 a 31 semanas', '32 a 36 semanas'])\n",
    "crosstab = pd.crosstab(index = df['PREMATURO'],columns = df['APGAR5_Categoria'], normalize='index')\n",
    "plt.figure(figsize=(10, 8))\n",
    "sns.heatmap(crosstab, annot=True, cmap= 'coolwarm', cbar_kws={'label': 'Proporção'})\n",
    "plt.title('Distribuição de Categoria_APGAR5 por Prematuridade') \n",
    "plt.xlabel('Categoria APGAR5')\n",
    "plt.ylabel('Prematuridade')\n",
    "plt.xticks(rotation=45)\n",
    "plt.show()\n"
   ],
   "outputs": []
  },
  {
   "cell_type": "markdown",
   "metadata": {},
   "source": [
    "#### 7) Veja se há relação entre APGAR5 e o peso do bebê. Isso pode ser feito de diversas formas. Fique à vontade para escolher a melhor maneira na sua opinião, ou até testar mais de um dos gráficos que vimos. Fique à vontade também para consultar a documentação e utilizar algum outro recurso se achar conveniente."
   ]
  },
  {
   "cell_type": "code",
   "execution_count": 45,
   "metadata": {
    "ExecuteTime": {
     "end_time": "2024-03-12T20:18:02.706108800Z",
     "start_time": "2024-03-12T20:18:02.652693400Z"
    }
   },
   "source": [
    "correlation = df[['APGAR5', 'PESO']].corr()\n",
    "print(correlation)"
   ],
   "outputs": []
  },
  {
   "cell_type": "code",
   "execution_count": 49,
   "source": [
    "#cateorizando peso em 10 categorias\n",
    "bins = [0, 500, 1000, 1500, 2000, 2500, 3000, 3500, 4000, 4500, 5000]\n",
    "labels = ['0 a 500', '500 a 1000', '1000 a 1500', '1500 a 2000', '2000 a 2500', '2500 a 3000', '3000 a 3500', '3500 a 4000', '4000 a 4500', '4500 a 5000']\n",
    "df['PESO_Categoria'] = pd.cut(df['PESO'], bins=bins, labels=labels, right=True)\n",
    "\n",
    "\n",
    "crosstab = pd.crosstab(index = df['APGAR5_Categoria'],columns = df['PESO_Categoria'], normalize='index')\n",
    "plt.figure(figsize=(10, 8))\n",
    "sns.heatmap(crosstab, annot=True, cmap= 'coolwarm', cbar_kws={'label': 'Proporção'})\n",
    "plt.title('Distribuição de Peso por Categoria APGAR5')\n",
    "plt.xlabel('Peso')\n",
    "plt.ylabel('Categoria APGAR5')\n",
    "plt.xticks(rotation=45)\n",
    "plt.show()\n"
   ],
   "metadata": {
    "collapsed": false,
    "ExecuteTime": {
     "end_time": "2024-03-12T20:21:42.017694400Z",
     "start_time": "2024-03-12T20:21:41.690553600Z"
    }
   },
   "outputs": []
  },
  {
   "cell_type": "markdown",
   "source": [
    "Podemos observar uma maior proporção de bebês com APGAR5 'asfixia grave' nas categorias de peso mais baixas. Isso corrobora com a literatura médica, que afirma que bebês com baixo peso ao nascer têm maior probabilidade de terem APGAR5 baixo."
   ],
   "metadata": {
    "collapsed": false
   }
  },
  {
   "cell_type": "code",
   "execution_count": null,
   "source": [],
   "metadata": {
    "collapsed": false
   },
   "outputs": []
  }
 ],
 "metadata": {
  "kernelspec": {
   "display_name": "Python 3",
   "language": "python",
   "name": "python3"
  },
  "language_info": {
   "codemirror_mode": {
    "name": "ipython",
    "version": 3
   },
   "file_extension": ".py",
   "mimetype": "text/x-python",
   "name": "python",
   "nbconvert_exporter": "python",
   "pygments_lexer": "ipython3",
   "version": "3.8.5"
  }
 },
 "nbformat": 4,
 "nbformat_minor": 4
}
