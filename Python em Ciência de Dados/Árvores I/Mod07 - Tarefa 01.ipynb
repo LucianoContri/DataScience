{
 "cells": [
  {
   "cell_type": "markdown",
   "metadata": {},
   "source": [
    "# Módulo 07, Tarefa 01\n",
    "\n",
    "Vamos começar a mexer na nossa base de projeto? Já fizemos um exercício de montar a variável resposta, já pudemos perceber que essa atividade pode não ser trivial. Vamos agora trabalhar a base para que fique propícia ao *scikitlearn* para trabalharmos.\n",
    "\n",
    "Lembrando, a base se chama demo01.csv, e originalmente está publicada [aqui](https://www.kaggle.com/rikdifos/credit-card-approval-prediction)."
   ]
  },
  {
   "cell_type": "markdown",
   "metadata": {},
   "source": [
    "#### 1) Carregue a base e avalie:\n",
    "\n",
    "- As variáveis\n",
    "- Tipos de dados de cada variável\n",
    "- Quantidade de missings\n",
    "- Distribuição da variável resposta (mau)"
   ]
  },
  {
   "cell_type": "code",
   "metadata": {
    "ExecuteTime": {
     "end_time": "2024-04-17T02:12:21.567223Z",
     "start_time": "2024-04-17T02:12:20.834850Z"
    }
   },
   "source": [
    "import pandas as pd\n",
    "\n",
    "# Carregando a base\n",
    "application_record = pd.read_csv('../../../../Datasets/application_record.csv')\n",
    "credit_record = pd.read_csv('../../../../Datasets/credit_record.csv')"
   ],
   "execution_count": 47,
   "outputs": []
  },
  {
   "metadata": {
    "ExecuteTime": {
     "end_time": "2024-04-17T02:12:21.585566Z",
     "start_time": "2024-04-17T02:12:21.568229Z"
    }
   },
   "cell_type": "code",
   "source": [
    "print(application_record.shape)\n",
    "application_record.head(20)"
   ],
   "execution_count": 48,
   "outputs": []
  },
  {
   "metadata": {
    "ExecuteTime": {
     "end_time": "2024-04-17T02:12:21.601089Z",
     "start_time": "2024-04-17T02:12:21.586573Z"
    }
   },
   "cell_type": "code",
   "source": "credit_record['ID'].nunique()",
   "execution_count": 49,
   "outputs": []
  },
  {
   "metadata": {
    "ExecuteTime": {
     "end_time": "2024-04-17T02:12:21.623239Z",
     "start_time": "2024-04-17T02:12:21.602598Z"
    }
   },
   "cell_type": "code",
   "source": "application_record['ID'].nunique()",
   "execution_count": 50,
   "outputs": []
  },
  {
   "metadata": {
    "ExecuteTime": {
     "end_time": "2024-04-17T02:12:21.924959Z",
     "start_time": "2024-04-17T02:12:21.624246Z"
    }
   },
   "cell_type": "code",
   "source": [
    "# verificando se têm id duplicados\n",
    "\n",
    "print(application_record.duplicated().sum())"
   ],
   "execution_count": 51,
   "outputs": []
  },
  {
   "metadata": {
    "ExecuteTime": {
     "end_time": "2024-04-17T02:12:21.932474Z",
     "start_time": "2024-04-17T02:12:21.925966Z"
    }
   },
   "cell_type": "code",
   "source": [
    "print(credit_record.shape)\n",
    "credit_record.head(20)"
   ],
   "execution_count": 52,
   "outputs": []
  },
  {
   "metadata": {
    "ExecuteTime": {
     "end_time": "2024-04-17T02:12:22.342896Z",
     "start_time": "2024-04-17T02:12:21.933481Z"
    }
   },
   "cell_type": "code",
   "source": [
    "# Transformando STATUS em uma variável binária 'mau'\n",
    "credit_record['mau'] = credit_record['STATUS'].apply(lambda x: 1 if x in ['0', '1', '2', '3', '4', '5'] else 0)\n",
    "\n",
    "# Agregando para descobrir se algum registro é 'mau'\n",
    "credit_summary = credit_record.groupby('ID')['mau'].max()\n",
    "\n",
    "# Transformando o Series resultante em DataFrame\n",
    "credit_summary = credit_summary.reset_index()\n",
    "credit_summary.rename(columns={'mau': 'mau'}, inplace=True)\n"
   ],
   "execution_count": 53,
   "outputs": []
  },
  {
   "metadata": {
    "ExecuteTime": {
     "end_time": "2024-04-17T02:12:22.408662Z",
     "start_time": "2024-04-17T02:12:22.342896Z"
    }
   },
   "cell_type": "code",
   "source": [
    "\n",
    "#junção das bases\n",
    "df = pd.merge(application_record, credit_summary, on='ID', how='inner')\n"
   ],
   "execution_count": 54,
   "outputs": []
  },
  {
   "metadata": {
    "ExecuteTime": {
     "end_time": "2024-04-17T02:12:22.428028Z",
     "start_time": "2024-04-17T02:12:22.409670Z"
    }
   },
   "cell_type": "code",
   "source": [
    "print(df.shape)\n",
    "df.head(20)"
   ],
   "execution_count": 55,
   "outputs": []
  },
  {
   "metadata": {
    "ExecuteTime": {
     "end_time": "2024-04-17T02:12:22.435529Z",
     "start_time": "2024-04-17T02:12:22.430037Z"
    }
   },
   "cell_type": "code",
   "source": [
    "#distibuição da variável resposta 'mau'\n",
    "df['mau'].value_counts()"
   ],
   "execution_count": 56,
   "outputs": []
  },
  {
   "metadata": {},
   "cell_type": "markdown",
   "source": "Verificando a quantidade de missings"
  },
  {
   "metadata": {
    "ExecuteTime": {
     "end_time": "2024-04-17T02:12:22.478203Z",
     "start_time": "2024-04-17T02:12:22.436537Z"
    }
   },
   "cell_type": "code",
   "source": "df.info()",
   "execution_count": 57,
   "outputs": []
  },
  {
   "metadata": {
    "ExecuteTime": {
     "end_time": "2024-04-17T02:12:22.520788Z",
     "start_time": "2024-04-17T02:12:22.479211Z"
    }
   },
   "cell_type": "code",
   "source": [
    "percentage = (df.isnull().sum() / len(df)) * 100\n",
    "percentage"
   ],
   "execution_count": 58,
   "outputs": []
  },
  {
   "metadata": {},
   "cell_type": "markdown",
   "source": ""
  },
  {
   "metadata": {},
   "cell_type": "markdown",
   "source": ""
  },
  {
   "metadata": {
    "ExecuteTime": {
     "end_time": "2024-04-17T02:12:22.526402Z",
     "start_time": "2024-04-17T02:12:22.520788Z"
    }
   },
   "cell_type": "code",
   "source": "df['OCCUPATION_TYPE'].unique()",
   "execution_count": 59,
   "outputs": []
  },
  {
   "metadata": {},
   "cell_type": "markdown",
   "source": [
    "podemos tratar os missings da variável OCCUPATION_TYPE com dummies para cada categoria e o missing apenas seria false para todas as categorias.\n",
    "30% dos dados da variável OCCUPATION_TYPE são missing, então não podemos simplesmente excluir esses dados."
   ]
  },
  {
   "metadata": {
    "ExecuteTime": {
     "end_time": "2024-04-17T02:12:22.532416Z",
     "start_time": "2024-04-17T02:12:22.527410Z"
    }
   },
   "cell_type": "code",
   "source": "df['OCCUPATION_TYPE'] = df['OCCUPATION_TYPE'].fillna('Desconhecido')",
   "execution_count": 60,
   "outputs": []
  },
  {
   "metadata": {
    "ExecuteTime": {
     "end_time": "2024-04-17T02:12:22.576636Z",
     "start_time": "2024-04-17T02:12:22.533553Z"
    }
   },
   "cell_type": "code",
   "source": "df.info()",
   "execution_count": 61,
   "outputs": []
  },
  {
   "metadata": {},
   "cell_type": "markdown",
   "source": "##### Verificando a quantidade de duplicados"
  },
  {
   "metadata": {
    "ExecuteTime": {
     "end_time": "2024-04-17T02:12:22.604529Z",
     "start_time": "2024-04-17T02:12:22.577642Z"
    }
   },
   "cell_type": "code",
   "source": "df.duplicated().sum()",
   "execution_count": 62,
   "outputs": []
  },
  {
   "metadata": {},
   "cell_type": "markdown",
   "source": "##### Distribuição da variável resposta"
  },
  {
   "metadata": {
    "ExecuteTime": {
     "end_time": "2024-04-17T02:12:22.797537Z",
     "start_time": "2024-04-17T02:12:22.605535Z"
    }
   },
   "cell_type": "code",
   "source": [
    "import seaborn as sns\n",
    "# normal distribution\n",
    "sns.countplot(x='mau', data=df)\n"
   ],
   "execution_count": 63,
   "outputs": []
  },
  {
   "metadata": {},
   "cell_type": "markdown",
   "source": [
    "Teremos que tratar para um problema de classificação.\n",
    "Binário (Bom/Mau crédito):\n",
    "\n",
    "Bom crédito: 'C' (quitado naquele mês), 'X' (sem empréstimo para o mês)\n",
    "Mau crédito: '0', '1', '2', '3', '4', '5' (qualquer forma de atraso ou inadimplência)"
   ]
  },
  {
   "cell_type": "markdown",
   "metadata": {},
   "source": [
    "#### 2) Vamos montar um metadados\n",
    "\n",
    "1. Crie um dataframe com os nomes de cada variável e o tipo de dados de cada variável.\n",
    "2. Adicione uma coluna nesse *dataframe* chamada \"qtd_categorias\" e coloque nela o número de categorias correspondente de cada variável. \n",
    "    Dica: \n",
    "        1. inicie uma lista vazia\n",
    "        2. faça um for ao longo dos nomes das variáveis, \n",
    "        3. conte o número de categorias dessa variável \n",
    "        4. acumule essa informação de 3. na lista que você criou em 1. \n",
    "        5. No final, essa lista pode ser atribuída à nossa variável.\n",
    "3. Crie variáveis dummy para as variáveis necessárias (i.e. aquelas que são qualitativas e não estão armazenadas como {0, 1} ou {True, False}."
   ]
  },
  {
   "cell_type": "code",
   "metadata": {
    "ExecuteTime": {
     "end_time": "2024-04-17T02:12:22.801153Z",
     "start_time": "2024-04-17T02:12:22.797537Z"
    }
   },
   "source": [
    "# 1. Criando um dataframe com os nomes de cada variável e o tipo de dados de cada variável\n",
    "metadados = pd.DataFrame({'variavel': df.columns, 'tipo': df.dtypes})"
   ],
   "execution_count": 64,
   "outputs": []
  },
  {
   "metadata": {
    "ExecuteTime": {
     "end_time": "2024-04-17T02:12:22.822331Z",
     "start_time": "2024-04-17T02:12:22.801153Z"
    }
   },
   "cell_type": "code",
   "source": [
    "# 2. Adicionando uma coluna nesse dataframe chamada \"qtd_categorias\" e colocando nela o número de categorias correspondente de cada variável\n",
    "\n",
    "qtd_categorias = [] # Iniciando uma lista vazia\n",
    "\n",
    "\n",
    "for variavel in df.columns: # Fazendo um for ao longo dos nomes das variáveis\n",
    "    \n",
    "    \n",
    "    qtd = df[variavel].nunique() # Contando o número de categorias dessa variável\n",
    "    \n",
    "    \n",
    "    qtd_categorias.append(qtd) # adicionando essa informação na lista que criamos\n",
    "\n",
    "\n",
    "metadados['qtd_categorias'] = qtd_categorias # Atribuindo a lista à nossa variável"
   ],
   "execution_count": 65,
   "outputs": []
  },
  {
   "metadata": {
    "ExecuteTime": {
     "end_time": "2024-04-17T02:12:22.829654Z",
     "start_time": "2024-04-17T02:12:22.822835Z"
    }
   },
   "cell_type": "code",
   "source": "metadados.head(21)",
   "execution_count": 66,
   "outputs": []
  },
  {
   "cell_type": "markdown",
   "metadata": {},
   "source": [
    "#### 3) Crie variáveis dummy para as variáveis necessárias (i.e. aquelas que são qualitativas e não estão armazenadas como {0, 1} ou {True, False}. Crie um *dataframe* apenas com as variáveis apropriadas para entrada no scikitlearn - elimine as variáveis tipo *str*, mantendo apenas suas versões *dummy*."
   ]
  },
  {
   "cell_type": "code",
   "metadata": {
    "ExecuteTime": {
     "end_time": "2024-04-17T02:12:22.865505Z",
     "start_time": "2024-04-17T02:12:22.830662Z"
    }
   },
   "source": [
    "# Criando variáveis dummy para as variáveis necessárias e removendo as variáveis que foram substituídas por dummies\n",
    "df = pd.get_dummies(df, columns=[   'CODE_GENDER', 'FLAG_OWN_CAR', 'FLAG_OWN_REALTY',\n",
    "                                    'NAME_INCOME_TYPE', 'NAME_EDUCATION_TYPE', 'NAME_FAMILY_STATUS',\n",
    "                                    'NAME_HOUSING_TYPE', 'OCCUPATION_TYPE'], drop_first=True)\n",
    "df.reset_index(drop=True, inplace=True)"
   ],
   "execution_count": 67,
   "outputs": []
  },
  {
   "metadata": {
    "ExecuteTime": {
     "end_time": "2024-04-17T02:12:22.876945Z",
     "start_time": "2024-04-17T02:12:22.866511Z"
    }
   },
   "cell_type": "code",
   "source": "df.info()",
   "execution_count": 68,
   "outputs": []
  },
  {
   "cell_type": "markdown",
   "metadata": {},
   "source": [
    "#### 4) Qual variável é mais poderosa?\n",
    "\n",
    "Considere as variáveis ```possui_email``` e ```posse_de_veiculo```. Faça uma tabela cruzada entre elas e responda qual delas te parece mais poderosa para prever a probabilidade de ```mau = 1```?"
   ]
  },
  {
   "cell_type": "code",
   "metadata": {
    "ExecuteTime": {
     "end_time": "2024-04-17T02:12:23.302902Z",
     "start_time": "2024-04-17T02:12:22.877956Z"
    }
   },
   "source": [
    "import matplotlib.pyplot as plt\n",
    "\n",
    "crosstab_email = pd.crosstab(df['FLAG_EMAIL'], df['mau'])\n",
    "crosstab_veiculo = pd.crosstab(df['FLAG_OWN_CAR_Y'], df['mau'])\n",
    "\n",
    "\n",
    "# Plotando gráfico de barras para 'possui_email'\n",
    "plt.figure(figsize=(10, 5))\n",
    "sns.barplot(x=crosstab_email.index, y=crosstab_email[1], palette=\"viridis\")\n",
    "plt.title('Distribuição de Mau Pagador por Posse de Email')\n",
    "plt.ylabel('Quantidade de Mau Pagador')\n",
    "plt.xlabel('Possui Email (0 = Não, 1 = Sim)')\n",
    "plt.show()\n",
    "\n",
    "# Plotando gráfico de barras para 'posse_de_veiculo'\n",
    "plt.figure(figsize=(10, 5))\n",
    "sns.barplot(x=crosstab_veiculo.index, y=crosstab_veiculo[1], palette=\"magma\")\n",
    "plt.title('Distribuição de Mau Pagador por Posse de Veículo')\n",
    "plt.ylabel('Quantidade de Mau Pagador')\n",
    "plt.xlabel('Possui Veículo (0 = Não, 1 = Sim)')\n",
    "plt.show()\n",
    "\n",
    "# Tabela cruzada entre 'possui_email' e 'posse_de_veiculo'\n",
    "crosstab_email_veiculo = pd.crosstab(df['FLAG_EMAIL'], df['FLAG_OWN_CAR_Y'])\n",
    "# Plotando gráfico de barras para 'possui_email' e 'posse_de_veiculo'\n",
    "plt.figure(figsize=(10, 5))\n",
    "sns.barplot(x=crosstab_email_veiculo.index, y=crosstab_email_veiculo[1], palette=\"mako\")\n",
    "plt.title('Distribuição de Posse de Veículo por Posse de Email')\n",
    "plt.ylabel('Quantidade de Posse de Veículo')\n",
    "plt.xlabel('Possui Email (0 = Não, 1 = Sim)')\n",
    "plt.show()\n",
    "\n"
   ],
   "execution_count": 69,
   "outputs": []
  },
  {
   "cell_type": "markdown",
   "metadata": {},
   "source": [
    "#### 5) Salve a base, pois ela será utilizada no final deste módulo."
   ]
  },
  {
   "cell_type": "code",
   "metadata": {
    "ExecuteTime": {
     "end_time": "2024-04-17T02:12:23.598282Z",
     "start_time": "2024-04-17T02:12:23.302902Z"
    }
   },
   "source": [
    "# Salvando a base\n",
    "df.to_csv('demo01.csv', index=False)"
   ],
   "execution_count": 70,
   "outputs": []
  },
  {
   "metadata": {},
   "cell_type": "code",
   "execution_count": null,
   "source": "",
   "outputs": []
  }
 ],
 "metadata": {
  "kernelspec": {
   "display_name": "Python 3",
   "language": "python",
   "name": "python3"
  },
  "language_info": {
   "codemirror_mode": {
    "name": "ipython",
    "version": 3
   },
   "file_extension": ".py",
   "mimetype": "text/x-python",
   "name": "python",
   "nbconvert_exporter": "python",
   "pygments_lexer": "ipython3",
   "version": "3.8.5"
  }
 },
 "nbformat": 4,
 "nbformat_minor": 4
}
