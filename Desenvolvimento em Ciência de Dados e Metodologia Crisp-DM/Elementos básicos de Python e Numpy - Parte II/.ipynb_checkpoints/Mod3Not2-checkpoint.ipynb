{
 "cells": [
  {
   "cell_type": "markdown",
   "metadata": {},
   "source": [
    "# MÓDULO 3 - JUPYTER NOTEBOOK 2"
   ]
  },
  {
   "cell_type": "markdown",
   "metadata": {},
   "source": [
    "# Aula 5 - Pacotes e NumPy"
   ]
  },
  {
   "cell_type": "markdown",
   "metadata": {},
   "source": [
    "## 1.1 Carregando módulos ``import``\n"
   ]
  },
  {
   "cell_type": "code",
   "execution_count": 1,
   "metadata": {},
   "source": [
    "import math\n",
    "math.cos(math.pi)"
   ],
   "outputs": []
  },
  {
   "cell_type": "code",
   "execution_count": 2,
   "metadata": {},
   "source": [
    "import numpy as np\n",
    "np.cos(np.pi)"
   ],
   "outputs": []
  },
  {
   "cell_type": "code",
   "execution_count": 3,
   "metadata": {},
   "source": [
    "from math import cos, pi\n",
    "cos(pi)"
   ],
   "outputs": []
  },
  {
   "cell_type": "code",
   "execution_count": 4,
   "metadata": {},
   "source": [
    "from math import *\n",
    "sin(pi) ** 2 + cos(pi) ** 2"
   ],
   "outputs": []
  },
  {
   "cell_type": "code",
   "execution_count": 7,
   "metadata": {},
   "source": [
    "from numpy import *"
   ],
   "outputs": []
  },
  {
   "cell_type": "markdown",
   "metadata": {},
   "source": [
    "Quando usamos o ``import *`` ele substitui todas as funções padrões do python pelas funções do módulo carregado, o que pode gerar um comportamento não esperado. Esse último comando ``from numpy import *`` substitui a função ``sum`` pela função ``numpy.sum`` e existe diferenças entre elas. Por isso o ``import *`` deve ser evitado."
   ]
  },
  {
   "cell_type": "markdown",
   "metadata": {},
   "source": [
    "## 1.2 Bibliotecas padrão do Python\n",
    "\n",
    "Documentação das bibliotecas padrão do Python: https://docs.python.org/pt-br/3/library/."
   ]
  },
  {
   "cell_type": "markdown",
   "metadata": {},
   "source": [
    "## 1.3 Instalando e importando módulos de terceiros\n",
    "\n",
    "Os módulos que não são padrão do Python podem ser usados da mesma forma que os módulos padrão, mas antes disso devem ser instalados na nossa máquina.\n",
    "\n",
    "Para isso, podemos utilizar o seguinte comando no CMD:\n",
    "``` \n",
    "$ pip install nome_do_pacote\n",
    "```\n",
    "``pip`` é um comando que automaticamente baixa e instala os pacotes listados no PyPI (*Python Package Index*), que contém um repositório de módulos.  \n",
    "\n",
    "Após a instalação do módulo, a utilização dentro do jupyter notebook é igual ao das bibliotecas padrão usando o ``import``\n",
    "\n",
    "Para mais informações sobre o PyPI, acesse o site: http://pypi.python.org/."
   ]
  },
  {
   "cell_type": "markdown",
   "metadata": {
    "ExecuteTime": {
     "end_time": "2021-04-29T00:15:49.568234Z",
     "start_time": "2021-04-29T00:15:49.564235Z"
    }
   },
   "source": [
    "## 2.0 NumPy"
   ]
  },
  {
   "cell_type": "markdown",
   "metadata": {},
   "source": [
    "Exemplo e texto adaptado de: https://numpy.org/"
   ]
  },
  {
   "cell_type": "markdown",
   "metadata": {},
   "source": [
    "NumPy é o pacote essencial para computação científica em Python. É uma biblioteca Python que fornece um objeto array multidimensional (vetores e matrizes) e uma variedade de rotinas para operações rápidas.\n",
    "\n",
    "A principal parte do pacote NumPy é o objeto NDArray, que é um conjunto de dados n-dimensional de tipos iguais. Possui um desempenho superior se comparado às sequencias padrão do Python (lista, tupla, etc), pois as operações são realizadas em códigos compilados. Outras diferenças são:\n",
    "\n",
    "Os arrays NumPy são de tamanho fixo e as listas não. \n",
    "\n",
    "Os elementos dos arrays NumPy devem ser todos do mesmo tipo e na lista podem ter tipos diferentes.\n",
    "\n",
    "Os arrays NumPy facilitam operações matemáticas em uma grande quantidade de dados. Normalmente, essas operações são executadas de forma mais eficiente e com menos código do que é possível usando as sequências do Python.\n",
    "\n",
    "**Exemplo simples**\n",
    "\n",
    "**Usando listas:**"
   ]
  },
  {
   "cell_type": "code",
   "execution_count": 204,
   "metadata": {
    "ExecuteTime": {
     "end_time": "2021-05-09T13:46:07.430153Z",
     "start_time": "2021-05-09T13:46:07.369947Z"
    }
   },
   "source": [
    "lst_a = [1, 2, 3, 4, 5]\n",
    "lst_b = [6, 7, 8, 9, 10]"
   ],
   "outputs": []
  },
  {
   "cell_type": "code",
   "execution_count": 230,
   "metadata": {
    "ExecuteTime": {
     "end_time": "2021-05-09T13:46:19.239124Z",
     "start_time": "2021-05-09T13:46:19.223119Z"
    }
   },
   "source": [
    "lst_c = []\n",
    "for i in range(len(a)):\n",
    "    lst_c.append(a[i]*b[i])"
   ],
   "outputs": []
  },
  {
   "cell_type": "markdown",
   "metadata": {},
   "source": [
    "**Usando NumPy:**"
   ]
  },
  {
   "cell_type": "code",
   "execution_count": 206,
   "metadata": {
    "ExecuteTime": {
     "end_time": "2021-05-09T13:46:08.214081Z",
     "start_time": "2021-05-09T13:46:08.132562Z"
    }
   },
   "source": [
    "array_a = np.array(lst_a)\n",
    "array_b = np.array(lst_b)"
   ],
   "outputs": []
  },
  {
   "cell_type": "code",
   "execution_count": 215,
   "metadata": {
    "ExecuteTime": {
     "end_time": "2021-05-09T13:46:15.500490Z",
     "start_time": "2021-05-09T13:46:15.486509Z"
    }
   },
   "source": [
    "array_c = array_a * array_b"
   ],
   "outputs": []
  },
  {
   "cell_type": "markdown",
   "metadata": {},
   "source": [
    "___"
   ]
  },
  {
   "cell_type": "markdown",
   "metadata": {},
   "source": [
    "# Aula 6 - NDArrays (*N-dimensional array*)"
   ]
  },
  {
   "cell_type": "markdown",
   "metadata": {
    "ExecuteTime": {
     "end_time": "2021-04-29T00:15:49.568234Z",
     "start_time": "2021-04-29T00:15:49.564235Z"
    }
   },
   "source": [
    "## 1.0 Criando NDarrays"
   ]
  },
  {
   "cell_type": "markdown",
   "metadata": {},
   "source": [
    "### 1.1 A partir de listas do Python ``np.array``\n"
   ]
  },
  {
   "cell_type": "code",
   "execution_count": 93,
   "metadata": {
    "ExecuteTime": {
     "end_time": "2021-05-09T09:48:00.082303Z",
     "start_time": "2021-05-09T09:48:00.067312Z"
    }
   },
   "source": [
    "np.array([5, 2, 3, 4, 1])"
   ],
   "outputs": []
  },
  {
   "cell_type": "code",
   "execution_count": 102,
   "metadata": {
    "ExecuteTime": {
     "end_time": "2021-05-09T09:49:59.939641Z",
     "start_time": "2021-05-09T09:49:59.923638Z"
    }
   },
   "source": [
    "# só aceita um tipo de dado, se houver diferentes tipos, é transformado em apenas 1.\n",
    "np.array([5, 2, 3, 4, 1.0])\n",
    "# np.array([5, 2, 3, 4, '1'])\n"
   ],
   "outputs": []
  },
  {
   "cell_type": "code",
   "execution_count": 103,
   "metadata": {
    "ExecuteTime": {
     "end_time": "2021-05-09T09:51:02.633314Z",
     "start_time": "2021-05-09T09:51:02.606334Z"
    }
   },
   "source": [
    "#podemos explicitar o tipo de dado na construção.\n",
    "np.array([5, 2, 3, 4, 1], dtype='float32')"
   ],
   "outputs": []
  },
  {
   "cell_type": "markdown",
   "metadata": {},
   "source": [
    "### 1.2 A partir de rotinas do NumPy ``np.zeros`` ``np.ones`` ``np.arrange`` ``np.random.randint``\n",
    "\n",
    "Nas aulas anteriores, para criarmos grandes listas do Python (todos os números pares até o 200), usamos as estruturas de repetição ``while`` e ``for``. \n",
    "\n",
    "Para criar grandes arrays podemos usar rotinas do NumPy."
   ]
  },
  {
   "cell_type": "code",
   "execution_count": 113,
   "metadata": {
    "ExecuteTime": {
     "end_time": "2021-05-09T10:06:49.078431Z",
     "start_time": "2021-05-09T10:06:49.061431Z"
    }
   },
   "source": [
    "#criando um vetor de zeros\n",
    "vetor_zeros = np.zeros(5)\n",
    "vetor_zeros"
   ],
   "outputs": []
  },
  {
   "cell_type": "code",
   "execution_count": 114,
   "metadata": {
    "ExecuteTime": {
     "end_time": "2021-05-09T10:07:00.453478Z",
     "start_time": "2021-05-09T10:07:00.433487Z"
    },
    "scrolled": true
   },
   "source": [
    "#criando uma matriz de zeros\n",
    "matriz_zeros = np.zeros((2, 5))\n",
    "matriz_zeros"
   ],
   "outputs": []
  },
  {
   "cell_type": "code",
   "execution_count": 115,
   "metadata": {
    "ExecuteTime": {
     "end_time": "2021-05-09T10:07:09.822839Z",
     "start_time": "2021-05-09T10:07:09.765264Z"
    }
   },
   "source": [
    "#criando array dos numeros pares\n",
    "pares = np.arange(2, 22, 2)\n",
    "pares"
   ],
   "outputs": []
  },
  {
   "cell_type": "code",
   "execution_count": 140,
   "metadata": {
    "ExecuteTime": {
     "end_time": "2021-05-09T10:12:40.674848Z",
     "start_time": "2021-05-09T10:12:40.669851Z"
    }
   },
   "source": [
    "np.random.rand(3,2)"
   ],
   "outputs": []
  },
  {
   "cell_type": "code",
   "execution_count": 153,
   "metadata": {
    "ExecuteTime": {
     "end_time": "2021-05-09T10:38:45.853086Z",
     "start_time": "2021-05-09T10:38:45.840080Z"
    }
   },
   "source": [
    "# Create a 3x3 array of random integers in the interval [0, 10)\n",
    "np.random.randint(5, size=(3, 3))"
   ],
   "outputs": []
  },
  {
   "cell_type": "markdown",
   "metadata": {},
   "source": [
    "More advanced type specification is possible, such as specifying big or little endian numbers; for more information, refer to the [NumPy documentation](http://numpy.org/).\n",
    "NumPy also supports compound data types, which will be covered in [Structured Data: NumPy's Structured Arrays](02.09-Structured-Data-NumPy.ipynb)."
   ]
  },
  {
   "cell_type": "markdown",
   "metadata": {
    "ExecuteTime": {
     "end_time": "2021-04-29T00:15:49.568234Z",
     "start_time": "2021-04-29T00:15:49.564235Z"
    }
   },
   "source": [
    "## 2.0 Aritmética com NDarrays "
   ]
  },
  {
   "cell_type": "code",
   "execution_count": 154,
   "metadata": {
    "ExecuteTime": {
     "end_time": "2021-05-09T13:07:13.234916Z",
     "start_time": "2021-05-09T13:07:13.119387Z"
    }
   },
   "source": [
    "array_2 = np.array([2, 2, 2, 2, 2])\n",
    "array_10 = np.array([10, 10, 10, 10, 10])"
   ],
   "outputs": []
  },
  {
   "cell_type": "code",
   "execution_count": 173,
   "metadata": {
    "ExecuteTime": {
     "end_time": "2021-05-09T13:11:55.183103Z",
     "start_time": "2021-05-09T13:11:55.166095Z"
    }
   },
   "source": [
    "array_2+2"
   ],
   "outputs": []
  },
  {
   "cell_type": "code",
   "execution_count": 157,
   "metadata": {
    "ExecuteTime": {
     "end_time": "2021-05-09T13:07:32.963157Z",
     "start_time": "2021-05-09T13:07:32.956161Z"
    }
   },
   "source": [
    "array_2+array_10"
   ],
   "outputs": []
  },
  {
   "cell_type": "code",
   "execution_count": 158,
   "metadata": {
    "ExecuteTime": {
     "end_time": "2021-05-09T13:07:40.944439Z",
     "start_time": "2021-05-09T13:07:40.930450Z"
    }
   },
   "source": [
    "array_2*array_10"
   ],
   "outputs": []
  },
  {
   "cell_type": "code",
   "execution_count": 159,
   "metadata": {
    "ExecuteTime": {
     "end_time": "2021-05-09T13:07:55.889302Z",
     "start_time": "2021-05-09T13:07:55.787148Z"
    }
   },
   "source": [
    "array_10/array_2"
   ],
   "outputs": []
  },
  {
   "cell_type": "code",
   "execution_count": 161,
   "metadata": {
    "ExecuteTime": {
     "end_time": "2021-05-09T13:08:55.458778Z",
     "start_time": "2021-05-09T13:08:55.440795Z"
    }
   },
   "source": [
    "array_10**array_2"
   ],
   "outputs": []
  },
  {
   "cell_type": "code",
   "execution_count": 170,
   "metadata": {
    "ExecuteTime": {
     "end_time": "2021-05-09T13:11:27.409090Z",
     "start_time": "2021-05-09T13:11:27.337281Z"
    }
   },
   "source": [
    "array_1a5 = np.array([1, 2, 3, 4, 5])"
   ],
   "outputs": []
  },
  {
   "cell_type": "code",
   "execution_count": 171,
   "metadata": {
    "ExecuteTime": {
     "end_time": "2021-05-09T13:11:28.244229Z",
     "start_time": "2021-05-09T13:11:28.237232Z"
    }
   },
   "source": [
    "array_1a5**array_2"
   ],
   "outputs": []
  },
  {
   "cell_type": "code",
   "execution_count": 172,
   "metadata": {
    "ExecuteTime": {
     "end_time": "2021-05-09T13:11:28.837628Z",
     "start_time": "2021-05-09T13:11:28.820653Z"
    }
   },
   "source": [
    "array_1a5**2"
   ],
   "outputs": []
  },
  {
   "cell_type": "markdown",
   "metadata": {},
   "source": [
    "# Aula 7 - Indexação e Matrizes"
   ]
  },
  {
   "cell_type": "markdown",
   "metadata": {
    "ExecuteTime": {
     "end_time": "2021-04-29T00:15:49.568234Z",
     "start_time": "2021-04-29T00:15:49.564235Z"
    }
   },
   "source": [
    "## 1.0 Indexação básica, indexação booleana e fatiamento "
   ]
  },
  {
   "cell_type": "code",
   "execution_count": 10,
   "metadata": {
    "ExecuteTime": {
     "end_time": "2021-05-18T01:27:19.727195Z",
     "start_time": "2021-05-18T01:27:19.717186Z"
    }
   },
   "source": [
    "array_primos = np.array([2, 3, 5, 7, 11])\n",
    "array_primos"
   ],
   "outputs": []
  },
  {
   "cell_type": "markdown",
   "metadata": {},
   "source": [
    "<img src=\"list-indexing.png\">\n",
    "\n",
    "https://github.com/jakevdp/WhirlwindTourOfPython/blob/master/fig/list-indexing.png"
   ]
  },
  {
   "cell_type": "code",
   "execution_count": 19,
   "metadata": {
    "ExecuteTime": {
     "end_time": "2021-05-18T01:32:09.293363Z",
     "start_time": "2021-05-18T01:32:09.285353Z"
    }
   },
   "source": [
    "#vamos praticar com alguns exemplos de indexação básica\n",
    "array_primos"
   ],
   "outputs": []
  },
  {
   "cell_type": "code",
   "execution_count": 13,
   "metadata": {
    "ExecuteTime": {
     "end_time": "2021-05-18T01:29:48.280462Z",
     "start_time": "2021-05-18T01:29:48.269458Z"
    }
   },
   "source": [
    "bool_lista = [True, False, True, True, False]\n",
    "bool_lista"
   ],
   "outputs": []
  },
  {
   "cell_type": "code",
   "execution_count": 18,
   "metadata": {
    "ExecuteTime": {
     "end_time": "2021-05-18T01:31:54.211399Z",
     "start_time": "2021-05-18T01:31:54.199401Z"
    }
   },
   "source": [
    "# boolean list\n",
    "array_primos[bool_lista]"
   ],
   "outputs": []
  },
  {
   "cell_type": "code",
   "execution_count": 17,
   "metadata": {
    "ExecuteTime": {
     "end_time": "2021-05-18T01:31:22.052741Z",
     "start_time": "2021-05-18T01:31:22.045746Z"
    }
   },
   "source": [
    "#fatiamento\n",
    "array_primos[2:4]"
   ],
   "outputs": []
  },
  {
   "cell_type": "markdown",
   "metadata": {
    "ExecuteTime": {
     "end_time": "2021-04-29T00:15:49.568234Z",
     "start_time": "2021-04-29T00:15:49.564235Z"
    }
   },
   "source": [
    "## 2.0 Matrizes"
   ]
  },
  {
   "cell_type": "markdown",
   "metadata": {
    "ExecuteTime": {
     "end_time": "2021-05-18T01:33:28.094319Z",
     "start_time": "2021-05-18T01:33:28.086322Z"
    }
   },
   "source": [
    "|  Dívida financeira | Renda familiar |\n",
    "|:----:|:---|\n",
    "| 1000 | 6000 |\n",
    "| 2500 | 5500 |\n",
    "| 3000 | 7000 |"
   ]
  },
  {
   "cell_type": "code",
   "execution_count": 26,
   "metadata": {
    "ExecuteTime": {
     "end_time": "2021-05-18T01:37:39.227277Z",
     "start_time": "2021-05-18T01:37:39.222293Z"
    }
   },
   "source": [
    "matriz_3x2 = np.array([[1000,6000], [2500, 5500], [3000, 7000]])\n",
    "matriz_3x2"
   ],
   "outputs": []
  },
  {
   "cell_type": "code",
   "execution_count": 28,
   "metadata": {
    "ExecuteTime": {
     "end_time": "2021-05-18T01:38:28.797091Z",
     "start_time": "2021-05-18T01:38:28.783100Z"
    }
   },
   "source": [
    "matriz_3x2[:,1]/matriz_3x2[:,0]"
   ],
   "outputs": []
  },
  {
   "cell_type": "markdown",
   "metadata": {},
   "source": [
    "___"
   ]
  },
  {
   "cell_type": "markdown",
   "metadata": {},
   "source": [
    "# Aula 8 - Construindo e usando funções"
   ]
  },
  {
   "cell_type": "markdown",
   "metadata": {},
   "source": [
    "## 1.0 Algumas funções nativas\n",
    "\n",
    "Já utilizamos diversas funções nativas como: \n",
    "\n",
    "- A função **print()** que é útil para retornar resultados no output do *jupyter notebook*. \n",
    "- A função **len()** que retorna o tamanho de uma string ou lista.\n",
    "- A função **type()** que retorna o tipo de dado.\n",
    "- As funções **int(), float(), bool() e str()** retornam o argumento inserido na forma de um int, float, bool ou str, respectivamente."
   ]
  },
  {
   "cell_type": "markdown",
   "metadata": {},
   "source": [
    "### 1.1 A documentação do Python contém uma [lista](https://docs.python.org/pt-br/3/library/functions.html) de todas as funções nativas (built-in-functions)."
   ]
  },
  {
   "cell_type": "markdown",
   "metadata": {},
   "source": [
    "## 2.0 Escrevendo uma função ``def``"
   ]
  },
  {
   "cell_type": "markdown",
   "metadata": {},
   "source": [
    "Uma boa maneira de organizar, deixar mais legível e mais reutilizável os códigos em python é tornando-os uma função. Vamos cobrir esse tema agora e mostrar 2 maneiras de construir uma função."
   ]
  },
  {
   "cell_type": "markdown",
   "metadata": {},
   "source": [
    "### Fórmula IMC"
   ]
  },
  {
   "cell_type": "markdown",
   "metadata": {},
   "source": [
    "$$IMC = \\frac{PESO}{ALTURA*ALTURA}$$\n",
    "Sendo peso em kg e a altura em metro\n"
   ]
  },
  {
   "cell_type": "code",
   "execution_count": 88,
   "metadata": {
    "ExecuteTime": {
     "end_time": "2021-05-08T21:16:51.805828Z",
     "start_time": "2021-05-08T21:16:51.797836Z"
    }
   },
   "source": [
    "90/(1.90*1.90)"
   ],
   "outputs": []
  },
  {
   "cell_type": "code",
   "execution_count": 66,
   "metadata": {
    "ExecuteTime": {
     "end_time": "2021-05-08T07:23:05.771105Z",
     "start_time": "2021-05-08T07:23:05.767118Z"
    }
   },
   "source": [
    "def calcula_IMC_lucas():\n",
    "    return 90/(1.90*1.90)"
   ],
   "outputs": []
  },
  {
   "cell_type": "code",
   "execution_count": 68,
   "metadata": {
    "ExecuteTime": {
     "end_time": "2021-05-08T07:23:12.078127Z",
     "start_time": "2021-05-08T07:23:12.061136Z"
    }
   },
   "source": [
    "calcula_IMC_lucas()"
   ],
   "outputs": []
  },
  {
   "cell_type": "code",
   "execution_count": 70,
   "metadata": {
    "ExecuteTime": {
     "end_time": "2021-05-08T07:25:05.059254Z",
     "start_time": "2021-05-08T07:25:05.052258Z"
    }
   },
   "source": [
    "def calcula_IMC(peso,altura):\n",
    "    imc = peso/(altura*altura)\n",
    "    return imc"
   ],
   "outputs": []
  },
  {
   "cell_type": "code",
   "execution_count": 71,
   "metadata": {
    "ExecuteTime": {
     "end_time": "2021-05-08T07:25:16.525043Z",
     "start_time": "2021-05-08T07:25:16.509055Z"
    }
   },
   "source": [
    "calcula_IMC(90,1.90)"
   ],
   "outputs": []
  },
  {
   "cell_type": "markdown",
   "metadata": {
    "ExecuteTime": {
     "end_time": "2021-05-08T07:09:55.490063Z",
     "start_time": "2021-05-08T07:09:55.482077Z"
    }
   },
   "source": [
    "- Muito abaixo do peso: 16 a 16,9 kg/m2\n",
    "- Abaixo do peso: 17 a 18,4 kg/m2\n",
    "- Peso normal: 18,5 a 24,9 kg/m2\n",
    "- Acima do peso: 25 a 29,9 kg/m2"
   ]
  },
  {
   "cell_type": "code",
   "execution_count": 60,
   "metadata": {
    "ExecuteTime": {
     "end_time": "2021-05-08T07:15:13.024298Z",
     "start_time": "2021-05-08T07:15:12.961275Z"
    }
   },
   "source": [
    "def calcula_IMC(peso,altura):\n",
    "    imc = peso/(altura*altura)\n",
    "    if imc < 17:\n",
    "        print('Muito abaixo do peso')\n",
    "    elif imc < 18.5:\n",
    "        print('Abaixo do peso')\n",
    "    elif imc < 25:\n",
    "        print('Peso normal')\n",
    "    else:\n",
    "        print('Acima do peso')\n",
    "    return imc"
   ],
   "outputs": []
  },
  {
   "cell_type": "code",
   "execution_count": 62,
   "metadata": {
    "ExecuteTime": {
     "end_time": "2021-05-08T07:15:38.431117Z",
     "start_time": "2021-05-08T07:15:38.424122Z"
    }
   },
   "source": [
    "resultado_imc = calcula_IMC(90, 1.90)"
   ],
   "outputs": []
  },
  {
   "cell_type": "code",
   "execution_count": 63,
   "metadata": {
    "ExecuteTime": {
     "end_time": "2021-05-08T07:15:41.396503Z",
     "start_time": "2021-05-08T07:15:41.383516Z"
    }
   },
   "source": [
    "resultado_imc"
   ],
   "outputs": []
  },
  {
   "cell_type": "code",
   "execution_count": 64,
   "metadata": {
    "ExecuteTime": {
     "end_time": "2021-05-08T07:19:01.696442Z",
     "start_time": "2021-05-08T07:19:00.720255Z"
    }
   },
   "source": [
    "calcula_IMC()"
   ],
   "outputs": []
  },
  {
   "cell_type": "code",
   "execution_count": 72,
   "metadata": {
    "ExecuteTime": {
     "end_time": "2021-05-08T07:26:39.272719Z",
     "start_time": "2021-05-08T07:26:39.267720Z"
    }
   },
   "source": [
    "def calcula_IMC_com_default(peso=90, altura=1.90):\n",
    "    imc = peso / (altura * altura)\n",
    "    if imc < 17:\n",
    "        print('Muito abaixo do peso')\n",
    "    elif imc < 18.5:\n",
    "        print('Abaixo do peso')\n",
    "    elif imc < 25:\n",
    "        print('Peso normal')\n",
    "    else:\n",
    "        print('Acima do peso')\n",
    "    return imc"
   ],
   "outputs": []
  },
  {
   "cell_type": "code",
   "execution_count": 74,
   "metadata": {
    "ExecuteTime": {
     "end_time": "2021-05-08T07:26:45.173165Z",
     "start_time": "2021-05-08T07:26:45.157161Z"
    }
   },
   "source": [
    "calcula_IMC_com_default()"
   ],
   "outputs": []
  },
  {
   "cell_type": "markdown",
   "metadata": {},
   "source": [
    "## 3.0 Escrevendo uma função ``lambda``"
   ]
  },
  {
   "cell_type": "code",
   "execution_count": 86,
   "metadata": {
    "ExecuteTime": {
     "end_time": "2021-05-08T08:03:56.804902Z",
     "start_time": "2021-05-08T08:03:56.786899Z"
    }
   },
   "source": [
    "calcula_imc_lambda = lambda peso, altura: peso/(altura*altura)\n",
    "calcula_imc_lambda(90, 1.90)"
   ],
   "outputs": []
  },
  {
   "cell_type": "markdown",
   "metadata": {},
   "source": [
    "**Equivalente à:**"
   ]
  },
  {
   "cell_type": "code",
   "execution_count": 87,
   "metadata": {
    "ExecuteTime": {
     "end_time": "2021-05-08T08:04:05.129133Z",
     "start_time": "2021-05-08T08:04:05.116147Z"
    }
   },
   "source": [
    "def calcula_IMC_def(peso,altura):\n",
    "    return peso/(altura*altura)\n",
    "calcula_IMC_def(90, 1.90)"
   ],
   "outputs": []
  },
  {
   "cell_type": "markdown",
   "metadata": {},
   "source": [
    "## 4.0 Métodos\n",
    "\n",
    "Métodos são funções associadas à classe do objeto, e são chamadas como ```<nome_do_objeto>.<nome_do_método>```. Por exemplo, se você tem uma variável que contém um string chamada exemplo_texto, você pode chamar o método ```lower()``` da seguinte forma: ```exemplo_texto.lower()```\n"
   ]
  },
  {
   "cell_type": "code",
   "execution_count": 28,
   "metadata": {},
   "source": [
    "exemplo_texto = \"R. Saturnino de Brito, 74\"\n",
    "exemplo_texto.lower()"
   ],
   "outputs": []
  },
  {
   "cell_type": "markdown",
   "metadata": {},
   "source": [
    "### 4.1 Métodos de *str*\n",
    "\n",
    "Sendo ```meu_string```uma variável tipo string, todos os métodos abaixo são usados na forma ```meu_string.método()```. Alguns deles requerem ou têm como opcional um parâmetro dentro dos parêntesis, como o método ```meu_string.count('abc')```, que conta o número de ocorrências do string 'abc' dentro da variável ```meu_string```. \n",
    "\n",
    "Como os métodos e funções disponíveis são muitos, o aprendizado depende fortemente do contato e experiência com eles, então pratique sempre que tiver a oportunidade.\n",
    "\n",
    "\n",
    "Observe que strings são dados **imutáveis**, isso significa que seu conteúdo não pode ser alterado sem construir uma variável completamente nova. Portanto, métodos de strings sempre retornam uma cópia da variável original alterada. Abaixo listamos alguns métodos de string que selecionamos:\n",
    "\n",
    "- meu_string.**lower**(): retorna uma cópia de ```meu_string``` em letras minúsculas.\n",
    "- meu_string.**upper**(): retorna uma cópia de ```meu_string``` em letras maiúsculas.\n",
    "- meu_string.**capitalize**(): retorna uma cópia de ```meu_string``` com a primeira letra maiúscula.\n",
    "- meu_string.**count**(substring): conta quantas vezes a sequencia ```substring``` aparece em ```meu_string```\n",
    "- meu_string.**endswith**(sufixo): retorna um *boolean* conforme ```meu_string```inicia com a sequencia de ```sufixo```\n",
    "- meu_string.**find**(): retorna a posição em que ```sub``` ocorre dentro de ```meu_string```. **Nota:** Se você quer verificar se ```sub``` ocorre dentro de ```meu_string```, utilize a construção ```sub in meu_string```.\n",
    "\n",
    "**OBS:** Na [documentação do Python](https://docs.python.org/pt-br/3/library/stdtypes.html) você encontra todos os métodos de *str* nativos disponíveis. Além disso, haverão outros ainda que se mostrarão úteis e que serão carregados com pacotes específicos do Python."
   ]
  },
  {
   "cell_type": "code",
   "execution_count": 36,
   "metadata": {},
   "source": [
    "meu_string = \"Não são pedras\"\n",
    "meu_string.upper()"
   ],
   "outputs": []
  },
  {
   "cell_type": "code",
   "execution_count": 80,
   "metadata": {
    "ExecuteTime": {
     "end_time": "2021-05-08T07:59:57.195872Z",
     "start_time": "2021-05-08T07:59:57.188880Z"
    }
   },
   "source": [
    "meu_string = \"Não são pedras\"\n",
    "meu_string.casefold()"
   ],
   "outputs": []
  },
  {
   "cell_type": "code",
   "execution_count": 84,
   "metadata": {
    "ExecuteTime": {
     "end_time": "2021-05-08T08:00:51.077231Z",
     "start_time": "2021-05-08T08:00:51.070216Z"
    }
   },
   "source": [
    "meu_string = \"Não são pedras\"\n",
    "meu_string.count('o')"
   ],
   "outputs": []
  },
  {
   "cell_type": "markdown",
   "metadata": {
    "heading_collapsed": true
   },
   "source": [
    "# ATIVIDADE 2"
   ]
  },
  {
   "cell_type": "markdown",
   "metadata": {
    "hidden": true
   },
   "source": [
    "Você tem duas strings: ```nome_campo``` e ```nome_cadastro```, uma delas veio através de um campo preenchido pelo usuário, e a outra veio de uma tabela cadastral do sistema. Escreva uma função que compara as duas retornando ```True``` caso sejam iguais e ```False```caso sejam diferentes, sem considerar diferenças de maiúsculas e minúsculas utilizando um dos métodos vistos."
   ]
  },
  {
   "cell_type": "code",
   "execution_count": 1,
   "metadata": {
    "hidden": true
   },
   "source": [
    "def compara_nome(nome_campo = str, nome_cadastro = str):\n",
    "    if nome_campo.lower() == nome_cadastro.lower():\n",
    "        return True\n",
    "    else:\n",
    "        return False\n",
    "    pass\n",
    "print(compara_nome(\"Luciano\",\"lUciano\"))"
   ],
   "outputs": []
  },
  {
   "cell_type": "markdown",
   "metadata": {
    "hidden": true
   },
   "source": [
    "Tendo como input ```nome```, ```sobrenome``` e ```nome completo```, escreva duas funções que:\n",
    "a) identifiquem se o nome e sobrenome estão contidos no nome completo\n",
    "b) dado verdadeiro na anterior, retorne ```True``` se o nome completo está no formato de citação (sobrenome antes do nome) e ```False``` caso contrário."
   ]
  },
  {
   "cell_type": "code",
   "execution_count": 26,
   "metadata": {
    "hidden": true
   },
   "source": [
    "def in_nome_completo(nome = str, sobrenome = str, nome_completo = str):\n",
    "    if( nome.lower() and sobrenome.lower() in nome_completo.lower()):\n",
    "        return True\n",
    "    else:\n",
    "        return False\n",
    "    \n",
    "def right_format(nome = str, sobrenome = str, nome_completo = str):\n",
    "    if(in_nome_completo(nome, sobrenome, nome_completo)):\n",
    "        if(nome_completo.lower().find(nome.lower()) < nome_completo.lower().find(sobrenome.lower())):\n",
    "            return True\n",
    "        else:\n",
    "            return False\n",
    "    else:\n",
    "        return False\n",
    "    \n",
    "print(right_format(\"luciano\", \"Contri\", \"Luciano Contri\"))"
   ],
   "outputs": []
  },
  {
   "cell_type": "code",
   "execution_count": null,
   "metadata": {},
   "source": [],
   "outputs": []
  }
 ],
 "metadata": {
  "kernelspec": {
   "display_name": "Python 3 (ipykernel)",
   "language": "python",
   "name": "python3"
  },
  "language_info": {
   "codemirror_mode": {
    "name": "ipython",
    "version": 3
   },
   "file_extension": ".py",
   "mimetype": "text/x-python",
   "name": "python",
   "nbconvert_exporter": "python",
   "pygments_lexer": "ipython3",
   "version": "3.11.4"
  },
  "varInspector": {
   "cols": {
    "lenName": 16,
    "lenType": 16,
    "lenVar": 40
   },
   "kernels_config": {
    "python": {
     "delete_cmd_postfix": "",
     "delete_cmd_prefix": "del ",
     "library": "var_list.py",
     "varRefreshCmd": "print(var_dic_list())"
    },
    "r": {
     "delete_cmd_postfix": ") ",
     "delete_cmd_prefix": "rm(",
     "library": "var_list.r",
     "varRefreshCmd": "cat(var_dic_list()) "
    }
   },
   "types_to_exclude": [
    "module",
    "function",
    "builtin_function_or_method",
    "instance",
    "_Feature"
   ],
   "window_display": false
  }
 },
 "nbformat": 4,
 "nbformat_minor": 4
}
