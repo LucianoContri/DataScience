{
 "cells": [
  {
   "cell_type": "markdown",
   "metadata": {},
   "source": [
    "# <span style=\"color:blue\"> Projeto 01 - Concessão de cartões de crédito </span>\n",
    "<span style=\"color:blue\"> Este notebook é semelhante ao visto em vídeo, mas contém células azuis como esta, que trazem instruções para a sua atividade.</span>\n",
    "\n",
    "<span style=\"color:blue\">Após realizar as tarefas indicadas, você vai fazer o upload do seu arquivo no GitHub e enviar o link para a EBAC, ou alternativamente, fazer o upload do arquivo na plataforma da EBAC. Recomendamos o github, pois assim você já vai montando o seu portfólio.</span>"
   ]
  },
  {
   "cell_type": "markdown",
   "metadata": {},
   "source": [
    "## Etapa 1 CRISP - DM: Entendimento do negócio\n",
    "\n",
    "Como primeira etapa do CRISP-DM, vamos entender do que se trata o negócio, e quais os objetivos. \n",
    "\n",
    "Este é um problema de concessão de cartões de crédito, publicado no [Kaggle](https://www.kaggle.com/), uma plataforma que promove desafios de ciência de dados, oferecendo prêmios em dinheiro para os melhores colocados. O link original está [aqui](https://www.kaggle.com/rikdifos/credit-card-approval-prediction).  \n",
    "  \n",
    "Essa é uma base de proponentes de cartão de crédito, nosso objetivo é construir um modelo preditivo para identificar o risco de inadimplência (tipicamente definida pela ocorrência de um atraso maior ou igual a 90 em um horizonte de 12 meses) através de variáveis que podem ser observadas na data da avaliação do crédito (tipicamente quando o cliente solicita o cartão).\n",
    "\n",
    "Atividades do CRISP-DM:\n",
    "\n",
    "- Objetivos do negócio\n",
    "Note que o objetivo aqui é que o modelo sirva o mutuário (o cliente) para que avalie suas próprias decisões, e não a instituição de crédito.\n",
    "- Objetivos da modelagem\n",
    "O objetivo está bem definido: desenvolver o melhor modelo preditivo de modo a auxiliar o mutuário a tomar suas próprias decisões referentes a crédito.\n",
    "  \n",
    "Nessa etapa também se avalia a situação da empresa/segmento/assunto de modo a se entender o tamanho do público, relevância, problemas presentes e todos os detalhes do processo gerador do fenômeno em questão, e portanto dos dados.\n",
    "\n",
    "Também é nessa etapa que se constrói um planejamento do projeto."
   ]
  },
  {
   "cell_type": "markdown",
   "metadata": {},
   "source": [
    "## Etapa 2 Crisp-DM: Entendimento dos dados\n",
    "A segunda etapa é o entendimento dos dados. Foram fornecidas 15 variáveis mais a variável resposta (em negrito na tabela). O significado de cada uma dessas variáveis se encontra na tabela.\n",
    "\n",
    "#### Dicionário de dados\n",
    "\n",
    "Os dados estão dispostos em uma tabela com uma linha para cada cliente, e uma coluna para cada variável armazenando as características desses clientes. Colocamos uma cópia o dicionário de dados (explicação dessas variáveis) abaixo neste notebook:\n",
    "\n",
    "| Variable Name            | Description                                         | Tipo  |\n",
    "| ------------------------ |:---------------------------------------------------:| -----:|\n",
    "| sexo| M = 'Masculino'; F = 'Feminino' |M/F|\n",
    "| posse_de_veiculo| Y = 'possui'; N = 'não possui' |Y/N|\n",
    "| posse_de_imovel| Y = 'possui'; N = 'não possui' |Y/N|\n",
    "| qtd_filhos| Quantidade de filhos |inteiro|\n",
    "| tipo_renda|Tipo de renda (ex: assaliariado, autônomo etc) | texto |\n",
    "| educacao| Nível de educação (ex: secundário, superior etc) |texto|\n",
    "| estado_civil | Estado civil (ex: solteiro, casado etc)| texto |\n",
    "| tipo_residencia | tipo de residência (ex: casa/apartamento, com os pais etc) | texto |\n",
    "| idade | idade em anos |inteiro|\n",
    "| tempo de emprego | tempo de emprego em anos |inteiro|\n",
    "| possui_celular | Indica se possui celular (1 = sim, 0 = não) |binária|\n",
    "| possui_fone_comercial | Indica se possui telefone comercial (1 = sim, 0 = não) |binária|\n",
    "| possui_fone | Indica se possui telefone (1 = sim, 0 = não) |binária|\n",
    "| possui_email | Indica se possui e-mail (1 = sim, 0 = não) |binária|\n",
    "| qt_pessoas_residencia | quantidade de pessoas na residência |inteiro|\n",
    "| **mau** | indicadora de mau pagador (True = mau, False = bom) |binária|\n",
    "\n",
    "\n",
    "\n"
   ]
  },
  {
   "cell_type": "markdown",
   "metadata": {},
   "source": [
    "#### Carregando os pacotes\n",
    "É considerado uma boa prática carregar os pacotes que serão utilizados como a primeira coisa do programa."
   ]
  },
  {
   "cell_type": "code",
   "execution_count": 49,
   "metadata": {},
   "source": [
    "import pandas as pd\n",
    "\n",
    "import seaborn as sns\n",
    "import matplotlib.pyplot as plt\n",
    "\n",
    "from sklearn.model_selection import train_test_split\n",
    "from sklearn import metrics\n",
    "from sklearn.ensemble import RandomForestClassifier"
   ],
   "outputs": []
  },
  {
   "cell_type": "markdown",
   "metadata": {},
   "source": [
    "#### Carregando os dados\n",
    "O comando pd.read_csv é um comando da biblioteca pandas (pd.) e carrega os dados do arquivo csv indicado para um objeto *dataframe* do pandas."
   ]
  },
  {
   "cell_type": "code",
   "execution_count": 50,
   "metadata": {},
   "source": [
    "# Observe que demo01.csv está na mesma pasta que este notebook\n",
    "# do contrário, seria necessário indicar a pasta no nome do arquivo\n",
    "df = pd.read_csv('demo01.csv')\n",
    "print (\"Número de linhas e colunas da tabela: {}\".format(df.shape))\n",
    "\n",
    "df.head()"
   ],
   "outputs": []
  },
  {
   "cell_type": "markdown",
   "metadata": {},
   "source": [
    "#### Entendimento dos dados - Univariada\n",
    "Nesta etapa tipicamente avaliamos a distribuição de todas as variáveis. Nesta demonstração vamos ver a variável resposta e dois exemplos de univariada apenas. Mas sinta-se à vontade para tentar observar outras variáveis."
   ]
  },
  {
   "cell_type": "code",
   "execution_count": 51,
   "metadata": {},
   "source": [
    "print(df['mau'].value_counts())\n",
    "print(\"\\nTaxa de inadimplentes:\")\n",
    "print(df['mau'].mean())"
   ],
   "outputs": []
  },
  {
   "cell_type": "code",
   "execution_count": 52,
   "metadata": {},
   "source": [
    "var = 'mau'\n",
    "grafico_barras = df[var].value_counts().plot.bar()"
   ],
   "outputs": []
  },
  {
   "cell_type": "markdown",
   "metadata": {},
   "source": [
    "### <span style=\"color:blue\">Tarefa 01 - gráfico de barras</span>\n",
    "<span style=\"color:blue\"> Com base no código da célula anterior, construa um gráfico de barras para pelo menos duas outras variáveis. \n",
    "**Dica:** Não tente usar as variáveis ```tempo_emprego``` e ```idade``` pois o gráfico de barras dessa forma como construímos não é adequado para elas. </span>"
   ]
  },
  {
   "cell_type": "code",
   "execution_count": 53,
   "metadata": {},
   "source": [
    "var = 'educacao'\n",
    "grafico_barras = df[var].value_counts().plot.bar()"
   ],
   "outputs": []
  },
  {
   "cell_type": "code",
   "execution_count": 54,
   "metadata": {},
   "source": [
    "var = 'tipo_renda'\n",
    "grafico_barras = df[var].value_counts().plot.bar()"
   ],
   "outputs": []
  },
  {
   "cell_type": "code",
   "execution_count": 55,
   "metadata": {},
   "source": [
    "plt.clf()\n",
    "var = \"tempo_emprego\"\n",
    "\n",
    "sns.displot(df, x = var, bins = 50)\n",
    "plt.show()"
   ],
   "outputs": []
  },
  {
   "cell_type": "code",
   "execution_count": 56,
   "metadata": {},
   "source": [
    "# Alterando valores de -1000 pra -2, para visualizar melhor no gráfico\n",
    "var = \"tempo_emprego\"\n",
    "df.loc[df[var]<0,var] = -2"
   ],
   "outputs": []
  },
  {
   "cell_type": "code",
   "execution_count": 57,
   "metadata": {},
   "source": [
    "plt.clf()\n",
    "var = \"tempo_emprego\"\n",
    "\n",
    "sns.displot(df, x = var, bins = 50)\n",
    "plt.show()"
   ],
   "outputs": []
  },
  {
   "cell_type": "markdown",
   "metadata": {},
   "source": [
    "### <span style=\"color:blue\">Tarefa 02 - Histograma </span>\n",
    "<span style=\"color:blue\"> Com base no código da célula anterior, construa o histograma da variavel ```idade```.  </span>\n"
   ]
  },
  {
   "cell_type": "code",
   "execution_count": 58,
   "metadata": {},
   "source": [
    "plt.clf()\n",
    "var = \"idade\"\n",
    "\n",
    "sns.histplot(df, x = var, bins = 50)\n",
    "plt.show()"
   ],
   "outputs": []
  },
  {
   "cell_type": "markdown",
   "metadata": {},
   "source": [
    "### Entendimento dos dados - Bivariadas\n",
    "\n",
    "Entender a alteração da inadimplência indicada pela variável resposta (```AtrasoRelevante2anos```) e as variáveis explicativas (demais). Para isto, vamos calcular a taxa de inadimplentes (qtd inadimplentes / total) para diferentes grupos definidos pelas variáveis explicativas.\n"
   ]
  },
  {
   "cell_type": "code",
   "execution_count": 59,
   "metadata": {},
   "source": [
    "var = 'idade'\n",
    "cat_srs, bins = pd.qcut(df[var], 4, retbins=True)\n",
    "g = df.groupby(cat_srs)\n",
    "biv = g['mau'].mean()\n",
    "\n",
    "ax = biv.plot.line()\n",
    "ax.set_ylabel(\"Proporção de inadimplentes\")\n",
    "ticks = plt.xticks(range(len(biv.index.values)), biv.index.values, rotation = 90)"
   ],
   "outputs": []
  },
  {
   "cell_type": "markdown",
   "metadata": {},
   "source": [
    "### <span style=\"color:blue\">Tarefa 03 - Bivariada </span>\n",
    "<span style=\"color:blue\"> Com base no código da célula anterior, construa uma análise bivariada para a variável  ```tempo_emprego```.  Em seguida, insira uma célula de markdown e conclua se a variável parece discriminar risco de crédito. </span>\n",
    "\n"
   ]
  },
  {
   "cell_type": "code",
   "execution_count": 60,
   "metadata": {},
   "source": [
    "var = 'tempo_emprego'\n",
    "cat_srs, bins = pd.qcut(df[var], 4, retbins=True)\n",
    "g = df.groupby(cat_srs)\n",
    "biv = g['mau'].mean()\n",
    "\n",
    "ax = biv.plot.line()\n",
    "ax.set_ylabel(\"Proporção de inadimplentes\")\n",
    "ticks = plt.xticks(range(len(biv.index.values)), biv.index.values, rotation = 90)"
   ],
   "outputs": []
  },
  {
   "cell_type": "markdown",
   "metadata": {},
   "source": [
    "Podemos observar claramente um tendência de queda na inadimplência com o passar dos anos, quanto mais experiência de emprego o cliente têm."
   ]
  },
  {
   "cell_type": "markdown",
   "metadata": {},
   "source": [
    "## Etapa 3 Crisp-DM: Preparação dos dados\n",
    "Nessa etapa realizamos tipicamente as seguintes operações com os dados:\n",
    "- seleção\n",
    "Neste caso, os dados já estão pré-selecionados\n",
    "- limpeza\n",
    "Precisaremos identificar e tratar dados faltantes\n",
    "- construção\n",
    "Neste primeiro exercício não faremos construção de novas variáveis\n",
    "- integração\n",
    "Temos apenas uma fonte de dados, não é necessário agregação\n",
    "- formatação\n",
    "Os dados já se encontram em formatos úteis\n",
    "\n",
    "Os dados já estão pré-selecionados, construídos e integrados, mas há dados faltantes que serão eliminados na próxima célula"
   ]
  },
  {
   "cell_type": "code",
   "execution_count": 61,
   "metadata": {},
   "source": [
    "metadata = pd.DataFrame(df.dtypes, columns = ['tipo'])\n",
    "\n",
    "metadata['n_categorias'] = 0\n",
    "\n",
    "for var in metadata.index:\n",
    "    metadata.loc[var,'n_categorias'] = len(df.groupby([var]).size())\n",
    "    \n",
    "metadata"
   ],
   "outputs": []
  },
  {
   "cell_type": "code",
   "execution_count": 62,
   "metadata": {},
   "source": [
    "def convert_dummy(df, feature,rank=0):\n",
    "    pos = pd.get_dummies(df[feature], prefix=feature)\n",
    "    mode = df[feature].value_counts().index[rank]\n",
    "    biggest = feature + '_' + str(mode)\n",
    "    pos.drop([biggest],axis=1,inplace=True)\n",
    "    df.drop([feature],axis=1,inplace=True)\n",
    "    df=df.join(pos)\n",
    "    return df"
   ],
   "outputs": []
  },
  {
   "cell_type": "code",
   "execution_count": 63,
   "metadata": {},
   "source": [
    "for var in metadata[metadata['tipo'] == 'object'].index:\n",
    "    df = convert_dummy(df, var)"
   ],
   "outputs": []
  },
  {
   "cell_type": "code",
   "execution_count": 64,
   "metadata": {},
   "source": [
    "df"
   ],
   "outputs": []
  },
  {
   "cell_type": "markdown",
   "metadata": {},
   "source": [
    "## Etapa 4 Crisp-DM: Modelagem\n",
    "Nessa etapa que realizaremos a construção do modelo. Os passos típicos são:\n",
    "- Selecionar a técnica de modelagem\n",
    "Utilizaremos a técnica de floresta aleatória (**random forest**), pois é uma técnica bastante versátil e robusta que captura bem padrões complexos nos dados, relativamente fácil de se usar e que costuma produzir excelentes resultados para uma classificação como estas. Vamos ver esse algoritmo em detalhes mais adiante no curso, mas pense nele por enquanto como uma regra complexa baseada nas variáveis explicativas que classifica o indivíduo como inadimplente ou não. Mais adiante no curso vamos extrair mais dessa técnica.\n",
    "- Desenho do teste\n",
    "Antes de rodar o modelo precisamos construir um desenho do teste que será realizado. Para desenvolver um modelo como este, é considerado uma boa prática dividir a base em duas, uma chamada ```treinamento```, onde o algoritmo 'aprende', e outra chamada ```teste```, onde o algoritmo é avaliado. Essa prática fornece uma métrica de avaliação mais fidedigna do algoritmo, falaremos mais detalhes em lições futuras.\n",
    "- Avaliação do modelo\n",
    "Faremos a avaliação do nosso modelo através do percentual de acerto, avaliando a classificação do modelo (inadimplente e não inadimplente) e comparando com o estado real armazenado na variável resposta (```AtrasoRelevante2anos```). Esse percentual de acerto é frequentemente chamado de acurácia (**obs:** nunca usar assertividade... a**ss**ertivo não é aquele que a**c**erta, e sim \"*adj.: em que o locutor declara algo, positivo ou negativo, do qual assume inteiramente a validade; declarativo*.\" a**C**ertivo está errado ;)\n",
    "#### Dividindo a base em treino e teste\n",
    "\n"
   ]
  },
  {
   "cell_type": "code",
   "execution_count": 65,
   "metadata": {},
   "source": [
    "# Tirando a v. resposta da base de treinamento\n",
    "x = df.drop(\"mau\",axis = 1)\n",
    "y = df[\"mau\"]\n",
    "\n",
    "# Tirando ID da base de treinamento e teste\n",
    "x_train, x_test, y_train, y_test = train_test_split(x, y)"
   ],
   "outputs": []
  },
  {
   "cell_type": "code",
   "execution_count": 66,
   "metadata": {},
   "source": [
    "x_train"
   ],
   "outputs": []
  },
  {
   "cell_type": "markdown",
   "metadata": {},
   "source": [
    "### Rodando o modelo\n",
    "A função RandomForestClassifier gera a estrutura da floresta aleatória, e o parâmetro ```n_estimator``` define o número de árvores na floresta. Normalmente a acurácia do modelo tende a aumentar com o número de árvores, pelo menos até um certo limite - e aumenta também o recurso computacional demandado. Você pode alterar esse parâmetro e verificar se a acurácia do seu modelo melhora - não recomendamos valores muito altos. Vá alterando aos poucos e percebendo como o tempo aumenta com os seus recursos. Não é necessário ir muito além de umas 100 árvores."
   ]
  },
  {
   "cell_type": "code",
   "execution_count": 67,
   "metadata": {},
   "source": [
    "# Treinar uma Random Forest com 5 árvores\n",
    "\n",
    "clf = RandomForestClassifier(n_estimators=3)\n",
    "clf.fit(x_train,y_train)"
   ],
   "outputs": []
  },
  {
   "cell_type": "code",
   "execution_count": 68,
   "metadata": {},
   "source": [
    "# Calculando a acuracia\n",
    "\n",
    "y_pred = clf.predict(x_test)\n",
    "acc = metrics.accuracy_score(y_test, y_pred)\n",
    "print('Acurácia: {0:.2f}%'.format(acc*100))"
   ],
   "outputs": []
  },
  {
   "cell_type": "code",
   "execution_count": 71,
   "metadata": {},
   "source": [
    "# Matriz de confusão\n",
    "\n",
    "tab = pd.crosstab(index = y_pred, columns = y_test)\n",
    "tab"
   ],
   "outputs": []
  },
  {
   "cell_type": "markdown",
   "metadata": {},
   "source": [
    "### <span style=\"color:blue\">Tarefa 04 - Bivariada </span>\n",
    "<span style=\"color:blue\"> Para essa tarefa, crie três células extras, copie nelas o código das três células anteriores (na mesma ordem) e altere o parâmetro ```n_estimators=``` da função ```RandomForestClassifier``` e insira uma quantidade maior que 3 nesse parâmetro. Rode as três células anteriores para calcular a acurácia do modelo e veja se você consegue uma acurácia melhor. </span>"
   ]
  },
  {
   "cell_type": "code",
   "execution_count": 72,
   "metadata": {},
   "source": [
    "maxacc=0\n",
    "maxn = 0\n",
    "for i in [1,2,3,4,5,10,20,50,100]:\n",
    "    clf = RandomForestClassifier(n_estimators=i)\n",
    "    clf.fit(x_train,y_train)\n",
    "    y_pred = clf.predict(x_test)\n",
    "    acc = metrics.accuracy_score(y_test, y_pred)\n",
    "    if maxacc<acc:\n",
    "        maxacc=acc\n",
    "        maxn=i"
   ],
   "outputs": []
  },
  {
   "cell_type": "code",
   "execution_count": 73,
   "metadata": {},
   "source": [
    "print('Acurácia: {0:.2f}%'.format(acc*100))\n",
    "print(f'Acurácia máxima com {maxn} estimadores')"
   ],
   "outputs": []
  },
  {
   "cell_type": "code",
   "execution_count": 74,
   "metadata": {},
   "source": [
    "\n",
    "tab = pd.crosstab(index = y_pred, columns = y_test)\n",
    "tab"
   ],
   "outputs": []
  },
  {
   "cell_type": "code",
   "execution_count": 75,
   "metadata": {},
   "source": [
    "# Treinar uma Random Forest com 5 árvores\n",
    "\n",
    "clf = RandomForestClassifier(n_estimators=10)\n",
    "clf.fit(x_train,y_train)"
   ],
   "outputs": []
  },
  {
   "cell_type": "code",
   "execution_count": 76,
   "metadata": {},
   "source": [
    "# Calculando a acuracia\n",
    "\n",
    "y_pred = clf.predict(x_test)\n",
    "acc = metrics.accuracy_score(y_test, y_pred)\n",
    "print('Acurácia: {0:.2f}%'.format(acc*100))"
   ],
   "outputs": []
  },
  {
   "cell_type": "code",
   "execution_count": 78,
   "metadata": {},
   "source": [
    "# Matriz de confusão\n",
    "\n",
    "tab = pd.crosstab(index = y_pred, columns = y_test)\n",
    "tab"
   ],
   "outputs": []
  },
  {
   "cell_type": "markdown",
   "metadata": {},
   "source": [
    "## Etapa 5 Crisp-DM: Avaliação dos resultados\n",
    "A etapa final do CRISP. Neste casp, a nossa avaliação termina com a acurácia. Mas em problemas futuros aprofundaremos mais - a ideia seria avaliar o impacto do uso do modelo no negócio, ou seja, o quanto o resultado financeiro melhora em detrimento da utilização do modelo.\n",
    "\n",
    "Como um exemplo simples, considere que um cliente bom pagador deixa (em média) 5 '*dinheiros*' de lucro, e um mau pagador deixa (em média) 100 '*dinheiros*' de prejuízo.\n",
    "\n",
    "de acordo com a matriz de confusão:\n",
    "\n",
    "| Decisão   | lucro dos bons    | lucro dos maus | total  |\n",
    "| --------- |:-----------------:|:--------------:| ------:|\n",
    "| Aprovador | 4042 x 5          | 72 x (-100)    | 13.010 |\n",
    "| Reprovar  |  27 x 5           | 22 x (-100)    | -2.065 |\n",
    "\n",
    "Estariamos evitando, portanto, um prejuízo de -2.145 '*dinheiros*' - o que na prática significa um aumento no lucro.\n"
   ]
  },
  {
   "cell_type": "markdown",
   "metadata": {},
   "source": [
    "## Etapa 6 Crisp-DM: Implantação\n",
    "Nessa etapa colocamos em uso o modelo desenvolvido, normalmente implementando o modelo desenvolvido em um motor de crédito que toma as decisões com algum nível de automação - tipicamente aprovando automaticamente clientes muito bons, negando automaticamente clientes muito ruins, e enviando os intermediários para análise manual."
   ]
  }
 ],
 "metadata": {
  "kernelspec": {
   "display_name": "Python 3 (ipykernel)",
   "language": "python",
   "name": "python3"
  },
  "language_info": {
   "codemirror_mode": {
    "name": "ipython",
    "version": 3
   },
   "file_extension": ".py",
   "mimetype": "text/x-python",
   "name": "python",
   "nbconvert_exporter": "python",
   "pygments_lexer": "ipython3",
   "version": "3.11.4"
  }
 },
 "nbformat": 4,
 "nbformat_minor": 4
}
