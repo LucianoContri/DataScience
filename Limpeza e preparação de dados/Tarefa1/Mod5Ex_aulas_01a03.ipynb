{
 "cells": [
  {
   "cell_type": "markdown",
   "metadata": {},
   "source": [
    "# Módulo 5 Tarefa 1\n",
    "## Base de nascidos vivos do DataSUS\n",
    "O DataSUS disponibiliza diversos arquivos de dados com relação a seus segurados, conforme a [lei da transparência de informações públicas](https://www.sisgov.com/transparencia-acesso-informacao/#:~:text=A%20Lei%20da%20Transpar%C3%AAncia%20(LC,em%20um%20site%20na%20internet.). \n",
    "\n",
    "Essas informações podem ser obtidas pela internet [aqui](http://www2.datasus.gov.br/DATASUS/index.php?area=0901&item=1). Como o processo de obtenção desses arquivos foge um pouco do nosso escopo, deixamos o arquivo ```SINASC_RO_2019.csv``` já como vai ser encontrado no DataSUS. O dicionário de dados está no arquivo ```estrutura_sinasc_para_CD.pdf``` (o nome do arquivo tal qual no portal do DataSUS).\n",
    "\n",
    "### Nosso objetivo\n",
    "Queremos deixar uma base organizada para podermos estudar a relação entre partos com risco para o bebê e algumas condições como tempo de parto, consultas de pré-natal etc.\n",
    "\n",
    "#### Preparação da base\n",
    "1. Carregue a base 'SINASC_RO_2019.csv'. Conte o número de registros e o número de registros não duplicados da base. Dica: você aprendeu um método que remove duplicados, encadeie este método com um outro método que conta o número de linhas. **Há linhas duplicadas?**  \n",
    "\n",
    "2. Conte o número de valores *missing* por variável.  \n",
    "\n",
    "3. Ok, no item anterior você deve ter achado pouco prático ler a informação de tantas variáveis, muitas delas nem devem ser interesantes. Então crie uma seleção dessa base somente com as colunas que interessam. São elas:\n",
    "``` \n",
    "['LOCNASC', 'IDADEMAE', 'ESTCIVMAE', 'ESCMAE', 'QTDFILVIVO', \n",
    "    'GESTACAO', 'GRAVIDEZ', 'CONSULTAS', 'APGAR5'] \n",
    "```\n",
    "Refaça a contagem de valores *missings*.  \n",
    "\n",
    "4. Apgar é uma *nota* que o pediatra dá ao bebê quando nasce de acordo com algumas características associadas principalmente à respiração. Apgar 1 e Apgar 5 são as notas 1 e 5 minutos do nascimento. Apgar5 será a nossa variável de interesse principal. Então remova todos os registros com Apgar5 não preenchido. Para esta seleção, conte novamente o número de linhas e o número de *missings*.  \n",
    "\n",
    "5. observe que as variáveis ```['ESTCIVMAE', 'CONSULTAS']``` possuem o código ```9```, que significa *ignorado*. Vamos assumir que o não preenchido é o mesmo que o código ```9```.<br>\n",
    "6. Substitua os valores faltantes da quantitativa (```QTDFILVIVO```) por zero.  \n",
    "7. Das restantes, decida que valore te parece mais adequado (um 'não preenchido' ou um valor 'mais provável' como no item anterior) e preencha. Justifique. Lembre-se de que tratamento de dados é trabalho do cientista, e que estamos tomando decisões a todo o momento - não há necessariamente certo e errado aqui.  \n",
    "8. O Apgar possui uma classificação indicando se o bebê passou por asfixia:\n",
    "- Entre 8 e 10 está em uma faixa 'normal'. \n",
    "- Entre 6 e 7, significa que o recém-nascido passou por 'asfixia leve'. \n",
    "- Entre 4 e 5 significa 'asfixia moderada'.\n",
    "- Entre 0 e 3 significa 'asfixia severa'.  \n",
    "\n",
    "Crie uma categorização dessa variável com essa codificação e calcule as frequências dessa categorização.  \n",
    "<br>\n",
    "9. Renomeie as variáveis para que fiquem no *snake case*, ou seja, em letras minúsculas, com um *underscore* entre as palávras. Dica: repare que se você não quiser criar um *dataframe* novo, você vai precisar usar a opção ```inplace = True```."
   ]
  },
  {
   "cell_type": "code",
   "execution_count": 30,
   "metadata": {
    "ExecuteTime": {
     "end_time": "2023-11-01T14:44:40.952904500Z",
     "start_time": "2023-11-01T14:44:40.494060200Z"
    }
   },
   "outputs": [
    {
     "name": "stdout",
     "output_type": "stream",
     "text": [
      "(27028, 69)\n"
     ]
    },
    {
     "data": {
      "text/plain": "(27028, 69)"
     },
     "execution_count": 30,
     "metadata": {},
     "output_type": "execute_result"
    }
   ],
   "source": [
    "import pandas as pd\n",
    "import requests\n",
    "\n",
    "# 1) seu código aqui\n",
    "sinasc = pd.read_csv('SINASC_RO_2019.csv')\n",
    "print(sinasc.shape)\n",
    "sinasc.drop_duplicates().shape\n",
    "# Não há duplicados"
   ]
  },
  {
   "cell_type": "code",
   "execution_count": 31,
   "metadata": {
    "ExecuteTime": {
     "end_time": "2023-11-01T14:44:42.516021800Z",
     "start_time": "2023-11-01T14:44:42.485977300Z"
    }
   },
   "outputs": [
    {
     "data": {
      "text/plain": "DTRECORIGA    27028\nCODANOMAL     26814\nIDADEPAI      19421\nSERIESCMAE    12710\nDTULTMENST    10072\n              ...  \nPESO              0\nDTCADASTRO        0\nNUMEROLOTE        0\nVERSAOSIST        0\nORIGEM            0\nLength: 69, dtype: int64"
     },
     "execution_count": 31,
     "metadata": {},
     "output_type": "execute_result"
    }
   ],
   "source": [
    "# 2) seu código aqui\n",
    "sinasc.isna().sum().sort_values(ascending=False)"
   ]
  },
  {
   "cell_type": "code",
   "execution_count": 32,
   "metadata": {
    "ExecuteTime": {
     "end_time": "2023-11-01T14:44:44.128845200Z",
     "start_time": "2023-11-01T14:44:44.114227300Z"
    }
   },
   "outputs": [
    {
     "data": {
      "text/plain": "QTDFILVIVO    1573\nGESTACAO      1232\nESTCIVMAE      317\nESCMAE         312\nAPGAR5         103\nGRAVIDEZ        79\nLOCNASC          0\nIDADEMAE         0\nCONSULTAS        0\ndtype: int64"
     },
     "execution_count": 32,
     "metadata": {},
     "output_type": "execute_result"
    }
   ],
   "source": [
    "# 3) seu código aqui\n",
    "sinasc_df = sinasc[['LOCNASC', 'IDADEMAE', 'ESTCIVMAE', 'ESCMAE', 'QTDFILVIVO',\n",
    "                    'GESTACAO', 'GRAVIDEZ', 'CONSULTAS', 'APGAR5']]\n",
    "sinasc_df.isna().sum().sort_values(ascending=False)"
   ]
  },
  {
   "cell_type": "code",
   "execution_count": 33,
   "metadata": {
    "ExecuteTime": {
     "end_time": "2023-11-01T14:44:45.822298700Z",
     "start_time": "2023-11-01T14:44:45.799126200Z"
    }
   },
   "outputs": [
    {
     "data": {
      "text/plain": "(27028, 9)"
     },
     "execution_count": 33,
     "metadata": {},
     "output_type": "execute_result"
    }
   ],
   "source": [
    "# 4) seu código aqui\n",
    "sinasc_df.shape"
   ]
  },
  {
   "cell_type": "code",
   "execution_count": 34,
   "outputs": [
    {
     "data": {
      "text/plain": "(26925, 9)"
     },
     "execution_count": 34,
     "metadata": {},
     "output_type": "execute_result"
    }
   ],
   "source": [
    "sinasc_df = sinasc_df.dropna(subset= ['APGAR5'])\n",
    "sinasc_df.shape"
   ],
   "metadata": {
    "collapsed": false,
    "ExecuteTime": {
     "end_time": "2023-11-01T14:44:47.535910200Z",
     "start_time": "2023-11-01T14:44:47.505398Z"
    }
   }
  },
  {
   "cell_type": "code",
   "execution_count": 35,
   "metadata": {
    "ExecuteTime": {
     "end_time": "2023-11-01T14:44:54.358052600Z",
     "start_time": "2023-11-01T14:44:54.309775300Z"
    }
   },
   "outputs": [
    {
     "data": {
      "text/plain": "   ESTCIVMAE  CONSULTAS\n0        5.0          4\n1        2.0          4\n2        9.0          4\n3        5.0          3\n4        2.0          4",
      "text/html": "<div>\n<style scoped>\n    .dataframe tbody tr th:only-of-type {\n        vertical-align: middle;\n    }\n\n    .dataframe tbody tr th {\n        vertical-align: top;\n    }\n\n    .dataframe thead th {\n        text-align: right;\n    }\n</style>\n<table border=\"1\" class=\"dataframe\">\n  <thead>\n    <tr style=\"text-align: right;\">\n      <th></th>\n      <th>ESTCIVMAE</th>\n      <th>CONSULTAS</th>\n    </tr>\n  </thead>\n  <tbody>\n    <tr>\n      <th>0</th>\n      <td>5.0</td>\n      <td>4</td>\n    </tr>\n    <tr>\n      <th>1</th>\n      <td>2.0</td>\n      <td>4</td>\n    </tr>\n    <tr>\n      <th>2</th>\n      <td>9.0</td>\n      <td>4</td>\n    </tr>\n    <tr>\n      <th>3</th>\n      <td>5.0</td>\n      <td>3</td>\n    </tr>\n    <tr>\n      <th>4</th>\n      <td>2.0</td>\n      <td>4</td>\n    </tr>\n  </tbody>\n</table>\n</div>"
     },
     "execution_count": 35,
     "metadata": {},
     "output_type": "execute_result"
    }
   ],
   "source": [
    "# 5) seu código aqui\n",
    "sinasc_df[['ESTCIVMAE', 'CONSULTAS']].head()"
   ]
  },
  {
   "cell_type": "code",
   "execution_count": 36,
   "outputs": [
    {
     "data": {
      "text/plain": "array([5., 2., 9., 1., 4., 3.])"
     },
     "execution_count": 36,
     "metadata": {},
     "output_type": "execute_result"
    }
   ],
   "source": [
    "sinasc_df.loc[:, ['ESTCIVMAE', 'CONSULTAS']] = sinasc_df[['ESTCIVMAE', 'CONSULTAS']].fillna(9)\n",
    "sinasc_df['ESTCIVMAE'].unique()"
   ],
   "metadata": {
    "collapsed": false,
    "ExecuteTime": {
     "end_time": "2023-11-01T14:44:55.943338900Z",
     "start_time": "2023-11-01T14:44:55.927654Z"
    }
   }
  },
  {
   "cell_type": "code",
   "execution_count": 37,
   "metadata": {
    "ExecuteTime": {
     "end_time": "2023-11-01T14:44:57.309212100Z",
     "start_time": "2023-11-01T14:44:57.298306700Z"
    }
   },
   "outputs": [
    {
     "data": {
      "text/plain": "1566"
     },
     "execution_count": 37,
     "metadata": {},
     "output_type": "execute_result"
    }
   ],
   "source": [
    "# 6) Seu código aqui\n",
    "sinasc_df['QTDFILVIVO'].isna().sum()\n"
   ]
  },
  {
   "cell_type": "code",
   "execution_count": 38,
   "outputs": [
    {
     "data": {
      "text/plain": "0"
     },
     "execution_count": 38,
     "metadata": {},
     "output_type": "execute_result"
    }
   ],
   "source": [
    "sinasc_df.loc[:,'QTDFILVIVO'] = sinasc_df['QTDFILVIVO'].fillna(0)\n",
    "sinasc_df['QTDFILVIVO'].isna().sum()"
   ],
   "metadata": {
    "collapsed": false,
    "ExecuteTime": {
     "end_time": "2023-11-01T14:44:58.331806900Z",
     "start_time": "2023-11-01T14:44:58.312716700Z"
    }
   }
  },
  {
   "cell_type": "code",
   "execution_count": 39,
   "metadata": {
    "ExecuteTime": {
     "end_time": "2023-11-01T14:45:00.573624300Z",
     "start_time": "2023-11-01T14:45:00.550430400Z"
    }
   },
   "outputs": [
    {
     "data": {
      "text/plain": "LOCNASC        0\nIDADEMAE       0\nESCMAE       310\nGESTACAO    1216\nGRAVIDEZ      76\ndtype: int64"
     },
     "execution_count": 39,
     "metadata": {},
     "output_type": "execute_result"
    }
   ],
   "source": [
    "# 7) seu código aqui\n",
    "sinasc_df[['LOCNASC', 'IDADEMAE', 'ESCMAE',\n",
    "           'GESTACAO', 'GRAVIDEZ']].isna().sum()"
   ]
  },
  {
   "cell_type": "markdown",
   "source": [
    "Determinado que apenas as variáveis ESCMAE, GESTACAO e GRAVIDEZ, possuem valores nulos. GESTACAO e GRAVIDEZ parecem relevantes para determinar o APGAR, Como nossa base possue 27000 registros, dropar essas variáveis não será de grande impacto. Já ESCMAE não parece que terá grande relevância, portanto vale a pena preservar os registros que esse dado seja nulo, portanto substituiremos por 9: Ignorado, como é descrito na documentação."
   ],
   "metadata": {
    "collapsed": false
   }
  },
  {
   "cell_type": "code",
   "execution_count": 40,
   "outputs": [
    {
     "data": {
      "text/plain": "LOCNASC     0\nIDADEMAE    0\nESCMAE      0\nGESTACAO    0\nGRAVIDEZ    0\ndtype: int64"
     },
     "execution_count": 40,
     "metadata": {},
     "output_type": "execute_result"
    }
   ],
   "source": [
    "sinasc_df.loc[:,'ESCMAE'] = sinasc_df['ESCMAE'].fillna(9)\n",
    "sinasc_df = sinasc_df.dropna(subset=['GESTACAO', 'GRAVIDEZ'])\n",
    "sinasc_df[['LOCNASC', 'IDADEMAE', 'ESCMAE',\n",
    "           'GESTACAO', 'GRAVIDEZ']].isna().sum()"
   ],
   "metadata": {
    "collapsed": false,
    "ExecuteTime": {
     "end_time": "2023-11-01T14:45:14.311042Z",
     "start_time": "2023-11-01T14:45:14.275715300Z"
    }
   }
  },
  {
   "cell_type": "code",
   "execution_count": 43,
   "metadata": {
    "ExecuteTime": {
     "end_time": "2023-11-01T14:48:08.108230200Z",
     "start_time": "2023-11-01T14:48:08.059670Z"
    }
   },
   "outputs": [
    {
     "data": {
      "text/plain": "APGAR5_CAT\nnormal              25215\nasfixia leve          305\nasfixia severa         68\nasfixia moderada       61\nName: count, dtype: int64"
     },
     "execution_count": 43,
     "metadata": {},
     "output_type": "execute_result"
    }
   ],
   "source": [
    "# 8) seu código aqui\n",
    "sinasc_df.loc[sinasc_df['APGAR5'] <=10,'APGAR5_CAT'] = 'normal'\n",
    "sinasc_df.loc[sinasc_df['APGAR5'] <=7,'APGAR5_CAT'] = 'asfixia leve'\n",
    "sinasc_df.loc[sinasc_df['APGAR5'] <=5,'APGAR5_CAT'] = 'asfixia moderada'\n",
    "sinasc_df.loc[sinasc_df['APGAR5'] <=3,'APGAR5_CAT'] = 'asfixia severa'\n",
    "sinasc_df['APGAR5_CAT'].value_counts()"
   ]
  },
  {
   "cell_type": "code",
   "execution_count": 45,
   "metadata": {
    "ExecuteTime": {
     "end_time": "2023-11-01T15:00:05.337344200Z",
     "start_time": "2023-11-01T15:00:05.288676700Z"
    }
   },
   "outputs": [
    {
     "name": "stdout",
     "output_type": "stream",
     "text": [
      "Index(['loc_nasc', 'idade_mae', 'est_civ_mae', 'esc_mae', 'qtd_fil_vivo',\n",
      "       'gestacao', 'gravidez', 'consultas', 'apgar_5', 'apgar_5_cat'],\n",
      "      dtype='object')\n"
     ]
    },
    {
     "data": {
      "text/plain": "       loc_nasc  idade_mae  est_civ_mae          esc_mae  qtd_fil_vivo  \\\n0             1         19          5.0      8 a 11 anos           0.0   \n1             1         29          2.0      8 a 11 anos           1.0   \n2             1         37          9.0      8 a 11 anos           2.0   \n3             1         30          5.0  12 anos ou mais           0.0   \n4             1         30          2.0      8 a 11 anos           1.0   \n...         ...        ...          ...              ...           ...   \n27023         1         32          2.0  12 anos ou mais           1.0   \n27024         1         19          1.0      8 a 11 anos           0.0   \n27025         1         24          2.0      8 a 11 anos           0.0   \n27026         1         21          2.0      8 a 11 anos           1.0   \n27027         1         18          5.0      8 a 11 anos           1.0   \n\n              gestacao gravidez  consultas  apgar_5 apgar_5_cat  \n0      37 a 41 semanas    Única          4     10.0      normal  \n1      37 a 41 semanas    Única          4      9.0      normal  \n2      37 a 41 semanas    Única          4     10.0      normal  \n3      37 a 41 semanas    Única          3     10.0      normal  \n4      37 a 41 semanas    Única          4     10.0      normal  \n...                ...      ...        ...      ...         ...  \n27023  32 a 36 semanas    Única          4      9.0      normal  \n27024  37 a 41 semanas    Única          4      9.0      normal  \n27025  37 a 41 semanas    Única          4     10.0      normal  \n27026  32 a 36 semanas    Única          4      9.0      normal  \n27027  37 a 41 semanas    Única          4      8.0      normal  \n\n[25649 rows x 10 columns]",
      "text/html": "<div>\n<style scoped>\n    .dataframe tbody tr th:only-of-type {\n        vertical-align: middle;\n    }\n\n    .dataframe tbody tr th {\n        vertical-align: top;\n    }\n\n    .dataframe thead th {\n        text-align: right;\n    }\n</style>\n<table border=\"1\" class=\"dataframe\">\n  <thead>\n    <tr style=\"text-align: right;\">\n      <th></th>\n      <th>loc_nasc</th>\n      <th>idade_mae</th>\n      <th>est_civ_mae</th>\n      <th>esc_mae</th>\n      <th>qtd_fil_vivo</th>\n      <th>gestacao</th>\n      <th>gravidez</th>\n      <th>consultas</th>\n      <th>apgar_5</th>\n      <th>apgar_5_cat</th>\n    </tr>\n  </thead>\n  <tbody>\n    <tr>\n      <th>0</th>\n      <td>1</td>\n      <td>19</td>\n      <td>5.0</td>\n      <td>8 a 11 anos</td>\n      <td>0.0</td>\n      <td>37 a 41 semanas</td>\n      <td>Única</td>\n      <td>4</td>\n      <td>10.0</td>\n      <td>normal</td>\n    </tr>\n    <tr>\n      <th>1</th>\n      <td>1</td>\n      <td>29</td>\n      <td>2.0</td>\n      <td>8 a 11 anos</td>\n      <td>1.0</td>\n      <td>37 a 41 semanas</td>\n      <td>Única</td>\n      <td>4</td>\n      <td>9.0</td>\n      <td>normal</td>\n    </tr>\n    <tr>\n      <th>2</th>\n      <td>1</td>\n      <td>37</td>\n      <td>9.0</td>\n      <td>8 a 11 anos</td>\n      <td>2.0</td>\n      <td>37 a 41 semanas</td>\n      <td>Única</td>\n      <td>4</td>\n      <td>10.0</td>\n      <td>normal</td>\n    </tr>\n    <tr>\n      <th>3</th>\n      <td>1</td>\n      <td>30</td>\n      <td>5.0</td>\n      <td>12 anos ou mais</td>\n      <td>0.0</td>\n      <td>37 a 41 semanas</td>\n      <td>Única</td>\n      <td>3</td>\n      <td>10.0</td>\n      <td>normal</td>\n    </tr>\n    <tr>\n      <th>4</th>\n      <td>1</td>\n      <td>30</td>\n      <td>2.0</td>\n      <td>8 a 11 anos</td>\n      <td>1.0</td>\n      <td>37 a 41 semanas</td>\n      <td>Única</td>\n      <td>4</td>\n      <td>10.0</td>\n      <td>normal</td>\n    </tr>\n    <tr>\n      <th>...</th>\n      <td>...</td>\n      <td>...</td>\n      <td>...</td>\n      <td>...</td>\n      <td>...</td>\n      <td>...</td>\n      <td>...</td>\n      <td>...</td>\n      <td>...</td>\n      <td>...</td>\n    </tr>\n    <tr>\n      <th>27023</th>\n      <td>1</td>\n      <td>32</td>\n      <td>2.0</td>\n      <td>12 anos ou mais</td>\n      <td>1.0</td>\n      <td>32 a 36 semanas</td>\n      <td>Única</td>\n      <td>4</td>\n      <td>9.0</td>\n      <td>normal</td>\n    </tr>\n    <tr>\n      <th>27024</th>\n      <td>1</td>\n      <td>19</td>\n      <td>1.0</td>\n      <td>8 a 11 anos</td>\n      <td>0.0</td>\n      <td>37 a 41 semanas</td>\n      <td>Única</td>\n      <td>4</td>\n      <td>9.0</td>\n      <td>normal</td>\n    </tr>\n    <tr>\n      <th>27025</th>\n      <td>1</td>\n      <td>24</td>\n      <td>2.0</td>\n      <td>8 a 11 anos</td>\n      <td>0.0</td>\n      <td>37 a 41 semanas</td>\n      <td>Única</td>\n      <td>4</td>\n      <td>10.0</td>\n      <td>normal</td>\n    </tr>\n    <tr>\n      <th>27026</th>\n      <td>1</td>\n      <td>21</td>\n      <td>2.0</td>\n      <td>8 a 11 anos</td>\n      <td>1.0</td>\n      <td>32 a 36 semanas</td>\n      <td>Única</td>\n      <td>4</td>\n      <td>9.0</td>\n      <td>normal</td>\n    </tr>\n    <tr>\n      <th>27027</th>\n      <td>1</td>\n      <td>18</td>\n      <td>5.0</td>\n      <td>8 a 11 anos</td>\n      <td>1.0</td>\n      <td>37 a 41 semanas</td>\n      <td>Única</td>\n      <td>4</td>\n      <td>8.0</td>\n      <td>normal</td>\n    </tr>\n  </tbody>\n</table>\n<p>25649 rows × 10 columns</p>\n</div>"
     },
     "execution_count": 45,
     "metadata": {},
     "output_type": "execute_result"
    }
   ],
   "source": [
    "# 9) seu código aqui\n",
    "novos_nomes = {\n",
    "    'LOCNASC': 'loc_nasc',\n",
    "    'IDADEMAE': 'idade_mae',\n",
    "    'ESTCIVMAE': 'est_civ_mae',\n",
    "    'ESCMAE': 'esc_mae',\n",
    "    'QTDFILVIVO': 'qtd_fil_vivo',\n",
    "    'GESTACAO': 'gestacao',\n",
    "    'GRAVIDEZ': 'gravidez',\n",
    "    'CONSULTAS': 'consultas',\n",
    "    'APGAR5': 'apgar_5',\n",
    "    'APGAR5_CAT': 'apgar_5_cat'\n",
    "}\n",
    "\n",
    "# Renomeia as colunas\n",
    "sinasc_df.rename(columns=novos_nomes, inplace=True)\n",
    "\n",
    "# Verifica o resultado\n",
    "print(sinasc_df.columns)\n",
    "sinasc_df\n"
   ]
  },
  {
   "cell_type": "code",
   "execution_count": null,
   "outputs": [],
   "source": [],
   "metadata": {
    "collapsed": false
   }
  }
 ],
 "metadata": {
  "kernelspec": {
   "display_name": "Python 3",
   "language": "python",
   "name": "python3"
  },
  "language_info": {
   "codemirror_mode": {
    "name": "ipython",
    "version": 3
   },
   "file_extension": ".py",
   "mimetype": "text/x-python",
   "name": "python",
   "nbconvert_exporter": "python",
   "pygments_lexer": "ipython3",
   "version": "3.8.5"
  }
 },
 "nbformat": 4,
 "nbformat_minor": 4
}
