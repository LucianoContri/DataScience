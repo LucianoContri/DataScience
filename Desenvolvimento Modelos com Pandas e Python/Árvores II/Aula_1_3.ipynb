{
 "cells": [
  {
   "cell_type": "markdown",
   "metadata": {
    "tags": []
   },
   "source": [
    "# Classificação multinomial\n",
    "\n",
    "### Índice <a name=\"topo\"></a>\n",
    "- 1. [Introdução](#1)\n",
    "    - 1.1 [Carregar a base do exemplo](#1.1)\n",
    "    - 1.2 [Dados faltantes](#1.2)\n",
    "    - 1.3 [Descritiva inicial](#1.3)\n",
    "- 2. [Preenchimento de dados faltantes](#2)\n",
    "    - 2.1 [2.1 Análise descritiva: vale a pena preencher ```sex``` com modelo?](#2.1)\n",
    "    - 2.2 [2.2 Modelo de preenchimento](#2.2)\n",
    "- 3. [Classificação multinomial](#3)\n",
    "    - 3.1 [A árvore](#3.1)\n",
    "    - 3.2 [Pós-poda](#3.2)\n",
    "    - 3.3 [A árvore](#3.3)\n",
    "    - 3.4 [Avaliação do resultado](#3.4)"
   ]
  },
  {
   "cell_type": "code",
   "execution_count": null,
   "metadata": {},
   "outputs": [],
   "source": [
    "import pandas as pd\n",
    "import numpy as np\n",
    "import seaborn as sns\n",
    "import matplotlib.pyplot as plt\n",
    "\n",
    "from sklearn.tree import DecisionTreeClassifier\n",
    "from sklearn.model_selection import train_test_split"
   ]
  },
  {
   "cell_type": "markdown",
   "metadata": {
    "tags": []
   },
   "source": [
    "### 1. Introdução <a name=\"1\"></a>\n",
    "[Voltar para o índice](#topo)"
   ]
  },
  {
   "cell_type": "markdown",
   "metadata": {
    "tags": []
   },
   "source": [
    "#### 1.1 Carregando a base de exemplo<a name=\"1.1\"></a>\n",
    "[Voltar para o índice](#topo)\n",
    "\n",
    "Nesta aula vamos trabalhar com a base *penguins*. Essa base pode ser carregada com a ajuda do pacote ```seaborn``` conforme abaixo. Já trabalhamos algumas vezes com ela, ela traz dados biométricos de três raças de pinguins. A nossa tarefa vai ser escrever um algoritmo que classifique o pinguim em uma dessas espécies com base nas características biométricas dele."
   ]
  },
  {
   "cell_type": "code",
   "execution_count": null,
   "metadata": {},
   "outputs": [],
   "source": [
    "pg = sns.load_dataset('penguins')\n",
    "pg.shape"
   ]
  },
  {
   "cell_type": "code",
   "execution_count": null,
   "metadata": {
    "tags": []
   },
   "outputs": [],
   "source": [
    "pg"
   ]
  },
  {
   "cell_type": "markdown",
   "metadata": {},
   "source": [
    "#### 1.2 Dados faltantes<a name=\"1.2\"></a>\n",
    "[Voltar para o índice](#topo)  \n",
    "\n",
    "Vamos trabalhar com o *scikitlearn*, o que significa que não podemos ter dados *missing* nem em formato *não numérico* na base. Conforme a análise abaixo, podemos ver que há dois valores missing em quatro variáveis, e a variável ```sex``` possui 11 valores não preenchidos."
   ]
  },
  {
   "cell_type": "code",
   "execution_count": null,
   "metadata": {},
   "outputs": [],
   "source": [
    "pg.isna().sum()"
   ]
  },
  {
   "cell_type": "markdown",
   "metadata": {},
   "source": [
    "#### 1.3 Descritiva inicial<a name=\"1.3\"></a>\n",
    "[Voltar para o índice](#topo)  \n",
    "\n",
    "Vamos fazer uma matriz de dispersão (*scatterplot matrix*) para visualizar quão promissora é a classificação das raças de pinguim de acordo com as variáveis biométricas."
   ]
  },
  {
   "cell_type": "code",
   "execution_count": null,
   "metadata": {},
   "outputs": [],
   "source": [
    "sns.pairplot(pg, hue='species');"
   ]
  },
  {
   "cell_type": "markdown",
   "metadata": {},
   "source": [
    "Vamos nos certificar de que essas duas observações são o mesmo registro. Se for o caso, vai ter baixo impacto no nosso algoritmo elimina-los."
   ]
  },
  {
   "cell_type": "code",
   "execution_count": null,
   "metadata": {},
   "outputs": [],
   "source": [
    "pg[pg['bill_depth_mm'].isna()]"
   ]
  },
  {
   "cell_type": "markdown",
   "metadata": {},
   "source": [
    "Sim, são as mesmas, então eliminar estas observações implica em perder apenas duas observações (e bem incompletas por sinal)."
   ]
  },
  {
   "cell_type": "code",
   "execution_count": null,
   "metadata": {},
   "outputs": [],
   "source": [
    "pg1 = pg[~pg['bill_depth_mm'].isna()].copy()"
   ]
  },
  {
   "cell_type": "markdown",
   "metadata": {},
   "source": [
    "### 2 Preenchimento de dados faltantes<a name=\"2\"></a>\n",
    "[Voltar para o índice](#topo)  \n",
    "\n",
    "Para a variável ```sex```, temos mais 9 registros com dados faltantes. Claro que em se tratando de análise de dados, podemos ter inúmeras alternativas, mas eu vejo aqui três razoáveis com prós e contras:\n",
    "\n",
    "- Eliminar a variável ```sex```. Essa alternativa pode significar abrir mão de uma fonte de varição importante que deve ajdar a classificar os indivíduos em suas respectivas classes.\n",
    "- Eliminar os 9 registros faltantes: parece uma solução ok, mas já vamos para 11 registros eliminados de 344.\n",
    "- Fazer imputação de dados: Isso significa tentar \"adivinhar\" qual o valor para a variável faltante para não perder o registro. Se fizermos isso mal, podemos introduzir ruído na base, por outro lado, recuperamos esses registros.\n",
    "\n",
    "A terceira opção parece mais interessante. Agora... que método podemos utilizar? \n",
    "- Podemos fazer imputação pela moda - utilizar o valor que mais aparece na base.\n",
    "- Imputação aleatória: simplemente sortear um valor conforme a distribuição observada\n",
    "- Ou ainda, a solução que vamos adotar, fazer uma \"imputação por árvore\":\n",
    "    - Vamos construir uma árvore de decisão para classificar o sexo dos pinguins dadas as demais variáveis\n",
    "    - Em seguida vamos usar esta árvore para classificar os valores faltantes.\n",
    "\n",
    "Se a nossa árvore for boa, vamos cometer um erro pequeno, e em todo caso, vamos \"salvar\" as observações com dados faltantes. Como contra, eu apontaria o trabalho de se construir esta árvore. No caso, como tudo é um aprendizado, vamos arregaçar as mangas :)"
   ]
  },
  {
   "cell_type": "markdown",
   "metadata": {},
   "source": [
    "#### 2.1 Análise descritiva: vale a pena preencher ```sex``` com modelo?<a name=\"2.1\"></a>\n",
    "[Voltar para o índice](#topo)  \n",
    "\n",
    "Em primeiro lugar, precisamos tentar entender se \"vale a pena\" fazer essa árvore. Intuitivamente, entendemos que os pinguins devem ter características bem diferentes no macho e na fêmea, a começar do peso. Vamos ver se os dados indicam isto:"
   ]
  },
  {
   "cell_type": "code",
   "execution_count": null,
   "metadata": {},
   "outputs": [],
   "source": [
    "sns.set_theme(style=\"ticks\")\n",
    "\n",
    "sns.boxplot(data=pg, x='species', hue=\"sex\", y='bill_length_mm')"
   ]
  },
  {
   "cell_type": "markdown",
   "metadata": {},
   "source": [
    "Pelo visto sim, machos e fêmeas possuem medidas bem diferentes dada a espécie, principalmente."
   ]
  },
  {
   "cell_type": "markdown",
   "metadata": {},
   "source": [
    "#### 2.2 Modelo de preenchimento<a name=\"2.2\"></a>\n",
    "[Voltar para o índice](#topo)  \n",
    "\n",
    "Vamos então para o modelo de imputação de dados. O primeiro passo é **preparar a base para classificar sexo**. Não vamos perder o objetivo de vista: agora queremos fazer um modelo para prever sexo, para imputar os valores faltantes. Vamos lá:\n",
    "\n",
    "- Vamos retirar a variável ```sex``` da base\n",
    "- Utilizar o ```get_dummies()``` para criar as variáveis dummy de ```species``` e ```island```\n",
    "- Dividir a base em treino e teste\n",
    "- Fazer a pós poda pelo ccp-alpha\n",
    "- Classificar a base original para não perder as 9 observações\n",
    "\n",
    "Sim, dá um trabalhinho, mas com o tempo isso tudo vai ficando mais automático ;)\n",
    "\n",
    "Pois é, o nosso objetivo principal aqui é **aprender**. Caso contrário, seria absolutamente legítimo você decidir não fazer isto porque acha que não vale o custo vs benefício - aliás, esse é um julgamento muito útil para o cientista de dados ;)\n"
   ]
  },
  {
   "cell_type": "markdown",
   "metadata": {},
   "source": [
    "##### Eliminando *missings* para a construção do modelo"
   ]
  },
  {
   "cell_type": "code",
   "execution_count": null,
   "metadata": {},
   "outputs": [],
   "source": [
    "pg2 = pg1[~pg1['sex'].isna()]\n",
    "pg2.shape"
   ]
  },
  {
   "cell_type": "code",
   "execution_count": null,
   "metadata": {},
   "outputs": [],
   "source": [
    "pg2.isna().sum()"
   ]
  },
  {
   "cell_type": "markdown",
   "metadata": {},
   "source": [
    "##### Criando *dummies* e separando bases de treino e teste"
   ]
  },
  {
   "cell_type": "code",
   "execution_count": null,
   "metadata": {
    "tags": []
   },
   "outputs": [],
   "source": [
    "y0 = pg2.sex\n",
    "X0 = pd.get_dummies(pg2.drop(columns = ['sex']), drop_first=True)\n",
    "\n",
    "X0_train, X0_test, y0_train, y0_test = train_test_split(X0, y0)\n",
    "X0.head()"
   ]
  },
  {
   "cell_type": "markdown",
   "metadata": {},
   "source": [
    "##### Construindo a árvore para classificar ```sex```\n",
    "A célula abaixo monta a árvore, treina \"deixando ela ser feliz\" (sem limite de profundidade, número de observações ou complexidade). Também salva os *ccp alpahs* para fazermos a pós poda."
   ]
  },
  {
   "cell_type": "code",
   "execution_count": null,
   "metadata": {},
   "outputs": [],
   "source": [
    "clf0 = DecisionTreeClassifier(random_state=42)\n",
    "path = clf0.cost_complexity_pruning_path(X0_train, y0_train)\n",
    "ccp_alphas, impurities = path.ccp_alphas, path.impurities"
   ]
  },
  {
   "cell_type": "markdown",
   "metadata": {},
   "source": [
    "##### Realiza a pós poda\n",
    "Sobre a árvore acima, que é super complexa, vamos obter árvores derivadas e menos complexas seguindo o caminho indicado pelo custo de complexidade (o *ccp alpha*). Para cada árvore derivada, vamos avaliar a métrica de desempenho (no caso, a acurácia), e escolher a melhor árvore para fazer a imputação. "
   ]
  },
  {
   "cell_type": "code",
   "execution_count": null,
   "metadata": {},
   "outputs": [],
   "source": [
    "clfs0 = []\n",
    "for ccp_alpha in ccp_alphas:\n",
    "    clf0 = DecisionTreeClassifier(random_state=2360873, ccp_alpha=ccp_alpha).fit(X0_train, y0_train)\n",
    "    clfs0.append(clf0)"
   ]
  },
  {
   "cell_type": "markdown",
   "metadata": {},
   "source": [
    "Vamos montar abaixo um gráfico que já vimos na aula de árvores binárias: para cada poda indicada pelo *ccp*, colocamos a métrica de desempenho da árvore na base de desenvolvimento e na base de testes."
   ]
  },
  {
   "cell_type": "code",
   "execution_count": null,
   "metadata": {},
   "outputs": [],
   "source": [
    "train_scores = [clf0.score(X0_train, y0_train) for clf0 in clfs0]\n",
    "test_scores  = [clf0.score(X0_test, y0_test)   for clf0 in clfs0]\n",
    "\n",
    "fig, ax = plt.subplots()\n",
    "ax.set_xlabel(\"alpha\")\n",
    "ax.set_ylabel(\"Acurácia\")\n",
    "ax.set_title(\"Acurácia x alpha do conjunto de dados de treino e teste\")\n",
    "ax.plot(ccp_alphas, train_scores, marker='o', label=\"treino\",\n",
    "        drawstyle=\"steps-post\")\n",
    "ax.plot(ccp_alphas, test_scores, marker='o', label=\"teste\",\n",
    "        drawstyle=\"steps-post\")\n",
    "ax.legend()\n",
    "plt.show()"
   ]
  },
  {
   "cell_type": "markdown",
   "metadata": {},
   "source": [
    "Pronto. Abaixo tem uma \"firula\": Eu quero a melhor árvore, sim, mas se houverem empates, a que tenha a menor complexidade. Isso significa que eu quero pegar a maior métrica de desempenho no objeto ```test_scores```, mas se houver empates, queremos a primeira ocorrência desse máximo **da direita para a esquerda**.\n",
    "\n",
    "Esse é um ótimo quebra cabeças de Python :) Abaixo temos um código bem pythonico que resolve isso."
   ]
  },
  {
   "cell_type": "code",
   "execution_count": null,
   "metadata": {},
   "outputs": [],
   "source": [
    "ind_melhor_arvore = len(test_scores) - test_scores[::-1].index(max(test_scores)) - 1\n",
    "melhor_arvore = clfs0[ind_melhor_arvore]"
   ]
  },
  {
   "cell_type": "markdown",
   "metadata": {},
   "source": [
    "##### Substituindo os missings\n",
    "\n",
    "Agora que fizemos a árvore para a variável ```sex```, vamos utilizar esta regra para substituir os valores missing na base original. Aí você pode me perguntar: \"Por quê não fazemos para as outras 4 variávels?\" E eu respondo com outra pergunta: \"Séro? Você acha mesmo que vale a pena por 2 observações e sem ter muito com o que prever? Boa sorte então, pode fazer!\" Repito: sempre vale refletir se vale o esforço de se construir um modelo."
   ]
  },
  {
   "cell_type": "code",
   "execution_count": null,
   "metadata": {},
   "outputs": [],
   "source": [
    "# Seleciona as variáveis a serem substituídas\n",
    "prever = pd.get_dummies(pg1.drop(columns = ['sex']), drop_first=True)\n",
    "prever_sex = prever[pg1['sex'].isna()]\n",
    "\n",
    "#faz a classificação conforme a árvore\n",
    "inputação_sex = melhor_arvore.predict(prever_sex)\n",
    "inputação_sex"
   ]
  },
  {
   "cell_type": "code",
   "execution_count": null,
   "metadata": {},
   "outputs": [],
   "source": [
    "# Faz a substituição propriamente dita\n",
    "pg1.loc[pg1['sex'].isna(), 'sex'] = inputação_sex\n",
    "\n",
    "print(pg1.shape)\n",
    "pg1.isna().sum()"
   ]
  },
  {
   "cell_type": "markdown",
   "metadata": {},
   "source": [
    "Vamos salvar esta base de dados tratada, para uso futuro."
   ]
  },
  {
   "cell_type": "code",
   "execution_count": null,
   "metadata": {
    "tags": []
   },
   "outputs": [],
   "source": [
    "pg1.to_csv('pg1.csv', index=False)"
   ]
  },
  {
   "cell_type": "markdown",
   "metadata": {
    "tags": []
   },
   "source": [
    "### 3. Classificação multinomial<a name=\"3\"></a>\n",
    "[Voltar para o índice](#topo)  \n",
    "\n",
    "Pronto, agora sim vamos para o tema principal: construir um algoritmo que classifique a **espécie** do pinguim em uma das três que aparecem na base de dados. A mecânica aqui é MUITO parecida com a classificação binária, basta utilizarmos generalizações das funções de impureza que comportem mais de duas classes e pronto: podemos usar o mesmo algoritmo.\n",
    "\n",
    "Vamos seguir aqui passos bem parecidos:\n",
    "- Tratar *missings* (acabamos de fazer isso)\n",
    "- Criar *dummies*\n",
    "- Construir a árvore (e deixa-la \"ser feliz\")\n",
    "- Realizar a pós-poda e obter a árvore \"ótima\""
   ]
  },
  {
   "cell_type": "code",
   "execution_count": 67,
   "metadata": {},
   "outputs": [
    {
     "data": {
      "text/plain": [
       "(342, 7)"
      ]
     },
     "execution_count": 67,
     "metadata": {},
     "output_type": "execute_result"
    }
   ],
   "source": [
    "pg1.shape"
   ]
  },
  {
   "cell_type": "code",
   "execution_count": 68,
   "metadata": {},
   "outputs": [],
   "source": [
    "X = pd.get_dummies(pg1.drop(columns = ['species', 'island']), drop_first=True)\n",
    "y = pg1['species']\n",
    "\n",
    "X_train, X_test, y_train, y_test = train_test_split(X, y)"
   ]
  },
  {
   "cell_type": "code",
   "execution_count": 69,
   "metadata": {},
   "outputs": [
    {
     "data": {
      "text/plain": [
       "Adelie       113\n",
       "Gentoo        90\n",
       "Chinstrap     53\n",
       "Name: species, dtype: int64"
      ]
     },
     "execution_count": 69,
     "metadata": {},
     "output_type": "execute_result"
    }
   ],
   "source": [
    "y_train.value_counts()"
   ]
  },
  {
   "cell_type": "markdown",
   "metadata": {},
   "source": [
    "#### 3.1 A árvore<a name=\"3.1\"></a>\n",
    "[Voltar para o índice](#topo)\n",
    "\n",
    "A árvore é bem semelhante à que já conhecemos, mas com mais de uma alternativa de resposta."
   ]
  },
  {
   "cell_type": "code",
   "execution_count": 70,
   "metadata": {
    "tags": []
   },
   "outputs": [],
   "source": [
    "clf = DecisionTreeClassifier(random_state=2360873, max_depth=3).fit(X_train, y_train)"
   ]
  },
  {
   "cell_type": "code",
   "execution_count": 71,
   "metadata": {
    "tags": []
   },
   "outputs": [
    {
     "name": "stderr",
     "output_type": "stream",
     "text": [
      "Warning: Could not load \"/usr/local/Cellar/graphviz/2.48.0/lib/graphviz/libgvplugin_pango.6.dylib\" - It was found, so perhaps one of its dependents was not.  Try ldd.\n"
     ]
    },
    {
     "data": {
      "image/svg+xml": [
       "<?xml version=\"1.0\" encoding=\"UTF-8\" standalone=\"no\"?>\n",
       "<!DOCTYPE svg PUBLIC \"-//W3C//DTD SVG 1.1//EN\"\n",
       " \"http://www.w3.org/Graphics/SVG/1.1/DTD/svg11.dtd\">\n",
       "<!-- Generated by graphviz version 2.48.0 (20210717.1556)\n",
       " -->\n",
       "<!-- Title: Tree Pages: 1 -->\n",
       "<svg width=\"822pt\" height=\"467pt\"\n",
       " viewBox=\"0.00 0.00 822.04 467.20\" xmlns=\"http://www.w3.org/2000/svg\" xmlns:xlink=\"http://www.w3.org/1999/xlink\">\n",
       "<g id=\"graph0\" class=\"graph\" transform=\"scale(1 1) rotate(0) translate(4 463.2)\">\n",
       "<title>Tree</title>\n",
       "<polygon fill=\"white\" stroke=\"transparent\" points=\"-4,4 -4,-463.2 818.04,-463.2 818.04,4 -4,4\"/>\n",
       "<!-- 0 -->\n",
       "<g id=\"node1\" class=\"node\">\n",
       "<title>0</title>\n",
       "<polygon fill=\"#fbeee4\" stroke=\"black\" points=\"524.15,-459.2 345.38,-459.2 345.38,-367.2 524.15,-367.2 524.15,-459.2\"/>\n",
       "<text text-anchor=\"middle\" x=\"434.77\" y=\"-442.6\" font-family=\"Times,serif\" font-size=\"14.00\">flipper_length_mm &lt;= 206.5</text>\n",
       "<text text-anchor=\"middle\" x=\"434.77\" y=\"-425.8\" font-family=\"Times,serif\" font-size=\"14.00\">gini = 0.639</text>\n",
       "<text text-anchor=\"middle\" x=\"434.77\" y=\"-409\" font-family=\"Times,serif\" font-size=\"14.00\">samples = 256</text>\n",
       "<text text-anchor=\"middle\" x=\"434.77\" y=\"-392.2\" font-family=\"Times,serif\" font-size=\"14.00\">value = [113, 53, 90]</text>\n",
       "<text text-anchor=\"middle\" x=\"434.77\" y=\"-375.4\" font-family=\"Times,serif\" font-size=\"14.00\">class = Adelie</text>\n",
       "</g>\n",
       "<!-- 1 -->\n",
       "<g id=\"node2\" class=\"node\">\n",
       "<title>1</title>\n",
       "<polygon fill=\"#f0b890\" stroke=\"black\" points=\"426.51,-331.2 267.03,-331.2 267.03,-239.2 426.51,-239.2 426.51,-331.2\"/>\n",
       "<text text-anchor=\"middle\" x=\"346.77\" y=\"-314.6\" font-family=\"Times,serif\" font-size=\"14.00\">bill_length_mm &lt;= 43.35</text>\n",
       "<text text-anchor=\"middle\" x=\"346.77\" y=\"-297.8\" font-family=\"Times,serif\" font-size=\"14.00\">gini = 0.429</text>\n",
       "<text text-anchor=\"middle\" x=\"346.77\" y=\"-281\" font-family=\"Times,serif\" font-size=\"14.00\">samples = 160</text>\n",
       "<text text-anchor=\"middle\" x=\"346.77\" y=\"-264.2\" font-family=\"Times,serif\" font-size=\"14.00\">value = [111, 48, 1]</text>\n",
       "<text text-anchor=\"middle\" x=\"346.77\" y=\"-247.4\" font-family=\"Times,serif\" font-size=\"14.00\">class = Adelie</text>\n",
       "</g>\n",
       "<!-- 0&#45;&gt;1 -->\n",
       "<g id=\"edge1\" class=\"edge\">\n",
       "<title>0&#45;&gt;1</title>\n",
       "<path fill=\"none\" stroke=\"black\" d=\"M403.25,-367.07C397.05,-358.2 390.5,-348.82 384.14,-339.71\"/>\n",
       "<polygon fill=\"black\" stroke=\"black\" points=\"386.96,-337.64 378.36,-331.44 381.22,-341.64 386.96,-337.64\"/>\n",
       "<text text-anchor=\"middle\" x=\"373.99\" y=\"-351.86\" font-family=\"Times,serif\" font-size=\"14.00\">True</text>\n",
       "</g>\n",
       "<!-- 8 -->\n",
       "<g id=\"node9\" class=\"node\">\n",
       "<title>8</title>\n",
       "<polygon fill=\"#8b48e7\" stroke=\"black\" points=\"600.62,-331.2 444.92,-331.2 444.92,-239.2 600.62,-239.2 600.62,-331.2\"/>\n",
       "<text text-anchor=\"middle\" x=\"522.77\" y=\"-314.6\" font-family=\"Times,serif\" font-size=\"14.00\">bill_depth_mm &lt;= 17.65</text>\n",
       "<text text-anchor=\"middle\" x=\"522.77\" y=\"-297.8\" font-family=\"Times,serif\" font-size=\"14.00\">gini = 0.137</text>\n",
       "<text text-anchor=\"middle\" x=\"522.77\" y=\"-281\" font-family=\"Times,serif\" font-size=\"14.00\">samples = 96</text>\n",
       "<text text-anchor=\"middle\" x=\"522.77\" y=\"-264.2\" font-family=\"Times,serif\" font-size=\"14.00\">value = [2, 5, 89]</text>\n",
       "<text text-anchor=\"middle\" x=\"522.77\" y=\"-247.4\" font-family=\"Times,serif\" font-size=\"14.00\">class = Gentoo</text>\n",
       "</g>\n",
       "<!-- 0&#45;&gt;8 -->\n",
       "<g id=\"edge8\" class=\"edge\">\n",
       "<title>0&#45;&gt;8</title>\n",
       "<path fill=\"none\" stroke=\"black\" d=\"M466.29,-367.07C472.48,-358.2 479.03,-348.82 485.4,-339.71\"/>\n",
       "<polygon fill=\"black\" stroke=\"black\" points=\"488.31,-341.64 491.17,-331.44 482.58,-337.64 488.31,-341.64\"/>\n",
       "<text text-anchor=\"middle\" x=\"495.54\" y=\"-351.86\" font-family=\"Times,serif\" font-size=\"14.00\">False</text>\n",
       "</g>\n",
       "<!-- 2 -->\n",
       "<g id=\"node3\" class=\"node\">\n",
       "<title>2</title>\n",
       "<polygon fill=\"#e68640\" stroke=\"black\" points=\"258.51,-203.2 99.03,-203.2 99.03,-111.2 258.51,-111.2 258.51,-203.2\"/>\n",
       "<text text-anchor=\"middle\" x=\"178.77\" y=\"-186.6\" font-family=\"Times,serif\" font-size=\"14.00\">bill_length_mm &lt;= 42.35</text>\n",
       "<text text-anchor=\"middle\" x=\"178.77\" y=\"-169.8\" font-family=\"Times,serif\" font-size=\"14.00\">gini = 0.068</text>\n",
       "<text text-anchor=\"middle\" x=\"178.77\" y=\"-153\" font-family=\"Times,serif\" font-size=\"14.00\">samples = 113</text>\n",
       "<text text-anchor=\"middle\" x=\"178.77\" y=\"-136.2\" font-family=\"Times,serif\" font-size=\"14.00\">value = [109, 4, 0]</text>\n",
       "<text text-anchor=\"middle\" x=\"178.77\" y=\"-119.4\" font-family=\"Times,serif\" font-size=\"14.00\">class = Adelie</text>\n",
       "</g>\n",
       "<!-- 1&#45;&gt;2 -->\n",
       "<g id=\"edge2\" class=\"edge\">\n",
       "<title>1&#45;&gt;2</title>\n",
       "<path fill=\"none\" stroke=\"black\" d=\"M286.59,-239.07C273.73,-229.42 260.05,-219.16 246.91,-209.3\"/>\n",
       "<polygon fill=\"black\" stroke=\"black\" points=\"248.91,-206.43 238.81,-203.23 244.71,-212.03 248.91,-206.43\"/>\n",
       "</g>\n",
       "<!-- 5 -->\n",
       "<g id=\"node6\" class=\"node\">\n",
       "<title>5</title>\n",
       "<polygon fill=\"#46e789\" stroke=\"black\" points=\"431.05,-203.2 276.48,-203.2 276.48,-111.2 431.05,-111.2 431.05,-203.2\"/>\n",
       "<text text-anchor=\"middle\" x=\"353.77\" y=\"-186.6\" font-family=\"Times,serif\" font-size=\"14.00\">body_mass_g &lt;= 4575.0</text>\n",
       "<text text-anchor=\"middle\" x=\"353.77\" y=\"-169.8\" font-family=\"Times,serif\" font-size=\"14.00\">gini = 0.121</text>\n",
       "<text text-anchor=\"middle\" x=\"353.77\" y=\"-153\" font-family=\"Times,serif\" font-size=\"14.00\">samples = 47</text>\n",
       "<text text-anchor=\"middle\" x=\"353.77\" y=\"-136.2\" font-family=\"Times,serif\" font-size=\"14.00\">value = [2, 44, 1]</text>\n",
       "<text text-anchor=\"middle\" x=\"353.77\" y=\"-119.4\" font-family=\"Times,serif\" font-size=\"14.00\">class = Chinstrap</text>\n",
       "</g>\n",
       "<!-- 1&#45;&gt;5 -->\n",
       "<g id=\"edge5\" class=\"edge\">\n",
       "<title>1&#45;&gt;5</title>\n",
       "<path fill=\"none\" stroke=\"black\" d=\"M349.28,-239.07C349.73,-230.83 350.21,-222.16 350.69,-213.67\"/>\n",
       "<polygon fill=\"black\" stroke=\"black\" points=\"354.19,-213.62 351.25,-203.44 347.2,-213.23 354.19,-213.62\"/>\n",
       "</g>\n",
       "<!-- 3 -->\n",
       "<g id=\"node4\" class=\"node\">\n",
       "<title>3</title>\n",
       "<polygon fill=\"#e5823b\" stroke=\"black\" points=\"119.3,-75.3 0.23,-75.3 0.23,0.1 119.3,0.1 119.3,-75.3\"/>\n",
       "<text text-anchor=\"middle\" x=\"59.77\" y=\"-58.6\" font-family=\"Times,serif\" font-size=\"14.00\">gini = 0.019</text>\n",
       "<text text-anchor=\"middle\" x=\"59.77\" y=\"-41.8\" font-family=\"Times,serif\" font-size=\"14.00\">samples = 103</text>\n",
       "<text text-anchor=\"middle\" x=\"59.77\" y=\"-25\" font-family=\"Times,serif\" font-size=\"14.00\">value = [102, 1, 0]</text>\n",
       "<text text-anchor=\"middle\" x=\"59.77\" y=\"-8.2\" font-family=\"Times,serif\" font-size=\"14.00\">class = Adelie</text>\n",
       "</g>\n",
       "<!-- 2&#45;&gt;3 -->\n",
       "<g id=\"edge3\" class=\"edge\">\n",
       "<title>2&#45;&gt;3</title>\n",
       "<path fill=\"none\" stroke=\"black\" d=\"M133.1,-111.07C123.69,-101.77 113.79,-91.98 104.41,-82.72\"/>\n",
       "<polygon fill=\"black\" stroke=\"black\" points=\"106.6,-79.96 97.02,-75.42 101.67,-84.93 106.6,-79.96\"/>\n",
       "</g>\n",
       "<!-- 4 -->\n",
       "<g id=\"node5\" class=\"node\">\n",
       "<title>4</title>\n",
       "<polygon fill=\"#f0b78e\" stroke=\"black\" points=\"243.3,-75.3 138.23,-75.3 138.23,0.1 243.3,0.1 243.3,-75.3\"/>\n",
       "<text text-anchor=\"middle\" x=\"190.77\" y=\"-58.6\" font-family=\"Times,serif\" font-size=\"14.00\">gini = 0.42</text>\n",
       "<text text-anchor=\"middle\" x=\"190.77\" y=\"-41.8\" font-family=\"Times,serif\" font-size=\"14.00\">samples = 10</text>\n",
       "<text text-anchor=\"middle\" x=\"190.77\" y=\"-25\" font-family=\"Times,serif\" font-size=\"14.00\">value = [7, 3, 0]</text>\n",
       "<text text-anchor=\"middle\" x=\"190.77\" y=\"-8.2\" font-family=\"Times,serif\" font-size=\"14.00\">class = Adelie</text>\n",
       "</g>\n",
       "<!-- 2&#45;&gt;4 -->\n",
       "<g id=\"edge4\" class=\"edge\">\n",
       "<title>2&#45;&gt;4</title>\n",
       "<path fill=\"none\" stroke=\"black\" d=\"M183.37,-111.07C184.23,-102.69 185.12,-93.91 185.98,-85.48\"/>\n",
       "<polygon fill=\"black\" stroke=\"black\" points=\"189.48,-85.72 187.01,-75.42 182.51,-85.01 189.48,-85.72\"/>\n",
       "</g>\n",
       "<!-- 6 -->\n",
       "<g id=\"node7\" class=\"node\">\n",
       "<title>6</title>\n",
       "<polygon fill=\"#3de684\" stroke=\"black\" points=\"397.81,-75.3 285.73,-75.3 285.73,0.1 397.81,0.1 397.81,-75.3\"/>\n",
       "<text text-anchor=\"middle\" x=\"341.77\" y=\"-58.6\" font-family=\"Times,serif\" font-size=\"14.00\">gini = 0.043</text>\n",
       "<text text-anchor=\"middle\" x=\"341.77\" y=\"-41.8\" font-family=\"Times,serif\" font-size=\"14.00\">samples = 45</text>\n",
       "<text text-anchor=\"middle\" x=\"341.77\" y=\"-25\" font-family=\"Times,serif\" font-size=\"14.00\">value = [1, 44, 0]</text>\n",
       "<text text-anchor=\"middle\" x=\"341.77\" y=\"-8.2\" font-family=\"Times,serif\" font-size=\"14.00\">class = Chinstrap</text>\n",
       "</g>\n",
       "<!-- 5&#45;&gt;6 -->\n",
       "<g id=\"edge6\" class=\"edge\">\n",
       "<title>5&#45;&gt;6</title>\n",
       "<path fill=\"none\" stroke=\"black\" d=\"M349.16,-111.07C348.31,-102.69 347.41,-93.91 346.55,-85.48\"/>\n",
       "<polygon fill=\"black\" stroke=\"black\" points=\"350.02,-85.01 345.52,-75.42 343.06,-85.72 350.02,-85.01\"/>\n",
       "</g>\n",
       "<!-- 7 -->\n",
       "<g id=\"node8\" class=\"node\">\n",
       "<title>7</title>\n",
       "<polygon fill=\"#ffffff\" stroke=\"black\" points=\"521.3,-75.3 416.23,-75.3 416.23,0.1 521.3,0.1 521.3,-75.3\"/>\n",
       "<text text-anchor=\"middle\" x=\"468.77\" y=\"-58.6\" font-family=\"Times,serif\" font-size=\"14.00\">gini = 0.5</text>\n",
       "<text text-anchor=\"middle\" x=\"468.77\" y=\"-41.8\" font-family=\"Times,serif\" font-size=\"14.00\">samples = 2</text>\n",
       "<text text-anchor=\"middle\" x=\"468.77\" y=\"-25\" font-family=\"Times,serif\" font-size=\"14.00\">value = [1, 0, 1]</text>\n",
       "<text text-anchor=\"middle\" x=\"468.77\" y=\"-8.2\" font-family=\"Times,serif\" font-size=\"14.00\">class = Adelie</text>\n",
       "</g>\n",
       "<!-- 5&#45;&gt;7 -->\n",
       "<g id=\"edge7\" class=\"edge\">\n",
       "<title>5&#45;&gt;7</title>\n",
       "<path fill=\"none\" stroke=\"black\" d=\"M397.9,-111.07C407,-101.77 416.57,-91.98 425.63,-82.72\"/>\n",
       "<polygon fill=\"black\" stroke=\"black\" points=\"428.28,-85.01 432.77,-75.42 423.27,-80.12 428.28,-85.01\"/>\n",
       "</g>\n",
       "<!-- 9 -->\n",
       "<g id=\"node10\" class=\"node\">\n",
       "<title>9</title>\n",
       "<polygon fill=\"#8139e5\" stroke=\"black\" points=\"572.8,-194.9 460.73,-194.9 460.73,-119.5 572.8,-119.5 572.8,-194.9\"/>\n",
       "<text text-anchor=\"middle\" x=\"516.77\" y=\"-178.2\" font-family=\"Times,serif\" font-size=\"14.00\">gini = 0.0</text>\n",
       "<text text-anchor=\"middle\" x=\"516.77\" y=\"-161.4\" font-family=\"Times,serif\" font-size=\"14.00\">samples = 89</text>\n",
       "<text text-anchor=\"middle\" x=\"516.77\" y=\"-144.6\" font-family=\"Times,serif\" font-size=\"14.00\">value = [0, 0, 89]</text>\n",
       "<text text-anchor=\"middle\" x=\"516.77\" y=\"-127.8\" font-family=\"Times,serif\" font-size=\"14.00\">class = Gentoo</text>\n",
       "</g>\n",
       "<!-- 8&#45;&gt;9 -->\n",
       "<g id=\"edge9\" class=\"edge\">\n",
       "<title>8&#45;&gt;9</title>\n",
       "<path fill=\"none\" stroke=\"black\" d=\"M520.62,-239.07C520.1,-228.15 519.54,-216.45 519.02,-205.44\"/>\n",
       "<polygon fill=\"black\" stroke=\"black\" points=\"522.5,-204.97 518.53,-195.14 515.51,-205.3 522.5,-204.97\"/>\n",
       "</g>\n",
       "<!-- 10 -->\n",
       "<g id=\"node11\" class=\"node\">\n",
       "<title>10</title>\n",
       "<polygon fill=\"#88efb3\" stroke=\"black\" points=\"746.62,-203.2 590.92,-203.2 590.92,-111.2 746.62,-111.2 746.62,-203.2\"/>\n",
       "<text text-anchor=\"middle\" x=\"668.77\" y=\"-186.6\" font-family=\"Times,serif\" font-size=\"14.00\">bill_depth_mm &lt;= 18.95</text>\n",
       "<text text-anchor=\"middle\" x=\"668.77\" y=\"-169.8\" font-family=\"Times,serif\" font-size=\"14.00\">gini = 0.408</text>\n",
       "<text text-anchor=\"middle\" x=\"668.77\" y=\"-153\" font-family=\"Times,serif\" font-size=\"14.00\">samples = 7</text>\n",
       "<text text-anchor=\"middle\" x=\"668.77\" y=\"-136.2\" font-family=\"Times,serif\" font-size=\"14.00\">value = [2, 5, 0]</text>\n",
       "<text text-anchor=\"middle\" x=\"668.77\" y=\"-119.4\" font-family=\"Times,serif\" font-size=\"14.00\">class = Chinstrap</text>\n",
       "</g>\n",
       "<!-- 8&#45;&gt;10 -->\n",
       "<g id=\"edge10\" class=\"edge\">\n",
       "<title>8&#45;&gt;10</title>\n",
       "<path fill=\"none\" stroke=\"black\" d=\"M575.06,-239.07C585.97,-229.66 597.54,-219.67 608.7,-210.04\"/>\n",
       "<polygon fill=\"black\" stroke=\"black\" points=\"611.06,-212.62 616.35,-203.44 606.49,-207.33 611.06,-212.62\"/>\n",
       "</g>\n",
       "<!-- 11 -->\n",
       "<g id=\"node12\" class=\"node\">\n",
       "<title>11</title>\n",
       "<polygon fill=\"#e58139\" stroke=\"black\" points=\"683.3,-75.3 578.23,-75.3 578.23,0.1 683.3,0.1 683.3,-75.3\"/>\n",
       "<text text-anchor=\"middle\" x=\"630.77\" y=\"-58.6\" font-family=\"Times,serif\" font-size=\"14.00\">gini = 0.0</text>\n",
       "<text text-anchor=\"middle\" x=\"630.77\" y=\"-41.8\" font-family=\"Times,serif\" font-size=\"14.00\">samples = 2</text>\n",
       "<text text-anchor=\"middle\" x=\"630.77\" y=\"-25\" font-family=\"Times,serif\" font-size=\"14.00\">value = [2, 0, 0]</text>\n",
       "<text text-anchor=\"middle\" x=\"630.77\" y=\"-8.2\" font-family=\"Times,serif\" font-size=\"14.00\">class = Adelie</text>\n",
       "</g>\n",
       "<!-- 10&#45;&gt;11 -->\n",
       "<g id=\"edge11\" class=\"edge\">\n",
       "<title>10&#45;&gt;11</title>\n",
       "<path fill=\"none\" stroke=\"black\" d=\"M654.18,-111.07C651.45,-102.6 648.58,-93.72 645.83,-85.2\"/>\n",
       "<polygon fill=\"black\" stroke=\"black\" points=\"649.07,-83.86 642.66,-75.42 642.41,-86.01 649.07,-83.86\"/>\n",
       "</g>\n",
       "<!-- 12 -->\n",
       "<g id=\"node13\" class=\"node\">\n",
       "<title>12</title>\n",
       "<polygon fill=\"#39e581\" stroke=\"black\" points=\"813.81,-75.3 701.73,-75.3 701.73,0.1 813.81,0.1 813.81,-75.3\"/>\n",
       "<text text-anchor=\"middle\" x=\"757.77\" y=\"-58.6\" font-family=\"Times,serif\" font-size=\"14.00\">gini = 0.0</text>\n",
       "<text text-anchor=\"middle\" x=\"757.77\" y=\"-41.8\" font-family=\"Times,serif\" font-size=\"14.00\">samples = 5</text>\n",
       "<text text-anchor=\"middle\" x=\"757.77\" y=\"-25\" font-family=\"Times,serif\" font-size=\"14.00\">value = [0, 5, 0]</text>\n",
       "<text text-anchor=\"middle\" x=\"757.77\" y=\"-8.2\" font-family=\"Times,serif\" font-size=\"14.00\">class = Chinstrap</text>\n",
       "</g>\n",
       "<!-- 10&#45;&gt;12 -->\n",
       "<g id=\"edge12\" class=\"edge\">\n",
       "<title>10&#45;&gt;12</title>\n",
       "<path fill=\"none\" stroke=\"black\" d=\"M702.92,-111.07C709.75,-102.04 716.93,-92.56 723.75,-83.54\"/>\n",
       "<polygon fill=\"black\" stroke=\"black\" points=\"726.66,-85.5 729.91,-75.42 721.08,-81.28 726.66,-85.5\"/>\n",
       "</g>\n",
       "</g>\n",
       "</svg>\n"
      ],
      "text/plain": [
       "<graphviz.files.Source at 0x7fc9f1ec94f0>"
      ]
     },
     "execution_count": 71,
     "metadata": {},
     "output_type": "execute_result"
    }
   ],
   "source": [
    "import graphviz\n",
    "from sklearn.tree import export_graphviz\n",
    "# DOT data\n",
    "dot_data = export_graphviz(clf, out_file=None, \n",
    "                                feature_names=X_train.columns,  \n",
    "                                class_names=['Adelie', 'Chinstrap', 'Gentoo'],\n",
    "                                filled=True)\n",
    "\n",
    "# Draw graph\n",
    "graph = graphviz.Source(dot_data, format=\"png\") \n",
    "graph\n",
    "\n",
    "# Decision Tree Classifier from scikit-learn sklearn visualized with graphviz in Python"
   ]
  },
  {
   "cell_type": "markdown",
   "metadata": {},
   "source": [
    "Avaliando a árvore completa"
   ]
  },
  {
   "cell_type": "markdown",
   "metadata": {
    "tags": []
   },
   "source": [
    "#### 3.2 Pós-poda<a name=\"3.2\"></a>\n",
    "[Voltar para o índice](#topo)  \n",
    "\n",
    "Essa etapa é bem parecida com o que já fizemos. Vamos observar os \"caminhos de poda\" da árvore \"grande\", avaliar uma métrica de qualidade do modelo na base de testes, e selecionar a melhor."
   ]
  },
  {
   "cell_type": "code",
   "execution_count": 72,
   "metadata": {},
   "outputs": [],
   "source": [
    "caminho = DecisionTreeClassifier(random_state=2360873).cost_complexity_pruning_path(X_train, y_train)\n",
    "ccp_alphas, impurities = caminho.ccp_alphas, path.impurities"
   ]
  },
  {
   "cell_type": "code",
   "execution_count": 73,
   "metadata": {},
   "outputs": [],
   "source": [
    "clfs = []\n",
    "for ccp_alpha in ccp_alphas:\n",
    "    clf = DecisionTreeClassifier(random_state=2360873, ccp_alpha=ccp_alpha).fit(X_train, y_train)\n",
    "    clfs.append(clf)"
   ]
  },
  {
   "cell_type": "code",
   "execution_count": 74,
   "metadata": {},
   "outputs": [
    {
     "data": {
      "image/png": "[encoded data removed]",
      "text/plain": [
       "<Figure size 432x288 with 1 Axes>"
      ]
     },
     "metadata": {},
     "output_type": "display_data"
    }
   ],
   "source": [
    "train_scores = [clf.score(X_train, y_train) for clf in clfs]\n",
    "test_scores = [clf.score(X_test, y_test) for clf in clfs]\n",
    "\n",
    "fig, ax = plt.subplots()\n",
    "ax.set_xlabel(\"alpha\")\n",
    "ax.set_ylabel(\"Acurácia\")\n",
    "ax.set_title(\"Acurácia x alpha do conjunto de dados de treino e teste\")\n",
    "ax.plot(ccp_alphas, train_scores, marker='o', label=\"treino\",\n",
    "        drawstyle=\"steps-post\")\n",
    "ax.plot(ccp_alphas, test_scores, marker='o', label=\"teste\",\n",
    "        drawstyle=\"steps-post\")\n",
    "ax.legend()\n",
    "plt.show()"
   ]
  },
  {
   "cell_type": "markdown",
   "metadata": {},
   "source": [
    "#### 3.3 Selecionando a melhor árvore<a name=\"3.3\"></a>\n",
    "[Voltar para o índice](#topo)  \n",
    "\n",
    "Vamos pegar a melhor árvore utilizando a mesma lógica da árvore que usamos para preencher os registros faltantes na variável ```sex```."
   ]
  },
  {
   "cell_type": "code",
   "execution_count": 75,
   "metadata": {},
   "outputs": [
    {
     "data": {
      "text/plain": [
       "DecisionTreeClassifier(ccp_alpha=0.011160714285714286, random_state=2360873)"
      ]
     },
     "execution_count": 75,
     "metadata": {},
     "output_type": "execute_result"
    }
   ],
   "source": [
    "ind_melhor_arvore = len(test_scores) - test_scores[::-1].index(max(test_scores)) - 1\n",
    "melhor_arvore = clfs[ind_melhor_arvore]\n",
    "melhor_arvore"
   ]
  },
  {
   "cell_type": "markdown",
   "metadata": {},
   "source": [
    "#### 3.4 Avaliando o resultado<a name=\"3.3\"></a>\n",
    "[Voltar para o índice](#topo)  \n",
    "\n",
    "Agora vamos avaliar o resultado da nossa classificação utilizanod a acrurácia, na base de testes. Para um visual um pouco melhor, vamos utilizar a matriz de confusão."
   ]
  },
  {
   "cell_type": "code",
   "execution_count": 76,
   "metadata": {},
   "outputs": [
    {
     "data": {
      "image/png": "[encoded data removed]",
      "text/plain": [
       "<Figure size 432x288 with 2 Axes>"
      ]
     },
     "metadata": {},
     "output_type": "display_data"
    }
   ],
   "source": [
    "from sklearn.metrics import plot_confusion_matrix\n",
    "\n",
    "plot_confusion_matrix(melhor_arvore, X_test, y_test);"
   ]
  },
  {
   "cell_type": "markdown",
   "metadata": {},
   "source": [
    "Sensacional esse resultado não? A taxa de acertos é impressionante! Até era de se esperar algo bom pela análise descritiva.\n",
    "\n",
    "Mas, para refletir, o gancho para a próxima aula:\n",
    "\n",
    "Será que \"demos sorte\" de a base de testes ter esse desempenho?  \n",
    "Com outra base teriamos o mesmo desempenho?  \n",
    "Como podemos obter uma métrica mais \"confiável\" do desempenho desse algoritmo?"
   ]
  }
 ],
 "metadata": {
  "kernelspec": {
   "display_name": "Python 3",
   "language": "python",
   "name": "python3"
  },
  "language_info": {
   "codemirror_mode": {
    "name": "ipython",
    "version": 3
   },
   "file_extension": ".py",
   "mimetype": "text/x-python",
   "name": "python",
   "nbconvert_exporter": "python",
   "pygments_lexer": "ipython3",
   "version": "3.8.5"
  }
 },
 "nbformat": 4,
 "nbformat_minor": 4
}
