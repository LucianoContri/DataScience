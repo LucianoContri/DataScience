{
 "cells": [
  {
   "cell_type": "markdown",
   "metadata": {},
   "source": [
    "# Árvores II - Tarefa 2"
   ]
  },
  {
   "cell_type": "markdown",
   "metadata": {},
   "source": [
    "### 1. Carregar as bases\n",
    "\n",
    "Vamos carregar as bases lidas na tarefa passada. Se você salvou essas bases em arquivo texto, basta fazer a leitura com o comando ```pd.read_csv``` das seguintes bases:\n",
    "\n",
    "- X_train\n",
    "- Y_train\n",
    "- X_test\n",
    "- Y_test\n",
    "\n",
    "Não se esqueça de considerar a leitura dos índices dos arquivos no ```read_csv()```!"
   ]
  },
  {
   "cell_type": "code",
   "metadata": {
    "ExecuteTime": {
     "end_time": "2024-06-01T15:43:51.590132Z",
     "start_time": "2024-06-01T15:43:51.586221Z"
    }
   },
   "source": [
    "import pandas as pd\n",
    "import seaborn as sns\n",
    "import matplotlib.pyplot as plt\n",
    "import numpy as np\n",
    "from sklearn.tree import DecisionTreeClassifier\n",
    "from sklearn.model_selection import train_test_split\n",
    "from sklearn.metrics import ConfusionMatrixDisplay, confusion_matrix, classification_report"
   ],
   "execution_count": 9,
   "outputs": []
  },
  {
   "metadata": {
    "ExecuteTime": {
     "end_time": "2024-06-01T15:39:56.894070Z",
     "start_time": "2024-06-01T15:39:56.445903Z"
    }
   },
   "cell_type": "code",
   "source": [
    "X_train = pd.read_csv('../../../../Datasets/Human Activity Recognition Using Smartphones/UCI HAR Dataset/train/X_train.csv', sep = ',', index_col=[0, 1])\n",
    "X_train"
   ],
   "execution_count": 2,
   "outputs": []
  },
  {
   "metadata": {
    "ExecuteTime": {
     "end_time": "2024-06-01T15:44:36.335324Z",
     "start_time": "2024-06-01T15:44:36.325814Z"
    }
   },
   "cell_type": "code",
   "source": [
    "Y_train = pd.read_csv('../../../../Datasets/Human Activity Recognition Using Smartphones/UCI HAR Dataset/train/y_train.txt', sep = '\\s+', header=None)\n",
    "# renomeando a coluna para target\n",
    "Y_train.columns = ['target']\n",
    "Y_train"
   ],
   "execution_count": 11,
   "outputs": []
  },
  {
   "cell_type": "markdown",
   "metadata": {},
   "source": [
    "### 2. Divisão da base em Treino, Validação e Teste\n",
    "\n",
    "A base já se encontra dividida em Treino e Validação. O que vamos fazer então é extrair uma base de Validação da base de Treino.\n",
    "\n",
    "Extraia 25% da base de treino como base de validação."
   ]
  },
  {
   "cell_type": "code",
   "metadata": {
    "ExecuteTime": {
     "end_time": "2024-06-01T15:44:40.323021Z",
     "start_time": "2024-06-01T15:44:40.292774Z"
    }
   },
   "source": [
    "# train_test_split\n",
    "X_train, X_val, Y_train, Y_val = train_test_split(X_train, Y_train, test_size=0.25, random_state=42)\n"
   ],
   "execution_count": 12,
   "outputs": []
  },
  {
   "cell_type": "markdown",
   "metadata": {},
   "source": [
    "### 3. Melhores 3 variáveis\n",
    "\n",
    "Rode uma árvore com profundidade máxima igual a 4 para prever a atividade humana com todas as variáveis.\n",
    "Observe a importância das variáveis e considere as 3 variáveis com maior importância para os próximos passos.\n",
    "Dica: utilize o atributo ```clf.feature_importances_``` da árvore treinada."
   ]
  },
  {
   "cell_type": "code",
   "metadata": {
    "ExecuteTime": {
     "end_time": "2024-06-01T15:45:33.979805Z",
     "start_time": "2024-06-01T15:45:32.803093Z"
    }
   },
   "source": [
    "tree = DecisionTreeClassifier(max_depth=4, random_state=42)\n",
    "tree.fit(X_train, Y_train)\n",
    "best_features = pd.Series(tree.feature_importances_, index=X_train.columns).sort_values(ascending=False).head(3)\n",
    "best_features"
   ],
   "execution_count": 13,
   "outputs": []
  },
  {
   "cell_type": "markdown",
   "metadata": {},
   "source": [
    "### 4. Construa uma árvore com as 3 melhores variáveis\n",
    "\n",
    "Utilizando as três variáveis encontradas acima, construa uma árvore de decisão. Encontre o melhor ```ccp_alpha``` utilizando a base de validação, conforme a estrutura que vimos em aula."
   ]
  },
  {
   "metadata": {
    "ExecuteTime": {
     "end_time": "2024-06-01T15:47:14.252107Z",
     "start_time": "2024-06-01T15:47:13.787241Z"
    }
   },
   "cell_type": "code",
   "source": [
    "%%time\n",
    "tree = DecisionTreeClassifier(max_depth=4, random_state=42)\n",
    "path = tree.cost_complexity_pruning_path(X_train[best_features.index], Y_train)\n",
    "ccp_alphas, impurities = path.ccp_alphas, path.impurities\n",
    "\n",
    "clfs = []\n",
    "for ccp_alpha in ccp_alphas:\n",
    "    clf = DecisionTreeClassifier(random_state=42, ccp_alpha=ccp_alpha)\n",
    "    clf.fit(X_train[best_features.index], Y_train)\n",
    "    clfs.append(clf)\n",
    "\n",
    "\n",
    "train_scores = [clf.score(X_train[best_features.index], Y_train) for clf in clfs]\n",
    "val_scores = [clf.score(X_val[best_features.index], Y_val) for clf in clfs]\n",
    "\n",
    "fig, ax = plt.subplots()\n",
    "ax.set_xlabel(\"alpha\")\n",
    "ax.set_ylabel(\"accuracy\")\n",
    "ax.set_title(\"Accuracy vs alpha for training and validation sets\")\n",
    "ax.plot(ccp_alphas, train_scores, marker='o', label=\"train\",\n",
    "        drawstyle=\"steps-post\")\n",
    "ax.plot(ccp_alphas, val_scores, marker='o', label=\"validation\",\n",
    "        drawstyle=\"steps-post\")\n",
    "ax.legend()\n",
    "plt.show()"
   ],
   "execution_count": 14,
   "outputs": []
  },
  {
   "metadata": {
    "ExecuteTime": {
     "end_time": "2024-06-01T15:47:19.590611Z",
     "start_time": "2024-06-01T15:47:19.586510Z"
    }
   },
   "cell_type": "code",
   "source": [
    "print(f'Melhor ccp_alpha: {ccp_alphas[np.argmax(val_scores)]}')\n",
    "print(f'Melhor acurácia: {max(val_scores)}')"
   ],
   "execution_count": 15,
   "outputs": []
  },
  {
   "cell_type": "markdown",
   "metadata": {},
   "source": [
    "    ### 5. Avaliação do modelo\n",
    "\n",
    "Avalie a árvore encontrada no item anterior na base de testes."
   ]
  },
  {
   "cell_type": "code",
   "metadata": {
    "ExecuteTime": {
     "end_time": "2024-06-01T15:51:11.389767Z",
     "start_time": "2024-06-01T15:51:11.015548Z"
    }
   },
   "source": [
    "X_test = pd.read_csv('../../../../Datasets/Human Activity Recognition Using Smartphones/UCI HAR Dataset/test/X_test.csv', sep = ',', index_col=[0, 1])\n",
    "y_test = pd.read_csv('../../../../Datasets/Human Activity Recognition Using Smartphones/UCI HAR Dataset/test/y_test.txt', sep = '\\s+', header=None)\n",
    "y_test.columns = ['target']\n",
    "\n",
    "tree = DecisionTreeClassifier(random_state=42, ccp_alpha=ccp_alphas[np.argmax(val_scores)])\n",
    "tree.fit(X_train[best_features.index], Y_train)\n",
    "y_pred = tree.predict(X_test[best_features.index])\n",
    "\n",
    "cm = confusion_matrix(y_test, y_pred)   \n",
    "disp = ConfusionMatrixDisplay(confusion_matrix=cm, display_labels=tree.classes_)\n",
    "# mudar cores\n",
    "disp.plot(cmap='Blues')\n",
    "plt.show()\n"
   ],
   "execution_count": 23,
   "outputs": []
  },
  {
   "metadata": {
    "ExecuteTime": {
     "end_time": "2024-06-01T15:54:28.466509Z",
     "start_time": "2024-06-01T15:54:28.453906Z"
    }
   },
   "cell_type": "code",
   "source": [
    "target_names = [str(cls) for cls in tree.classes_]\n",
    "print(classification_report(y_test, y_pred, target_names= target_names))\n"
   ],
   "execution_count": 29,
   "outputs": []
  },
  {
   "metadata": {},
   "cell_type": "markdown",
   "source": [
    "### 6. Conclusão\n",
    "\n",
    "Acurácia do modelo de treino foi de 0.88 enquanto na base de testes fooi de 0.67 o que indica que o modelo está com overfitting. A matriz de confusão mostra que o modelo está com dificuldade em classificar as atividades de 1 a 5."
   ]
  },
  {
   "metadata": {},
   "cell_type": "code",
   "execution_count": null,
   "source": "",
   "outputs": []
  }
 ],
 "metadata": {
  "kernelspec": {
   "display_name": "Python 3",
   "language": "python",
   "name": "python3"
  },
  "language_info": {
   "codemirror_mode": {
    "name": "ipython",
    "version": 3
   },
   "file_extension": ".py",
   "mimetype": "text/x-python",
   "name": "python",
   "nbconvert_exporter": "python",
   "pygments_lexer": "ipython3",
   "version": "3.8.5"
  }
 },
 "nbformat": 4,
 "nbformat_minor": 4
}
