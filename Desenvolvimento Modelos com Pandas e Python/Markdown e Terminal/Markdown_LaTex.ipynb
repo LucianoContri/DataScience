{
 "cells": [
  {
   "cell_type": "markdown",
   "id": "1ece4fbb-ee19-425b-9a83-6057030c3a57",
   "metadata": {},
   "source": [
    "**Fórmula de Bhaskara**\n",
    "\n",
    "A solução para uma função de segundo grau depende das suas raízes (valores de x). Como já vimos, os coeficientes precisam ser números reais e o angular diferente de zero. Sendo assim, temos a seguinte fórmula de Bhaskara:<br><br>\n",
    "\n",
    "$$\n",
    "x = \\frac{{-b \\pm \\sqrt{{b^2 - 4ac}}}}{{2a}}\\\\\n",
    "\\text{Fórmula de Bhaskara}\n",
    "$$\n",
    "\n",
    "<br>\n",
    "Para melhor compreensão o seu cálculo é dividido em duas partes: discriminante da equação e operações para determinar as raízes.\n",
    "\n",
    "\n",
    "**Discriminante**\n",
    "\n",
    "A figura dentro da raiz na fórmula de Bhaskara é nomeada de discriminante. Seu símbolo é a letra grega delta e apresenta a determinada fórmula:\n",
    "\n",
    "<br>\n",
    "$$\n",
    "\\Delta = b^2 - 4ac \\\\\n",
    "\\text{Fórmula da discriminante}\n",
    "$$\n",
    "<br>\n",
    "\n",
    "- Se o delta for maior que zero, a equação terá dois valores reais e distintos.\n",
    "- Se o delta for igual a zero, a equação terá somente um valor real ou dois resultados iguais.\n",
    "- Se o delta for menor que zero, a equação não possuirá valores reais.\n",
    "\n"
   ]
  },
  {
   "cell_type": "code",
   "execution_count": 5,
   "id": "5e5e812d-45ea-432c-8f2e-55a4645a4cd4",
   "metadata": {
    "tags": []
   },
   "outputs": [],
   "source": []
  }
 ],
 "metadata": {
  "kernelspec": {
   "display_name": "Python 3 (ipykernel)",
   "language": "python",
   "name": "python3"
  },
  "language_info": {
   "codemirror_mode": {
    "name": "ipython",
    "version": 3
   },
   "file_extension": ".py",
   "mimetype": "text/x-python",
   "name": "python",
   "nbconvert_exporter": "python",
   "pygments_lexer": "ipython3",
   "version": "3.11.4"
  }
 },
 "nbformat": 4,
 "nbformat_minor": 5
}
