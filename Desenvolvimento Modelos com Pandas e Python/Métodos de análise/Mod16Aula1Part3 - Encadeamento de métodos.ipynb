{
 "cells": [
  {
   "cell_type": "markdown",
   "metadata": {},
   "source": [
    "- __*Method chaining* (encadeamento de métodos)__\n",
    "\t- __`.assign()`__\n",
    "\t- __`.pipe()`__\n",
    "- `for` vs *List comprehension*\n",
    "- Usando `.apply()`\n",
    "- `.apply(axis = 0)` \n",
    "- Barra de progresso usando `tqdm`\n",
    "- Pandas Profiling para exploração dos dados e para garantir a qualidade dos dados\n",
    "- Mostrar o dataframe usando o `style`\n",
    "- Copiar e colar no Excel `.to_clipboard()`\n",
    "- Funções de janela móvel (*window functions*)\n",
    "- Fechamento 2o projeto"
   ]
  },
  {
   "cell_type": "code",
   "execution_count": 137,
   "metadata": {},
   "outputs": [],
   "source": [
    "import pandas as pd\n",
    "import os"
   ]
  },
  {
   "cell_type": "markdown",
   "metadata": {},
   "source": [
    "# Tabela NBA janeiro 2021\n"
   ]
  },
  {
   "cell_type": "code",
   "execution_count": 189,
   "metadata": {},
   "outputs": [
    {
     "data": {
      "text/html": [
       "<div>\n",
       "<style scoped>\n",
       "    .dataframe tbody tr th:only-of-type {\n",
       "        vertical-align: middle;\n",
       "    }\n",
       "\n",
       "    .dataframe tbody tr th {\n",
       "        vertical-align: top;\n",
       "    }\n",
       "\n",
       "    .dataframe thead th {\n",
       "        text-align: right;\n",
       "    }\n",
       "</style>\n",
       "<table border=\"1\" class=\"dataframe\">\n",
       "  <thead>\n",
       "    <tr style=\"text-align: right;\">\n",
       "      <th></th>\n",
       "      <th>Date</th>\n",
       "      <th>Start (ET)</th>\n",
       "      <th>Visitor/Neutral</th>\n",
       "      <th>PTS</th>\n",
       "      <th>Home/Neutral</th>\n",
       "      <th>PTS.1</th>\n",
       "      <th>Unnamed: 6</th>\n",
       "      <th>Unnamed: 7</th>\n",
       "      <th>Attend.</th>\n",
       "      <th>Notes</th>\n",
       "    </tr>\n",
       "  </thead>\n",
       "  <tbody>\n",
       "    <tr>\n",
       "      <th>0</th>\n",
       "      <td>Fri, Jan 1, 2021</td>\n",
       "      <td>7:00p</td>\n",
       "      <td>Memphis Grizzlies</td>\n",
       "      <td>108</td>\n",
       "      <td>Charlotte Hornets</td>\n",
       "      <td>93</td>\n",
       "      <td>Box Score</td>\n",
       "      <td>NaN</td>\n",
       "      <td>0</td>\n",
       "      <td>NaN</td>\n",
       "    </tr>\n",
       "    <tr>\n",
       "      <th>1</th>\n",
       "      <td>Fri, Jan 1, 2021</td>\n",
       "      <td>7:00p</td>\n",
       "      <td>Miami Heat</td>\n",
       "      <td>83</td>\n",
       "      <td>Dallas Mavericks</td>\n",
       "      <td>93</td>\n",
       "      <td>Box Score</td>\n",
       "      <td>NaN</td>\n",
       "      <td>0</td>\n",
       "      <td>NaN</td>\n",
       "    </tr>\n",
       "    <tr>\n",
       "      <th>2</th>\n",
       "      <td>Fri, Jan 1, 2021</td>\n",
       "      <td>7:00p</td>\n",
       "      <td>Boston Celtics</td>\n",
       "      <td>93</td>\n",
       "      <td>Detroit Pistons</td>\n",
       "      <td>96</td>\n",
       "      <td>Box Score</td>\n",
       "      <td>NaN</td>\n",
       "      <td>0</td>\n",
       "      <td>NaN</td>\n",
       "    </tr>\n",
       "    <tr>\n",
       "      <th>3</th>\n",
       "      <td>Fri, Jan 1, 2021</td>\n",
       "      <td>7:30p</td>\n",
       "      <td>Atlanta Hawks</td>\n",
       "      <td>114</td>\n",
       "      <td>Brooklyn Nets</td>\n",
       "      <td>96</td>\n",
       "      <td>Box Score</td>\n",
       "      <td>NaN</td>\n",
       "      <td>0</td>\n",
       "      <td>NaN</td>\n",
       "    </tr>\n",
       "    <tr>\n",
       "      <th>4</th>\n",
       "      <td>Fri, Jan 1, 2021</td>\n",
       "      <td>8:00p</td>\n",
       "      <td>Chicago Bulls</td>\n",
       "      <td>96</td>\n",
       "      <td>Milwaukee Bucks</td>\n",
       "      <td>126</td>\n",
       "      <td>Box Score</td>\n",
       "      <td>NaN</td>\n",
       "      <td>0</td>\n",
       "      <td>NaN</td>\n",
       "    </tr>\n",
       "  </tbody>\n",
       "</table>\n",
       "</div>"
      ],
      "text/plain": [
       "               Date Start (ET)    Visitor/Neutral  PTS       Home/Neutral  \\\n",
       "0  Fri, Jan 1, 2021      7:00p  Memphis Grizzlies  108  Charlotte Hornets   \n",
       "1  Fri, Jan 1, 2021      7:00p         Miami Heat   83   Dallas Mavericks   \n",
       "2  Fri, Jan 1, 2021      7:00p     Boston Celtics   93    Detroit Pistons   \n",
       "3  Fri, Jan 1, 2021      7:30p      Atlanta Hawks  114      Brooklyn Nets   \n",
       "4  Fri, Jan 1, 2021      8:00p      Chicago Bulls   96    Milwaukee Bucks   \n",
       "\n",
       "   PTS.1 Unnamed: 6 Unnamed: 7  Attend.  Notes  \n",
       "0     93  Box Score        NaN        0    NaN  \n",
       "1     93  Box Score        NaN        0    NaN  \n",
       "2     96  Box Score        NaN        0    NaN  \n",
       "3     96  Box Score        NaN        0    NaN  \n",
       "4    126  Box Score        NaN        0    NaN  "
      ]
     },
     "execution_count": 189,
     "metadata": {},
     "output_type": "execute_result"
    }
   ],
   "source": [
    "path = 'input/nba_2021.csv'\n",
    "os.makedirs('./input', exist_ok=True)\n",
    "\n",
    "resultados = pd.read_html(\"https://www.basketball-reference.com/leagues/NBA_2021_games-january.html\")[0]\n",
    "resultados.to_csv(path)\n",
    "df = resultados.copy()\n",
    "resultados.head()"
   ]
  },
  {
   "cell_type": "code",
   "execution_count": 190,
   "metadata": {},
   "outputs": [],
   "source": [
    "colunas = {\n",
    "    'Date': 'data',\n",
    "    'Start (ET)': 'horario',\n",
    "    'Visitor/Neutral': 'time_visitante',\n",
    "    'PTS': 'pts_visit',\n",
    "    'Home/Neutral': 'time_casa',\n",
    "    'PTS.1': 'pts_casa',\n",
    "    'Unnamed: 6': 'a',\n",
    "    'Unnamed: 7': 'b',\n",
    "    'Attend.': 'publico',\n",
    "    'Notes': 'anot'\n",
    "}\n",
    "result_renomeado = resultados.rename(columns=colunas)"
   ]
  },
  {
   "cell_type": "code",
   "execution_count": 191,
   "metadata": {},
   "outputs": [],
   "source": [
    "result_renomeado['data'] = pd.to_datetime(result_renomeado.data)"
   ]
  },
  {
   "cell_type": "code",
   "execution_count": 192,
   "metadata": {},
   "outputs": [],
   "source": [
    "result_renomeado_data = result_renomeado.set_index('data')"
   ]
  },
  {
   "cell_type": "code",
   "execution_count": 248,
   "metadata": {},
   "outputs": [],
   "source": [
    "result_renomeado_data_cols = result_renomeado_data.drop(['horario','a','b','publico','anot'], axis=1)"
   ]
  },
  {
   "cell_type": "code",
   "execution_count": 249,
   "metadata": {},
   "outputs": [],
   "source": [
    "result_renomeado_data_cols['total'] = (result_renomeado_data_cols['pts_visit']\n",
    "                                       + result_renomeado_data_cols['pts_casa'])"
   ]
  },
  {
   "cell_type": "code",
   "execution_count": 257,
   "metadata": {},
   "outputs": [],
   "source": [
    "def det_vencedor(df):\n",
    "    if df['pts_visit'] < df['pts_casa']:\n",
    "        df['ganhador'] = 'casa'\n",
    "    else:\n",
    "        df['ganhador'] = 'visitante'\n",
    "    return df"
   ]
  },
  {
   "cell_type": "code",
   "execution_count": 258,
   "metadata": {
    "scrolled": true
   },
   "outputs": [],
   "source": [
    "result_renomeado_data_cols = result_renomeado_data_cols.apply(det_vencedor, axis=1)"
   ]
  },
  {
   "cell_type": "code",
   "execution_count": 263,
   "metadata": {
    "scrolled": true
   },
   "outputs": [
    {
     "data": {
      "text/plain": [
       "casa         0.531532\n",
       "visitante    0.468468\n",
       "Name: ganhador, dtype: float64"
      ]
     },
     "execution_count": 263,
     "metadata": {},
     "output_type": "execute_result"
    }
   ],
   "source": [
    "result_renomeado_data_cols.ganhador.value_counts(normalize=True)"
   ]
  },
  {
   "cell_type": "code",
   "execution_count": null,
   "metadata": {},
   "outputs": [],
   "source": []
  },
  {
   "cell_type": "code",
   "execution_count": null,
   "metadata": {},
   "outputs": [],
   "source": []
  },
  {
   "cell_type": "code",
   "execution_count": null,
   "metadata": {},
   "outputs": [],
   "source": [
    "def det_vencedor(df):\n",
    "    if df['pts_visit'] < df['pts_casa']:\n",
    "        df['ganhador'] = 'casa'\n",
    "    else:\n",
    "        df['ganhador'] = 'visitante'\n",
    "    return df\n",
    "\n",
    "resultados = pd.read_html(\"https://www.basketball-reference.com/leagues/NBA_2021_games-january.html\")[0]\n",
    "\n",
    "colunas = {\n",
    "    'Date': 'data',\n",
    "    'Start (ET)': 'horario',\n",
    "    'Visitor/Neutral': 'time_visitante',\n",
    "    'PTS': 'pts_visit',\n",
    "    'Home/Neutral': 'time_casa',\n",
    "    'PTS.1': 'pts_casa',\n",
    "    'Unnamed: 6': 'a',\n",
    "    'Unnamed: 7': 'b',\n",
    "    'Attend.': 'publico',\n",
    "    'Notes': 'anot'\n",
    "}\n",
    "result_renomeado = resultados.rename(columns=colunas)\n",
    "result_renomeado['data'] = pd.to_datetime(result_renomeado.data)\n",
    "result_renomeado_data = result_renomeado.set_index('data')\n",
    "result_renomeado_data_cols = result_renomeado_data.drop(['horario','a','b','publico','anot'], axis=1)\n",
    "result_renomeado_data_cols['total'] = result_renomeado_data_cols['pts_visit']+result_renomeado_data_cols['pts_casa']\n",
    "result_renomeado_data_cols_venc = result_renomeado_data_cols.apply(det_vencedor, axis=1)\n",
    "result_renomeado_data_cols_venc"
   ]
  },
  {
   "cell_type": "code",
   "execution_count": null,
   "metadata": {},
   "outputs": [],
   "source": []
  },
  {
   "cell_type": "markdown",
   "metadata": {},
   "source": [
    "# *Method chaining* (encadeamento de métodos)\n"
   ]
  },
  {
   "cell_type": "markdown",
   "metadata": {},
   "source": [
    "### Assign\n",
    "`.assign()` faz a mesma coisa que o `=`, ou seja, \n",
    "\n",
    "`df['data'] = pd.to_datetime(df['data'])` é a mesma coisa que `df.assign(data = lambda x: pd.to_datetime(x.data))`"
   ]
  },
  {
   "cell_type": "code",
   "execution_count": null,
   "metadata": {},
   "outputs": [],
   "source": [
    "resultados['total'] = resultados['pts_visit']+resultados['pts_casa']\n",
    "resultados"
   ]
  },
  {
   "cell_type": "code",
   "execution_count": null,
   "metadata": {},
   "outputs": [],
   "source": [
    "resultados.assign(total_2 = lambda x: x['pts_visit'] + x['pts_casa'])"
   ]
  },
  {
   "cell_type": "markdown",
   "metadata": {},
   "source": [
    "## Pipe\n",
    "Dá pra fazer bastante coisa com as funções internas do pandas/python, mas as vezes a gente precisa usar alguma função criada por nós mesmos, e para isso que serve o `.pipe()` e tem a funcionalidade parecida com o `%>%` (leia-se pipe) do R.\n",
    "Onde o resultado da função a esquerda entra como primeiro parâmetro na função da direita.\n",
    "\n",
    "\n",
    "#### Em R\n",
    "``` R\n",
    "\n",
    "sqrt(sum(x))\n",
    "\n",
    "x %>% sum() %>% sqrt()\n",
    "\n",
    "```\n"
   ]
  },
  {
   "cell_type": "markdown",
   "metadata": {},
   "source": [
    "### Receita de bolo sem pipe. Tente entender o que é preciso fazer.\n",
    "\n",
    "``` R\n",
    "\n",
    "esfrie(\n",
    "  asse(\n",
    "    coloque(\n",
    "      bata(\n",
    "        acrescente(\n",
    "          recipiente(\n",
    "            rep(\"farinha\", 2), \n",
    "            \"água\", \n",
    "            \"fermento\", \n",
    "            \"leite\", \n",
    "            \"óleo\"\n",
    "          ), \n",
    "          \"farinha\", \n",
    "          ate = \"macio\"\n",
    "        ), \n",
    "        duracao = \"3min\"\n",
    "      ), \n",
    "      lugar = \"forma\", \n",
    "      tipo = \"grande\", \n",
    "      untada = TRUE\n",
    "    ), \n",
    "    duracao = \"50min\"\n",
    "  ), \n",
    "  lugar = \"geladeira\", \n",
    "  duracao = \"20min\"\n",
    ")\n",
    "\n",
    "```\n",
    "\n",
    "### Veja como o código acima pode ser reescrito utilizando-se o pipe. Agora realmente se parece com uma receita de bolo.\n",
    "\n",
    "\n",
    "``` R\n",
    "recipiente(rep(\"farinha\", 2), \"água\", \"fermento\", \"leite\", \"óleo\") %>%\n",
    "  acrescente(\"farinha\", ate = \"macio\") %>%\n",
    "  bata(duracao = \"3min\") %>%\n",
    "  coloque(lugar = \"forma\", tipo = \"grande\", untada = TRUE) %>%\n",
    "  asse(duracao = \"50min\") %>%\n",
    "  esfrie(lugar = \"geladeira\", duracao = \"20min\")\n",
    "\n",
    "```\n",
    "\n",
    "trecho extraído do livro [curso-r](https://livro.curso-r.com/6-1-o-operador-pipe.html)"
   ]
  },
  {
   "cell_type": "code",
   "execution_count": null,
   "metadata": {},
   "outputs": [],
   "source": [
    "resultados.head(1)"
   ]
  },
  {
   "cell_type": "code",
   "execution_count": null,
   "metadata": {},
   "outputs": [],
   "source": [
    "resultados = resultados.drop('ganhador', axis=1)\n",
    "resultados.head(1)"
   ]
  },
  {
   "cell_type": "code",
   "execution_count": 20,
   "metadata": {},
   "outputs": [],
   "source": [
    "resultados = resultados.apply(det_vencedor, axis=1)\n",
    "resultados"
   ]
  },
  {
   "cell_type": "code",
   "execution_count": 21,
   "metadata": {},
   "outputs": [
    {
     "data": {
      "text/html": [
       "<div>\n",
       "<style scoped>\n",
       "    .dataframe tbody tr th:only-of-type {\n",
       "        vertical-align: middle;\n",
       "    }\n",
       "\n",
       "    .dataframe tbody tr th {\n",
       "        vertical-align: top;\n",
       "    }\n",
       "\n",
       "    .dataframe thead th {\n",
       "        text-align: right;\n",
       "    }\n",
       "</style>\n",
       "<table border=\"1\" class=\"dataframe\">\n",
       "  <thead>\n",
       "    <tr style=\"text-align: right;\">\n",
       "      <th></th>\n",
       "      <th>time_visitante</th>\n",
       "      <th>pts_visit</th>\n",
       "      <th>time_casa</th>\n",
       "      <th>pts_casa</th>\n",
       "      <th>total</th>\n",
       "      <th>ganhador</th>\n",
       "    </tr>\n",
       "    <tr>\n",
       "      <th>data</th>\n",
       "      <th></th>\n",
       "      <th></th>\n",
       "      <th></th>\n",
       "      <th></th>\n",
       "      <th></th>\n",
       "      <th></th>\n",
       "    </tr>\n",
       "  </thead>\n",
       "  <tbody>\n",
       "    <tr>\n",
       "      <th>2021-01-01</th>\n",
       "      <td>Memphis Grizzlies</td>\n",
       "      <td>108</td>\n",
       "      <td>Charlotte Hornets</td>\n",
       "      <td>93</td>\n",
       "      <td>201</td>\n",
       "      <td>visitante</td>\n",
       "    </tr>\n",
       "    <tr>\n",
       "      <th>2021-01-01</th>\n",
       "      <td>Miami Heat</td>\n",
       "      <td>83</td>\n",
       "      <td>Dallas Mavericks</td>\n",
       "      <td>93</td>\n",
       "      <td>176</td>\n",
       "      <td>casa</td>\n",
       "    </tr>\n",
       "    <tr>\n",
       "      <th>2021-01-01</th>\n",
       "      <td>Boston Celtics</td>\n",
       "      <td>93</td>\n",
       "      <td>Detroit Pistons</td>\n",
       "      <td>96</td>\n",
       "      <td>189</td>\n",
       "      <td>casa</td>\n",
       "    </tr>\n",
       "    <tr>\n",
       "      <th>2021-01-01</th>\n",
       "      <td>Atlanta Hawks</td>\n",
       "      <td>114</td>\n",
       "      <td>Brooklyn Nets</td>\n",
       "      <td>96</td>\n",
       "      <td>210</td>\n",
       "      <td>visitante</td>\n",
       "    </tr>\n",
       "    <tr>\n",
       "      <th>2021-01-01</th>\n",
       "      <td>Chicago Bulls</td>\n",
       "      <td>96</td>\n",
       "      <td>Milwaukee Bucks</td>\n",
       "      <td>126</td>\n",
       "      <td>222</td>\n",
       "      <td>casa</td>\n",
       "    </tr>\n",
       "    <tr>\n",
       "      <th>...</th>\n",
       "      <td>...</td>\n",
       "      <td>...</td>\n",
       "      <td>...</td>\n",
       "      <td>...</td>\n",
       "      <td>...</td>\n",
       "      <td>...</td>\n",
       "    </tr>\n",
       "    <tr>\n",
       "      <th>2021-01-31</th>\n",
       "      <td>Utah Jazz</td>\n",
       "      <td>117</td>\n",
       "      <td>Denver Nuggets</td>\n",
       "      <td>128</td>\n",
       "      <td>245</td>\n",
       "      <td>casa</td>\n",
       "    </tr>\n",
       "    <tr>\n",
       "      <th>2021-01-31</th>\n",
       "      <td>Philadelphia 76ers</td>\n",
       "      <td>119</td>\n",
       "      <td>Indiana Pacers</td>\n",
       "      <td>110</td>\n",
       "      <td>229</td>\n",
       "      <td>visitante</td>\n",
       "    </tr>\n",
       "    <tr>\n",
       "      <th>2021-01-31</th>\n",
       "      <td>Orlando Magic</td>\n",
       "      <td>102</td>\n",
       "      <td>Toronto Raptors</td>\n",
       "      <td>115</td>\n",
       "      <td>217</td>\n",
       "      <td>casa</td>\n",
       "    </tr>\n",
       "    <tr>\n",
       "      <th>2021-01-31</th>\n",
       "      <td>Brooklyn Nets</td>\n",
       "      <td>146</td>\n",
       "      <td>Washington Wizards</td>\n",
       "      <td>149</td>\n",
       "      <td>295</td>\n",
       "      <td>casa</td>\n",
       "    </tr>\n",
       "    <tr>\n",
       "      <th>2021-01-31</th>\n",
       "      <td>Cleveland Cavaliers</td>\n",
       "      <td>104</td>\n",
       "      <td>Minnesota Timberwolves</td>\n",
       "      <td>109</td>\n",
       "      <td>213</td>\n",
       "      <td>casa</td>\n",
       "    </tr>\n",
       "  </tbody>\n",
       "</table>\n",
       "<p>222 rows × 6 columns</p>\n",
       "</div>"
      ],
      "text/plain": [
       "                 time_visitante  pts_visit               time_casa  pts_casa  \\\n",
       "data                                                                           \n",
       "2021-01-01    Memphis Grizzlies        108       Charlotte Hornets        93   \n",
       "2021-01-01           Miami Heat         83        Dallas Mavericks        93   \n",
       "2021-01-01       Boston Celtics         93         Detroit Pistons        96   \n",
       "2021-01-01        Atlanta Hawks        114           Brooklyn Nets        96   \n",
       "2021-01-01        Chicago Bulls         96         Milwaukee Bucks       126   \n",
       "...                         ...        ...                     ...       ...   \n",
       "2021-01-31            Utah Jazz        117          Denver Nuggets       128   \n",
       "2021-01-31   Philadelphia 76ers        119          Indiana Pacers       110   \n",
       "2021-01-31        Orlando Magic        102         Toronto Raptors       115   \n",
       "2021-01-31        Brooklyn Nets        146      Washington Wizards       149   \n",
       "2021-01-31  Cleveland Cavaliers        104  Minnesota Timberwolves       109   \n",
       "\n",
       "            total   ganhador  \n",
       "data                          \n",
       "2021-01-01    201  visitante  \n",
       "2021-01-01    176       casa  \n",
       "2021-01-01    189       casa  \n",
       "2021-01-01    210  visitante  \n",
       "2021-01-01    222       casa  \n",
       "...           ...        ...  \n",
       "2021-01-31    245       casa  \n",
       "2021-01-31    229  visitante  \n",
       "2021-01-31    217       casa  \n",
       "2021-01-31    295       casa  \n",
       "2021-01-31    213       casa  \n",
       "\n",
       "[222 rows x 6 columns]"
      ]
     },
     "execution_count": 21,
     "metadata": {},
     "output_type": "execute_result"
    }
   ],
   "source": [
    "resultados.pipe(det_vencedor)"
   ]
  },
  {
   "cell_type": "code",
   "execution_count": null,
   "metadata": {},
   "outputs": [],
   "source": [
    "def det_vencedor(df):\n",
    "    df['ganhador'] = np.where(df['pts_visit']<df['pts_casa'], 'casa', 'visitante')\n",
    "    return df\n",
    "\n",
    "resultados = pd.read_html(\"https://www.basketball-reference.com/leagues/NBA_2021_games-january.html\")[0]\n",
    "\n",
    "colunas = {\n",
    "    'Date': 'data',\n",
    "    'Start (ET)': 'horario',\n",
    "    'Visitor/Neutral': 'time_visitante',\n",
    "    'PTS': 'pts_visit',\n",
    "    'Home/Neutral': 'time_casa',\n",
    "    'PTS.1': 'pts_casa',\n",
    "    'Unnamed: 6': 'a',\n",
    "    'Unnamed: 7': 'b',\n",
    "    'Attend.': 'publico',\n",
    "    'Notes': 'anot'\n",
    "}\n",
    "result_renomeado = resultados.rename(columns=colunas) #poderia ser resultados.columns = cols\n",
    "result_renomeado['data'] = pd.to_datetime(result_renomeado.data)\n",
    "result_renomeado_data = result_renomeado.set_index('data')\n",
    "result_renomeado_data_cols = result_renomeado_data.drop(['horario','a','b','publico','anot'], axis=1)\n",
    "result_renomeado_data_cols['total'] = result_renomeado_data_cols['pts_visit']+result_renomeado_data_cols['pts_casa']\n",
    "result_renomeado_data_cols_venc = result_renomeado_data_cols.apply(det_vencedor, axis=1)\n",
    "result_renomeado_data_cols_venc"
   ]
  },
  {
   "cell_type": "markdown",
   "metadata": {},
   "source": [
    "Mostrar o de cima e falar novamente sobre as monte de vars e perguntar como podemos fazer usando pipe e assign"
   ]
  },
  {
   "cell_type": "code",
   "execution_count": null,
   "metadata": {},
   "outputs": [],
   "source": [
    "df = (df.rename(columns=colunas)\n",
    "    .assign(data = lambda x: pd.to_datetime(x.data))\n",
    "    .set_index('data')\n",
    "    .drop(['horario','a','b','publico','anot'], axis=1)\n",
    "    .assign(total = lambda x: x['pts_visit']+x['pts_casa'])\n",
    "    .pipe(det_vencedor)\n",
    ")\n",
    "df.head()"
   ]
  },
  {
   "cell_type": "code",
   "execution_count": null,
   "metadata": {},
   "outputs": [],
   "source": []
  },
  {
   "cell_type": "code",
   "execution_count": null,
   "metadata": {},
   "outputs": [],
   "source": []
  },
  {
   "cell_type": "code",
   "execution_count": null,
   "metadata": {},
   "outputs": [],
   "source": []
  }
 ],
 "metadata": {
  "kernelspec": {
   "display_name": "Python 3",
   "language": "python",
   "name": "python3"
  },
  "language_info": {
   "codemirror_mode": {
    "name": "ipython",
    "version": 3
   },
   "file_extension": ".py",
   "mimetype": "text/x-python",
   "name": "python",
   "nbconvert_exporter": "python",
   "pygments_lexer": "ipython3",
   "version": "3.8.5"
  },
  "varInspector": {
   "cols": {
    "lenName": 16,
    "lenType": 16,
    "lenVar": 40
   },
   "kernels_config": {
    "python": {
     "delete_cmd_postfix": "",
     "delete_cmd_prefix": "del ",
     "library": "var_list.py",
     "varRefreshCmd": "print(var_dic_list())"
    },
    "r": {
     "delete_cmd_postfix": ") ",
     "delete_cmd_prefix": "rm(",
     "library": "var_list.r",
     "varRefreshCmd": "cat(var_dic_list()) "
    }
   },
   "types_to_exclude": [
    "module",
    "function",
    "builtin_function_or_method",
    "instance",
    "_Feature"
   ],
   "window_display": false
  }
 },
 "nbformat": 4,
 "nbformat_minor": 4
}
