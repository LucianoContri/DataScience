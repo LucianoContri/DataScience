{
 "cells": [
  {
   "cell_type": "markdown",
   "metadata": {},
   "source": [
    "# Regressão Logística I"
   ]
  },
  {
   "cell_type": "markdown",
   "metadata": {},
   "source": [
    "Índice\n",
    "\n",
    "#### 1. [Análise descritiva](#1)  \n",
    "1.1. [Bivariada](#1.1)  \n",
    "1.2. [Medida de risco do evento](#1.2)  \n",
    "1.3. [Chance de evento](#1.3)  \n",
    "1.4. [Razão de chances (*odds ratio*)](#1.4)  \n",
    "1.5. [Bivariada para variáveis contínuas](#1.5)  \n",
    "\n",
    "#### 2. [Regressão logística](#2)  \n",
    "2.1 [Função logística](#2.1)  \n",
    "2.2 [Regressão logística com uma variável](#2.2)  \n",
    "2.3 [Obtendo os parâmetros](#2.3)  \n",
    "2.4 [Modelo com mais variáveis](#2.4)  \n",
    "2.5 [Qualidade do modelo](#2.5)  "
   ]
  },
  {
   "cell_type": "markdown",
   "metadata": {},
   "source": [
    "## 1. Introdução\n",
    "\n",
    "Antes de rodar a regressão, vamos entender a análise básica sobre o problema, e alguns indicadores que sãomuito úteis para entender variáveis binárias, e vão ser muito úteis para entendermos a regressão logística.\n",
    "\n",
    "Vamos entender a análise primeiramente com base em uma tabela de frequências em uma base já conhecida."
   ]
  },
  {
   "cell_type": "code",
   "execution_count": 9,
   "metadata": {},
   "source": [
    "import pandas as pd\n",
    "import seaborn as sns\n",
    "import numpy as np\n",
    "import matplotlib.pyplot as plt\n",
    "\n",
    "%matplotlib inline"
   ],
   "outputs": []
  },
  {
   "cell_type": "markdown",
   "metadata": {},
   "source": [
    "### 1.1 Análise bivariada<a name=\"1.1\"></a>\n",
    "[Índice](#topo)  \n",
    "\n",
    "A descritiva básica é baseada na tabela cruzada. Em seguida, vamos levantar alguns indicadores que nos ajudam a resumir e entender essa tabela, e se conectam com o modelo de regressão logística de uma forma muito interessante.\n",
    "\n",
    "Vamos ilustrar com um exemplo, e a fórmula genérica será baseada na tabela abaixo:\n",
    "\n",
    "| perfil | não evento      | evento      | total    |\n",
    "|--------|----------|----------|----------|\n",
    "| **P1** | $a_{11}$ | $a_{12}$ | $a_{1.}$ |\n",
    "| **P2** | $a_{21}$ | $a_{22}$ | $a_{2.}$ |\n",
    "| **Total** | $a_{.1}$ | $a_{.2}$ | $a_{..}$ |"
   ]
  },
  {
   "cell_type": "code",
   "execution_count": 3,
   "metadata": {},
   "source": [
    "titanic = sns.load_dataset('titanic')"
   ],
   "outputs": []
  },
  {
   "cell_type": "code",
   "execution_count": 4,
   "metadata": {},
   "source": [
    "tab = pd.crosstab(titanic['sex'], titanic['survived'], margins= True)\n",
    "tab"
   ],
   "outputs": []
  },
  {
   "cell_type": "markdown",
   "metadata": {},
   "source": [
    "### 1.2 Medida de risco do evento<a name=\"1.2\"></a>\n",
    "[Índice](#topo)  \n",
    "\n",
    "O *risco* do evento é um sinônimo para a probabilidade de ocorrência de um evento, em geral quando esse evento tem uma conotação negativa (ex: inadimplência, fraude, morte etc).\n",
    "\n",
    "No exemplo da nossa tabela, o \"risco\" sobreviver para passageiros do sexo feminino é:\n",
    "\n",
    "$$P(sobreviver|feminino) = \\dfrac{a_{12}}{a_{1.}} = \\dfrac{233}{314} = 74\\%$$\n",
    "\n",
    "Observe que a probabilidade de **não sobreviver** (chamamos também não evento) pode ser escrita simplesmente como 1-P.\n",
    "\n",
    "**Observação:**\n",
    "\n",
    "- Quanto mais diferentes os riscos entre os perfis, maior o indício de relevância da variável para um modelo de classificação"
   ]
  },
  {
   "cell_type": "code",
   "execution_count": null,
   "metadata": {},
   "source": [
    "tab['probabilidade'] = tab[1]/tab['All']\n",
    "tab"
   ],
   "outputs": []
  },
  {
   "cell_type": "markdown",
   "metadata": {},
   "source": [
    "### 1.3 Chance (*Odds*)<a name=\"1.3\"></a>\n",
    "[Índice](#topo)  \n",
    "\n",
    "Chance é uma medida de incerteza assim como probabilidade, mas de uma forma um pouco diferente. A chance de um evento é definida como o número de possibilidades para o evento dividido pelo número de possibilidades para o seu complementar. Por exemplo, a **chance** de tirar **6** em um dado é de **1 / 5** - dizemos **um para cinco**.\n",
    "\n",
    "Na nossa tabela, a chance de **sobrevivência** para passageiros do sexo **feminino** pode ser calculada por:\n",
    "\n",
    "$$Odds(feminino) = \\dfrac{a_{12}}{a_{11}} = \\dfrac{233}{81} = 2.9$$\n",
    "\n",
    "Quando o evento é raro, o risco (ou probabilidade) do evento se aproximam numericamente do *odds*.\n",
    "\n",
    "Vamos calcular na nossa tabela:"
   ]
  },
  {
   "cell_type": "code",
   "execution_count": null,
   "metadata": {},
   "source": [
    "tab['chance'] = tab[1]/tab[0]\n",
    "tab"
   ],
   "outputs": []
  },
  {
   "cell_type": "code",
   "execution_count": null,
   "metadata": {},
   "source": [
    "2.87/0.23"
   ],
   "outputs": []
  },
  {
   "cell_type": "markdown",
   "metadata": {},
   "source": [
    "### 1.4 Razão de chances (*odds ratio*)<a name=\"1.4\"></a>\n",
    "[Índice](#topo)  \n",
    "\n",
    "A razão de chances é o que o nome diz: uma razão entre chances. Vamos entendê-la:\n",
    "\n",
    "A razão de chances de **sobrevivênciai** de um passageiroo do sexo **feminino** com relação à chance de **sobrevivênciai** de um passageiro doo sexo **masculino** é de ```2,9/0,2 = 12,3```. Significa que uma **mulher** possui ```12.3``` vezes a chance de **sobrevivência** de homem.\n",
    "\n",
    "Lembre-se disso: A razão de chances sempre compara as chances de um evento para dois públicos.\n",
    "\n",
    "Na nossa tabela conceitual a fórmula fica assim:\n",
    "\n",
    "$$ RC(P1/P2) = \\dfrac{\\dfrac{a_{12}}{a_{11}}}{{\\dfrac{a_{22}}{a_{21}}}} = \\dfrac{Odds(P1)}{Odds(P2)}$$"
   ]
  },
  {
   "cell_type": "code",
   "execution_count": null,
   "metadata": {},
   "source": [
    "tab.loc['male','chance']"
   ],
   "outputs": []
  },
  {
   "cell_type": "code",
   "execution_count": null,
   "metadata": {},
   "source": [
    "tab['RC_vs_male'] = tab['chance']/tab.loc['male','chance']\n",
    "tab"
   ],
   "outputs": []
  },
  {
   "cell_type": "markdown",
   "metadata": {},
   "source": [
    "#### Relação entre chance e probabilidade\n",
    "\n",
    "Repare que a chance que escrevemos como:\n",
    "\n",
    "$$chance = \\dfrac{223}{81}$$\n",
    "\n",
    "Também pode ser escrita assim:\n",
    "\n",
    "$$chance = \\dfrac{223}{81} = \\dfrac{\\dfrac{223}{314}}{\\dfrac{81}{314}} = \\dfrac{P(sobreviver|feminino)}{1-P(sobreviver|feminino)}$$\n",
    "\n",
    "ou, de forma genérica:\n",
    "\n",
    "$$chance = \\dfrac{\\dfrac{a_{12}}{a_{1.}}}{\\dfrac{a_{11}}{a_{1.}}} = \\dfrac{P(sem\\_veículo)}{1-P(sem\\_veículo)}$$\n",
    "\n",
    "A chance pode também ser escrita assim:\n",
    "\n",
    "$$Chance = \\dfrac{P}{1-P} $$\n",
    "\n"
   ]
  },
  {
   "cell_type": "markdown",
   "metadata": {},
   "source": [
    "## 2. Regressão logística<a name=\"2\"></a>\n",
    "[Índice](#topo)  \n",
    "\n",
    "É a técnica estatística mais popular para modelagem preditiva de eventos binários. Assim como a regressão, é um modelo linear - o que significa que é definida por uma equação linear, ou seja uma equação da forma  \n",
    "\n",
    "$g(y)=\\alpha + \\beta_1 x_1 + \\beta_2 x_2 +...+ \\beta_p x_p = \\eta$  \n",
    "\n",
    "Em que $\\alpha, \\beta_1, \\beta_2,... \\beta_p$ são constantes.\n",
    "\n",
    "Portanto, a regressão logística compartilha uma série de características e ferramentas com os modelos de regressão linear, mas com particularidades para a resposta binária."
   ]
  },
  {
   "cell_type": "markdown",
   "metadata": {},
   "source": [
    "### 2.1 Função logística<a name=\"2.1\"></a>\n",
    "[Índice](#topo)  \n",
    "\n",
    "O *logito* é a *função de ligação* que modelamos na regressão logística. É definido como o **logaritmo da chance**, ou ainda:\n",
    "\n",
    "$$logito=log\\left(\\frac{p}{1-p}\\right) $$\n",
    "\n",
    "O que nos dá a seguinte equação:\n",
    "\n",
    "$$log\\left(\\frac{p}{1-p}\\right) = \\alpha + \\beta_1 x_1 + \\beta_2 x_2 +...+ \\beta_p x_p$$\n",
    "\n",
    "- Quando P se aproxima de 0, o logito *vai para* $-\\infty$.  \n",
    "- Quando P se aproxima de 1, o logito *vai para* $+\\infty$.  \n",
    "- Não se define quando P=0 ou quando P=1.\n",
    "\n",
    "Vamos observar isso graficamente:"
   ]
  },
  {
   "cell_type": "code",
   "execution_count": null,
   "metadata": {},
   "source": [
    "P = pd.Series(np.linspace(0.001,.999,1000))\n",
    "P"
   ],
   "outputs": []
  },
  {
   "cell_type": "code",
   "execution_count": null,
   "metadata": {},
   "source": [
    "logito = np.log(P/(1-P))\n",
    "\n",
    "plt.plot(P, logito, 'r');"
   ],
   "outputs": []
  },
  {
   "cell_type": "markdown",
   "metadata": {},
   "source": [
    "#### Transformação inversa do logito\n",
    "\n",
    "O nosso modelo linear vai nos fornecer uma estimativa do logito para cada perfil de interesse. Podemos *voltar* na probabilidade com a função inversa do logito. Com um pouco de álgebra, chegamos nessa equação aqui:\n",
    "\n",
    "\n",
    "$$\n",
    "    p = \\frac{1}{\\left(1+e^{-\\eta}\\right)}\n",
    "$$\n"
   ]
  },
  {
   "cell_type": "code",
   "execution_count": null,
   "metadata": {},
   "source": [
    "plt.plot(logito, P, 'r')"
   ],
   "outputs": []
  },
  {
   "cell_type": "markdown",
   "metadata": {},
   "source": [
    "### 2.2 Regressão logística com uma variável <a name=\"2.2\"></a>\n",
    "[Índice](#topo)  \n",
    "\n",
    "A nossa regressão, como já falamos, é um modelo linear sobre uma função da probabilidade - essa função é o logito. Com uma variável, a equação da regressão logística que dá a probabilidade $P_i$ de default para cada cliente i=1, 2, ...N é:\n",
    "\n",
    "$$ log\\left(\\dfrac{P_i}{\\left(1-P_i\\right)}\\right) = \\alpha + \\beta x_i $$\n",
    "\n",
    "Repare que se quisermos a chance para cada perfil, basta aplicar a função exponencial dos dois lados:\n",
    "\n",
    "$$ \\dfrac{P_i}{\\left(1-P_i\\right)} = e^{\\alpha + \\beta x_i} $$\n",
    "\n",
    "Se quisermos as probabilidades, basta isolar o P na equação e obter:\n",
    "\n",
    "$$ P_i = \\dfrac{1}{1 + e^{- (\\alpha + \\beta x_i)}} $$\n",
    "\n",
    "\n",
    "\n",
    "Vamos explorar a regressão logística com a variável do exemplo anterior para entender a equação.\n"
   ]
  },
  {
   "cell_type": "code",
   "execution_count": 10,
   "metadata": {
    "collapsed": true,
    "jupyter": {
     "outputs_hidden": true
    },
    "tags": []
   },
   "source": [
    "import statsmodels.formula.api as smf\n",
    "\n",
    "reglog = smf.logit(\"survived ~ sex\",data=titanic).fit()\n",
    "reglog.summary()"
   ],
   "outputs": []
  },
  {
   "cell_type": "markdown",
   "metadata": {
    "jupyter": {
     "source_hidden": true
    },
    "tags": []
   },
   "source": [
    "### 2.3 Obtendo as probabilidades estimadas<a name=\"2.3\"></a>\n",
    "[Índice](#topo)  \n",
    "\n",
    "Além dos atributos que mencionamos e exploramos anteriormente, o objeto que armazena a regressão logística possui diversos métodos que fazem operações importantes como a aplicação da regra do modelo a uma base de dados. Essa base, no entanto, deve ter as mesmas variáveis nos mesmos nomes e formatos daquelas utilizadas na construção do modelo.\n",
    "\n",
    "Assim, podemos calcular as probabilidades de evento para cada perfil \"na mão\" ou utilizando o método ```.predict()```.\n"
   ]
  },
  {
   "cell_type": "code",
   "execution_count": null,
   "metadata": {},
   "source": [
    "reglog.params[1]"
   ],
   "outputs": []
  },
  {
   "cell_type": "code",
   "execution_count": null,
   "metadata": {},
   "source": [
    "eta = reglog.params[0] + reglog.params[1]\n",
    "eta"
   ],
   "outputs": []
  },
  {
   "cell_type": "code",
   "execution_count": null,
   "metadata": {},
   "source": [
    "chance = np.exp(eta)\n",
    "chance"
   ],
   "outputs": []
  },
  {
   "cell_type": "code",
   "execution_count": null,
   "metadata": {},
   "source": [
    "p = 1/(1 + np.exp(-eta))\n",
    "p"
   ],
   "outputs": []
  },
  {
   "cell_type": "markdown",
   "metadata": {},
   "source": [
    "#### Escorando a base com .predict()"
   ]
  },
  {
   "cell_type": "code",
   "execution_count": null,
   "metadata": {
    "scrolled": true
   },
   "source": [
    "titanic['predito'] = reglog.predict(titanic)\n",
    "\n",
    "titanic"
   ],
   "outputs": []
  },
  {
   "cell_type": "markdown",
   "metadata": {},
   "source": [
    "### 2.4 Modelo com mais variáveis<a name=\"2.4\"></a>\n",
    "[Índice](#topo)  \n",
    "\n",
    "Vamos rodar um modelo mais completo nessa base. A estrutura é essencialmente a mesma, mas com mais variáveis.\n",
    "\n",
    "$$ log\\left(\\dfrac{P_i}{1-P_i}\\right) = \\alpha + \\beta_1 x_{i1}  + \\beta_2 x_{i2} + ... + \\beta_p x_{ip}$$"
   ]
  },
  {
   "cell_type": "code",
   "execution_count": 52,
   "metadata": {},
   "source": [
    "titanic.head()"
   ],
   "outputs": []
  },
  {
   "cell_type": "code",
   "execution_count": 75,
   "metadata": {
    "tags": []
   },
   "source": [
    "reglog = smf.logit(\" survived ~ sex + C(pclass) + fare\"\n",
    "                   , data=titanic).fit()\n",
    "\n",
    "reglog.summary()"
   ],
   "outputs": []
  },
  {
   "cell_type": "code",
   "execution_count": 74,
   "metadata": {},
   "source": [
    "np.exp(-65*.0112)"
   ],
   "outputs": []
  },
  {
   "cell_type": "code",
   "execution_count": 58,
   "metadata": {},
   "source": [
    "eta = 2.2971 + (-2.6419) + (-1.9055)\n",
    "chance = np.exp(eta)\n",
    "prob = 1/(1+np.exp(-eta))\n",
    "prob"
   ],
   "outputs": []
  },
  {
   "cell_type": "code",
   "execution_count": 60,
   "metadata": {},
   "source": [
    "1/np.exp(-2.6419)"
   ],
   "outputs": []
  },
  {
   "cell_type": "code",
   "execution_count": 65,
   "metadata": {},
   "source": [
    "np.exp(-1.9055)"
   ],
   "outputs": []
  },
  {
   "cell_type": "markdown",
   "metadata": {
    "tags": []
   },
   "source": [
    "### 2.5 Qualidade do modelo <a name=\"2.5\"></a>\n",
    "[Índice](#topo)  \n",
    "\n",
    "Eixos de qualidade de um modelo:\n",
    "\n",
    "- Calibragem: O quanto uma estimativa de probabilidade de evento esta próxima da realidade.\n",
    "- Discriminação: O quanto o modelo consegue discriminar \"eventos\" de \"não eventos\" com probabilidades bem distintas.\n",
    "- Estabilidade: A qualidade do modelo de ter pouca variabilidade temporal.\n",
    "- Operacional: O quanto de pode confiar operacionalmente no modelo (consistência dos dados, infra-estrutura confiável, etc)."
   ]
  },
  {
   "cell_type": "code",
   "execution_count": 142,
   "metadata": {
    "tags": []
   },
   "source": [
    "titanic['predito'] = reglog.predict(titanic)\n",
    "titanic.head()"
   ],
   "outputs": []
  },
  {
   "cell_type": "markdown",
   "metadata": {},
   "source": [
    "#### Calibragem"
   ]
  },
  {
   "cell_type": "code",
   "execution_count": 144,
   "metadata": {},
   "source": [
    "cat_pred = pd.qcut(titanic['predito'], 5, duplicates='drop')\n",
    "cat_pred.value_counts().sort_index()"
   ],
   "outputs": []
  },
  {
   "cell_type": "code",
   "execution_count": 145,
   "metadata": {},
   "source": [
    "group_reg = titanic.groupby(cat_pred)\n",
    "qualid = group_reg[['survived']].count().rename(columns = {'survived': 'contagem'})\n",
    "qualid"
   ],
   "outputs": []
  },
  {
   "cell_type": "code",
   "execution_count": 146,
   "metadata": {},
   "source": [
    "qualid['predito'] = group_reg['predito'].mean()\n",
    "qualid"
   ],
   "outputs": []
  },
  {
   "cell_type": "code",
   "execution_count": 147,
   "metadata": {},
   "source": [
    "qualid['pct_sobrev'] = group_reg['survived'].mean()\n",
    "qualid"
   ],
   "outputs": []
  },
  {
   "cell_type": "code",
   "execution_count": 148,
   "metadata": {},
   "source": [
    "fig = plt.figure()\n",
    "ax = fig.add_subplot(1, 1, 1)\n",
    "\n",
    "ax = qualid['pct_sobrev'].plot(label='%Predito')\n",
    "ax = qualid['predito'].plot(label='%Observado')\n",
    "\n",
    "ticks = ax.set_xticks([0, 1, 2, 3, 4])\n",
    "labels = ax.set_xticklabels([1, 2, 3, 4, 5])\n",
    "ax.legend(loc=\"lower right\")\n",
    "ax.set_ylabel('Probabilidade de evento')\n",
    "ax.set_xlabel('Grupo')\n"
   ],
   "outputs": []
  },
  {
   "cell_type": "markdown",
   "metadata": {},
   "source": [
    "#### Discriminação"
   ]
  },
  {
   "cell_type": "markdown",
   "metadata": {},
   "source": [
    "Curva ROC"
   ]
  },
  {
   "cell_type": "code",
   "execution_count": 150,
   "metadata": {},
   "source": [
    "from sklearn.metrics import roc_curve\n",
    "from sklearn import metrics\n",
    "\n",
    "fpr, tpr, thresholds = metrics.roc_curve(titanic['survived'], titanic['predito'])\n",
    "\n",
    "plt.figure()\n",
    "lw = 2\n",
    "\n",
    "fpr, tpr, thresholds = metrics.roc_curve(titanic['survived'], titanic['predito'])\n",
    "auc_ = metrics.auc(fpr, tpr)\n",
    "plt.plot(fpr, tpr, color='darkorange',\n",
    "         lw=lw, label='ROC curve (area = %0.2f)' % auc_)\n",
    "plt.plot([0, 1], [0, 1], color='navy', lw=lw, linestyle='--')\n",
    "plt.xlim([0.0, 1.0])\n",
    "plt.ylim([0.0, 1.05])\n",
    "plt.xlabel('False Positive Rate')\n",
    "plt.ylabel('True Positive Rate')\n",
    "plt.title('Receiver operating characteristic example')\n",
    "plt.legend(loc=\"lower right\")\n",
    "plt.show()\n",
    "\n"
   ],
   "outputs": []
  },
  {
   "cell_type": "markdown",
   "metadata": {},
   "source": [
    "Gráfico do KS"
   ]
  },
  {
   "cell_type": "code",
   "execution_count": 154,
   "metadata": {},
   "source": [
    "fig = plt.figure()\n",
    "ax = fig.add_subplot(1, 1, 1)\n",
    "\n",
    "score_pop1 = titanic.loc[titanic['survived']==1,'predito']\n",
    "ax.plot(np.sort(score_pop1), np.linspace(0, 1, len(score_pop1), endpoint=False), label='Sobreviventes')\n",
    "\n",
    "score_pop2 = titanic.loc[titanic['survived']!=1,'predito']\n",
    "ax.plot(np.sort(score_pop2), np.linspace(0, 1, len(score_pop2), endpoint=False), label='Não sobreviventes')\n",
    "ax.legend()\n",
    "\n",
    "ax.set_xlabel('P')\n",
    "ax.set_ylabel('Função Distribuição Acumulada')\n"
   ],
   "outputs": []
  },
  {
   "cell_type": "markdown",
   "metadata": {},
   "source": [
    "#### Indicadores"
   ]
  },
  {
   "cell_type": "code",
   "execution_count": 155,
   "metadata": {},
   "source": [
    "from sklearn import metrics\n",
    "from scipy.stats import ks_2samp\n",
    "\n",
    "acc = metrics.accuracy_score(titanic['survived'], titanic['predito']>.5)\n",
    "print('Acurácia: {0:.2f}%'.format(acc*100))\n",
    "\n",
    "#AUC\n",
    "fpr, tpr, thresholds = metrics.roc_curve(titanic['survived'], titanic['predito'])\n",
    "auc_ = metrics.auc(fpr, tpr)\n",
    "#Gini\n",
    "gini = 2*auc_ -1\n",
    "#KS\n",
    "ks = ks_2samp(titanic.loc[titanic['survived'] == 1, 'predito'], titanic.loc[titanic['survived'] != 1, 'predito']).statistic\n",
    "\n",
    "print('KS: {0:.2f}% \\nAUC: {1:.2f}% \\nGINI: {2:.2f}%'\n",
    "      .format(ks*100, auc_*100, gini*100))"
   ],
   "outputs": []
  }
 ],
 "metadata": {
  "kernelspec": {
   "display_name": "Python 3",
   "language": "python",
   "name": "python3"
  },
  "language_info": {
   "codemirror_mode": {
    "name": "ipython",
    "version": 3
   },
   "file_extension": ".py",
   "mimetype": "text/x-python",
   "name": "python",
   "nbconvert_exporter": "python",
   "pygments_lexer": "ipython3",
   "version": "3.8.5"
  },
  "toc-showmarkdowntxt": true
 },
 "nbformat": 4,
 "nbformat_minor": 4
}
