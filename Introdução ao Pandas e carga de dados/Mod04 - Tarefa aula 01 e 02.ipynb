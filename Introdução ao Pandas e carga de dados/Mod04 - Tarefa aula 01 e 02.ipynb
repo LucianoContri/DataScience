{
 "cells": [
  {
   "cell_type": "markdown",
   "metadata": {},
   "source": [
    "# Tarefa 01\n",
    "\n",
    "- Leia os enunciados com atenção\n",
    "- Saiba que pode haver mais de uma resposta correta\n",
    "- Insira novas células de código sempre que achar necessário\n",
    "- Em caso de dúvidas, procure os tutores\n",
    "- Divirta-se :)\n",
    "\n",
    "#### 1)  crie uma série do pandas a partir de uma lista com os dados abaixo:\n",
    "\n",
    "Em um estudo sobre alteração na tempreatura global, A NASA disponibiliza dados de diferenças de de temperatura média da superfície terrestre relativos às médias de temperatura entre 1951 e 1980. Os dados originais podem ser vistos no site da NASA/GISS, e estão dispostos a cada década na tabela abaixo.\n",
    "\n",
    "| ano  | anomalia termica |\n",
    "|:----:|:----------------:|\n",
    "| 1900 |      -0.08       |\n",
    "| 1920 |      -0.27       |\n",
    "| 1940 |       0.12       |\n",
    "| 1960 |      -0.03       |\n",
    "| 1980 |       0.26       |\n",
    "| 2000 |       0.40       |\n",
    "| 2020 |       1.02       |\n",
    "\n",
    "Crie uma séries do Pandas a partir de uma lista com esses dados."
   ]
  },
  {
   "cell_type": "code",
   "execution_count": 2,
   "metadata": {
    "ExecuteTime": {
     "end_time": "2023-09-22T16:59:58.262727900Z",
     "start_time": "2023-09-22T16:59:57.675809300Z"
    }
   },
   "outputs": [
    {
     "data": {
      "text/plain": "0   -0.08\n1   -0.27\n2    0.12\n3   -0.03\n4    0.26\n5    0.40\n6    1.02\ndtype: float64"
     },
     "execution_count": 2,
     "metadata": {},
     "output_type": "execute_result"
    }
   ],
   "source": [
    "import pandas as pd\n",
    "import numpy as np\n",
    "\n",
    "# Seu código aqui\n",
    "dados = [-0.08, -0.27, 0.12, -0.03, 0.26, 0.40, 1.02]\n",
    "temp_nasa = pd.Series(data = dados)\n",
    "temp_nasa\n"
   ]
  },
  {
   "cell_type": "markdown",
   "metadata": {},
   "source": [
    "#### 2) Coloque os anos nos índices conforme a tabela."
   ]
  },
  {
   "cell_type": "code",
   "execution_count": 3,
   "metadata": {
    "ExecuteTime": {
     "end_time": "2023-09-22T17:00:01.427917900Z",
     "start_time": "2023-09-22T17:00:01.421992400Z"
    }
   },
   "outputs": [
    {
     "data": {
      "text/plain": "1900   -0.08\n1920   -0.27\n1940    0.12\n1960   -0.03\n1980    0.26\n2000    0.40\n2020    1.02\ndtype: float64"
     },
     "execution_count": 3,
     "metadata": {},
     "output_type": "execute_result"
    }
   ],
   "source": [
    "\n",
    "# seu código aqui\n",
    "anos = [1900, 1920, 1940, 1960, 1980, 2000, 2020]\n",
    "temp_nasa_index = pd.Series(data = dados, index = anos)\n",
    "temp_nasa_index"
   ]
  },
  {
   "cell_type": "markdown",
   "metadata": {},
   "source": [
    "#### 3) A partir do dicionário abaixo, crie uma séries do Pandas:"
   ]
  },
  {
   "cell_type": "code",
   "execution_count": 4,
   "metadata": {
    "ExecuteTime": {
     "end_time": "2023-09-22T17:00:04.289693800Z",
     "start_time": "2023-09-22T17:00:04.284652900Z"
    }
   },
   "outputs": [
    {
     "data": {
      "text/plain": "1900   -0.08\n1920   -0.27\n1940    0.12\n1960   -0.03\n1980    0.26\n2000    0.40\n2020    1.02\ndtype: float64"
     },
     "execution_count": 4,
     "metadata": {},
     "output_type": "execute_result"
    }
   ],
   "source": [
    "dic_temperaturas = {1900: -.08, 1920: -.27, 1940: .12, 1960: -.03, 1980: .26, 2000: .40, 2020: 1.02}\n",
    "\n",
    "# seu código aqui\n",
    "dic_temp = pd.Series(dic_temperaturas)\n",
    "dic_temp"
   ]
  },
  {
   "cell_type": "markdown",
   "metadata": {},
   "source": [
    "#### 4) Transforme o ndarray abaixo em um dataframe. \n",
    "O numpy é capaz de gerar arrays n-dimensionais com números pseudo-aleatórios de acordo com uma variedade de distribuições, como no exemplo abaixo. Transforme esse nd-array em um DataFrame."
   ]
  },
  {
   "cell_type": "code",
   "execution_count": 5,
   "metadata": {
    "ExecuteTime": {
     "end_time": "2023-09-22T17:00:07.229842Z",
     "start_time": "2023-09-22T17:00:07.207886600Z"
    }
   },
   "outputs": [
    {
     "data": {
      "text/plain": "             0           1           2\n0   100.084298  100.778922   94.613455\n1    94.090090  102.864924   99.990440\n2   117.837028  101.267835  100.820514\n3    92.085904   99.916560   95.067934\n4   112.797832  107.109329   98.758990\n5   109.006354   94.992369   80.632862\n6   107.371459  102.424505   94.347815\n7   102.584555  105.350987   88.644905\n8   110.164576  111.936439   81.126844\n9   103.495310  101.951878  115.390956\n10  116.027927  105.823505  109.527618\n11   98.423443  104.236557   89.138620\n12  109.671337  119.956709  106.735902\n13  109.286405   95.390930   92.374338\n14  101.388614  107.276468   91.263373\n15  104.414610   98.244078   99.081355\n16   95.622022  102.627033  108.443977\n17   86.427611  127.458290  102.565535\n18   97.865022   92.115792   91.531020\n19   96.098368  101.395992   98.134965",
      "text/html": "<div>\n<style scoped>\n    .dataframe tbody tr th:only-of-type {\n        vertical-align: middle;\n    }\n\n    .dataframe tbody tr th {\n        vertical-align: top;\n    }\n\n    .dataframe thead th {\n        text-align: right;\n    }\n</style>\n<table border=\"1\" class=\"dataframe\">\n  <thead>\n    <tr style=\"text-align: right;\">\n      <th></th>\n      <th>0</th>\n      <th>1</th>\n      <th>2</th>\n    </tr>\n  </thead>\n  <tbody>\n    <tr>\n      <th>0</th>\n      <td>100.084298</td>\n      <td>100.778922</td>\n      <td>94.613455</td>\n    </tr>\n    <tr>\n      <th>1</th>\n      <td>94.090090</td>\n      <td>102.864924</td>\n      <td>99.990440</td>\n    </tr>\n    <tr>\n      <th>2</th>\n      <td>117.837028</td>\n      <td>101.267835</td>\n      <td>100.820514</td>\n    </tr>\n    <tr>\n      <th>3</th>\n      <td>92.085904</td>\n      <td>99.916560</td>\n      <td>95.067934</td>\n    </tr>\n    <tr>\n      <th>4</th>\n      <td>112.797832</td>\n      <td>107.109329</td>\n      <td>98.758990</td>\n    </tr>\n    <tr>\n      <th>5</th>\n      <td>109.006354</td>\n      <td>94.992369</td>\n      <td>80.632862</td>\n    </tr>\n    <tr>\n      <th>6</th>\n      <td>107.371459</td>\n      <td>102.424505</td>\n      <td>94.347815</td>\n    </tr>\n    <tr>\n      <th>7</th>\n      <td>102.584555</td>\n      <td>105.350987</td>\n      <td>88.644905</td>\n    </tr>\n    <tr>\n      <th>8</th>\n      <td>110.164576</td>\n      <td>111.936439</td>\n      <td>81.126844</td>\n    </tr>\n    <tr>\n      <th>9</th>\n      <td>103.495310</td>\n      <td>101.951878</td>\n      <td>115.390956</td>\n    </tr>\n    <tr>\n      <th>10</th>\n      <td>116.027927</td>\n      <td>105.823505</td>\n      <td>109.527618</td>\n    </tr>\n    <tr>\n      <th>11</th>\n      <td>98.423443</td>\n      <td>104.236557</td>\n      <td>89.138620</td>\n    </tr>\n    <tr>\n      <th>12</th>\n      <td>109.671337</td>\n      <td>119.956709</td>\n      <td>106.735902</td>\n    </tr>\n    <tr>\n      <th>13</th>\n      <td>109.286405</td>\n      <td>95.390930</td>\n      <td>92.374338</td>\n    </tr>\n    <tr>\n      <th>14</th>\n      <td>101.388614</td>\n      <td>107.276468</td>\n      <td>91.263373</td>\n    </tr>\n    <tr>\n      <th>15</th>\n      <td>104.414610</td>\n      <td>98.244078</td>\n      <td>99.081355</td>\n    </tr>\n    <tr>\n      <th>16</th>\n      <td>95.622022</td>\n      <td>102.627033</td>\n      <td>108.443977</td>\n    </tr>\n    <tr>\n      <th>17</th>\n      <td>86.427611</td>\n      <td>127.458290</td>\n      <td>102.565535</td>\n    </tr>\n    <tr>\n      <th>18</th>\n      <td>97.865022</td>\n      <td>92.115792</td>\n      <td>91.531020</td>\n    </tr>\n    <tr>\n      <th>19</th>\n      <td>96.098368</td>\n      <td>101.395992</td>\n      <td>98.134965</td>\n    </tr>\n  </tbody>\n</table>\n</div>"
     },
     "execution_count": 5,
     "metadata": {},
     "output_type": "execute_result"
    }
   ],
   "source": [
    "arr = np.random.normal(100, 10, (20,3))\n",
    "df = pd.DataFrame(arr)\n",
    "df\n",
    "\n",
    "# seu código aqui"
   ]
  },
  {
   "cell_type": "markdown",
   "metadata": {},
   "source": [
    "#### 5) Nomeie os índices das linhas com inteiros de 1 a 20, e as colunas com os nomes \"x1\", \"x2\", e \"x3\" respectivamente."
   ]
  },
  {
   "cell_type": "code",
   "execution_count": 6,
   "metadata": {
    "ExecuteTime": {
     "end_time": "2023-09-22T17:00:43.682333700Z",
     "start_time": "2023-09-22T17:00:43.662371100Z"
    }
   },
   "outputs": [
    {
     "data": {
      "text/plain": "            x1          x2          x3\n1   100.084298  100.778922   94.613455\n2    94.090090  102.864924   99.990440\n3   117.837028  101.267835  100.820514\n4    92.085904   99.916560   95.067934\n5   112.797832  107.109329   98.758990\n6   109.006354   94.992369   80.632862\n7   107.371459  102.424505   94.347815\n8   102.584555  105.350987   88.644905\n9   110.164576  111.936439   81.126844\n10  103.495310  101.951878  115.390956\n11  116.027927  105.823505  109.527618\n12   98.423443  104.236557   89.138620\n13  109.671337  119.956709  106.735902\n14  109.286405   95.390930   92.374338\n15  101.388614  107.276468   91.263373\n16  104.414610   98.244078   99.081355\n17   95.622022  102.627033  108.443977\n18   86.427611  127.458290  102.565535\n19   97.865022   92.115792   91.531020\n20   96.098368  101.395992   98.134965",
      "text/html": "<div>\n<style scoped>\n    .dataframe tbody tr th:only-of-type {\n        vertical-align: middle;\n    }\n\n    .dataframe tbody tr th {\n        vertical-align: top;\n    }\n\n    .dataframe thead th {\n        text-align: right;\n    }\n</style>\n<table border=\"1\" class=\"dataframe\">\n  <thead>\n    <tr style=\"text-align: right;\">\n      <th></th>\n      <th>x1</th>\n      <th>x2</th>\n      <th>x3</th>\n    </tr>\n  </thead>\n  <tbody>\n    <tr>\n      <th>1</th>\n      <td>100.084298</td>\n      <td>100.778922</td>\n      <td>94.613455</td>\n    </tr>\n    <tr>\n      <th>2</th>\n      <td>94.090090</td>\n      <td>102.864924</td>\n      <td>99.990440</td>\n    </tr>\n    <tr>\n      <th>3</th>\n      <td>117.837028</td>\n      <td>101.267835</td>\n      <td>100.820514</td>\n    </tr>\n    <tr>\n      <th>4</th>\n      <td>92.085904</td>\n      <td>99.916560</td>\n      <td>95.067934</td>\n    </tr>\n    <tr>\n      <th>5</th>\n      <td>112.797832</td>\n      <td>107.109329</td>\n      <td>98.758990</td>\n    </tr>\n    <tr>\n      <th>6</th>\n      <td>109.006354</td>\n      <td>94.992369</td>\n      <td>80.632862</td>\n    </tr>\n    <tr>\n      <th>7</th>\n      <td>107.371459</td>\n      <td>102.424505</td>\n      <td>94.347815</td>\n    </tr>\n    <tr>\n      <th>8</th>\n      <td>102.584555</td>\n      <td>105.350987</td>\n      <td>88.644905</td>\n    </tr>\n    <tr>\n      <th>9</th>\n      <td>110.164576</td>\n      <td>111.936439</td>\n      <td>81.126844</td>\n    </tr>\n    <tr>\n      <th>10</th>\n      <td>103.495310</td>\n      <td>101.951878</td>\n      <td>115.390956</td>\n    </tr>\n    <tr>\n      <th>11</th>\n      <td>116.027927</td>\n      <td>105.823505</td>\n      <td>109.527618</td>\n    </tr>\n    <tr>\n      <th>12</th>\n      <td>98.423443</td>\n      <td>104.236557</td>\n      <td>89.138620</td>\n    </tr>\n    <tr>\n      <th>13</th>\n      <td>109.671337</td>\n      <td>119.956709</td>\n      <td>106.735902</td>\n    </tr>\n    <tr>\n      <th>14</th>\n      <td>109.286405</td>\n      <td>95.390930</td>\n      <td>92.374338</td>\n    </tr>\n    <tr>\n      <th>15</th>\n      <td>101.388614</td>\n      <td>107.276468</td>\n      <td>91.263373</td>\n    </tr>\n    <tr>\n      <th>16</th>\n      <td>104.414610</td>\n      <td>98.244078</td>\n      <td>99.081355</td>\n    </tr>\n    <tr>\n      <th>17</th>\n      <td>95.622022</td>\n      <td>102.627033</td>\n      <td>108.443977</td>\n    </tr>\n    <tr>\n      <th>18</th>\n      <td>86.427611</td>\n      <td>127.458290</td>\n      <td>102.565535</td>\n    </tr>\n    <tr>\n      <th>19</th>\n      <td>97.865022</td>\n      <td>92.115792</td>\n      <td>91.531020</td>\n    </tr>\n    <tr>\n      <th>20</th>\n      <td>96.098368</td>\n      <td>101.395992</td>\n      <td>98.134965</td>\n    </tr>\n  </tbody>\n</table>\n</div>"
     },
     "execution_count": 6,
     "metadata": {},
     "output_type": "execute_result"
    }
   ],
   "source": [
    "#seu código aqui\n",
    "N= len(df)\n",
    "df.columns = [\"x1\", \"x2\", \"x3\"]\n",
    "df.index = range(1,N +1)\n",
    "df\n"
   ]
  },
  {
   "cell_type": "markdown",
   "metadata": {},
   "source": [
    "#### 6) No DataFrame do exercício 5, crie uma nova coluna como sendo a média das três colunas, e dê a ela o nome de \"media\" (não recomendo colocar acentos em nomes de variáveis)."
   ]
  },
  {
   "cell_type": "code",
   "execution_count": 11,
   "metadata": {
    "ExecuteTime": {
     "end_time": "2023-09-22T17:02:57.267635400Z",
     "start_time": "2023-09-22T17:02:57.245494500Z"
    }
   },
   "outputs": [
    {
     "data": {
      "text/plain": "            x1          x2          x3       media\n1   100.084298  100.778922   94.613455   98.492225\n2    94.090090  102.864924   99.990440   98.981818\n3   117.837028  101.267835  100.820514  106.641792\n4    92.085904   99.916560   95.067934   95.690133\n5   112.797832  107.109329   98.758990  106.222050\n6   109.006354   94.992369   80.632862   94.877195\n7   107.371459  102.424505   94.347815  101.381260\n8   102.584555  105.350987   88.644905   98.860149\n9   110.164576  111.936439   81.126844  101.075953\n10  103.495310  101.951878  115.390956  106.946048\n11  116.027927  105.823505  109.527618  110.459683\n12   98.423443  104.236557   89.138620   97.266206\n13  109.671337  119.956709  106.735902  112.121316\n14  109.286405   95.390930   92.374338   99.017224\n15  101.388614  107.276468   91.263373   99.976152\n16  104.414610   98.244078   99.081355  100.580014\n17   95.622022  102.627033  108.443977  102.231011\n18   86.427611  127.458290  102.565535  105.483812\n19   97.865022   92.115792   91.531020   93.837278\n20   96.098368  101.395992   98.134965   98.543108",
      "text/html": "<div>\n<style scoped>\n    .dataframe tbody tr th:only-of-type {\n        vertical-align: middle;\n    }\n\n    .dataframe tbody tr th {\n        vertical-align: top;\n    }\n\n    .dataframe thead th {\n        text-align: right;\n    }\n</style>\n<table border=\"1\" class=\"dataframe\">\n  <thead>\n    <tr style=\"text-align: right;\">\n      <th></th>\n      <th>x1</th>\n      <th>x2</th>\n      <th>x3</th>\n      <th>media</th>\n    </tr>\n  </thead>\n  <tbody>\n    <tr>\n      <th>1</th>\n      <td>100.084298</td>\n      <td>100.778922</td>\n      <td>94.613455</td>\n      <td>98.492225</td>\n    </tr>\n    <tr>\n      <th>2</th>\n      <td>94.090090</td>\n      <td>102.864924</td>\n      <td>99.990440</td>\n      <td>98.981818</td>\n    </tr>\n    <tr>\n      <th>3</th>\n      <td>117.837028</td>\n      <td>101.267835</td>\n      <td>100.820514</td>\n      <td>106.641792</td>\n    </tr>\n    <tr>\n      <th>4</th>\n      <td>92.085904</td>\n      <td>99.916560</td>\n      <td>95.067934</td>\n      <td>95.690133</td>\n    </tr>\n    <tr>\n      <th>5</th>\n      <td>112.797832</td>\n      <td>107.109329</td>\n      <td>98.758990</td>\n      <td>106.222050</td>\n    </tr>\n    <tr>\n      <th>6</th>\n      <td>109.006354</td>\n      <td>94.992369</td>\n      <td>80.632862</td>\n      <td>94.877195</td>\n    </tr>\n    <tr>\n      <th>7</th>\n      <td>107.371459</td>\n      <td>102.424505</td>\n      <td>94.347815</td>\n      <td>101.381260</td>\n    </tr>\n    <tr>\n      <th>8</th>\n      <td>102.584555</td>\n      <td>105.350987</td>\n      <td>88.644905</td>\n      <td>98.860149</td>\n    </tr>\n    <tr>\n      <th>9</th>\n      <td>110.164576</td>\n      <td>111.936439</td>\n      <td>81.126844</td>\n      <td>101.075953</td>\n    </tr>\n    <tr>\n      <th>10</th>\n      <td>103.495310</td>\n      <td>101.951878</td>\n      <td>115.390956</td>\n      <td>106.946048</td>\n    </tr>\n    <tr>\n      <th>11</th>\n      <td>116.027927</td>\n      <td>105.823505</td>\n      <td>109.527618</td>\n      <td>110.459683</td>\n    </tr>\n    <tr>\n      <th>12</th>\n      <td>98.423443</td>\n      <td>104.236557</td>\n      <td>89.138620</td>\n      <td>97.266206</td>\n    </tr>\n    <tr>\n      <th>13</th>\n      <td>109.671337</td>\n      <td>119.956709</td>\n      <td>106.735902</td>\n      <td>112.121316</td>\n    </tr>\n    <tr>\n      <th>14</th>\n      <td>109.286405</td>\n      <td>95.390930</td>\n      <td>92.374338</td>\n      <td>99.017224</td>\n    </tr>\n    <tr>\n      <th>15</th>\n      <td>101.388614</td>\n      <td>107.276468</td>\n      <td>91.263373</td>\n      <td>99.976152</td>\n    </tr>\n    <tr>\n      <th>16</th>\n      <td>104.414610</td>\n      <td>98.244078</td>\n      <td>99.081355</td>\n      <td>100.580014</td>\n    </tr>\n    <tr>\n      <th>17</th>\n      <td>95.622022</td>\n      <td>102.627033</td>\n      <td>108.443977</td>\n      <td>102.231011</td>\n    </tr>\n    <tr>\n      <th>18</th>\n      <td>86.427611</td>\n      <td>127.458290</td>\n      <td>102.565535</td>\n      <td>105.483812</td>\n    </tr>\n    <tr>\n      <th>19</th>\n      <td>97.865022</td>\n      <td>92.115792</td>\n      <td>91.531020</td>\n      <td>93.837278</td>\n    </tr>\n    <tr>\n      <th>20</th>\n      <td>96.098368</td>\n      <td>101.395992</td>\n      <td>98.134965</td>\n      <td>98.543108</td>\n    </tr>\n  </tbody>\n</table>\n</div>"
     },
     "execution_count": 11,
     "metadata": {},
     "output_type": "execute_result"
    }
   ],
   "source": [
    "# seu código aqui\n",
    "df['media'] = df[[\"x1\", \"x2\", \"x3\"]].sum(axis=1) / 3\n",
    "df"
   ]
  },
  {
   "cell_type": "markdown",
   "metadata": {},
   "source": [
    "#### 7) No DataFrame do exercício 6, crie uma nova coluna chamada \"log_med\", contendo o logaritmo natural da média calculada no exercício 6 <br>"
   ]
  },
  {
   "cell_type": "code",
   "execution_count": 12,
   "metadata": {
    "ExecuteTime": {
     "end_time": "2023-09-22T17:11:32.357811800Z",
     "start_time": "2023-09-22T17:11:32.316177200Z"
    }
   },
   "outputs": [
    {
     "data": {
      "text/plain": "            x1          x2          x3       media   log_med\n1   100.084298  100.778922   94.613455   98.492225  4.589978\n2    94.090090  102.864924   99.990440   98.981818  4.594936\n3   117.837028  101.267835  100.820514  106.641792  4.669475\n4    92.085904   99.916560   95.067934   95.690133  4.561115\n5   112.797832  107.109329   98.758990  106.222050  4.665532\n6   109.006354   94.992369   80.632862   94.877195  4.552583\n7   107.371459  102.424505   94.347815  101.381260  4.618888\n8   102.584555  105.350987   88.644905   98.860149  4.593706\n9   110.164576  111.936439   81.126844  101.075953  4.615872\n10  103.495310  101.951878  115.390956  106.946048  4.672324\n11  116.027927  105.823505  109.527618  110.459683  4.704651\n12   98.423443  104.236557   89.138620   97.266206  4.577452\n13  109.671337  119.956709  106.735902  112.121316  4.719581\n14  109.286405   95.390930   92.374338   99.017224  4.595294\n15  101.388614  107.276468   91.263373   99.976152  4.604932\n16  104.414610   98.244078   99.081355  100.580014  4.610954\n17   95.622022  102.627033  108.443977  102.231011  4.627235\n18   86.427611  127.458290  102.565535  105.483812  4.658558\n19   97.865022   92.115792   91.531020   93.837278  4.541562\n20   96.098368  101.395992   98.134965   98.543108  4.590494",
      "text/html": "<div>\n<style scoped>\n    .dataframe tbody tr th:only-of-type {\n        vertical-align: middle;\n    }\n\n    .dataframe tbody tr th {\n        vertical-align: top;\n    }\n\n    .dataframe thead th {\n        text-align: right;\n    }\n</style>\n<table border=\"1\" class=\"dataframe\">\n  <thead>\n    <tr style=\"text-align: right;\">\n      <th></th>\n      <th>x1</th>\n      <th>x2</th>\n      <th>x3</th>\n      <th>media</th>\n      <th>log_med</th>\n    </tr>\n  </thead>\n  <tbody>\n    <tr>\n      <th>1</th>\n      <td>100.084298</td>\n      <td>100.778922</td>\n      <td>94.613455</td>\n      <td>98.492225</td>\n      <td>4.589978</td>\n    </tr>\n    <tr>\n      <th>2</th>\n      <td>94.090090</td>\n      <td>102.864924</td>\n      <td>99.990440</td>\n      <td>98.981818</td>\n      <td>4.594936</td>\n    </tr>\n    <tr>\n      <th>3</th>\n      <td>117.837028</td>\n      <td>101.267835</td>\n      <td>100.820514</td>\n      <td>106.641792</td>\n      <td>4.669475</td>\n    </tr>\n    <tr>\n      <th>4</th>\n      <td>92.085904</td>\n      <td>99.916560</td>\n      <td>95.067934</td>\n      <td>95.690133</td>\n      <td>4.561115</td>\n    </tr>\n    <tr>\n      <th>5</th>\n      <td>112.797832</td>\n      <td>107.109329</td>\n      <td>98.758990</td>\n      <td>106.222050</td>\n      <td>4.665532</td>\n    </tr>\n    <tr>\n      <th>6</th>\n      <td>109.006354</td>\n      <td>94.992369</td>\n      <td>80.632862</td>\n      <td>94.877195</td>\n      <td>4.552583</td>\n    </tr>\n    <tr>\n      <th>7</th>\n      <td>107.371459</td>\n      <td>102.424505</td>\n      <td>94.347815</td>\n      <td>101.381260</td>\n      <td>4.618888</td>\n    </tr>\n    <tr>\n      <th>8</th>\n      <td>102.584555</td>\n      <td>105.350987</td>\n      <td>88.644905</td>\n      <td>98.860149</td>\n      <td>4.593706</td>\n    </tr>\n    <tr>\n      <th>9</th>\n      <td>110.164576</td>\n      <td>111.936439</td>\n      <td>81.126844</td>\n      <td>101.075953</td>\n      <td>4.615872</td>\n    </tr>\n    <tr>\n      <th>10</th>\n      <td>103.495310</td>\n      <td>101.951878</td>\n      <td>115.390956</td>\n      <td>106.946048</td>\n      <td>4.672324</td>\n    </tr>\n    <tr>\n      <th>11</th>\n      <td>116.027927</td>\n      <td>105.823505</td>\n      <td>109.527618</td>\n      <td>110.459683</td>\n      <td>4.704651</td>\n    </tr>\n    <tr>\n      <th>12</th>\n      <td>98.423443</td>\n      <td>104.236557</td>\n      <td>89.138620</td>\n      <td>97.266206</td>\n      <td>4.577452</td>\n    </tr>\n    <tr>\n      <th>13</th>\n      <td>109.671337</td>\n      <td>119.956709</td>\n      <td>106.735902</td>\n      <td>112.121316</td>\n      <td>4.719581</td>\n    </tr>\n    <tr>\n      <th>14</th>\n      <td>109.286405</td>\n      <td>95.390930</td>\n      <td>92.374338</td>\n      <td>99.017224</td>\n      <td>4.595294</td>\n    </tr>\n    <tr>\n      <th>15</th>\n      <td>101.388614</td>\n      <td>107.276468</td>\n      <td>91.263373</td>\n      <td>99.976152</td>\n      <td>4.604932</td>\n    </tr>\n    <tr>\n      <th>16</th>\n      <td>104.414610</td>\n      <td>98.244078</td>\n      <td>99.081355</td>\n      <td>100.580014</td>\n      <td>4.610954</td>\n    </tr>\n    <tr>\n      <th>17</th>\n      <td>95.622022</td>\n      <td>102.627033</td>\n      <td>108.443977</td>\n      <td>102.231011</td>\n      <td>4.627235</td>\n    </tr>\n    <tr>\n      <th>18</th>\n      <td>86.427611</td>\n      <td>127.458290</td>\n      <td>102.565535</td>\n      <td>105.483812</td>\n      <td>4.658558</td>\n    </tr>\n    <tr>\n      <th>19</th>\n      <td>97.865022</td>\n      <td>92.115792</td>\n      <td>91.531020</td>\n      <td>93.837278</td>\n      <td>4.541562</td>\n    </tr>\n    <tr>\n      <th>20</th>\n      <td>96.098368</td>\n      <td>101.395992</td>\n      <td>98.134965</td>\n      <td>98.543108</td>\n      <td>4.590494</td>\n    </tr>\n  </tbody>\n</table>\n</div>"
     },
     "execution_count": 12,
     "metadata": {},
     "output_type": "execute_result"
    }
   ],
   "source": [
    "# seu código aqui\n",
    "df['log_med'] = np.log(df['media'])\n",
    "df"
   ]
  },
  {
   "cell_type": "code",
   "execution_count": null,
   "outputs": [],
   "source": [],
   "metadata": {
    "collapsed": false
   }
  }
 ],
 "metadata": {
  "kernelspec": {
   "display_name": "Python 3 (ipykernel)",
   "language": "python",
   "name": "python3"
  },
  "language_info": {
   "codemirror_mode": {
    "name": "ipython",
    "version": 3
   },
   "file_extension": ".py",
   "mimetype": "text/x-python",
   "name": "python",
   "nbconvert_exporter": "python",
   "pygments_lexer": "ipython3",
   "version": "3.11.4"
  }
 },
 "nbformat": 4,
 "nbformat_minor": 4
}
