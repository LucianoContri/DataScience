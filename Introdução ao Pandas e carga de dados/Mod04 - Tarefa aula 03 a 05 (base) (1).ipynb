{
 "cells": [
  {
   "cell_type": "markdown",
   "metadata": {},
   "source": [
    "## Exercício 1: Vestibular\n",
    "\n",
    "Considere que a os dados gerados na célula abaixo contêm o número de acertos de 100 alunos em um vestibular para um curso de exatas, divididas pelos respectivos assuntos. Considere que cada assunto possui um número de questões conforme a tabela abaixo:\n",
    "\n",
    "| assunto | número de questões |\n",
    "|:---:|:---:|\n",
    "| Matemática | 24 |\n",
    "| Português | 18 |\n",
    "| Geografia | 8 |\n",
    "| Inglês | 8 |\n",
    "| História | 8 |\n",
    "| Física | 12 |\n",
    "| Química | 12 |\n",
    "\n",
    "Usando os comandos de operações com DataFrames que você aprendeu na Aula 03, calcule:\n",
    "\n",
    "1. (operações com escalar) Calcule o percentual de acerto dos alunos por assunto.  \n",
    "2. (operações entre *DataFrames) Calcule o total de acertos de cada aluno.  \n",
    "3. Calcule o porcentual geral de cada aluno.  \n",
    "4. Suponha que a nota de corte para a segunda fase seja 45. Quantos alunos tiveram nota maior que 45?  "
   ]
  },
  {
   "cell_type": "code",
   "execution_count": 14,
   "metadata": {
    "ExecuteTime": {
     "end_time": "2023-10-05T14:31:01.457270600Z",
     "start_time": "2023-10-05T14:31:01.425947800Z"
    }
   },
   "outputs": [],
   "source": [
    "import pandas as pd\n",
    "import numpy as np\n",
    "\n",
    "np.random.seed(42)\n",
    "df_mat = pd.DataFrame(np.random.randint(24, size=(100, 1)), columns=['Qt_acertos'])\n",
    "(df_mat.sum()/df_mat.count())\n",
    "df_por = pd.DataFrame(np.random.randint(18, size=(100, 1)), columns=['Qt_acertos'])\n",
    "\n",
    "df_geo = pd.DataFrame(np.random.randint(8, size=(100, 1)), columns=['Qt_acertos'])\n",
    "\n",
    "df_ing = pd.DataFrame(np.random.randint(8, size=(100, 1)), columns=['Qt_acertos'])\n",
    "\n",
    "df_his = pd.DataFrame(np.random.randint(8, size=(100, 1)), columns=['Qt_acertos'])\n",
    "\n",
    "df_fis = pd.DataFrame(np.random.randint(12, size=(100, 1)), columns=['Qt_acertos'])\n",
    "\n",
    "df_qui = pd.DataFrame(np.random.randint(12, size=(100, 1)), columns=['Qt_acertos'])"
   ]
  },
  {
   "cell_type": "code",
   "execution_count": 15,
   "metadata": {
    "ExecuteTime": {
     "end_time": "2023-10-05T14:31:02.216408Z",
     "start_time": "2023-10-05T14:31:02.185555600Z"
    }
   },
   "outputs": [
    {
     "name": "stdout",
     "output_type": "stream",
     "text": [
      "Percentual Matemática: 49.38%\n",
      "Percentual Português: 40.17%\n",
      "Percentual Geografia: 42.00%\n",
      "Percentual Inglês: 47.62%\n",
      "Percentual História: 45.00%\n",
      "Percentual Física: 44.33%\n",
      "Percentual Química: 45.25%\n"
     ]
    }
   ],
   "source": [
    "# 1) Seu código aqui\n",
    "\n",
    "pc_mat = ((df_mat.sum() / df_mat.count()) / 24 * 100).values[0]\n",
    "print(f\"Percentual Matemática: {pc_mat:.2f}%\")\n",
    "pc_por = ((df_por.sum() / df_por.count()) / 18 * 100).values[0]\n",
    "print(f\"Percentual Português: {pc_por:.2f}%\")\n",
    "pc_geo = ((df_geo.sum() / df_geo.count()) / 8 * 100).values[0]\n",
    "print(f\"Percentual Geografia: {pc_geo:.2f}%\")\n",
    "pc_ing = ((df_ing.sum() / df_ing.count()) / 8 * 100).values[0]\n",
    "print(f\"Percentual Inglês: {pc_ing:.2f}%\")\n",
    "pc_his = ((df_his.sum() / df_his.count()) / 8 * 100).values[0]\n",
    "print(f\"Percentual História: {pc_his:.2f}%\")\n",
    "pc_fis = ((df_fis.sum() / df_fis.count()) / 12 * 100).values[0] # Notar a mudança aqui para 12 em vez de 8\n",
    "print(f\"Percentual Física: {pc_fis:.2f}%\")\n",
    "pc_qui = ((df_qui.sum() / df_qui.count()) / 12 * 100).values[0] # Notar a mudança aqui para 12 em vez de 8\n",
    "print(f\"Percentual Química: {pc_qui:.2f}%\")"
   ]
  },
  {
   "cell_type": "code",
   "execution_count": 17,
   "metadata": {
    "ExecuteTime": {
     "end_time": "2023-10-05T14:31:09.065129600Z",
     "start_time": "2023-10-05T14:31:09.041393500Z"
    }
   },
   "outputs": [
    {
     "data": {
      "text/plain": "    Qt_acertos\n0           35\n1           48\n2           50\n3           32\n4           30\n..         ...\n95          34\n96          27\n97          40\n98          40\n99          42\n\n[100 rows x 1 columns]",
      "text/html": "<div>\n<style scoped>\n    .dataframe tbody tr th:only-of-type {\n        vertical-align: middle;\n    }\n\n    .dataframe tbody tr th {\n        vertical-align: top;\n    }\n\n    .dataframe thead th {\n        text-align: right;\n    }\n</style>\n<table border=\"1\" class=\"dataframe\">\n  <thead>\n    <tr style=\"text-align: right;\">\n      <th></th>\n      <th>Qt_acertos</th>\n    </tr>\n  </thead>\n  <tbody>\n    <tr>\n      <th>0</th>\n      <td>35</td>\n    </tr>\n    <tr>\n      <th>1</th>\n      <td>48</td>\n    </tr>\n    <tr>\n      <th>2</th>\n      <td>50</td>\n    </tr>\n    <tr>\n      <th>3</th>\n      <td>32</td>\n    </tr>\n    <tr>\n      <th>4</th>\n      <td>30</td>\n    </tr>\n    <tr>\n      <th>...</th>\n      <td>...</td>\n    </tr>\n    <tr>\n      <th>95</th>\n      <td>34</td>\n    </tr>\n    <tr>\n      <th>96</th>\n      <td>27</td>\n    </tr>\n    <tr>\n      <th>97</th>\n      <td>40</td>\n    </tr>\n    <tr>\n      <th>98</th>\n      <td>40</td>\n    </tr>\n    <tr>\n      <th>99</th>\n      <td>42</td>\n    </tr>\n  </tbody>\n</table>\n<p>100 rows × 1 columns</p>\n</div>"
     },
     "execution_count": 17,
     "metadata": {},
     "output_type": "execute_result"
    }
   ],
   "source": [
    "# 2) Seu código aqui\n",
    "total = df_mat + df_por + df_geo + df_ing + df_his + df_fis + df_qui\n",
    "total"
   ]
  },
  {
   "cell_type": "code",
   "execution_count": 18,
   "metadata": {
    "ExecuteTime": {
     "end_time": "2023-10-05T14:31:10.692511400Z",
     "start_time": "2023-10-05T14:31:10.669390800Z"
    }
   },
   "outputs": [
    {
     "data": {
      "text/plain": "    Qt_acertos\n0     0.388889\n1     0.533333\n2     0.555556\n3     0.355556\n4     0.333333\n..         ...\n95    0.377778\n96    0.300000\n97    0.444444\n98    0.444444\n99    0.466667\n\n[100 rows x 1 columns]",
      "text/html": "<div>\n<style scoped>\n    .dataframe tbody tr th:only-of-type {\n        vertical-align: middle;\n    }\n\n    .dataframe tbody tr th {\n        vertical-align: top;\n    }\n\n    .dataframe thead th {\n        text-align: right;\n    }\n</style>\n<table border=\"1\" class=\"dataframe\">\n  <thead>\n    <tr style=\"text-align: right;\">\n      <th></th>\n      <th>Qt_acertos</th>\n    </tr>\n  </thead>\n  <tbody>\n    <tr>\n      <th>0</th>\n      <td>0.388889</td>\n    </tr>\n    <tr>\n      <th>1</th>\n      <td>0.533333</td>\n    </tr>\n    <tr>\n      <th>2</th>\n      <td>0.555556</td>\n    </tr>\n    <tr>\n      <th>3</th>\n      <td>0.355556</td>\n    </tr>\n    <tr>\n      <th>4</th>\n      <td>0.333333</td>\n    </tr>\n    <tr>\n      <th>...</th>\n      <td>...</td>\n    </tr>\n    <tr>\n      <th>95</th>\n      <td>0.377778</td>\n    </tr>\n    <tr>\n      <th>96</th>\n      <td>0.300000</td>\n    </tr>\n    <tr>\n      <th>97</th>\n      <td>0.444444</td>\n    </tr>\n    <tr>\n      <th>98</th>\n      <td>0.444444</td>\n    </tr>\n    <tr>\n      <th>99</th>\n      <td>0.466667</td>\n    </tr>\n  </tbody>\n</table>\n<p>100 rows × 1 columns</p>\n</div>"
     },
     "execution_count": 18,
     "metadata": {},
     "output_type": "execute_result"
    }
   ],
   "source": [
    "\n",
    "# 3) Seu código aqui\n",
    "total/90"
   ]
  },
  {
   "cell_type": "code",
   "execution_count": 19,
   "metadata": {
    "ExecuteTime": {
     "end_time": "2023-10-05T14:31:11.923103700Z",
     "start_time": "2023-10-05T14:31:11.913410800Z"
    }
   },
   "outputs": [
    {
     "data": {
      "text/plain": "Qt_acertos    31\ndtype: int64"
     },
     "execution_count": 19,
     "metadata": {},
     "output_type": "execute_result"
    }
   ],
   "source": [
    "# 4) Seu código aqui\n",
    "total_gt_45 = total[total['Qt_acertos'] > 45]\n",
    "total_gt_45.count()"
   ]
  },
  {
   "cell_type": "markdown",
   "metadata": {},
   "source": [
    "## 2) Vestibular II\n",
    "\n",
    "Ainda sobre o mesmo banco de dados:\n",
    "\n",
    "1. Neste vestibular, quem 'zera' em matemática, física ou química está desqualificado. Monte um novo *DataFrame* com os alunos desqualificados por este critério.\n",
    "2. Quantos são esses alunos?\n",
    "3. Qual a média desses alunos em história e geografia?\n",
    "4. Monte um *DataFrame* com os alunos que passaram para a segunda fase. Repare que estes alunos não podem ter sido desqualificados."
   ]
  },
  {
   "cell_type": "code",
   "execution_count": 20,
   "metadata": {
    "ExecuteTime": {
     "end_time": "2023-10-05T14:31:14.383963400Z",
     "start_time": "2023-10-05T14:31:14.355577Z"
    }
   },
   "outputs": [
    {
     "data": {
      "text/plain": "    Qt_acertos\n3           32\n6           29\n10          31\n12          42\n14          31\n20          53\n25          27\n26          40\n27          50\n33          39\n35          48\n49          19\n56          39\n65          24\n66          31\n72          50\n73          37\n74          39\n84          26\n89          63\n92          40\n94          25\n98          40",
      "text/html": "<div>\n<style scoped>\n    .dataframe tbody tr th:only-of-type {\n        vertical-align: middle;\n    }\n\n    .dataframe tbody tr th {\n        vertical-align: top;\n    }\n\n    .dataframe thead th {\n        text-align: right;\n    }\n</style>\n<table border=\"1\" class=\"dataframe\">\n  <thead>\n    <tr style=\"text-align: right;\">\n      <th></th>\n      <th>Qt_acertos</th>\n    </tr>\n  </thead>\n  <tbody>\n    <tr>\n      <th>3</th>\n      <td>32</td>\n    </tr>\n    <tr>\n      <th>6</th>\n      <td>29</td>\n    </tr>\n    <tr>\n      <th>10</th>\n      <td>31</td>\n    </tr>\n    <tr>\n      <th>12</th>\n      <td>42</td>\n    </tr>\n    <tr>\n      <th>14</th>\n      <td>31</td>\n    </tr>\n    <tr>\n      <th>20</th>\n      <td>53</td>\n    </tr>\n    <tr>\n      <th>25</th>\n      <td>27</td>\n    </tr>\n    <tr>\n      <th>26</th>\n      <td>40</td>\n    </tr>\n    <tr>\n      <th>27</th>\n      <td>50</td>\n    </tr>\n    <tr>\n      <th>33</th>\n      <td>39</td>\n    </tr>\n    <tr>\n      <th>35</th>\n      <td>48</td>\n    </tr>\n    <tr>\n      <th>49</th>\n      <td>19</td>\n    </tr>\n    <tr>\n      <th>56</th>\n      <td>39</td>\n    </tr>\n    <tr>\n      <th>65</th>\n      <td>24</td>\n    </tr>\n    <tr>\n      <th>66</th>\n      <td>31</td>\n    </tr>\n    <tr>\n      <th>72</th>\n      <td>50</td>\n    </tr>\n    <tr>\n      <th>73</th>\n      <td>37</td>\n    </tr>\n    <tr>\n      <th>74</th>\n      <td>39</td>\n    </tr>\n    <tr>\n      <th>84</th>\n      <td>26</td>\n    </tr>\n    <tr>\n      <th>89</th>\n      <td>63</td>\n    </tr>\n    <tr>\n      <th>92</th>\n      <td>40</td>\n    </tr>\n    <tr>\n      <th>94</th>\n      <td>25</td>\n    </tr>\n    <tr>\n      <th>98</th>\n      <td>40</td>\n    </tr>\n  </tbody>\n</table>\n</div>"
     },
     "execution_count": 20,
     "metadata": {},
     "output_type": "execute_result"
    }
   ],
   "source": [
    "# seu código aqui\n",
    "df_eliminados = total[(df_mat['Qt_acertos'] == 0) | \n",
    "                      (df_fis['Qt_acertos'] == 0) | \n",
    "                      (df_qui['Qt_acertos'] == 0)]\n",
    "\n",
    "df_eliminados"
   ]
  },
  {
   "cell_type": "markdown",
   "metadata": {},
   "source": [
    "## 3) Vacinações no Acre\n",
    "Vamos trabalhar agora com a base de vacinações no Acre. Para facilitar a sua vida, copiamos o link do arquivo na célula abaixo.\n",
    "\n",
    "1. Quantas vacinas estão registradas nessa base?  \n",
    "2. Quantos pacientes foram vacinados? (considere um paciente para cada valor único de ```paciente_id```)  \n",
    "3. Quantos pacientes únicos tomaram a primeira dose? OBS: Há um caractere especial neste campo. Receba os valores do campo com o método ```.unique()```.   \n",
    "4. Quantos pacientes com menos de 18 anos foram vacinados?  \n",
    "5. Quantos estabelecimentos aplicaram vacina no Acre?\n",
    "\n",
    "\n",
    "**OBS:** O portal do DATASUS pode apresentar instabilidades, retornando um erro na segunda célula abaixo. Por este motivo está disponível uma base estática, que se for baixada para o seu *working directory* pode ser lida com este comando: ```df = pd.read_csv('registros de vacinacao covid ACRE.csv', sep=';')```.\n",
    "\n",
    "**OBS2:** Para saber qual é o seu working directory, rode no jupyter: ```!pwd```."
   ]
  },
  {
   "cell_type": "code",
   "execution_count": 30,
   "metadata": {
    "ExecuteTime": {
     "end_time": "2023-10-06T17:36:22.603905500Z",
     "start_time": "2023-10-06T17:36:22.590584300Z"
    }
   },
   "outputs": [],
   "source": [
    "arquivo = 'https://static.lms.ebaconline.com.br/answers/f89514da-bc9e-4db0-9cf1-2b52a37b8339/original.csv'"
   ]
  },
  {
   "cell_type": "code",
   "execution_count": 31,
   "metadata": {
    "ExecuteTime": {
     "end_time": "2023-10-06T17:36:29.961356800Z",
     "start_time": "2023-10-06T17:36:23.828406200Z"
    }
   },
   "outputs": [],
   "source": [
    "# 1) Sua solução aqui\n",
    "df = pd.read_csv(arquivo, sep=';')\n"
   ]
  },
  {
   "cell_type": "code",
   "execution_count": 32,
   "metadata": {
    "ExecuteTime": {
     "end_time": "2023-10-06T17:36:30.896072800Z",
     "start_time": "2023-10-06T17:36:30.836331Z"
    }
   },
   "outputs": [
    {
     "data": {
      "text/plain": "                                 document_id  \\\n0  b19cd280-474c-4c22-a35d-8c06bc04a4e0-i0b0   \n1  a1acc0b6-1cf6-4c4b-adcb-06b473a0faaf-i0b0   \n2  af279a98-ba1f-47ea-8214-314a98040b0d-i0b0   \n3  4879308e-5050-46bb-b8e2-11fa5646a05c-i0b0   \n4  000e911b-e3a4-4114-a735-d1f2e6e3797f-i0b0   \n\n                                         paciente_id  paciente_idade  \\\n0  2e091c9a37d3f50d1d705fc80c6448c6fc69b44da9e936...              69   \n1  f4e17a9e5354cb45e223d85eda02fb2f76048c801675f5...              81   \n2  6734b26bccf826130ebffa66575977bbe71477b12bcf42...              69   \n3  84a341fd350c1ba7117fccbb4d2df417bc0fac0fffac37...              51   \n4  c59571e19f368d4b0cf08cd3bcabb32e5cd8baad5340f6...              65   \n\n  paciente_datanascimento paciente_enumsexobiologico  paciente_racacor_codigo  \\\n0              1951-12-28                          F                        3   \n1              1939-11-22                          M                        3   \n2              1951-08-14                          M                        4   \n3              1969-12-15                          F                        3   \n4              1955-11-21                          M                        3   \n\n  paciente_racacor_valor  paciente_endereco_coibgemunicipio  \\\n0                  PARDA                           120050.0   \n1                  PARDA                           120040.0   \n2                AMARELA                           120020.0   \n3                  PARDA                           120040.0   \n4                  PARDA                           120040.0   \n\n   paciente_endereco_copais paciente_endereco_nmmunicipio  ...   vacina_lote  \\\n0                      10.0                SENA MADUREIRA  ...       210052A   \n1                      10.0                    RIO BRANCO  ...        210110   \n2                      10.0               CRUZEIRO DO SUL  ...        210135   \n3                      10.0                    RIO BRANCO  ...     202010040   \n4                      10.0                    RIO BRANCO  ...  212VCD001ZVB   \n\n  vacina_fabricante_nome  vacina_fabricante_referencia vacina_dataaplicacao  \\\n0      FUNDACAO BUTANTAN   Organization/61189445000156           2021-03-23   \n1      FUNDACAO BUTANTAN   Organization/61189445000156           2021-04-29   \n2      FUNDACAO BUTANTAN   Organization/61189445000156           2021-04-16   \n3      FUNDACAO BUTANTAN   Organization/61189445000156           2021-02-19   \n4  FUNDACAO OSWALDO CRUZ   Organization/33781055000135           2021-03-29   \n\n   vacina_descricao_dose vacina_codigo                          vacina_nome  \\\n0                1ª Dose            86  Covid-19-Coronavac-Sinovac/Butantan   \n1                2ª Dose            86  Covid-19-Coronavac-Sinovac/Butantan   \n2                1ª Dose            86  Covid-19-Coronavac-Sinovac/Butantan   \n3                2ª Dose            86  Covid-19-Coronavac-Sinovac/Butantan   \n4                1ª Dose            85         Vacina Covid-19 - Covishield   \n\n   sistema_origem      data_importacao_rnds id_sistema_origem  \n0        Novo PNI  2021-03-25T03:27:19.000Z               NaN  \n1        Novo PNI  2021-04-30T16:03:14.000Z               NaN  \n2        Novo PNI  2021-04-16T15:54:39.000Z               NaN  \n3        Novo PNI  2021-03-10T14:40:54.000Z               NaN  \n4        Novo PNI  2021-04-03T19:44:28.000Z               NaN  \n\n[5 rows x 34 columns]",
      "text/html": "<div>\n<style scoped>\n    .dataframe tbody tr th:only-of-type {\n        vertical-align: middle;\n    }\n\n    .dataframe tbody tr th {\n        vertical-align: top;\n    }\n\n    .dataframe thead th {\n        text-align: right;\n    }\n</style>\n<table border=\"1\" class=\"dataframe\">\n  <thead>\n    <tr style=\"text-align: right;\">\n      <th></th>\n      <th>document_id</th>\n      <th>paciente_id</th>\n      <th>paciente_idade</th>\n      <th>paciente_datanascimento</th>\n      <th>paciente_enumsexobiologico</th>\n      <th>paciente_racacor_codigo</th>\n      <th>paciente_racacor_valor</th>\n      <th>paciente_endereco_coibgemunicipio</th>\n      <th>paciente_endereco_copais</th>\n      <th>paciente_endereco_nmmunicipio</th>\n      <th>...</th>\n      <th>vacina_lote</th>\n      <th>vacina_fabricante_nome</th>\n      <th>vacina_fabricante_referencia</th>\n      <th>vacina_dataaplicacao</th>\n      <th>vacina_descricao_dose</th>\n      <th>vacina_codigo</th>\n      <th>vacina_nome</th>\n      <th>sistema_origem</th>\n      <th>data_importacao_rnds</th>\n      <th>id_sistema_origem</th>\n    </tr>\n  </thead>\n  <tbody>\n    <tr>\n      <th>0</th>\n      <td>b19cd280-474c-4c22-a35d-8c06bc04a4e0-i0b0</td>\n      <td>2e091c9a37d3f50d1d705fc80c6448c6fc69b44da9e936...</td>\n      <td>69</td>\n      <td>1951-12-28</td>\n      <td>F</td>\n      <td>3</td>\n      <td>PARDA</td>\n      <td>120050.0</td>\n      <td>10.0</td>\n      <td>SENA MADUREIRA</td>\n      <td>...</td>\n      <td>210052A</td>\n      <td>FUNDACAO BUTANTAN</td>\n      <td>Organization/61189445000156</td>\n      <td>2021-03-23</td>\n      <td>1ª Dose</td>\n      <td>86</td>\n      <td>Covid-19-Coronavac-Sinovac/Butantan</td>\n      <td>Novo PNI</td>\n      <td>2021-03-25T03:27:19.000Z</td>\n      <td>NaN</td>\n    </tr>\n    <tr>\n      <th>1</th>\n      <td>a1acc0b6-1cf6-4c4b-adcb-06b473a0faaf-i0b0</td>\n      <td>f4e17a9e5354cb45e223d85eda02fb2f76048c801675f5...</td>\n      <td>81</td>\n      <td>1939-11-22</td>\n      <td>M</td>\n      <td>3</td>\n      <td>PARDA</td>\n      <td>120040.0</td>\n      <td>10.0</td>\n      <td>RIO BRANCO</td>\n      <td>...</td>\n      <td>210110</td>\n      <td>FUNDACAO BUTANTAN</td>\n      <td>Organization/61189445000156</td>\n      <td>2021-04-29</td>\n      <td>2ª Dose</td>\n      <td>86</td>\n      <td>Covid-19-Coronavac-Sinovac/Butantan</td>\n      <td>Novo PNI</td>\n      <td>2021-04-30T16:03:14.000Z</td>\n      <td>NaN</td>\n    </tr>\n    <tr>\n      <th>2</th>\n      <td>af279a98-ba1f-47ea-8214-314a98040b0d-i0b0</td>\n      <td>6734b26bccf826130ebffa66575977bbe71477b12bcf42...</td>\n      <td>69</td>\n      <td>1951-08-14</td>\n      <td>M</td>\n      <td>4</td>\n      <td>AMARELA</td>\n      <td>120020.0</td>\n      <td>10.0</td>\n      <td>CRUZEIRO DO SUL</td>\n      <td>...</td>\n      <td>210135</td>\n      <td>FUNDACAO BUTANTAN</td>\n      <td>Organization/61189445000156</td>\n      <td>2021-04-16</td>\n      <td>1ª Dose</td>\n      <td>86</td>\n      <td>Covid-19-Coronavac-Sinovac/Butantan</td>\n      <td>Novo PNI</td>\n      <td>2021-04-16T15:54:39.000Z</td>\n      <td>NaN</td>\n    </tr>\n    <tr>\n      <th>3</th>\n      <td>4879308e-5050-46bb-b8e2-11fa5646a05c-i0b0</td>\n      <td>84a341fd350c1ba7117fccbb4d2df417bc0fac0fffac37...</td>\n      <td>51</td>\n      <td>1969-12-15</td>\n      <td>F</td>\n      <td>3</td>\n      <td>PARDA</td>\n      <td>120040.0</td>\n      <td>10.0</td>\n      <td>RIO BRANCO</td>\n      <td>...</td>\n      <td>202010040</td>\n      <td>FUNDACAO BUTANTAN</td>\n      <td>Organization/61189445000156</td>\n      <td>2021-02-19</td>\n      <td>2ª Dose</td>\n      <td>86</td>\n      <td>Covid-19-Coronavac-Sinovac/Butantan</td>\n      <td>Novo PNI</td>\n      <td>2021-03-10T14:40:54.000Z</td>\n      <td>NaN</td>\n    </tr>\n    <tr>\n      <th>4</th>\n      <td>000e911b-e3a4-4114-a735-d1f2e6e3797f-i0b0</td>\n      <td>c59571e19f368d4b0cf08cd3bcabb32e5cd8baad5340f6...</td>\n      <td>65</td>\n      <td>1955-11-21</td>\n      <td>M</td>\n      <td>3</td>\n      <td>PARDA</td>\n      <td>120040.0</td>\n      <td>10.0</td>\n      <td>RIO BRANCO</td>\n      <td>...</td>\n      <td>212VCD001ZVB</td>\n      <td>FUNDACAO OSWALDO CRUZ</td>\n      <td>Organization/33781055000135</td>\n      <td>2021-03-29</td>\n      <td>1ª Dose</td>\n      <td>85</td>\n      <td>Vacina Covid-19 - Covishield</td>\n      <td>Novo PNI</td>\n      <td>2021-04-03T19:44:28.000Z</td>\n      <td>NaN</td>\n    </tr>\n  </tbody>\n</table>\n<p>5 rows × 34 columns</p>\n</div>"
     },
     "execution_count": 32,
     "metadata": {},
     "output_type": "execute_result"
    }
   ],
   "source": [
    "df.head()"
   ]
  },
  {
   "cell_type": "code",
   "execution_count": 33,
   "metadata": {
    "ExecuteTime": {
     "end_time": "2023-10-06T17:36:32.512947Z",
     "start_time": "2023-10-06T17:36:32.493354Z"
    }
   },
   "outputs": [
    {
     "data": {
      "text/plain": "169071"
     },
     "execution_count": 33,
     "metadata": {},
     "output_type": "execute_result"
    }
   ],
   "source": [
    "df.shape[0]"
   ]
  },
  {
   "cell_type": "code",
   "execution_count": 34,
   "metadata": {
    "ExecuteTime": {
     "end_time": "2023-10-06T17:36:34.020592700Z",
     "start_time": "2023-10-06T17:36:33.973509400Z"
    }
   },
   "outputs": [
    {
     "data": {
      "text/plain": "120517"
     },
     "execution_count": 34,
     "metadata": {},
     "output_type": "execute_result"
    }
   ],
   "source": [
    "# 2) \n",
    "df['paciente_id'].nunique()"
   ]
  },
  {
   "cell_type": "code",
   "execution_count": 35,
   "metadata": {
    "ExecuteTime": {
     "end_time": "2023-10-06T17:36:35.803664Z",
     "start_time": "2023-10-06T17:36:35.731231200Z"
    }
   },
   "outputs": [
    {
     "data": {
      "text/plain": "119713"
     },
     "execution_count": 35,
     "metadata": {},
     "output_type": "execute_result"
    }
   ],
   "source": [
    "# 3) \n",
    "primeira_dose = df['vacina_descricao_dose'].unique()[0]\n",
    "df['paciente_id'].loc[df['vacina_descricao_dose'] == primeira_dose].nunique()"
   ]
  },
  {
   "cell_type": "code",
   "execution_count": 36,
   "metadata": {
    "ExecuteTime": {
     "end_time": "2023-10-06T17:36:37.034785600Z",
     "start_time": "2023-10-06T17:36:36.951619400Z"
    }
   },
   "outputs": [
    {
     "data": {
      "text/plain": "119713"
     },
     "execution_count": 36,
     "metadata": {},
     "output_type": "execute_result"
    }
   ],
   "source": [
    "# 3) solução alternativa\n",
    "primeira_dose = df['vacina_descricao_dose'].unique()[0]\n",
    "df_primeira_dose = df[df['vacina_descricao_dose'] == primeira_dose]\n",
    "df_primeira_dose['paciente_id'].nunique()"
   ]
  },
  {
   "cell_type": "code",
   "execution_count": 37,
   "metadata": {
    "ExecuteTime": {
     "end_time": "2023-10-06T17:36:38.272202400Z",
     "start_time": "2023-10-06T17:36:38.216328900Z"
    }
   },
   "outputs": [
    {
     "data": {
      "text/plain": "47"
     },
     "execution_count": 37,
     "metadata": {},
     "output_type": "execute_result"
    }
   ],
   "source": [
    "# 4) \n",
    "df_menor = df[df[\"paciente_idade\"]<18]\n",
    "df_menor['paciente_id'].nunique()"
   ]
  },
  {
   "cell_type": "code",
   "execution_count": 38,
   "metadata": {
    "ExecuteTime": {
     "end_time": "2023-10-06T17:36:39.733326400Z",
     "start_time": "2023-10-06T17:36:39.662321900Z"
    }
   },
   "outputs": [
    {
     "data": {
      "text/plain": "42"
     },
     "execution_count": 38,
     "metadata": {},
     "output_type": "execute_result"
    }
   ],
   "source": [
    "# 5)\n",
    "df['estabelecimento_razaosocial'].nunique()"
   ]
  },
  {
   "cell_type": "markdown",
   "metadata": {},
   "source": [
    "## 4) Vacinação II\n",
    "Gere um *DataFrame* que contenha somente os estabelecimentos que aplicaram vcinas a menores de 18 anos. Nesse *DataFrame* devem conter somente os dados dos estabelecimentos, mais uma coluna sendo a quantidade de vacinas que o estabelecimento aplicou a menores de 18 anos.  \n",
    "  \n",
    "1. crie uma cópia do *DataFrame* original, contendo somente os registros de vacinas realizadas a menores de 18 anos.  \n",
    "2. crie uma lista das colunas desse *DataFrame* com o atributo de *DataFrame* **.columns()**  \n",
    "3. Nesse *DataFrame* faça uma contagem do campo ```vacina_categoria_nome```.\n",
    "3. a partir da lista de colunas, escolha somente aquelas que são referentes ao estabelecimento, faça uma lista com esses valores.  \n",
    "4. usando o método *.loc*, selecione somente essas variáveis  \n",
    "5. Aplique o método **.drop_duplicates** e crie uma lista com uma linha para cada estabelecimento, com os dados do estabelecimento  "
   ]
  },
  {
   "cell_type": "code",
   "execution_count": 39,
   "metadata": {
    "ExecuteTime": {
     "end_time": "2023-10-06T17:36:43.550802500Z",
     "start_time": "2023-10-06T17:36:43.536578800Z"
    }
   },
   "outputs": [],
   "source": [
    "# 1) \n",
    "df_menor = df[df[\"paciente_idade\"]<18].copy()"
   ]
  },
  {
   "cell_type": "code",
   "execution_count": 40,
   "metadata": {
    "ExecuteTime": {
     "end_time": "2023-10-06T17:36:44.127450900Z",
     "start_time": "2023-10-06T17:36:44.109739Z"
    }
   },
   "outputs": [
    {
     "data": {
      "text/plain": "Index(['document_id', 'paciente_id', 'paciente_idade',\n       'paciente_datanascimento', 'paciente_enumsexobiologico',\n       'paciente_racacor_codigo', 'paciente_racacor_valor',\n       'paciente_endereco_coibgemunicipio', 'paciente_endereco_copais',\n       'paciente_endereco_nmmunicipio', 'paciente_endereco_nmpais',\n       'paciente_endereco_uf', 'paciente_endereco_cep',\n       'paciente_nacionalidade_enumnacionalidade', 'estabelecimento_valor',\n       'estabelecimento_razaosocial', 'estalecimento_nofantasia',\n       'estabelecimento_municipio_codigo', 'estabelecimento_municipio_nome',\n       'estabelecimento_uf', 'vacina_grupoatendimento_codigo',\n       'vacina_grupoatendimento_nome', 'vacina_categoria_codigo',\n       'vacina_categoria_nome', 'vacina_lote', 'vacina_fabricante_nome',\n       'vacina_fabricante_referencia', 'vacina_dataaplicacao',\n       'vacina_descricao_dose', 'vacina_codigo', 'vacina_nome',\n       'sistema_origem', 'data_importacao_rnds', 'id_sistema_origem'],\n      dtype='object')"
     },
     "execution_count": 40,
     "metadata": {},
     "output_type": "execute_result"
    }
   ],
   "source": [
    "# 2) \n",
    "df_menor.columns"
   ]
  },
  {
   "cell_type": "code",
   "execution_count": 41,
   "metadata": {
    "ExecuteTime": {
     "end_time": "2023-10-06T17:36:45.011809300Z",
     "start_time": "2023-10-06T17:36:44.980323200Z"
    }
   },
   "outputs": [
    {
     "data": {
      "text/plain": "Povos Indígenas                     33\nTrabalhadores de Saúde               9\nPovos e Comunidades Tradicionais     9\nComorbidades                         2\nFaixa Etária                         1\nName: vacina_categoria_nome, dtype: int64"
     },
     "execution_count": 41,
     "metadata": {},
     "output_type": "execute_result"
    }
   ],
   "source": [
    "# 3)\n",
    "df_menor['vacina_categoria_nome'].value_counts()"
   ]
  },
  {
   "cell_type": "code",
   "execution_count": 42,
   "metadata": {
    "ExecuteTime": {
     "end_time": "2023-10-06T17:36:46.339156700Z",
     "start_time": "2023-10-06T17:36:46.324532500Z"
    }
   },
   "outputs": [],
   "source": [
    "# 4)\n",
    "lista_variaveis = ['estabelecimento_valor',\n",
    "       'estabelecimento_razaosocial', 'estalecimento_nofantasia',\n",
    "       'estabelecimento_municipio_codigo', 'estabelecimento_municipio_nome',\n",
    "       'estabelecimento_uf']\n",
    "df_menor_lista = df_menor.loc[:,lista_variaveis]"
   ]
  },
  {
   "cell_type": "code",
   "execution_count": 43,
   "metadata": {
    "ExecuteTime": {
     "end_time": "2023-10-06T17:36:47.293576100Z",
     "start_time": "2023-10-06T17:36:47.247305Z"
    }
   },
   "outputs": [
    {
     "data": {
      "text/plain": "(18, 6)"
     },
     "execution_count": 43,
     "metadata": {},
     "output_type": "execute_result"
    }
   ],
   "source": [
    "# 5)\n",
    "df_menor_lista = df_menor_lista.drop_duplicates()\n",
    "df_menor_lista.shape"
   ]
  },
  {
   "cell_type": "code",
   "execution_count": null,
   "outputs": [],
   "source": [],
   "metadata": {
    "collapsed": false
   }
  }
 ],
 "metadata": {
  "kernelspec": {
   "display_name": "Python 3",
   "language": "python",
   "name": "python3"
  },
  "language_info": {
   "codemirror_mode": {
    "name": "ipython",
    "version": 3
   },
   "file_extension": ".py",
   "mimetype": "text/x-python",
   "name": "python",
   "nbconvert_exporter": "python",
   "pygments_lexer": "ipython3",
   "version": "3.8.5"
  },
  "toc": {
   "base_numbering": 1,
   "nav_menu": {},
   "number_sections": false,
   "sideBar": true,
   "skip_h1_title": true,
   "title_cell": "Índice",
   "title_sidebar": "Conteúdo",
   "toc_cell": false,
   "toc_position": {},
   "toc_section_display": true,
   "toc_window_display": false
  },
  "varInspector": {
   "cols": {
    "lenName": 16,
    "lenType": 16,
    "lenVar": 40
   },
   "kernels_config": {
    "python": {
     "delete_cmd_postfix": "",
     "delete_cmd_prefix": "del ",
     "library": "var_list.py",
     "varRefreshCmd": "print(var_dic_list())"
    },
    "r": {
     "delete_cmd_postfix": ") ",
     "delete_cmd_prefix": "rm(",
     "library": "var_list.r",
     "varRefreshCmd": "cat(var_dic_list()) "
    }
   },
   "types_to_exclude": [
    "module",
    "function",
    "builtin_function_or_method",
    "instance",
    "_Feature"
   ],
   "window_display": false
  }
 },
 "nbformat": 4,
 "nbformat_minor": 4
}
