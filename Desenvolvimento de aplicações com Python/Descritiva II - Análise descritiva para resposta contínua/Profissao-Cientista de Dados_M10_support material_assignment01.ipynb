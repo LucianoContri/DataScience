{
 "cells": [
  {
   "cell_type": "markdown",
   "metadata": {},
   "source": [
    "# Módulo 10 atividade 1"
   ]
  },
  {
   "cell_type": "markdown",
   "metadata": {},
   "source": [
    "Uma instituição financeira quer conhecer melhor o perfil de renda de seus novos clientes para diversos fins, por exemplo, melhor dimensionar o limite de cartões de crédito dos novos clientes, sem necessariamente solicitar olerites ou documentações que impactem na experiência do seu cliente.\n",
    "\n",
    "Para isto, conduziu um estudo com alguns clientes, comprovando suas rendas através de olerites e outros documentos, e pretende construir um modelo preditivo para esta renda com base em algumas variáveis que já possui em seu banco de dados.\n",
    "\n",
    "As variáveis são intuitivas - note que há uma variável 'index' que é um identificador do cliente e que em geral o ```read_csv``` do pandas coloca também uma variável sequencial.\n",
    "\n",
    "Estes dados estão no arquivo ```previsao_de_renda.csv```. Carregue-o em um *dataframe*.\n",
    "\n",
    "1) Avalie a estrutura de correlação das variáveis quantitativas através de um gráfico de \"matriz de dispersão\" e através da avaliação gráfica da matriz de correlações. Veja se você identifica algum padrão interessante ou que te faça sentido."
   ]
  },
  {
   "metadata": {
    "ExecuteTime": {
     "end_time": "2024-04-24T01:31:10.949268Z",
     "start_time": "2024-04-24T01:31:10.911901Z"
    }
   },
   "cell_type": "code",
   "source": [
    "import pandas as pd\n",
    "        \n",
    "previsao_de_renda = pd.read_csv('../../../../Datasets/previsao_de_renda.csv', sep = ',')\n",
    "previsao_de_renda"
   ],
   "execution_count": 161,
   "outputs": []
  },
  {
   "metadata": {
    "ExecuteTime": {
     "end_time": "2024-04-24T01:31:11.098410Z",
     "start_time": "2024-04-24T01:31:11.094407Z"
    }
   },
   "cell_type": "code",
   "source": [
    "# dropando a coluna index   \n",
    "previsao_de_renda.drop(columns=['index','Unnamed: 0'], inplace=True)"
   ],
   "execution_count": 162,
   "outputs": []
  },
  {
   "metadata": {
    "ExecuteTime": {
     "end_time": "2024-04-24T01:31:11.170675Z",
     "start_time": "2024-04-24T01:31:11.166476Z"
    }
   },
   "cell_type": "code",
   "source": [
    "# array com variáveis quantitativas\n",
    "variaveis_quantitativas = previsao_de_renda.select_dtypes(include=['float64', 'int64']).columns"
   ],
   "execution_count": 163,
   "outputs": []
  },
  {
   "metadata": {
    "ExecuteTime": {
     "end_time": "2024-04-24T01:31:20.528814Z",
     "start_time": "2024-04-24T01:31:11.295791Z"
    }
   },
   "cell_type": "code",
   "source": [
    "# Matriz de dispersão\n",
    "import seaborn as sns\n",
    "sns.pairplot(previsao_de_renda[variaveis_quantitativas])"
   ],
   "execution_count": 164,
   "outputs": []
  },
  {
   "metadata": {
    "ExecuteTime": {
     "end_time": "2024-04-24T01:31:20.537753Z",
     "start_time": "2024-04-24T01:31:20.529816Z"
    }
   },
   "cell_type": "code",
   "source": "previsao_de_renda[variaveis_quantitativas].corr()   ",
   "execution_count": 165,
   "outputs": []
  },
  {
   "cell_type": "markdown",
   "metadata": {},
   "source": "    2) Avalie um gráfico de dispersão (*scatterplot*) específico para as duas variáveis mais correlacionadas com *renda*."
  },
  {
   "cell_type": "code",
   "metadata": {
    "ExecuteTime": {
     "end_time": "2024-04-24T01:31:20.828465Z",
     "start_time": "2024-04-24T01:31:20.537753Z"
    }
   },
   "source": [
    "import seaborn as sns\n",
    "\n",
    "# Scatterplot for 'tempo_emprego' vs 'renda'\n",
    "sns.scatterplot(x='tempo_emprego', y='renda', data=previsao_de_renda)"
   ],
   "execution_count": 166,
   "outputs": []
  },
  {
   "metadata": {
    "ExecuteTime": {
     "end_time": "2024-04-24T01:33:03.058881Z",
     "start_time": "2024-04-24T01:33:02.212280Z"
    }
   },
   "cell_type": "code",
   "source": "_ = sns.regplot(x='tempo_emprego', y='renda', data=previsao_de_renda)",
   "execution_count": 183,
   "outputs": []
  },
  {
   "metadata": {
    "ExecuteTime": {
     "end_time": "2024-04-24T01:31:21.147550Z",
     "start_time": "2024-04-24T01:31:20.829467Z"
    }
   },
   "cell_type": "code",
   "source": [
    "# Scatterplot for 'idade' vs 'renda'\n",
    "sns.scatterplot(x='idade', y='renda', data=previsao_de_renda)"
   ],
   "execution_count": 167,
   "outputs": []
  },
  {
   "metadata": {
    "ExecuteTime": {
     "end_time": "2024-04-24T01:33:16.137832Z",
     "start_time": "2024-04-24T01:33:15.189367Z"
    }
   },
   "cell_type": "code",
   "source": "_ = sns.regplot(x='idade', y='renda', data=previsao_de_renda)",
   "execution_count": 184,
   "outputs": []
  },
  {
   "cell_type": "markdown",
   "metadata": {},
   "source": "3) Na su aopinião, há outliers na variável renda?"
  },
  {
   "metadata": {},
   "cell_type": "markdown",
   "source": "Método 1: Identificação de outliers através de z-score"
  },
  {
   "metadata": {
    "ExecuteTime": {
     "end_time": "2024-04-24T01:31:21.153636Z",
     "start_time": "2024-04-24T01:31:21.147550Z"
    }
   },
   "cell_type": "code",
   "source": [
    "import numpy as np\n",
    "data= previsao_de_renda['renda']\n",
    "from scipy import stats \n",
    "\n",
    "# Calcula a pontuação Z\n",
    "z_scores = np.abs(stats.zscore(data))\n",
    "\n",
    "# Identifica onde a pontuação Z é maior que 3 ou menor que -3\n",
    "outliers = data[z_scores > 3]\n",
    "\n",
    "print(\"Outliers:\", outliers.count())"
   ],
   "execution_count": 168,
   "outputs": []
  },
  {
   "metadata": {},
   "cell_type": "markdown",
   "source": "Método 2: Identificação de outliers através do IQR"
  },
  {
   "metadata": {
    "ExecuteTime": {
     "end_time": "2024-04-24T01:31:21.160646Z",
     "start_time": "2024-04-24T01:31:21.154640Z"
    }
   },
   "cell_type": "code",
   "source": [
    "\n",
    "Q1 = np.percentile(data, 25)\n",
    "Q3 = np.percentile(data, 75)\n",
    "IQR = Q3 - Q1\n",
    "\n",
    "# Identifica outliers\n",
    "outliers = data[(data < Q1 - 1.5 * IQR) | (data > Q3 + 1.5 * IQR)]\n",
    "\n",
    "print(\"Outliers:\", outliers.count())\n"
   ],
   "execution_count": 169,
   "outputs": []
  },
  {
   "metadata": {},
   "cell_type": "markdown",
   "source": "Método 3: Identificação de outliers através de Isolation Forest"
  },
  {
   "metadata": {
    "ExecuteTime": {
     "end_time": "2024-04-24T01:31:21.383389Z",
     "start_time": "2024-04-24T01:31:21.161649Z"
    }
   },
   "cell_type": "code",
   "source": [
    "from sklearn.ensemble import IsolationForest\n",
    "\n",
    "# Ajuste do modelo usando o DataFrame diretamente, mantendo o nome da coluna\n",
    "clf = IsolationForest(random_state=0).fit(previsao_de_renda[['renda']])\n",
    "\n",
    "# Uso da previsão mantendo a estrutura do DataFrame\n",
    "outliers = previsao_de_renda[clf.predict(previsao_de_renda[['renda']]) == -1]\n",
    "\n",
    "print(\"Outliers:\", outliers['renda'].count())"
   ],
   "execution_count": 170,
   "outputs": []
  },
  {
   "metadata": {},
   "cell_type": "markdown",
   "source": "Método 4: Identificação de outliers através de DBSCAN   "
  },
  {
   "metadata": {
    "ExecuteTime": {
     "end_time": "2024-04-24T01:31:21.463691Z",
     "start_time": "2024-04-24T01:31:21.384391Z"
    }
   },
   "cell_type": "code",
   "source": [
    "from sklearn.cluster import DBSCAN\n",
    "\n",
    "clustering = DBSCAN(eps=3, min_samples=2).fit(previsao_de_renda[['renda']].values.reshape(-1, 1))\n",
    "outliers = previsao_de_renda['renda'][clustering.labels_ == -1]\n",
    "\n",
    "print(\"Outliers:\", outliers.count())"
   ],
   "execution_count": 171,
   "outputs": []
  },
  {
   "metadata": {},
   "cell_type": "markdown",
   "source": "Resposta: Sim, há muitos outliers na variável renda."
  },
  {
   "metadata": {
    "ExecuteTime": {
     "end_time": "2024-04-24T01:31:21.465985Z",
     "start_time": "2024-04-24T01:31:21.463691Z"
    }
   },
   "cell_type": "code",
   "source": "",
   "execution_count": 171,
   "outputs": []
  },
  {
   "cell_type": "markdown",
   "metadata": {},
   "source": [
    "4) Calcule o logaritmo da variável renda e repita a sequência de análise"
   ]
  },
  {
   "metadata": {
    "ExecuteTime": {
     "end_time": "2024-04-24T01:31:21.472788Z",
     "start_time": "2024-04-24T01:31:21.466987Z"
    }
   },
   "cell_type": "code",
   "source": [
    "# logaritmo da variável renda\n",
    "import numpy as np\n",
    "previsao_de_renda['log_renda'] = np.log(previsao_de_renda['renda'])\n",
    "# adicionar a variável log_renda ao array de variáveis quantitativas\n",
    "variaveis_quantitativas = previsao_de_renda.select_dtypes(include=['float64', 'int64']).columns"
   ],
   "execution_count": 172,
   "outputs": []
  },
  {
   "metadata": {
    "ExecuteTime": {
     "end_time": "2024-04-24T01:31:33.963888Z",
     "start_time": "2024-04-24T01:31:21.473790Z"
    }
   },
   "cell_type": "code",
   "source": [
    "# repetindo a sequência de análise\n",
    "sns.pairplot(previsao_de_renda[variaveis_quantitativas])"
   ],
   "execution_count": 173,
   "outputs": []
  },
  {
   "metadata": {
    "ExecuteTime": {
     "end_time": "2024-04-24T01:31:33.975908Z",
     "start_time": "2024-04-24T01:31:33.964890Z"
    }
   },
   "cell_type": "code",
   "source": "previsao_de_renda[variaveis_quantitativas].corr()",
   "execution_count": 174,
   "outputs": []
  },
  {
   "metadata": {
    "ExecuteTime": {
     "end_time": "2024-04-24T01:31:34.277218Z",
     "start_time": "2024-04-24T01:31:33.976911Z"
    }
   },
   "cell_type": "code",
   "source": [
    "# Scatterplot for 'tempo_emprego' vs 'renda'\n",
    "sns.scatterplot(x='tempo_emprego', y='log_renda', data=previsao_de_renda)"
   ],
   "execution_count": 175,
   "outputs": []
  },
  {
   "metadata": {
    "ExecuteTime": {
     "end_time": "2024-04-24T01:31:35.111350Z",
     "start_time": "2024-04-24T01:31:34.278220Z"
    }
   },
   "cell_type": "code",
   "source": "_ = sns.regplot(x='tempo_emprego', y='log_renda', data=previsao_de_renda)",
   "execution_count": 176,
   "outputs": []
  },
  {
   "metadata": {
    "ExecuteTime": {
     "end_time": "2024-04-24T01:31:35.429825Z",
     "start_time": "2024-04-24T01:31:35.112352Z"
    }
   },
   "cell_type": "code",
   "source": [
    "# Scatterplot for 'idade' vs 'renda'\n",
    "sns.scatterplot(x='idade', y='log_renda', data=previsao_de_renda)"
   ],
   "execution_count": 177,
   "outputs": []
  },
  {
   "metadata": {
    "ExecuteTime": {
     "end_time": "2024-04-24T01:31:36.333308Z",
     "start_time": "2024-04-24T01:31:35.429825Z"
    }
   },
   "cell_type": "code",
   "source": "_ = sns.regplot(x='idade', y='log_renda', data=previsao_de_renda)",
   "execution_count": 178,
   "outputs": []
  },
  {
   "metadata": {
    "ExecuteTime": {
     "end_time": "2024-04-24T01:31:37.205280Z",
     "start_time": "2024-04-24T01:31:36.333308Z"
    }
   },
   "cell_type": "code",
   "source": "_ = sns.regplot(x='qt_pessoas_residencia', y='log_renda', data=previsao_de_renda)",
   "execution_count": 179,
   "outputs": []
  },
  {
   "metadata": {},
   "cell_type": "markdown",
   "source": ""
  },
  {
   "metadata": {},
   "cell_type": "markdown",
   "source": [
    "5) A aplicação do LOG você acha que melhorou ou piorou a análise? \n",
    " qt_pessoas_residencia foi a que mais aumentou a correlação com a renda após a aplicação do log. fora isso, não houve muita diferença."
   ]
  },
  {
   "metadata": {
    "ExecuteTime": {
     "end_time": "2024-04-24T01:31:37.216995Z",
     "start_time": "2024-04-24T01:31:37.206283Z"
    }
   },
   "cell_type": "code",
   "source": [
    "# utilizando rank\n",
    "df_rank = pd.concat([previsao_de_renda[variaveis_quantitativas], previsao_de_renda[variaveis_quantitativas].rank()], axis=1)"
   ],
   "execution_count": 180,
   "outputs": []
  },
  {
   "metadata": {
    "ExecuteTime": {
     "end_time": "2024-04-24T01:31:37.221667Z",
     "start_time": "2024-04-24T01:31:37.216995Z"
    }
   },
   "cell_type": "code",
   "source": [
    "print(df_rank.columns)  \n",
    "# colocando '_rank' no nome das colunas da metade para frente \n",
    "df_rank.columns = list(df_rank.columns[:len(variaveis_quantitativas)]) + [str(col) + '_rank' for col in df_rank.columns[len(variaveis_quantitativas):]]\n",
    "print(df_rank.columns)\n",
    "\n"
   ],
   "execution_count": 181,
   "outputs": []
  },
  {
   "metadata": {
    "ExecuteTime": {
     "end_time": "2024-04-24T01:31:37.238732Z",
     "start_time": "2024-04-24T01:31:37.222669Z"
    }
   },
   "cell_type": "code",
   "source": "df_rank.corr()",
   "execution_count": 182,
   "outputs": []
  },
  {
   "metadata": {},
   "cell_type": "markdown",
   "source": [
    " Com o rank não houve melhora na análise\n",
    " parece realmente que a única variável que tem correlação com a renda é o tempo de emprego."
   ]
  },
  {
   "metadata": {},
   "cell_type": "code",
   "execution_count": null,
   "source": "",
   "outputs": []
  }
 ],
 "metadata": {
  "kernelspec": {
   "display_name": "Python 3",
   "language": "python",
   "name": "python3"
  },
  "language_info": {
   "codemirror_mode": {
    "name": "ipython",
    "version": 3
   },
   "file_extension": ".py",
   "mimetype": "text/x-python",
   "name": "python",
   "nbconvert_exporter": "python",
   "pygments_lexer": "ipython3",
   "version": "3.8.5"
  }
 },
 "nbformat": 4,
 "nbformat_minor": 4
}
