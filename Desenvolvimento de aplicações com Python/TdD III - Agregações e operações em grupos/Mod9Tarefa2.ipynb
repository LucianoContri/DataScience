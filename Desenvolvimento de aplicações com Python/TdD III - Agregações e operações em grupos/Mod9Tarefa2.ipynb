{
 "cells": [
  {
   "cell_type": "markdown",
   "metadata": {
    "id": "eYvCczy6lTt7"
   },
   "source": [
    "# Livro para consulta:\n",
    "- https://jakevdp.github.io/PythonDataScienceHandbook/03.08-aggregation-and-grouping.html\n",
    "- https://jakevdp.github.io/PythonDataScienceHandbook/03.09-pivot-tables.html\n",
    "    "
   ]
  },
  {
   "cell_type": "markdown",
   "metadata": {
    "id": "oeWprAfnlTt-"
   },
   "source": [
    "# 1. Importando bibliotecas <a name=\"import\"></a>\n",
    "\n",
    "<div style=\"text-align: right\"\n",
    "     \n",
    "[Voltar ao índice](#Contents)"
   ]
  },
  {
   "cell_type": "code",
   "metadata": {
    "id": "y_9gYudilTt_",
    "ExecuteTime": {
     "end_time": "2024-04-22T19:21:43.634332Z",
     "start_time": "2024-04-22T19:21:43.630570Z"
    }
   },
   "source": [
    "import numpy as np\n",
    "import pandas as pd\n",
    "import seaborn as sns\n",
    "import matplotlib.pyplot as plt\n",
    "\n",
    "%matplotlib inline"
   ],
   "execution_count": 4,
   "outputs": []
  },
  {
   "cell_type": "markdown",
   "metadata": {
    "id": "-cpxC-IBlTuA"
   },
   "source": [
    "# 2. Carregando o dataframe SINASC <a name=\"read\"></a>\n",
    "<div style=\"text-align: right\"\n",
    "     \n",
    "[Voltar ao índice](#Contents)"
   ]
  },
  {
   "cell_type": "code",
   "metadata": {
    "scrolled": true,
    "id": "nQZn7u4DlTuB",
    "outputId": "74b44036-69d9-4139-b291-621d77ed331b",
    "ExecuteTime": {
     "end_time": "2024-04-22T19:21:43.879475Z",
     "start_time": "2024-04-22T19:21:43.723587Z"
    }
   },
   "source": [
    "sinasc_raw = pd.read_csv('../../../../Datasets/SINASC_RO_2019.csv', sep = ',')\n",
    "sinasc_raw['HORANASC'].head()"
   ],
   "execution_count": 5,
   "outputs": []
  },
  {
   "cell_type": "markdown",
   "metadata": {
    "id": "9GOoel3-lTuD"
   },
   "source": [
    "# Tarefa 2"
   ]
  },
  {
   "cell_type": "markdown",
   "metadata": {
    "id": "iNNeWswTlTuD"
   },
   "source": [
    "### 1. Crie 2 faixas de Latitude do município (munResLat) sendo uma acima e outra abaixo de -10.5 e aplique o groupby usando essas faixas como chave e realize operações de soma, media, minimo, maximo, mediana, desvio padrao, variancia pra pelo menos 2 variáveis numéricas ainda não utilizadas"
   ]
  },
  {
   "metadata": {
    "ExecuteTime": {
     "end_time": "2024-04-22T19:21:43.885895Z",
     "start_time": "2024-04-22T19:21:43.880478Z"
    }
   },
   "cell_type": "code",
   "source": [
    "# utilizando pd.cut\n",
    "sinasc_raw['munResLatFaixa'] = pd.cut(sinasc_raw['munResLat'], bins=[-90, -10.5, 90], labels=['abaixo', 'acima'])"
   ],
   "execution_count": 6,
   "outputs": []
  },
  {
   "metadata": {
    "ExecuteTime": {
     "end_time": "2024-04-22T19:21:43.888442Z",
     "start_time": "2024-04-22T19:21:43.886897Z"
    }
   },
   "cell_type": "code",
   "source": "",
   "execution_count": 6,
   "outputs": []
  },
  {
   "metadata": {
    "ExecuteTime": {
     "end_time": "2024-04-22T19:21:43.915611Z",
     "start_time": "2024-04-22T19:21:43.894600Z"
    }
   },
   "cell_type": "code",
   "source": [
    "sinasc_raw.pivot_table(\n",
    "    index='munResLatFaixa',\n",
    "    values=['HORANASC', 'APGAR5'],\n",
    "    aggfunc=['mean', 'std', 'min']\n",
    ")"
   ],
   "execution_count": 7,
   "outputs": []
  },
  {
   "cell_type": "code",
   "metadata": {
    "id": "HXtelNbnlTuE",
    "ExecuteTime": {
     "end_time": "2024-04-22T19:25:21.697249Z",
     "start_time": "2024-04-22T19:25:21.670179Z"
    }
   },
   "source": "sinasc_raw.dropna(subset=['HORANASC', 'APGAR5']).groupby('munResLatFaixa')[['HORANASC','APGAR5']].agg(['sum', 'mean', 'min', 'max', 'median', 'std', 'var']).stack().round(2)",
   "execution_count": 10,
   "outputs": []
  },
  {
   "cell_type": "markdown",
   "metadata": {
    "id": "AK33D0mdlTuE"
   },
   "source": [
    "### 2. Crie 2 faixas da área dos municípios (munResArea) sendo uma acima e outra abaixo de 3000 e aplique o groupby usando essas faixas como chave e realize operações de soma, media, minimo, maximo, mediana, desvio padrao, variancia pra pelo menos 2 variáveis numéricas ainda não utilizadas\n"
   ]
  },
  {
   "cell_type": "code",
   "metadata": {
    "id": "qqCXJtYIlTuE",
    "ExecuteTime": {
     "end_time": "2024-04-22T19:29:33.269418Z",
     "start_time": "2024-04-22T19:29:33.264094Z"
    }
   },
   "source": [
    "# utilizando pd.cut\n",
    "sinasc_raw['munResAreaFaixa'] = pd.cut(sinasc_raw['munResArea'], bins=[-np.inf, 3000, np.inf], labels=['abaixo', 'acima'])"
   ],
   "execution_count": 11,
   "outputs": []
  },
  {
   "metadata": {
    "ExecuteTime": {
     "end_time": "2024-04-22T19:30:13.835174Z",
     "start_time": "2024-04-22T19:30:13.816774Z"
    }
   },
   "cell_type": "code",
   "source": [
    "sinasc_raw.pivot_table(\n",
    "    index='munResAreaFaixa',\n",
    "    values=['HORANASC', 'APGAR5'],\n",
    "    aggfunc=['sum', 'mean', 'min', 'max', 'median', 'std', 'var']\n",
    ")"
   ],
   "execution_count": 12,
   "outputs": []
  },
  {
   "metadata": {
    "ExecuteTime": {
     "end_time": "2024-04-22T19:30:20.448513Z",
     "start_time": "2024-04-22T19:30:20.422184Z"
    }
   },
   "cell_type": "code",
   "source": "sinasc_raw.dropna(subset=['HORANASC', 'APGAR5']).groupby('munResAreaFaixa')[['HORANASC','APGAR5']].agg(['sum', 'mean', 'min', 'max', 'median', 'std', 'var']).stack().round(2)",
   "execution_count": 13,
   "outputs": []
  },
  {
   "cell_type": "markdown",
   "metadata": {
    "id": "aWaljnnxlTuE"
   },
   "source": [
    "### 3. Determine faixas na variável munResAlt e aplique o groupby usando essas faixas como chave e realize operações de soma, media, minimo, maximo, mediana, desvio padrao, variancia pra pelo menos 2 variáveis numéricas ainda não utilizadas"
   ]
  },
  {
   "metadata": {
    "ExecuteTime": {
     "end_time": "2024-04-22T19:32:35.834371Z",
     "start_time": "2024-04-22T19:32:35.829454Z"
    }
   },
   "cell_type": "code",
   "source": [
    "# utilizando pd.cut\n",
    "sinasc_raw['munResAltFaixa'] = pd.cut(sinasc_raw['munResAlt'], bins=[-np.inf, 300, 600, 900, np.inf], labels=['abaixo 300', '300 a 600', '600 a 900', 'acima 900'])"
   ],
   "execution_count": 14,
   "outputs": []
  },
  {
   "metadata": {
    "ExecuteTime": {
     "end_time": "2024-04-22T19:32:36.704172Z",
     "start_time": "2024-04-22T19:32:36.669064Z"
    }
   },
   "cell_type": "code",
   "source": [
    "sinasc_raw.pivot_table(\n",
    "    index='munResAltFaixa',\n",
    "    values=['HORANASC', 'APGAR5'],\n",
    "    aggfunc=['sum', 'mean', 'min', 'max', 'median', 'std', 'var']\n",
    ")   "
   ],
   "execution_count": 15,
   "outputs": []
  },
  {
   "metadata": {
    "ExecuteTime": {
     "end_time": "2024-04-22T19:32:38.020650Z",
     "start_time": "2024-04-22T19:32:37.993063Z"
    }
   },
   "cell_type": "code",
   "source": "sinasc_raw.dropna(subset=['HORANASC', 'APGAR5']).groupby('munResAltFaixa')[['HORANASC','APGAR5']].agg(['sum', 'mean', 'min', 'max', 'median', 'std', 'var']).stack().round(2)",
   "execution_count": 16,
   "outputs": []
  },
  {
   "cell_type": "markdown",
   "metadata": {
    "id": "aF1riawJlTuF"
   },
   "source": [
    "### 4. Plote no mesmo grafico ao longo do tempo a idade media das mulheres de cada regiao imediatas de rondonia\n"
   ]
  },
  {
   "cell_type": "code",
   "source": [
    "imediatas = {\n",
    "    \"Candeias do Jamari\": \"Porto Velho\",\n",
    "    \"Guajará-Mirim\": \"Porto Velho\",\n",
    "    \"Itapuã do Oeste\": \"Porto Velho\",\n",
    "    \"Nova Mamoré\": \"Porto Velho\",\n",
    "    \"Porto Velho\": \"Porto Velho\",\n",
    "    \"Ariquemes\": \"Ariquemes\",\n",
    "    \"Alto Paraíso\": \"Ariquemes\",\n",
    "    \"Buritis\": \"Ariquemes\",\n",
    "    \"Cacaulândia\": \"Ariquemes\",\n",
    "    \"Campo Novo de Rondônia\": \"Ariquemes\",\n",
    "    \"Cujubim\": \"Ariquemes\",\n",
    "    \"Monte Negro\": \"Ariquemes\",\n",
    "    \"Rio Crespo\": \"Ariquemes\",\n",
    "    \"Jaru\": \"Jaru\",\n",
    "    \"Governador Jorge Teixeira\": \"Jaru\",\n",
    "    \"Machadinho D'Oeste\": \"Jaru\",\n",
    "    \"Theobroma\": \"Jaru\",\n",
    "    \"Vale do Anari\": \"Jaru\",\n",
    "    \"Alvorada D'Oeste\": \"Ji-Paraná\",\n",
    "    \"Costa Marques\": \"Ji-Paraná\",\n",
    "    \"Ji-Paraná\": \"Ji-Paraná\",\n",
    "    \"Mirante da Serra\": \"Ji-Paraná\",\n",
    "    \"Nova União\": \"Ji-Paraná\",\n",
    "    \"Ouro Preto do Oeste\": \"Ji-Paraná\",\n",
    "    \"Presidente Médici\": \"Ji-Paraná\",\n",
    "    \"São Francisco do Guaporé\": \"Ji-Paraná\",\n",
    "    \"São Miguel do Guaporé\": \"Ji-Paraná\",\n",
    "    \"Seringueiras\": \"Ji-Paraná\",\n",
    "    \"Teixeirópolis\": \"Ji-Paraná\",\n",
    "    \"Urupá\": \"Ji-Paraná\",\n",
    "    \"Vale do Paraíso\": \"Ji-Paraná\",\n",
    "    \"Cacoal\": \"Cacoal\",\n",
    "    \"Alta Floresta D'Oeste\": \"Cacoal\",\n",
    "    \"Alto Alegre dos Parecis\": \"Cacoal\",\n",
    "    \"Castanheiras\": \"Cacoal\",\n",
    "    \"Espigão D'Oeste\": \"Cacoal\",\n",
    "    \"Ministro Andreazza\": \"Cacoal\",\n",
    "    \"Nova Brasilândia D'Oeste\": \"Cacoal\",\n",
    "    \"Novo Horizonte do Oeste\": \"Cacoal\",\n",
    "    \"Parecis\": \"Cacoal\",\n",
    "    \"Pimenta Bueno\": \"Cacoal\",\n",
    "    \"Primavera de Rondônia\": \"Cacoal\",\n",
    "    \"Rolim de Moura\": \"Cacoal\",\n",
    "    \"Santa Luzia D'Oeste\": \"Cacoal\",\n",
    "    \"São Felipe D'Oeste\": \"Cacoal\",\n",
    "    \"Vilhena\": \"Vilhena\",\n",
    "    \"Cabixi\": \"Vilhena\",\n",
    "    \"Cerejeiras\": \"Vilhena\",\n",
    "    \"Chupinguaia\": \"Vilhena\",\n",
    "    \"Colorado do Oeste\": \"Vilhena\",\n",
    "    \"Corumbiara\": \"Vilhena\",\n",
    "    \"Pimenteiras do Oeste\": \"Vilhena\"\n",
    "}"
   ],
   "metadata": {
    "id": "6aZM5xKale9c",
    "ExecuteTime": {
     "end_time": "2024-04-22T19:34:13.962659Z",
     "start_time": "2024-04-22T19:34:13.956745Z"
    }
   },
   "execution_count": 17,
   "outputs": []
  },
  {
   "metadata": {
    "ExecuteTime": {
     "end_time": "2024-04-22T19:34:37.861643Z",
     "start_time": "2024-04-22T19:34:37.855248Z"
    }
   },
   "cell_type": "code",
   "source": "sinasc_raw['regiao'] = sinasc_raw['munResNome'].map(imediatas)",
   "execution_count": 19,
   "outputs": []
  },
  {
   "metadata": {
    "ExecuteTime": {
     "end_time": "2024-04-22T19:36:07.617191Z",
     "start_time": "2024-04-22T19:36:07.255400Z"
    }
   },
   "cell_type": "code",
   "source": [
    "# plotar a idade média das mulheres ao longo do tempo\n",
    "sinasc_raw.groupby(['DTNASC', 'regiao'])['IDADEMAE'].mean().unstack().plot(figsize=(20, 10))"
   ],
   "execution_count": 23,
   "outputs": []
  },
  {
   "metadata": {},
   "cell_type": "markdown",
   "source": "Está de difícil visualizar mas Jaru é a região que parece mais ter registrado nascimentos ao longo do tempo ."
  },
  {
   "cell_type": "markdown",
   "metadata": {
    "id": "yt-LIWxblTuF"
   },
   "source": [
    "### 5. Utilize a tabela do link abaixo e crie faixas utilizando o mapping e gere agrupamentos utilizando essas faixas como chave\n"
   ]
  },
  {
   "cell_type": "markdown",
   "metadata": {
    "id": "moZakjgIlTuF"
   },
   "source": [
    "### 5.1 IDH\n",
    "A - https://pt.wikipedia.org/wiki/Lista_de_munic%C3%ADpios_de_Rond%C3%B4nia_por_IDH-M\n"
   ]
  },
  {
   "metadata": {
    "ExecuteTime": {
     "end_time": "2024-04-22T19:41:52.439041Z",
     "start_time": "2024-04-22T19:41:52.433639Z"
    }
   },
   "cell_type": "code",
   "source": [
    "idh_map = {\n",
    "    \"Porto Velho\": \"alto\",\n",
    "    \"Vilhena\": \"alto\",\n",
    "    \"Cacoal\": \"alto\",\n",
    "    \"Ji-Paraná\": \"alto\",\n",
    "    \"Pimenta Bueno\": \"alto\",\n",
    "    \"Ariquemes\": \"alto\",\n",
    "    \"Rolim de Moura\": \"alto\",\n",
    "    \"Cerejeiras\": \"médio\",\n",
    "    \"Jaru\": \"médio\",\n",
    "    \"Colorado do Oeste\": \"médio\",\n",
    "    \"Ouro Preto do Oeste\": \"médio\",\n",
    "    \"Espigão d'Oeste\": \"médio\",\n",
    "    \"Santa Luzia d'Oeste\": \"médio\",\n",
    "    \"Pimenteiras do Oeste\": \"médio\",\n",
    "    \"Presidente Médici\": \"médio\",\n",
    "    \"Castanheiras\": \"médio\",\n",
    "    \"Guajará-Mirim\": \"médio\",\n",
    "    \"Chupinguaia\": \"médio\",\n",
    "    \"Cabixi\": \"médio\",\n",
    "    \"Candeias do Jamari\": \"médio\",\n",
    "    \"São Felipe d'Oeste\": \"médio\",\n",
    "    \"Cacaulândia\": \"médio\",\n",
    "    \"São Miguel do Guaporé\": \"médio\",\n",
    "    \"Mirante da Serra\": \"médio\",\n",
    "    \"Alvorada d'Oeste\": \"médio\",\n",
    "    \"Teixeirópolis\": \"médio\",\n",
    "    \"Nova Brasilândia d'Oeste\": \"médio\",\n",
    "    \"Rio Crespo\": \"médio\",\n",
    "    \"Primavera de Rondônia\": \"médio\",\n",
    "    \"Alta Floresta d'Oeste\": \"médio\",\n",
    "    \"Ministro Andreazza\": \"médio\",\n",
    "    \"Novo Horizonte do Oeste\": \"médio\",\n",
    "    \"Vale do Paraíso\": \"médio\",\n",
    "    \"Alto Paraíso\": \"médio\",\n",
    "    \"Parecis\": \"médio\",\n",
    "    \"Buritis\": \"médio\",\n",
    "    \"Itapuã do Oeste\": \"médio\",\n",
    "    \"Corumbiara\": \"médio\",\n",
    "    \"Cujubim\": \"médio\",\n",
    "    \"Costa Marques\": \"médio\",\n",
    "    \"São Francisco do Guaporé\": \"médio\",\n",
    "    \"Urupá\": \"médio\",\n",
    "    \"Monte Negro\": \"médio\",\n",
    "    \"Seringueiras\": \"baixo\",\n",
    "    \"Governador Jorge Teixeira\": \"baixo\",\n",
    "    \"Machadinho d'Oeste\": \"baixo\",\n",
    "    \"Campo Novo de Rondônia\": \"baixo\",\n",
    "    \"Alto Alegre dos Parecis\": \"baixo\",\n",
    "    \"Theobroma\": \"baixo\",\n",
    "    \"Nova União\": \"baixo\",\n",
    "    \"Nova Mamoré\": \"baixo\",\n",
    "    \"Vale do Anari\": \"muito baixo\"\n",
    "}"
   ],
   "execution_count": 25,
   "outputs": []
  },
  {
   "cell_type": "code",
   "metadata": {
    "id": "DaJk66_BlTuF",
    "ExecuteTime": {
     "end_time": "2024-04-22T19:41:53.063640Z",
     "start_time": "2024-04-22T19:41:53.057723Z"
    }
   },
   "source": "sinasc_raw['IDH'] = sinasc_raw['munResNome'].map(idh_map)",
   "execution_count": 26,
   "outputs": []
  },
  {
   "metadata": {
    "ExecuteTime": {
     "end_time": "2024-04-22T19:45:04.508847Z",
     "start_time": "2024-04-22T19:45:04.493175Z"
    }
   },
   "cell_type": "code",
   "source": [
    "# gerando agrupamentos com idh\n",
    "sinasc_raw.groupby('IDH')[[ 'APGAR5', 'IDADEMAE', 'QTDFILVIVO']].agg('mean')"
   ],
   "execution_count": 27,
   "outputs": []
  },
  {
   "cell_type": "markdown",
   "metadata": {
    "id": "zhtI6CxtlTuH"
   },
   "source": [
    "### 5.2 IFDM\n",
    "B - https://pt.wikipedia.org/wiki/Lista_de_munic%C3%ADpios_de_Rond%C3%B4nia_por_IFDM\n"
   ]
  },
  {
   "cell_type": "code",
   "metadata": {
    "id": "1AVkd1M3lTuI",
    "ExecuteTime": {
     "end_time": "2024-04-22T19:49:25.578547Z",
     "start_time": "2024-04-22T19:49:25.572446Z"
    }
   },
   "source": [
    "ifdm_map = {\n",
    "    \"Ariquemes\": \"moderado\",\n",
    "    \"Vilhena\": \"moderado\",\n",
    "    \"Pimenta Bueno\": \"moderado\",\n",
    "    \"Porto Velho\": \"moderado\",\n",
    "    \"Ji-Paraná\": \"moderado\",\n",
    "    \"Cacoal\": \"moderado\",\n",
    "    \"Santa Luzia d'Oeste\": \"moderado\",\n",
    "    \"Rolim de Moura\": \"moderado\",\n",
    "    \"Chupinguaia\": \"moderado\",\n",
    "    \"São Miguel do Guaporé\": \"moderado\",\n",
    "    \"Pimenteiras do Oeste\": \"moderado\",\n",
    "    \"Teixeirópolis\": \"moderado\",\n",
    "    \"Colorado do Oeste\": \"moderado\",\n",
    "    \"Jaru\": \"moderado\",\n",
    "    \"Rio Crespo\": \"moderado\",\n",
    "    \"Primavera de Rondônia\": \"moderado\",\n",
    "    \"Alta Floresta d'Oeste\": \"moderado\",\n",
    "    \"Ouro Preto do Oeste\": \"moderado\",\n",
    "    \"São Francisco do Guaporé\": \"moderado\",\n",
    "    \"Candeias do Jamari\": \"moderado\",\n",
    "    \"Buritis\": \"moderado\",\n",
    "    \"São Felipe d'Oeste\": \"moderado\",\n",
    "    \"Presidente Médici\": \"moderado\",\n",
    "    \"Cerejeiras\": \"moderado\",\n",
    "    \"Monte Negro\": \"moderado\",\n",
    "    \"Urupá\": \"moderado\",\n",
    "    \"Espigão d'Oeste\": \"regular\",\n",
    "    \"Seringueiras\": \"regular\",\n",
    "    \"Alvorada d'Oeste\": \"regular\",\n",
    "    \"Itapuã do Oeste\": \"regular\",\n",
    "    \"Cabixi\": \"regular\",\n",
    "    \"Novo Horizonte do Oeste\": \"regular\",\n",
    "    \"Nova Brasilândia d'Oeste\": \"regular\",\n",
    "    \"Vale do Paraíso\": \"regular\",\n",
    "    \"Corumbiara\": \"regular\",\n",
    "    \"Alto Paraíso\": \"regular\",\n",
    "    \"Cacaulândia\": \"regular\",\n",
    "    \"Vale do Anari\": \"regular\",\n",
    "    \"Ministro Andreazza\": \"regular\",\n",
    "    \"Costa Marques\": \"regular\",\n",
    "    \"Nova União\": \"regular\",\n",
    "    \"Guajará-Mirim\": \"regular\",\n",
    "    \"Mirante da Serra\": \"regular\",\n",
    "    \"Parecis\": \"regular\",\n",
    "    \"Castanheiras\": \"regular\",\n",
    "    \"Theobroma\": \"regular\",\n",
    "    \"Machadinho d'Oeste\": \"regular\",\n",
    "    \"Campo Novo de Rondônia\": \"regular\",\n",
    "    \"Nova Mamoré\": \"regular\",\n",
    "    \"Cujubim\": \"regular\",\n",
    "    \"Alto Alegre dos Parecis\": \"regular\",\n",
    "    \"Governador Jorge Teixeira\": \"regular\"\n",
    "}"
   ],
   "execution_count": 28,
   "outputs": []
  },
  {
   "metadata": {
    "ExecuteTime": {
     "end_time": "2024-04-22T19:49:35.504526Z",
     "start_time": "2024-04-22T19:49:35.498366Z"
    }
   },
   "cell_type": "code",
   "source": "sinasc_raw['IFDM'] = sinasc_raw['munResNome'].map(ifdm_map)",
   "execution_count": 29,
   "outputs": []
  },
  {
   "metadata": {
    "ExecuteTime": {
     "end_time": "2024-04-22T19:49:56.848994Z",
     "start_time": "2024-04-22T19:49:56.834223Z"
    }
   },
   "cell_type": "code",
   "source": "sinasc_raw.groupby('IFDM')[[ 'APGAR5', 'IDADEMAE', 'QTDFILVIVO']].agg('mean')",
   "execution_count": 30,
   "outputs": []
  },
  {
   "metadata": {},
   "cell_type": "markdown",
   "source": "No IFDM E IDH vemos que os municipios com IFDM Menor o Apagar5 é maior, a idade da mãe é menor e a quantidade de filhos vivos é maior. pode se dizer então que estão tendo mais filhos e mais cedo e isso com certeza afeta no apgar5. Mas no IDH o muito baixo apresentou pior apgar5 enquanto o baixo apresentou o melhor apgar5. mostrando que há um limite onde a curva do IDH se cair muito começa a afetar o apgar5 de maneira extremamente negativa."
  },
  {
   "cell_type": "markdown",
   "metadata": {
    "id": "BwdS46EWlTuI"
   },
   "source": [
    "### 5.3 PIB\n",
    "C - https://pt.wikipedia.org/wiki/Lista_de_munic%C3%ADpios_de_Rond%C3%B4nia_por_PIB\n"
   ]
  },
  {
   "metadata": {
    "ExecuteTime": {
     "end_time": "2024-04-22T19:56:59.281040Z",
     "start_time": "2024-04-22T19:56:59.275532Z"
    }
   },
   "cell_type": "code",
   "source": [
    "pib_map = {\n",
    "    \"Porto Velho\": \"Acima de 1 Bilhão\",\n",
    "    \"Ji-Paraná\": \"Acima de 1 Bilhão\",\n",
    "    \"Vilhena\": \"Acima de 1 Bilhão\",\n",
    "    \"Ariquemes\": \"Acima de 1 Bilhão\",\n",
    "    \"Cacoal\": \"Acima de 1 Bilhão\",\n",
    "    \"Jaru\": \"Acima de 1 Bilhão\",\n",
    "    \"Rolim de Moura\": \"Acima de 1 Bilhão\",\n",
    "    \"Pimenta Bueno\": \"Acima de 1 Bilhão\",\n",
    "    \"Guajará-Mirim\": \"Acima de 500 Milhões\",\n",
    "    \"Ouro Preto do Oeste\": \"Acima de 500 Milhões\",\n",
    "    \"Buritis\": \"Acima de 500 Milhões\",\n",
    "    \"Machadinho do Oeste\": \"Acima de 500 Milhões\",\n",
    "    \"Espigão d'Oeste\": \"Acima de 500 Milhões\",\n",
    "    \"São Miguel do Guaporé\": \"Acima de 500 Milhões\",\n",
    "    \"Candeias do Jamari\": \"Acima de 500 Milhões\",\n",
    "    \"Nova Mamoré\": \"Acima de 500 Milhões\",\n",
    "    \"Cerejeiras\": \"Acima de 500 Milhões\",\n",
    "    \"Alta Floresta do Oeste\": \"Acima de 300 Milhões\",\n",
    "    \"Presidente Médici\": \"Acima de 300 Milhões\",\n",
    "    \"Cujubim\": \"Acima de 300 Milhões\",\n",
    "    \"Nova Brasilândia do Oeste\": \"Acima de 300 Milhões\",\n",
    "    \"Alto Paraíso\": \"Acima de 300 Milhões\",\n",
    "    \"São Francisco do Guaporé\": \"Acima de 300 Milhões\",\n",
    "    \"Colorado do Oeste\": \"Acima de 300 Milhões\",\n",
    "    \"Monte Negro\": \"Acima de 200 Milhões\",\n",
    "    \"Alto Alegre dos Parecis\": \"Acima de 200 Milhões\",\n",
    "    \"Campo Novo de Rondônia\": \"Acima de 200 Milhões\",\n",
    "    \"Alvorada do Oeste\": \"Acima de 200 Milhões\",\n",
    "    \"Chupinguaia\": \"Acima de 100 Milhões\",\n",
    "    \"Corumbiara\": \"Acima de 100 Milhões\",\n",
    "    \"Ministro Andreazza\": \"Acima de 100 Milhões\",\n",
    "    \"Urupá\": \"Acima de 100 Milhões\",\n",
    "    \"Costa Marques\": \"Acima de 100 Milhões\",\n",
    "    \"Nova União\": \"Acima de 100 Milhões\",\n",
    "    \"Theobroma\": \"Acima de 100 Milhões\",\n",
    "    \"Santa Luzia do Oeste\": \"Acima de 100 Milhões\",\n",
    "    \"Novo Horizonte do Oeste\": \"Acima de 100 Milhões\",\n",
    "    \"Itapuã do Oeste\": \"Acima de 100 Milhões\",\n",
    "    \"Vale do Paraíso\": \"Acima de 100 Milhões\",\n",
    "    \"Cacaulândia\": \"Acima de 100 Milhões\",\n",
    "    \"Cabixi\": \"Acima de 100 Milhões\",\n",
    "    \"Vale do Anari\": \"Acima de 100 Milhões\",\n",
    "    \"Nova União\": \"Até 100 Milhões\",\n",
    "    \"Parecis\": \"Até 100 Milhões\",\n",
    "    \"Rio Crespo\": \"Até 100 Milhões\",\n",
    "    \"Pimenteiras do Oeste\": \"Até 100 Milhões\",\n",
    "    \"Teixeirópolis\": \"Até 100 Milhões\",\n",
    "    \"São Felipe do Oeste\": \"Até 100 Milhões\",\n",
    "    \"Castanheiras\": \"Até 100 Milhões\",\n",
    "    \"Primavera de Rondônia\": \"Até 100 Milhões\"\n",
    "}"
   ],
   "execution_count": 31,
   "outputs": []
  },
  {
   "metadata": {
    "ExecuteTime": {
     "end_time": "2024-04-22T19:57:00.861532Z",
     "start_time": "2024-04-22T19:57:00.855374Z"
    }
   },
   "cell_type": "code",
   "source": "sinasc_raw['PIB'] = sinasc_raw['munResNome'].map(pib_map)",
   "execution_count": 32,
   "outputs": []
  },
  {
   "metadata": {
    "ExecuteTime": {
     "end_time": "2024-04-22T19:57:09.583220Z",
     "start_time": "2024-04-22T19:57:09.568809Z"
    }
   },
   "cell_type": "code",
   "source": "sinasc_raw.groupby('PIB')[[ 'APGAR5', 'IDADEMAE', 'QTDFILVIVO']].agg('mean')",
   "execution_count": 33,
   "outputs": []
  },
  {
   "metadata": {
    "ExecuteTime": {
     "end_time": "2024-04-22T20:07:16.963693Z",
     "start_time": "2024-04-22T20:07:16.705863Z"
    }
   },
   "cell_type": "code",
   "source": [
    "# plotando em 3d o groupby do PIB\n",
    "fig = plt.figure(figsize=(20, 10))\n",
    "ax = fig.add_subplot(111, projection='3d')\n",
    "\n",
    "for i, (PIB, group) in enumerate(sinasc_raw.groupby('PIB')):\n",
    "    ax.scatter(\n",
    "        group['APGAR5'].mean(),\n",
    "        group['IDADEMAE'].mean(),\n",
    "        group['QTDFILVIVO'].mean(),\n",
    "        label=PIB\n",
    "    )\n",
    "\n",
    "ax.set_xlabel('APGAR5')\n",
    "ax.set_ylabel('IDADEMAE')\n",
    "ax.set_zlabel('QTDFILVIVO')\n",
    "\n",
    "plt.legend()    \n",
    "plt.show()"
   ],
   "execution_count": 36,
   "outputs": []
  },
  {
   "metadata": {
    "ExecuteTime": {
     "end_time": "2024-04-22T20:15:43.924199Z",
     "start_time": "2024-04-22T20:15:43.906130Z"
    }
   },
   "cell_type": "code",
   "source": [
    "import plotly.graph_objects as go\n",
    "\n",
    "# Criando um DataFrame agrupado\n",
    "grouped_df = sinasc_raw.groupby('PIB')[['APGAR5', 'IDADEMAE', 'QTDFILVIVO']].mean().reset_index()\n",
    "\n",
    "# Criando o gráfico 3D interativo\n",
    "fig = go.Figure(data=[go.Scatter3d(\n",
    "    x=grouped_df['APGAR5'],\n",
    "    y=grouped_df['IDADEMAE'],\n",
    "    z=grouped_df['QTDFILVIVO'],\n",
    "    text=grouped_df['PIB'],  # texto que será exibido quando o mouse passar sobre um ponto\n",
    "    hovertext=grouped_df['PIB'],  # texto que será exibido quando o mouse passar sobre um ponto\n",
    "    mode='markers',\n",
    "    marker=dict(\n",
    "        size=12,\n",
    "        color=grouped_df.index,  # definindo a cor para corresponder ao índice do DataFrame\n",
    "        colorscale='Viridis',   # escolha de corescale\n",
    "        opacity=0.8\n",
    "    )\n",
    ")])\n",
    "\n",
    "# Definindo os rótulos dos eixos\n",
    "fig.update_layout(scene = dict(\n",
    "    xaxis_title='APGAR5',\n",
    "    yaxis_title='IDADEMAE',\n",
    "    zaxis_title='QTDFILVIVO'),\n",
    "    width=700,\n",
    "    margin=dict(r=20, b=10, l=10, t=10))\n",
    "\n",
    "fig.show()"
   ],
   "execution_count": 40,
   "outputs": []
  },
  {
   "cell_type": "markdown",
   "metadata": {
    "id": "bdWGW_xtlTuI"
   },
   "source": [
    "### Analise as respostas encontradas, tire algum insight delas, conte pra gente algo encontrado nos dados."
   ]
  },
  {
   "metadata": {},
   "cell_type": "markdown",
   "source": "Novamente podemos ver que a relação não é linear pode ser uma relação em formato de sino onde o pib muito baixo e muito alto tem apgar5 pior, enquanto o pib baixo e médio tem apgar5 melhor e se vai para os extremos a idade média da mãe aumenta, a quantidade de filhos vivos diminui e o apgar5 piora."
  },
  {
   "cell_type": "markdown",
   "metadata": {
    "id": "shZvokfBlTuI"
   },
   "source": [
    "Exemplo:\n",
    "- Ah, descobri que a idade mediana das mulheres que deram a luz no ano de 2019 dos municipios com o PIB mais alto é a maior dentre todas."
   ]
  },
  {
   "cell_type": "code",
   "execution_count": null,
   "metadata": {
    "id": "f8P7BYYglTuJ"
   },
   "source": [],
   "outputs": []
  }
 ],
 "metadata": {
  "kernelspec": {
   "display_name": "Python 3",
   "language": "python",
   "name": "python3"
  },
  "language_info": {
   "codemirror_mode": {
    "name": "ipython",
    "version": 3
   },
   "file_extension": ".py",
   "mimetype": "text/x-python",
   "name": "python",
   "nbconvert_exporter": "python",
   "pygments_lexer": "ipython3",
   "version": "3.8.5"
  },
  "varInspector": {
   "cols": {
    "lenName": 16,
    "lenType": 16,
    "lenVar": 40
   },
   "kernels_config": {
    "python": {
     "delete_cmd_postfix": "",
     "delete_cmd_prefix": "del ",
     "library": "var_list.py",
     "varRefreshCmd": "print(var_dic_list())"
    },
    "r": {
     "delete_cmd_postfix": ") ",
     "delete_cmd_prefix": "rm(",
     "library": "var_list.r",
     "varRefreshCmd": "cat(var_dic_list()) "
    }
   },
   "types_to_exclude": [
    "module",
    "function",
    "builtin_function_or_method",
    "instance",
    "_Feature"
   ],
   "window_display": false
  },
  "colab": {
   "provenance": []
  }
 },
 "nbformat": 4,
 "nbformat_minor": 0
}
