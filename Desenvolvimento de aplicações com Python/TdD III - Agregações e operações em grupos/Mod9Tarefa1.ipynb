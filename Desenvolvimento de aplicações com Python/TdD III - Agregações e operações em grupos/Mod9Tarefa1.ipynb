{
 "cells": [
  {
   "cell_type": "markdown",
   "metadata": {},
   "source": [
    "# Livro para consulta:\n",
    "- https://jakevdp.github.io/PythonDataScienceHandbook/03.08-aggregation-and-grouping.html\n",
    "- https://jakevdp.github.io/PythonDataScienceHandbook/03.09-pivot-tables.html\n",
    "    "
   ]
  },
  {
   "cell_type": "markdown",
   "metadata": {},
   "source": [
    "# 1. Importando bibliotecas <a name=\"import\"></a>\n",
    "\n",
    "<div style=\"text-align: right\"\n",
    "     \n",
    "[Voltar ao índice](#Contents)"
   ]
  },
  {
   "cell_type": "code",
   "metadata": {
    "ExecuteTime": {
     "end_time": "2024-04-19T15:27:08.508822Z",
     "start_time": "2024-04-19T15:27:08.504976Z"
    }
   },
   "source": [
    "import numpy as np\n",
    "import pandas as pd\n",
    "import seaborn as sns\n",
    "import matplotlib.pyplot as plt\n",
    "\n",
    "%matplotlib inline"
   ],
   "execution_count": 4,
   "outputs": []
  },
  {
   "cell_type": "code",
   "metadata": {
    "ExecuteTime": {
     "end_time": "2024-04-19T15:27:08.557569Z",
     "start_time": "2024-04-19T15:27:08.554865Z"
    }
   },
   "source": [],
   "execution_count": 4,
   "outputs": []
  },
  {
   "cell_type": "markdown",
   "metadata": {},
   "source": [
    "# 2. Carregando o dataframe SINASC <a name=\"read\"></a>\n",
    "<div style=\"text-align: right\"\n",
    "     \n",
    "[Voltar ao índice](#Contents)"
   ]
  },
  {
   "metadata": {
    "ExecuteTime": {
     "end_time": "2024-04-19T15:27:08.759608Z",
     "start_time": "2024-04-19T15:27:08.588599Z"
    }
   },
   "cell_type": "code",
   "source": [
    "sinasc_raw = pd.read_csv('../../../Datasets/SINASC_RO_2019.csv', sep=',')\n",
    "sinasc_raw.head()"
   ],
   "execution_count": 5,
   "outputs": []
  },
  {
   "metadata": {},
   "cell_type": "markdown",
   "source": ""
  },
  {
   "cell_type": "markdown",
   "metadata": {},
   "source": [
    "# Tarefa 1"
   ]
  },
  {
   "cell_type": "markdown",
   "metadata": {},
   "source": [
    "### 1. Idade media das mães e dos pais por município (coluna munResNome)\n",
    "\n",
    "utilizando groupby, pivot_table e agregações.\n"
   ]
  },
  {
   "cell_type": "code",
   "metadata": {
    "ExecuteTime": {
     "end_time": "2024-04-19T15:30:55.596606Z",
     "start_time": "2024-04-19T15:30:55.589373Z"
    }
   },
   "source": [
    "# groupby\n",
    "sinasc_raw.groupby('munResNome')['IDADEMAE'].mean()"
   ],
   "execution_count": 11,
   "outputs": []
  },
  {
   "metadata": {
    "ExecuteTime": {
     "end_time": "2024-04-19T15:31:17.211877Z",
     "start_time": "2024-04-19T15:31:17.199060Z"
    }
   },
   "cell_type": "code",
   "source": [
    "# pivot_table\n",
    "sinasc_raw.pivot_table(index='munResNome', values='IDADEMAE', aggfunc='mean')"
   ],
   "execution_count": 12,
   "outputs": []
  },
  {
   "metadata": {
    "ExecuteTime": {
     "end_time": "2024-04-19T15:31:36.312650Z",
     "start_time": "2024-04-19T15:31:36.302459Z"
    }
   },
   "cell_type": "code",
   "source": [
    "# agregações\n",
    "sinasc_raw.groupby('munResNome').agg({'IDADEMAE': 'mean'})"
   ],
   "execution_count": 13,
   "outputs": []
  },
  {
   "cell_type": "markdown",
   "metadata": {},
   "source": [
    "### 2. Peso médio dos bebes por sexo que nasceram no dia do seu aniversário por faixas de escolaridade mae\n",
    "Ex: Você, aluna(o), nasceu no dia 10/01, então você precisa filtrar o conjunto de dados nessa data e calcular o peso médio dos bebês de cada sexo por faixa de escolaridade da mãe."
   ]
  },
  {
   "cell_type": "code",
   "metadata": {
    "ExecuteTime": {
     "end_time": "2024-04-19T16:06:18.167129Z",
     "start_time": "2024-04-19T16:06:18.158196Z"
    }
   },
   "source": [
    "# groupby\n",
    "sinasc_raw[sinasc_raw['DTNASC'] == '2019-08-10'].groupby(['SEXO', 'ESCMAE'])['PESO'].mean()"
   ],
   "execution_count": 19,
   "outputs": []
  },
  {
   "metadata": {
    "ExecuteTime": {
     "end_time": "2024-04-19T16:09:48.214548Z",
     "start_time": "2024-04-19T16:09:48.202975Z"
    }
   },
   "cell_type": "code",
   "source": [
    "# pivot_table\n",
    "sinasc_raw[sinasc_raw['DTNASC'] == '2019-08-10'].pivot_table(index=['SEXO', 'ESCMAE'], values='PESO', aggfunc='mean')"
   ],
   "execution_count": 21,
   "outputs": []
  },
  {
   "metadata": {
    "ExecuteTime": {
     "end_time": "2024-04-19T16:11:34.435846Z",
     "start_time": "2024-04-19T16:11:34.425741Z"
    }
   },
   "cell_type": "code",
   "source": [
    "# agregações\n",
    "sinasc_raw[sinasc_raw['DTNASC'] == '2019-08-10'].groupby(['SEXO', 'ESCMAE']).agg({'PESO': 'mean'})"
   ],
   "execution_count": 23,
   "outputs": []
  },
  {
   "cell_type": "markdown",
   "metadata": {},
   "source": [
    "### 3. Qual o municipio que nasceu menos bebe em 2019?\n",
    "    - qual a idade media, maxima, minima das maes nesse municipio?\n",
    "    - qual a idade media, maxima, minima dos pais nesse municipio?"
   ]
  },
  {
   "cell_type": "code",
   "metadata": {
    "ExecuteTime": {
     "end_time": "2024-04-19T16:33:59.675527Z",
     "start_time": "2024-04-19T16:33:59.670799Z"
    }
   },
   "source": [
    "# groupby municipio que nasceu menos bebe\n",
    "menos_bebe = sinasc_raw.groupby('munResNome').size().idxmin()"
   ],
   "execution_count": 39,
   "outputs": []
  },
  {
   "metadata": {
    "ExecuteTime": {
     "end_time": "2024-04-19T16:29:58.063294Z",
     "start_time": "2024-04-19T16:29:58.049363Z"
    }
   },
   "cell_type": "code",
   "source": [
    "# pivot_table\n",
    "sinasc_raw.pivot_table(index='munResNome', values=['IDADEMAE', 'IDADEPAI'],\n",
    "                       aggfunc={'IDADEMAE': ['mean', 'max', 'min'],\n",
    "                                'IDADEPAI': ['mean', 'max', 'min']}).loc[menos_bebe]"
   ],
   "execution_count": 38,
   "outputs": []
  },
  {
   "metadata": {
    "ExecuteTime": {
     "end_time": "2024-04-19T16:34:07.089943Z",
     "start_time": "2024-04-19T16:34:07.080630Z"
    }
   },
   "cell_type": "code",
   "source": [
    "# agregações\n",
    "sinasc_raw.groupby('munResNome').agg({'IDADEMAE': ['mean', 'max', 'min'],\n",
    "                                      'IDADEPAI': ['mean', 'max', 'min']}).loc[menos_bebe]"
   ],
   "execution_count": 40,
   "outputs": []
  },
  {
   "cell_type": "markdown",
   "metadata": {},
   "source": [
    "### 4. Qual o municipio que nasceu mais bebe no mês de março?\n",
    "    - qual a quantidade de filhos vivos media, maxima, minima nesse municipio?\n",
    "    - qual a idade media, maxima, minima dos pais nesse municipio?\n",
    "\n"
   ]
  },
  {
   "metadata": {
    "ExecuteTime": {
     "end_time": "2024-04-19T16:52:41.940126Z",
     "start_time": "2024-04-19T16:52:41.923558Z"
    }
   },
   "cell_type": "code",
   "source": [
    "# groupby e value counts municipio que nasceu mais bebe no mês de março\n",
    "mun_mais_nasc = sinasc_raw[sinasc_raw['DTNASC'].str.contains('2019-03')].groupby('munResNome')[\n",
    "    'IDADEMAE'].count().idxmax()"
   ],
   "execution_count": 66,
   "outputs": []
  },
  {
   "metadata": {
    "ExecuteTime": {
     "end_time": "2024-04-19T16:55:23.471217Z",
     "start_time": "2024-04-19T16:55:23.462959Z"
    }
   },
   "cell_type": "code",
   "source": [
    "\n",
    "# groupby \n",
    "sinasc_raw.groupby('munResNome')[['QTDFILVIVO','IDADEMAE','IDADEPAI']].mean().loc[mun_mais_nasc]\n"
   ],
   "execution_count": 71,
   "outputs": []
  },
  {
   "metadata": {
    "ExecuteTime": {
     "end_time": "2024-04-19T16:50:40.045072Z",
     "start_time": "2024-04-19T16:50:40.022740Z"
    }
   },
   "cell_type": "code",
   "source": [
    "# pivot_table\n",
    "sinasc_raw[sinasc_raw['munResNome'] == mun_mais_nasc].pivot_table(index='munResNome',\n",
    "                                                                  values=['IDADEMAE', 'IDADEPAI', 'QTDFILVIVO'],\n",
    "                                                                  aggfunc={'IDADEMAE': ['mean', 'max', 'min'],\n",
    "                                                                           'IDADEPAI': ['mean', 'max', 'min'],\n",
    "                                                                           'QTDFILVIVO': ['mean', 'max', 'min']})"
   ],
   "execution_count": 64,
   "outputs": []
  },
  {
   "metadata": {
    "ExecuteTime": {
     "end_time": "2024-04-19T16:48:55.456872Z",
     "start_time": "2024-04-19T16:48:55.446483Z"
    }
   },
   "cell_type": "code",
   "source": [
    "# agregações\n",
    "sinasc_raw.groupby('munResNome').agg({'IDADEMAE': ['mean', 'max', 'min'],\n",
    "                                      'IDADEPAI': ['mean', 'max', 'min'],\n",
    "                                      'QTDFILVIVO': ['mean', 'max', 'min']}).loc[mun_mais_nasc]"
   ],
   "execution_count": 60,
   "outputs": []
  },
  {
   "cell_type": "markdown",
   "metadata": {},
   "source": [
    "### Analise as respostas encontradas, tire algum insight delas, conte pra gente algo encontrado nos dados. Algo que você julgue relevante e novo pra você.\n",
    "\n",
    "Análise: O município com menos nascimentos não nos deu muitas informações, ele têm apenas 1 registro e nem o nome do município está correto, teriamos que aplicar um filtro para selecionar um com mais pelo menos algumas entradas. Os pais são em média mais velhos que as mães, mas Meu Deus têm registro de uma menina que foi mãe aos 12 anos! "
   ]
  },
  {
   "cell_type": "markdown",
   "metadata": {},
   "source": [
    "Exemplo:\n",
    "- Ah, descobri que a idade mediana das mulheres que deram a luz no ano de 2019 dos municipios x é maior que y."
   ]
  },
  {
   "metadata": {},
   "cell_type": "markdown",
   "source": ""
  },
  {
   "cell_type": "code",
   "execution_count": 6,
   "metadata": {},
   "source": [
    "sinasc_raw.dtypes"
   ],
   "outputs": []
  },
  {
   "cell_type": "code",
   "execution_count": 7,
   "metadata": {},
   "source": "sinasc_raw.select_dtypes(exclude=['int64', 'float64'])",
   "outputs": []
  },
  {
   "cell_type": "code",
   "execution_count": 4,
   "metadata": {},
   "source": [
    "sinasc_raw.columns"
   ],
   "outputs": []
  }
 ],
 "metadata": {
  "kernelspec": {
   "display_name": "Python 3",
   "language": "python",
   "name": "python3"
  },
  "language_info": {
   "codemirror_mode": {
    "name": "ipython",
    "version": 3
   },
   "file_extension": ".py",
   "mimetype": "text/x-python",
   "name": "python",
   "nbconvert_exporter": "python",
   "pygments_lexer": "ipython3",
   "version": "3.8.5"
  },
  "varInspector": {
   "cols": {
    "lenName": 16,
    "lenType": 16,
    "lenVar": 40
   },
   "kernels_config": {
    "python": {
     "delete_cmd_postfix": "",
     "delete_cmd_prefix": "del ",
     "library": "var_list.py",
     "varRefreshCmd": "print(var_dic_list())"
    },
    "r": {
     "delete_cmd_postfix": ") ",
     "delete_cmd_prefix": "rm(",
     "library": "var_list.r",
     "varRefreshCmd": "cat(var_dic_list()) "
    }
   },
   "types_to_exclude": [
    "module",
    "function",
    "builtin_function_or_method",
    "instance",
    "_Feature"
   ],
   "window_display": false
  }
 },
 "nbformat": 4,
 "nbformat_minor": 4
}
