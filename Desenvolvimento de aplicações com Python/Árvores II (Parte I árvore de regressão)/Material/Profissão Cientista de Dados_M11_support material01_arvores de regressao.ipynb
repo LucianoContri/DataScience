{
 "cells": [
  {
   "cell_type": "markdown",
   "metadata": {},
   "source": [
    "# Árvores de regressão"
   ]
  },
  {
   "cell_type": "markdown",
   "metadata": {},
   "source": [
    "## Índice <a name=\"topo\"></a>\n",
    "\n",
    "1. [intuição: Maximizando a gorjeta do garçom](#1)\n",
    "2. [2. Medida de impureza](#2)\n",
    "3. [3. Construindo a árvore](#3)\n",
    "4. [4. Visualizando a árvore](#4)\n",
    "5. [5. Visualizando a árvore](#4)\n",
    "6. [6. Visualizando a árvore](#4)"
   ]
  },
  {
   "cell_type": "code",
   "execution_count": 1,
   "metadata": {},
   "source": [
    "# Import the necessary modules and libraries\n",
    "import numpy as np\n",
    "from sklearn.tree import DecisionTreeRegressor\n",
    "from sklearn.model_selection import train_test_split\n",
    "from sklearn.metrics import mean_squared_error\n",
    "from sklearn import tree\n",
    "\n",
    "import matplotlib.pyplot as plt\n",
    "import seaborn as sns\n",
    "import pandas as pd\n",
    "\n",
    "%matplotlib inline"
   ],
   "outputs": []
  },
  {
   "cell_type": "markdown",
   "metadata": {},
   "source": [
    "### 1. intuição: Maximizando a gorjeta do garçom<a name=\"1\"></a>\n",
    "\n",
    "Vamos ilustrar essa seção com o problema da gorjeta do garçom. Vamos montar uma árvore que tente explicar a variabilidade das gorjetas com base em variáveis que permitam montar uma estratégia para o garçom (assumindo que ele tenha uma certa liberdade pra escolher a mesa e o horário de trabalho). O sexo pode entrar como uma variável de controle. Para sexos diferentes podem fazer sentido estratégias diferentes - ou pelo menos pode-se conhecer uma eventual vantagem ou desvantagem na largada.\n",
    "\n",
    "Note que o valor da conta não se conhece antes de escolher a mesa, portanto não é uma boa variável para se colocar no modelo com esta finalidade.\n",
    "\n",
    "Quais variáveis mais discriminam a gorjeta? Pra responder a esta pergunta montamos um painelzinho abaixo.\n",
    "\n",
    "<div style=\"text-align: right\" \n",
    "     \n",
    "[Voltar ao índice](#topo)"
   ]
  },
  {
   "cell_type": "code",
   "execution_count": 2,
   "metadata": {},
   "source": [
    "tips = sns.load_dataset(\"tips\")\n",
    "tips['tip_pct'] = tips['tip'] / (tips['total_bill'] - tips['tip'])\n",
    "tips.head()"
   ],
   "outputs": []
  },
  {
   "cell_type": "code",
   "execution_count": 3,
   "metadata": {},
   "source": [
    "plt.rc('figure', figsize=(12, 10))\n",
    "\n",
    "fig, axes = plt.subplots(2, 2)\n",
    "\n",
    "# Gráfico 1: tamanho da mesa\n",
    "ax1 = axes[0,0]\n",
    "sns.countplot(x=\"size\", data=tips, dodge=True, ax = ax1)\n",
    "ax1.set_ylabel(\"Contagem\")\n",
    "ax1.set_xlabel(\"Tamanho da mesa\")\n",
    "\n",
    "ax1b = ax1.twinx()\n",
    "ax1b = sns.pointplot(x=\"size\", y=\"tip\", data=tips, dodge=True, ci = 90, color = 'navy')\n",
    "plt.ylabel(\"Gorjeta\")\n",
    "\n",
    "# Gráfico 2: dia da semana\n",
    "ax2 = axes[1,0]\n",
    "sns.countplot(x=\"day\", data=tips, dodge=True, ax = ax2)\n",
    "ax2.set_ylabel(\"Contagem\")\n",
    "ax2.set_xlabel(\"Dia da semana\")\n",
    "\n",
    "ax2b = ax2.twinx()\n",
    "ax2b = sns.pointplot(x=\"day\", y=\"tip\", data=tips, dodge=True, ci = 90, color = 'navy')\n",
    "plt.ylabel(\"Gorjeta\")\n",
    "\n",
    "# Gráfico 3: horário\n",
    "ax3 = axes[0,1]\n",
    "sns.countplot(x=\"time\", data=tips, dodge=True, ax = ax3)\n",
    "ax3.set_ylabel(\"Contagem\")\n",
    "ax3.set_xlabel(\"Horário\")\n",
    "\n",
    "ax3b = ax3.twinx()\n",
    "ax3b = sns.pointplot(x=\"time\", y=\"tip\", data=tips, dodge=True, ci = 90, color = 'navy')\n",
    "plt.ylabel(\"Gorjeta\")\n",
    "\n",
    "# Gráfico 4: fumante\n",
    "ax4 = axes[1,1]\n",
    "sns.countplot(x=\"smoker\", data=tips, dodge=True, ax = ax4)\n",
    "ax4.set_ylabel(\"Contagem\")\n",
    "ax4.set_xlabel(\"Fumante\")\n",
    "\n",
    "ax4b = ax4.twinx()\n",
    "ax4b = sns.pointplot(x=\"smoker\", y=\"tip\", data=tips, dodge=True, ci = 90, color = 'navy')\n",
    "plt.ylabel(\"Gorjeta\")\n",
    "\n",
    "plt.subplots_adjust(wspace=.3, hspace=0.2)\n",
    "\n"
   ],
   "outputs": []
  },
  {
   "cell_type": "markdown",
   "metadata": {},
   "source": [
    "### 2. Medida de impureza<a name=\"2\"></a>\n",
    "<div style=\"text-align: right\" \n",
    "     \n",
    "[Voltar ao índice](#topo)"
   ]
  },
  {
   "cell_type": "markdown",
   "metadata": {},
   "source": [
    "Vamos estudar a variável tamanho da mesa, que parece explicar melhor que as demais a gorjeta."
   ]
  },
  {
   "cell_type": "code",
   "execution_count": 4,
   "metadata": {},
   "source": [
    "plt.rc('figure', figsize=(8, 6))\n",
    "\n",
    "\n",
    "ax = sns.countplot(x=\"size\",\n",
    "                   data=tips, dodge=True)\n",
    "plt.ylabel(\"Contagem\")\n",
    "plt.xlabel(\"Tamanho da mesa\")\n",
    "\n",
    "ax2 = ax.twinx()\n",
    "ax2 = sns.pointplot(x=\"size\", y=\"tip\", data=tips, dodge=True, ci = 90)\n",
    "plt.ylabel(\"Resposta\")\n"
   ],
   "outputs": []
  },
  {
   "cell_type": "markdown",
   "metadata": {},
   "source": [
    "#### Medidas de impureza\n",
    "\n",
    "O que queremos fazer aqui é **explicar a variabilidade** da gorjeta com base nas variáveis que temos disponíveis.A medida mais popular de \"impureza\" da árvore é o **erro quadrático médio** (MSE - *mean square error* em ingês).\n",
    "\n",
    "MSE = $\\displaystyle\\frac{1}{n}\\sum_{ x \\in c }(x_i - \\hat{x})^2 $\n",
    "\n",
    "Em qu e$\\hat{x_i}$ é a estimativa de $x_i$, no caso a média da folha à qual $x_i$ pertence."
   ]
  },
  {
   "cell_type": "code",
   "execution_count": 5,
   "metadata": {},
   "source": [
    "plt.rc('figure', figsize=(8, 5))\n",
    "\n",
    "ax1 = sns.stripplot(x=\"size\", y=\"tip\", data=tips, color='blue')\n",
    "ax1.set(ylim=(0, 11))\n",
    "ax1.axhline(tips['tip'].mean(), ls='--', color = 'green')\n",
    "\n",
    "ax1.set(ylim=(0, 11))\n",
    "ax1 = sns.pointplot(x=\"size\", y=\"tip\", data=tips, color='red', ci = None, linestyles='', markers='+')\n",
    "\n",
    "ax1.set_ylabel(\"Gorjeta\")\n",
    "ax1.set_xlabel(\"Tamanho da mesa\")"
   ],
   "outputs": []
  },
  {
   "cell_type": "markdown",
   "metadata": {},
   "source": [
    "A célula abaixo calcula o erro quadrático médio para cada possível quebra da árvore. Não precisa se preocupar tanto com esse código, já que o scikitlearn já faz essa conta pra nós. Aqui está mais para ilustrarmos como o algoritmo vai fazer para procurar a melhor quebra."
   ]
  },
  {
   "cell_type": "code",
   "execution_count": 6,
   "metadata": {},
   "source": [
    "quebra = 2\n",
    "\n",
    "EQM = []\n",
    "for quebra in range(tips['size'].max() + 1):\n",
    "    grupos = pd.cut(tips['size']\n",
    "                    , bins = [-1, quebra, 99]\n",
    "                    , labels = ['0 a ' + str(quebra), str(quebra) + ' ou mais'])\n",
    "\n",
    "    tips_ = tips.copy()\n",
    "    tips_['grupo'] = grupos\n",
    "\n",
    "    tips_ = tips_.merge(tips_[['tip', 'grupo']].groupby('grupo').mean()\n",
    "                        , on = 'grupo'\n",
    "                        , how = 'left')\n",
    "\n",
    "    # tips_\n",
    "    tips_['EQ'] = (tips_['tip_x'] - tips_['tip_y'])**2\n",
    "    EQM.append(tips_['EQ'].mean())\n",
    "\n",
    "\n",
    "[\"{:5.2f}\".format(x) for x in EQM]\n"
   ],
   "outputs": []
  },
  {
   "cell_type": "markdown",
   "metadata": {},
   "source": [
    "Vemos abaixo que o menor EQM está na quebra **size > 2**."
   ]
  },
  {
   "cell_type": "code",
   "execution_count": 7,
   "metadata": {},
   "source": [
    "fig = plt.figure()\n",
    "\n",
    "plt.plot(EQM[0:6])\n",
    "plt.ylabel(\"EQM\")\n",
    "plt.xlabel(\"Tamanho da mesa < X\")"
   ],
   "outputs": []
  },
  {
   "cell_type": "markdown",
   "metadata": {},
   "source": [
    "### 3. Construindo a árvore<a name=\"3\"></a>\n",
    "<div style=\"text-align: right\" \n",
    "     \n",
    "[Voltar ao índice](#topo)"
   ]
  },
  {
   "cell_type": "markdown",
   "metadata": {},
   "source": [
    "#### Dividindo a base em treino e teste\n",
    "\n",
    "Já vimos que um perigo grande de um algoritmo é o *overfitting*, ou \"o algoritmo aprender os dados\". Isso significa que o algoritmo não fica geral o suficiente para ser aplicado em uma situação prática. Vimos também que uma forma interessante de evitar isto é dividir a base em uma parte de treinamento, e outra de teste, de modo que podemos avaliar o algoritmo na base de testes, e até fazer algumas modificações no algoritmo com essa base.\n",
    "\n",
    "Vamos repetir esse passo diversas vezes ainda, então vamos lá:\n",
    "- vamos colocar a variável \"tip\" como variável resposta (y)\n",
    "- as demais variáveis são as preditoras, vão ficar no objeto X.\n",
    "\n",
    "Lembre-se de que o Scikitlearn não aceita variáveis string nem *missing*. Nesse caso vamos precisar do \"get_dummies\" para transformar as variáveis qualitativas em variáveis indicadoras, ou variáveis *dummy*."
   ]
  },
  {
   "cell_type": "code",
   "execution_count": 103,
   "metadata": {},
   "source": [
    "X = tips.drop(columns = ['total_bill', 'tip', 'tip_pct']).copy()\n",
    "\n",
    "X = pd.get_dummies(X, drop_first = True)\n",
    "print(X.info())\n",
    "X.head()"
   ],
   "outputs": []
  },
  {
   "cell_type": "code",
   "execution_count": 104,
   "metadata": {},
   "source": [
    "y =  tips.loc[:,'tip']\n",
    "\n",
    "y.head()"
   ],
   "outputs": []
  },
  {
   "cell_type": "code",
   "execution_count": 105,
   "metadata": {},
   "source": [
    "X_train, X_test, y_train, y_test = train_test_split(X, y, random_state=2360873)"
   ],
   "outputs": []
  },
  {
   "cell_type": "code",
   "execution_count": 109,
   "metadata": {},
   "source": [
    "# Fit regression model\n",
    "regr_1 = DecisionTreeRegressor(max_depth=2)\n",
    "regr_2 = DecisionTreeRegressor(max_depth=8)\n",
    "\n",
    "regr_1.fit(X_train, y_train)\n",
    "regr_2.fit(X_train, y_train)"
   ],
   "outputs": []
  },
  {
   "cell_type": "code",
   "execution_count": 110,
   "metadata": {},
   "source": [
    "# mse1 = mean_squared_error(y_test, regr_1.predict(X_test))\n",
    "mse1 = regr_1.score(X_train, y_train)\n",
    "mse2 = regr_2.score(X_train, y_train)\n",
    "\n",
    "template = \"O MSE da árvore com profundidade={0} é: {1:.2f}\"\n",
    "\n",
    "print(template.format(regr_1.get_depth(),mse1).replace(\".\",\",\"))\n",
    "print(template.format(regr_2.get_depth(),mse2).replace(\".\",\",\"))\n"
   ],
   "outputs": []
  },
  {
   "cell_type": "markdown",
   "metadata": {},
   "source": [
    "### 4. Visualizando a árvore<a name=\"4\"></a>\n",
    "<div style=\"text-align: right\" \n",
    "     \n",
    "[Voltar ao índice](#topo)\n",
    "     \n",
    "Vamos ver três formas de visualizar a árvore:\n",
    "     1. Visualizar a forma gráfica da árvore com plot_tree\n",
    "     2. Visualizar a árvore com graphviz\n",
    "     2. Representação impressa da árvore\n",
    "     3. "
   ]
  },
  {
   "cell_type": "code",
   "execution_count": 113,
   "metadata": {},
   "source": [
    "plt.rc('figure', figsize=(10, 10))\n",
    "tp = tree.plot_tree(regr_1, \n",
    "                    feature_names=X.columns,  \n",
    "                    filled=True) "
   ],
   "outputs": []
  },
  {
   "cell_type": "markdown",
   "metadata": {},
   "source": [
    "#### Visualização da forma impressa da árvore\n",
    "\n",
    "A árvore de regressão pode ser expressa na forma impressa, regra a regra com o comando abaixo:"
   ]
  },
  {
   "cell_type": "code",
   "execution_count": 114,
   "metadata": {},
   "source": [
    "representacao_textual = tree.export_text(regr_1)\n",
    "print(representacao_textual)"
   ],
   "outputs": []
  },
  {
   "cell_type": "markdown",
   "metadata": {},
   "source": [
    "#### Instalando o graphviz e o dtreeviz\n",
    "\n",
    "Ambos os pacotes não são essenciais para o nosso curso, mas fornecem recursos interessantes de visualização de árvores. Não cobriremos em detalhes a instalação desses pacotes, mas as instruções se encontram nesse [link](https://github.com/parrt/dtreeviz)"
   ]
  },
  {
   "cell_type": "code",
   "execution_count": 115,
   "metadata": {},
   "source": [
    "import graphviz\n",
    "# DOT data\n",
    "dot_data = tree.export_graphviz(regr_2, out_file=None, \n",
    "                                feature_names=X.columns,\n",
    "                                filled=True)\n",
    "\n",
    "# Draw graph\n",
    "graph = graphviz.Source(dot_data, format=\"png\") \n",
    "graph"
   ],
   "outputs": []
  },
  {
   "cell_type": "code",
   "execution_count": 117,
   "metadata": {},
   "source": [
    "plt.rcParams.update({'figure.figsize': (12.0, 8.0)})\n",
    "plt.rcParams.update({'font.size': 14})\n",
    "\n",
    "from dtreeviz.trees import dtreeviz # remember to load the package\n",
    "\n",
    "dtreeviz(regr_1, X, y,\n",
    "                target_name=\"target\",\n",
    "                feature_names=X.columns)"
   ],
   "outputs": []
  },
  {
   "cell_type": "markdown",
   "metadata": {},
   "source": [
    "###  5. Pré-poda<a name=\"5\"></a>\n",
    "<div style=\"text-align: right\" \n",
    "     \n",
    "[Voltar ao índice](#topo)\n",
    "     "
   ]
  },
  {
   "cell_type": "code",
   "execution_count": 122,
   "metadata": {},
   "source": [
    "regr_1 = DecisionTreeRegressor(max_depth=3, min_samples_leaf=10)\n",
    "\n",
    "regr_1.fit(X_train, y_train)\n",
    "\n",
    "mse1 = regr_1.score(X_test, y_test)\n",
    "mse1"
   ],
   "outputs": []
  },
  {
   "cell_type": "code",
   "execution_count": 143,
   "metadata": {},
   "source": [
    "mses = []\n",
    "ind_i = []\n",
    "ind_j = []\n",
    "\n",
    "for i in range(2, 9):\n",
    "    for j in range(2, 10):\n",
    "        regr_1 = DecisionTreeRegressor(max_depth=i, min_samples_leaf=j)\n",
    "        regr_1.fit(X_train, y_train)\n",
    "        mse1 = regr_1.score(X_test, y_test)\n",
    "        mses.append(mse1)\n",
    "        ind_i.append(i)\n",
    "        ind_j.append(j)\n",
    "        \n",
    "df_mse = pd.DataFrame({'mses':mses, 'profundidade':ind_i, 'n_minimo':ind_j})\n",
    "sns.heatmap(df_mse.pivot(index='profundidade', columns='n_minimo', values='mses'))\n",
    "df_mse.pivot(index='profundidade', columns='n_minimo', values='mses')"
   ],
   "outputs": []
  },
  {
   "cell_type": "markdown",
   "metadata": {},
   "source": [
    "### 6. Pós-poda<a name=\"6\"></a>\n",
    "<div style=\"text-align: right\" \n",
    "     \n",
    "[Voltar ao índice](#topo)\n",
    "     "
   ]
  },
  {
   "cell_type": "code",
   "execution_count": 60,
   "metadata": {},
   "source": [
    "path = regr_2.cost_complexity_pruning_path(X_train, y_train)\n",
    "path"
   ],
   "outputs": []
  },
  {
   "cell_type": "code",
   "execution_count": 61,
   "metadata": {},
   "source": [
    "ccp_alphas, impurities = path.ccp_alphas, path.impurities\n",
    "\n",
    "plt.figure(figsize=(10, 6))\n",
    "plt.plot(ccp_alphas, impurities)\n",
    "plt.xlabel(\"Alpha efetivo\")\n",
    "plt.ylabel(\"Impureza total das folhas\")"
   ],
   "outputs": []
  },
  {
   "cell_type": "code",
   "execution_count": 62,
   "metadata": {},
   "source": [
    "clfs = []\n",
    "\n",
    "for ccp_alpha in ccp_alphas:\n",
    "    clf = DecisionTreeRegressor(random_state=0, ccp_alpha=ccp_alpha)\n",
    "    clf.fit(X_train, y_train)\n",
    "    clfs.append(clf)"
   ],
   "outputs": []
  },
  {
   "cell_type": "code",
   "execution_count": 67,
   "metadata": {},
   "source": [
    "tree_depths = [clf.tree_.max_depth for clf in clfs]\n",
    "plt.figure(figsize=(10,  6))\n",
    "plt.plot(ccp_alphas[:-1], tree_depths[:-1])\n",
    "plt.xlabel(\"effective alpha\")\n",
    "plt.ylabel(\"Profundidade da árvore\")"
   ],
   "outputs": []
  },
  {
   "cell_type": "code",
   "execution_count": 82,
   "metadata": {},
   "source": [
    "train_scores = [mean_squared_error(y_train , clf.predict(X_train)) for clf in clfs]\n",
    "test_scores  = [mean_squared_error(y_test  , clf.predict(X_test )) for clf in clfs]\n",
    "\n",
    "fig, ax = plt.subplots()\n",
    "ax.set_xlabel(\"alpha\")\n",
    "ax.set_ylabel(\"MSE\")\n",
    "ax.set_title(\"MSE x alpha do conjunto de dados de treino e teste\")\n",
    "ax.plot(ccp_alphas[:-1], train_scores[:-1], marker='o', label=\"treino\",\n",
    "        drawstyle=\"steps-post\")\n",
    "ax.plot(ccp_alphas[:-1], test_scores[:-1], marker='o', label=\"teste\",\n",
    "        drawstyle=\"steps-post\")\n",
    "ax.legend()\n",
    "plt.show()"
   ],
   "outputs": []
  },
  {
   "cell_type": "markdown",
   "metadata": {},
   "source": [
    "#### Exemplo intuitivo de pós-poda\n",
    "\n",
    "Exemplo do [scikitlearn](https://scikit-learn.org/stable/auto_examples/tree/plot_tree_regression.html#sphx-glr-auto-examples-tree-plot-tree-regression-py)."
   ]
  },
  {
   "cell_type": "code",
   "execution_count": 144,
   "metadata": {},
   "source": [
    "# Create a random dataset\n",
    "rng = np.random.RandomState(1)\n",
    "X = np.sort(5 * rng.rand(80, 1), axis=0)\n",
    "y = np.sin(X).ravel()\n",
    "y[::5] += 3 * (0.5 - rng.rand(16))"
   ],
   "outputs": []
  },
  {
   "cell_type": "code",
   "execution_count": 145,
   "metadata": {},
   "source": [
    "# Fit regression model\n",
    "regr_1 = DecisionTreeRegressor(max_depth=2)\n",
    "regr_2 = DecisionTreeRegressor(max_depth=5)\n",
    "regr_1.fit(X, y)\n",
    "regr_2.fit(X, y)"
   ],
   "outputs": []
  },
  {
   "cell_type": "code",
   "execution_count": 146,
   "metadata": {},
   "source": [
    "# Predict\n",
    "X_test = np.arange(0.0, 5.0, 0.01)[:, np.newaxis]\n",
    "y_1 = regr_1.predict(X_test)\n",
    "y_2 = regr_2.predict(X_test)"
   ],
   "outputs": []
  },
  {
   "cell_type": "code",
   "execution_count": 147,
   "metadata": {},
   "source": [
    "# Plot the results\n",
    "plt.figure()\n",
    "plt.scatter(X, y, s=20, edgecolor=\"black\",\n",
    "            c=\"darkorange\", label=\"Dados\")\n",
    "plt.plot(X_test, y_1, color=\"cornflowerblue\",\n",
    "         label=\"Profundidade máxima=2\", linewidth=2)\n",
    "plt.plot(X_test, y_2, color=\"yellowgreen\", label=\"Profundidade máxima=5\", linewidth=2)\n",
    "plt.xlabel(\"Dados\")\n",
    "plt.ylabel(\"Resposta\")\n",
    "plt.title(\"Árvore de regressão\")\n",
    "plt.legend()\n",
    "plt.show()"
   ],
   "outputs": []
  }
 ],
 "metadata": {
  "kernelspec": {
   "display_name": "Python 3",
   "language": "python",
   "name": "python3"
  },
  "language_info": {
   "codemirror_mode": {
    "name": "ipython",
    "version": 3
   },
   "file_extension": ".py",
   "mimetype": "text/x-python",
   "name": "python",
   "nbconvert_exporter": "python",
   "pygments_lexer": "ipython3",
   "version": "3.8.5"
  }
 },
 "nbformat": 4,
 "nbformat_minor": 4
}
