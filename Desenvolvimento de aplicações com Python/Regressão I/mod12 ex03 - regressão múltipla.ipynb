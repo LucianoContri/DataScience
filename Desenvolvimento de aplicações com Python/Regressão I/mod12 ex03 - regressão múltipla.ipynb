{
 "cells": [
  {
   "cell_type": "markdown",
   "metadata": {},
   "source": [
    "# Regressão 01 - tarefa 03 - transformações em X e Y"
   ]
  },
  {
   "cell_type": "markdown",
   "metadata": {},
   "source": [
    "Carregue os pacotes necessários e a base de gorjetas.\n",
    "\n",
    "### I. Modelo no valor da gorjeta\n",
    "\n",
    "1. Crie a matriz de design (e a matriz y) utilizando o Patsy, para um modelo em ```tip```, explicada por ```sex, smoker, diner e net_bill```.  \n",
    "2. Remova as variáveis não significantes.  \n",
    "3. observe o gráfico de resíduos em função de ```net_bill```  \n",
    "4. teste transformar ```net_bill``` no log e um polinômio. Escolha o melhor modelo."
   ]
  },
  {
   "metadata": {
    "ExecuteTime": {
     "end_time": "2024-05-09T19:43:54.728577Z",
     "start_time": "2024-05-09T19:43:54.712798Z"
    }
   },
   "cell_type": "code",
   "source": [
    "import pandas as pd\n",
    "import numpy as np\n",
    "import seaborn as sns\n",
    "import matplotlib.pyplot as plt\n",
    "\n",
    "\n",
    "tips = sns.load_dataset(\"tips\")\n",
    "# calculando a taxa de gorjeta\n",
    "tips['tip_pct'] = tips['tip'] / tips['total_bill']\n",
    "\n",
    "tips['net_bill'] = tips['total_bill'] - tips['tip']\n",
    "tips.head() "
   ],
   "execution_count": 136,
   "outputs": []
  },
  {
   "metadata": {},
   "cell_type": "markdown",
   "source": "##### 1. Crie a matriz de design (e a matriz y) utilizando o Patsy, para um modelo em tip, explicada por sex + smoker + diner + net_bill"
  },
  {
   "metadata": {
    "ExecuteTime": {
     "end_time": "2024-05-09T19:43:55.058223Z",
     "start_time": "2024-05-09T19:43:55.037614Z"
    }
   },
   "cell_type": "code",
   "source": [
    "\n",
    "import patsy as patsy \n",
    "import statsmodels.api as sm\n",
    "\n",
    "# coloquei todas as variáveis para ver o que é significativo pois apenas as especificadas não são suficientes, apenas net_bill acaba sendo significativa o que não geraria um modelo de regressão multivariada.\n",
    "y, X = patsy.dmatrices('tip ~ sex + smoker + net_bill + size + day + time', tips)\n",
    "\n",
    "modelo = sm.OLS(y, X).fit()\n",
    "print(modelo.summary())"
   ],
   "execution_count": 137,
   "outputs": []
  },
  {
   "metadata": {},
   "cell_type": "markdown",
   "source": "##### 2. Remova as variáveis não significantes."
  },
  {
   "metadata": {
    "ExecuteTime": {
     "end_time": "2024-05-09T19:43:55.100188Z",
     "start_time": "2024-05-09T19:43:55.086250Z"
    }
   },
   "cell_type": "code",
   "source": [
    "\n",
    "y, X = patsy.dmatrices('tip ~ net_bill + size', tips)    \n",
    "modelo = sm.OLS(y, X).fit()\n",
    "print(modelo.summary())"
   ],
   "execution_count": 138,
   "outputs": []
  },
  {
   "metadata": {},
   "cell_type": "markdown",
   "source": "##### 3. observe o gráfico de resíduos em função de net_bill"
  },
  {
   "metadata": {
    "ExecuteTime": {
     "end_time": "2024-05-09T19:43:55.354501Z",
     "start_time": "2024-05-09T19:43:55.148246Z"
    }
   },
   "cell_type": "code",
   "source": [
    "\n",
    "tips['residues'] = modelo.resid\n",
    "sns.scatterplot(x = 'net_bill', y = 'residues', data = tips)\n",
    "plt.axhline(y=0, color='r', linestyle='--')"
   ],
   "execution_count": 139,
   "outputs": []
  },
  {
   "metadata": {},
   "cell_type": "markdown",
   "source": "##### 4. teste transformar net_bill no log e um polinômio. Escolha o melhor modelo."
  },
  {
   "metadata": {
    "ExecuteTime": {
     "end_time": "2024-05-09T19:43:55.370286Z",
     "start_time": "2024-05-09T19:43:55.355504Z"
    }
   },
   "cell_type": "code",
   "source": [
    "\n",
    "y, X = patsy.dmatrices('tip ~ np.log(net_bill) + size', tips)\n",
    "modelo = sm.OLS(y, X).fit()\n",
    "print(modelo.summary())"
   ],
   "execution_count": 140,
   "outputs": []
  },
  {
   "metadata": {
    "ExecuteTime": {
     "end_time": "2024-05-09T19:43:55.486412Z",
     "start_time": "2024-05-09T19:43:55.469565Z"
    }
   },
   "cell_type": "code",
   "source": [
    "y, X = patsy.dmatrices('tip ~ np.power(net_bill, 2) + size', tips)\n",
    "modelo = sm.OLS(y, X).fit()\n",
    "print(modelo.summary())"
   ],
   "execution_count": 141,
   "outputs": []
  },
  {
   "metadata": {},
   "cell_type": "markdown",
   "source": "O melhor modelo é o que tem a variável net_bill sem transformação e a variável size."
  },
  {
   "cell_type": "markdown",
   "metadata": {},
   "source": [
    "### II. Modelo no valor do percentual da gorjeta\n",
    "\n",
    "1. Crie a matriz de design (e a matriz y) utilizando o Patsy, para um modelo no log de ```tip```, explicado por ```sex, smoker, diner e net_bill```.\n",
    "2. Remova as variáveis não significantes.\n",
    "3. Observe o gráfico de resíduos em função de ```net_bill```\n",
    "4. Teste transformar ```net_bill``` no log e um polinômio. Escolha o melhor modelo.\n",
    "5. Do modelo final deste item, calcule o $R^2$ na escala de ```tip``` (sem o log). Compare com o modelo do item 1. Qual tem melhor coeficiente de determinação?"
   ]
  },
  {
   "metadata": {},
   "cell_type": "markdown",
   "source": "##### 1. Crie a matriz de design (e a matriz y) utilizando o Patsy, para um modelo no log de ```tip```, explicado por ```sex, smoker, diner e net_bill```."
  },
  {
   "cell_type": "code",
   "metadata": {
    "ExecuteTime": {
     "end_time": "2024-05-09T19:43:55.620276Z",
     "start_time": "2024-05-09T19:43:55.599021Z"
    }
   },
   "source": [
    "# 1. Crie a matriz de design (e a matriz y) utilizando o Patsy, para um modelo no log de tip, explicado\n",
    "y, X = patsy.dmatrices('np.log(tip) ~ sex + smoker + net_bill + time', tips)\n",
    "modelo1 = sm.OLS(y, X).fit()\n",
    "print(modelo1.summary())"
   ],
   "execution_count": 142,
   "outputs": []
  },
  {
   "metadata": {},
   "cell_type": "markdown",
   "source": "##### 2. Remova as variáveis não significantes.\n"
  },
  {
   "metadata": {
    "ExecuteTime": {
     "end_time": "2024-05-09T19:43:56.092183Z",
     "start_time": "2024-05-09T19:43:56.079423Z"
    }
   },
   "cell_type": "code",
   "source": [
    "# 2. Remova as variáveis não significantes.\n",
    "y, X = patsy.dmatrices('np.log(tip) ~ net_bill', tips)\n",
    "modelo = sm.OLS(y, X).fit()\n",
    "print(modelo.summary())"
   ],
   "execution_count": 143,
   "outputs": []
  },
  {
   "metadata": {},
   "cell_type": "markdown",
   "source": "##### 3. Observe o gráfico de resíduos em função de ```net_bill```\n"
  },
  {
   "metadata": {
    "ExecuteTime": {
     "end_time": "2024-05-09T19:43:56.336107Z",
     "start_time": "2024-05-09T19:43:56.143737Z"
    }
   },
   "cell_type": "code",
   "source": [
    "# 3. Observe o gráfico de resíduos em função de net_bill\n",
    "tips['residues'] = modelo.resid\n",
    "sns.scatterplot(x = 'net_bill', y = 'residues', data = tips)\n",
    "plt.axhline(y=0, color='r', linestyle='--')"
   ],
   "execution_count": 144,
   "outputs": []
  },
  {
   "metadata": {},
   "cell_type": "markdown",
   "source": "##### 4. Teste transformar ```net_bill``` no log e um polinômio. Escolha o melhor modelo.\n"
  },
  {
   "metadata": {
    "ExecuteTime": {
     "end_time": "2024-05-09T19:43:56.351693Z",
     "start_time": "2024-05-09T19:43:56.337109Z"
    }
   },
   "cell_type": "code",
   "source": [
    "# 4. Teste transformar net_bill no log e um polinômio. Escolha o melhor modelo.\n",
    "y, X = patsy.dmatrices('np.log(tip) ~ np.log(net_bill)', tips)\n",
    "modelo = sm.OLS(y, X).fit()\n",
    "print(modelo.summary())"
   ],
   "execution_count": 145,
   "outputs": []
  },
  {
   "metadata": {
    "ExecuteTime": {
     "end_time": "2024-05-09T19:43:56.367643Z",
     "start_time": "2024-05-09T19:43:56.352695Z"
    }
   },
   "cell_type": "code",
   "source": [
    "y, X = patsy.dmatrices('np.log(tip) ~ np.power(net_bill, 2)', tips)\n",
    "modelo = sm.OLS(y, X).fit() \n",
    "print(modelo.summary())"
   ],
   "execution_count": 146,
   "outputs": []
  },
  {
   "metadata": {},
   "cell_type": "markdown",
   "source": "##### 5. Do modelo final deste item, calcule o $R^2$ na escala de ```tip``` (sem o log). Compare com o modelo do item 1. Qual tem melhor coeficiente de determinação?"
  },
  {
   "metadata": {
    "ExecuteTime": {
     "end_time": "2024-05-09T19:43:56.374904Z",
     "start_time": "2024-05-09T19:43:56.368645Z"
    }
   },
   "cell_type": "code",
   "source": [
    "# Calcular o R^2 na escala de tip (sem o log) para o modelo do item 4\n",
    "predicted_tips_log_net_bill = modelo.predict(X)  # Prever os valores de tip usando o modelo\n",
    "predicted_tips = np.exp(predicted_tips_log_net_bill)  # Desfazer o log dos valores de tip\n",
    "residuals = tips['tip'] - predicted_tips  # Calcular os resíduos\n",
    "\n",
    "# Calcular R^2\n",
    "SST = np.sum((tips['tip'] - np.mean(tips['tip'])) ** 2)\n",
    "SSR = np.sum(residuals ** 2)\n",
    "R2 = 1 - (SSR / SST)\n",
    "\n",
    "print(\"R^2 na escala de 'tip' (sem o log) para o modelo do item 4:\", R2)\n",
    "\n",
    "# Agora, vamos comparar com o R^2 do modelo do item 1\n",
    "print(\"R^2 do modelo do item 1:\", modelo1.rsquared)"
   ],
   "execution_count": 147,
   "outputs": []
  },
  {
   "metadata": {
    "ExecuteTime": {
     "end_time": "2024-05-09T19:43:56.397433Z",
     "start_time": "2024-05-09T19:43:56.394925Z"
    }
   },
   "cell_type": "code",
   "source": "# O melhor modelo é o que tem a variável net_bill sem transformação. mas o modelo com a variável net_bill em log é melhor que o modelo com a variável net_bill ao quadrado.",
   "execution_count": 148,
   "outputs": []
  },
  {
   "cell_type": "markdown",
   "metadata": {},
   "source": [
    "### III. Previsão de renda\n",
    "\n",
    "Vamos trabalhar a base que você vai usar no projeto do final deste ciclo.\n",
    "\n",
    "Carregue a base ```previsao_de_renda.csv```.\n",
    "\n",
    "|variavel|descrição|\n",
    "|-|-|\n",
    "|data_ref                | Data de referência de coleta das variáveis |\n",
    "|index                   | Código de identificação do cliente|\n",
    "|sexo                    | Sexo do cliente|\n",
    "|posse_de_veiculo        | Indica se o cliente possui veículo|\n",
    "|posse_de_imovel         | Indica se o cliente possui imóvel|\n",
    "|qtd_filhos              | Quantidade de filhos do cliente|\n",
    "|tipo_renda              | Tipo de renda do cliente|\n",
    "|educacao                | Grau de instrução do cliente|\n",
    "|estado_civil            | Estado civil do cliente|\n",
    "|tipo_residencia         | Tipo de residência do cliente (própria, alugada etc)|\n",
    "|idade                   | Idade do cliente|\n",
    "|tempo_emprego           | Tempo no emprego atual|\n",
    "|qt_pessoas_residencia   | Quantidade de pessoas que moram na residência|\n",
    "|renda                   | Renda em reais|\n",
    "\n",
    "1. Ajuste um modelo de regressão linear simples para explicar ```renda``` como variável resposta, por ```tempo_emprego``` como variável explicativa. Observe que há muitas observações nessa tabela. Utilize os recursos que achar necessário.\n",
    "2. Faça uma análise de resíduos. Com os recursos vistos neste módulo, como você melhoraria esta regressão?\n",
    "3. Ajuste um modelo de regressão linear múltipla para explicar ```renda``` (ou uma transformação de ```renda```) de acordo com as demais variáveis.\n",
    "4. Remova as variáveis não significantes e ajuste novamente o modelo. Interprete os parâmetros\n",
    "5. Faça uma análise de resíduos. Avalie a qualidade do ajuste."
   ]
  },
  {
   "metadata": {
    "ExecuteTime": {
     "end_time": "2024-05-09T19:43:56.486261Z",
     "start_time": "2024-05-09T19:43:56.451990Z"
    }
   },
   "cell_type": "code",
   "source": [
    "previsao_de_renda = pd.read_csv('../../../../Datasets/previsao_de_renda.csv', sep = ',')\n",
    "previsao_de_renda.head()"
   ],
   "execution_count": 149,
   "outputs": []
  },
  {
   "metadata": {
    "ExecuteTime": {
     "end_time": "2024-05-09T19:43:56.592173Z",
     "start_time": "2024-05-09T19:43:56.572846Z"
    }
   },
   "cell_type": "code",
   "source": "previsao_de_renda.info()",
   "execution_count": 150,
   "outputs": []
  },
  {
   "metadata": {
    "ExecuteTime": {
     "end_time": "2024-05-09T19:43:56.650211Z",
     "start_time": "2024-05-09T19:43:56.633446Z"
    }
   },
   "cell_type": "code",
   "source": [
    "# tratando nan values\n",
    "previsao_de_renda.isna().sum()"
   ],
   "execution_count": 151,
   "outputs": []
  },
  {
   "metadata": {
    "ExecuteTime": {
     "end_time": "2024-05-09T19:43:56.718378Z",
     "start_time": "2024-05-09T19:43:56.701259Z"
    }
   },
   "cell_type": "code",
   "source": [
    "previsao_de_renda.dropna(inplace = True)\n",
    "previsao_de_renda['tempo_emprego'].isna().sum()"
   ],
   "execution_count": 152,
   "outputs": []
  },
  {
   "metadata": {
    "ExecuteTime": {
     "end_time": "2024-05-09T19:43:57.030773Z",
     "start_time": "2024-05-09T19:43:56.806174Z"
    }
   },
   "cell_type": "code",
   "source": [
    "\n",
    "# Calcular as correlações apenas com a variável \"renda\"\n",
    "correlacoes_renda = previsao_de_renda.corr()['renda'].drop('renda')\n",
    "\n",
    "# Ordenar as correlações por valor absoluto em ordem decrescente\n",
    "correlacoes_renda_sorted = correlacoes_renda.abs().sort_values(ascending=False)\n",
    "\n",
    "# Selecionar apenas as correlações ordenadas\n",
    "correlacoes_renda_sorted = correlacoes_renda[correlacoes_renda_sorted.index]\n",
    "\n",
    "# Criar o heatmap com as correlações ordenadas\n",
    "sns.heatmap(correlacoes_renda_sorted.to_frame(), annot=True, cmap='coolwarm', fmt=\".2f\")\n",
    "\n"
   ],
   "execution_count": 153,
   "outputs": []
  },
  {
   "metadata": {},
   "cell_type": "markdown",
   "source": "##### 1. Ajuste um modelo de regressão linear simples para explicar ```renda``` como variável resposta, por ```tempo_emprego``` como variável explicativa. Observe que há muitas observações nessa tabela. Utilize os recursos que achar necessário."
  },
  {
   "metadata": {
    "ExecuteTime": {
     "end_time": "2024-05-09T19:43:57.047886Z",
     "start_time": "2024-05-09T19:43:57.031776Z"
    }
   },
   "cell_type": "code",
   "source": [
    "\n",
    "y, X = patsy.dmatrices('renda ~ tempo_emprego', previsao_de_renda)\n",
    "modelo = sm.OLS(y, X).fit()\n",
    "print(modelo.summary())"
   ],
   "execution_count": 154,
   "outputs": []
  },
  {
   "metadata": {},
   "cell_type": "markdown",
   "source": "##### 2. Faça uma análise de resíduos. Com os recursos vistos neste módulo, como você melhoraria esta regressão?\n"
  },
  {
   "metadata": {
    "ExecuteTime": {
     "end_time": "2024-05-09T19:43:57.350568Z",
     "start_time": "2024-05-09T19:43:57.090928Z"
    }
   },
   "cell_type": "code",
   "source": [
    "\n",
    "previsao_de_renda['residues'] = modelo.resid\n",
    "sns.scatterplot(x = 'tempo_emprego', y = 'residues', data = previsao_de_renda)  \n",
    "plt.axhline(y=0, color='r', linestyle='--')"
   ],
   "execution_count": 155,
   "outputs": []
  },
  {
   "metadata": {
    "ExecuteTime": {
     "end_time": "2024-05-09T19:43:57.607637Z",
     "start_time": "2024-05-09T19:43:57.351571Z"
    }
   },
   "cell_type": "code",
   "source": [
    "previsao_de_renda['predicted'] = modelo.fittedvalues\n",
    "sns.scatterplot(x = 'predicted', y = 'renda', data = previsao_de_renda)\n",
    "plt.plot(previsao_de_renda['predicted'], previsao_de_renda['predicted'], color = 'red')"
   ],
   "execution_count": 156,
   "outputs": []
  },
  {
   "metadata": {},
   "cell_type": "code",
   "source": "",
   "execution_count": null,
   "outputs": []
  },
  {
   "metadata": {},
   "cell_type": "markdown",
   "source": "A regressão não é adequada. Para melhorar a regressão simples, poderíamos tentar transformar a variável tempo_emprego ou utilizar outra variável explicativa."
  },
  {
   "metadata": {},
   "cell_type": "markdown",
   "source": "##### 3. Ajuste um modelo de regressão linear múltipla para explicar ```renda``` (ou uma transformação de ```renda```) de acordo com as demais variáveis."
  },
  {
   "metadata": {},
   "cell_type": "code",
   "source": [
    "\n",
    "\n",
    "numerical_columns = previsao_de_renda.select_dtypes(include = ['float64', 'int64'])\n",
    "numerical_columns = numerical_columns.drop(columns = ['index', 'renda', 'residues'])\n",
    "numerical_columns = numerical_columns.columns.tolist()\n",
    "# Criando a fórmula para a matriz de design\n",
    "formula = 'renda ~ ' + ' + '.join(numerical_columns)\n",
    "y, X = patsy.dmatrices(formula, previsao_de_renda)\n",
    "modelo = sm.OLS(y, X).fit()\n",
    "print(modelo.summary())"
   ],
   "execution_count": null,
   "outputs": []
  },
  {
   "metadata": {},
   "cell_type": "code",
   "source": [
    "\n",
    "y, X = patsy.dmatrices('renda ~ tempo_emprego + idade + qt_pessoas_residencia', previsao_de_renda)\n",
    "modelo = sm.OLS(y, X).fit()\n",
    "print(modelo.summary())"
   ],
   "execution_count": null,
   "outputs": []
  },
  {
   "metadata": {},
   "cell_type": "markdown",
   "source": "##### 4. Remova as variáveis não significantes e ajuste novamente o modelo. Interprete os parâmetros"
  },
  {
   "metadata": {},
   "cell_type": "code",
   "source": [
    "import itertools\n",
    "\n",
    "# Variáveis para as transformações\n",
    "transformacoes = ['none', 'log', 'power']\n",
    "\n",
    "# Lista de variáveis independentes\n",
    "variaveis_independentes = ['tempo_emprego', 'idade', 'qt_pessoas_residencia']\n",
    "\n",
    "# Gerar todas as combinações possíveis das transformações\n",
    "combinacoes = list(itertools.product(transformacoes, repeat=len(variaveis_independentes)))\n",
    "\n",
    "# Lista para armazenar as fórmulas\n",
    "formulas = []\n",
    "for i in ['np.log(renda)', 'renda']:\n",
    "    formula_aux = i + ' ~ '\n",
    "# Criar as fórmulas para cada combinação\n",
    "    for combo in combinacoes:\n",
    "        formula = formula_aux\n",
    "        for i, var in enumerate(variaveis_independentes):\n",
    "            if combo[i] == 'log':\n",
    "                formula += f'np.log({var})'\n",
    "            elif combo[i] == 'power':\n",
    "                formula += f'np.power({var}, 2)'\n",
    "            else:\n",
    "                formula += var\n",
    "            if i < len(variaveis_independentes) - 1:\n",
    "                formula += ' + '\n",
    "        formulas.append(formula)\n",
    "for i in formulas:\n",
    "    print(i)"
   ],
   "execution_count": null,
   "outputs": []
  },
  {
   "metadata": {},
   "cell_type": "code",
   "source": [
    "# testando várias combinações de transformações logarítmicas e polinomiais\n",
    "\n",
    "# criando lista de fórmulas para testar várias combinações semelhante a um grid search\n",
    "\n",
    "\n",
    "best_r2 = 0\n",
    "\n",
    "for i in formulas:\n",
    "    y, X = patsy.dmatrices(i, previsao_de_renda)\n",
    "    modelo = sm.OLS(y, X).fit()\n",
    "    if modelo.rsquared > best_r2:\n",
    "        best_r2 = modelo.rsquared\n",
    "        best_formula = i\n",
    "    # imprimindo apenas o R2\n",
    "    print(f'R2: {modelo.rsquared}')    \n",
    "    print(f'Formula: {i}')\n",
    "\n",
    "print(f'Melhor R2: {best_r2}')\n",
    "print(f'Melhor formula: {best_formula}')"
   ],
   "execution_count": null,
   "outputs": []
  },
  {
   "metadata": {
    "ExecuteTime": {
     "end_time": "2024-05-09T19:20:02.448413Z",
     "start_time": "2024-05-09T19:20:02.325851Z"
    }
   },
   "cell_type": "code",
   "source": [
    "y, X = patsy.dmatrices('np.log(renda) ~ np.power(tempo_emprego, 2) + np.power(idade, 2) + np.log(qt_pessoas_residencia) + sexo + tipo_renda + posse_de_imovel', previsao_de_renda)\n",
    "modelo = sm.OLS(y, X).fit()\n",
    "print(modelo.summary())"
   ],
   "execution_count": 72,
   "outputs": []
  },
  {
   "metadata": {},
   "cell_type": "markdown",
   "source": "##### 5. Faça uma análise de resíduos. Avalie a qualidade do ajuste."
  },
  {
   "metadata": {
    "ExecuteTime": {
     "end_time": "2024-05-09T19:20:02.709014Z",
     "start_time": "2024-05-09T19:20:02.449415Z"
    }
   },
   "cell_type": "code",
   "source": [
    "previsao_de_renda['residues'] = modelo.resid\n",
    "sns.scatterplot(x = 'renda', y = 'residues', data = previsao_de_renda)\n",
    "plt.axhline(y=0, color='r', linestyle='--')"
   ],
   "execution_count": 73,
   "outputs": []
  },
  {
   "metadata": {
    "ExecuteTime": {
     "end_time": "2024-05-09T19:20:02.939510Z",
     "start_time": "2024-05-09T19:20:02.710021Z"
    }
   },
   "cell_type": "code",
   "source": [
    "previsao_de_renda['predicted'] = modelo.fittedvalues\n",
    "sns.scatterplot(x = 'predicted', y = 'renda', data = previsao_de_renda)\n",
    "plt.plot(previsao_de_renda['predicted'], previsao_de_renda['predicted'], color = 'red')"
   ],
   "execution_count": 74,
   "outputs": []
  },
  {
   "metadata": {},
   "cell_type": "code",
   "execution_count": null,
   "source": "",
   "outputs": []
  },
  {
   "metadata": {
    "ExecuteTime": {
     "end_time": "2024-05-09T19:20:02.942285Z",
     "start_time": "2024-05-09T19:20:02.940513Z"
    }
   },
   "cell_type": "code",
   "source": "",
   "execution_count": 74,
   "outputs": []
  },
  {
   "metadata": {},
   "cell_type": "markdown",
   "source": ""
  }
 ],
 "metadata": {
  "kernelspec": {
   "display_name": "Python 3",
   "language": "python",
   "name": "python3"
  },
  "language_info": {
   "codemirror_mode": {
    "name": "ipython",
    "version": 3
   },
   "file_extension": ".py",
   "mimetype": "text/x-python",
   "name": "python",
   "nbconvert_exporter": "python",
   "pygments_lexer": "ipython3",
   "version": "3.8.5"
  }
 },
 "nbformat": 4,
 "nbformat_minor": 4
}
