{
 "cells": [
  {
   "cell_type": "markdown",
   "metadata": {},
   "source": [
    "# Análise de resíduos\n",
    "Índice <a name=\"topo\"></a>\n",
    "\n",
    "1. [Padrão esperado de resíduos](#1)\n",
    "2. [Padrão côncavo](#2)\n",
    "3. [Padrão convexo](#3)\n",
    "4. [Padrão de variância crescente](#4)\n",
    "5. [Transformações em x](#5)\n",
    "6. [Transformação na variável resposta](#6)"
   ]
  },
  {
   "cell_type": "code",
   "execution_count": 1,
   "metadata": {},
   "source": [
    "import numpy as np\n",
    "import seaborn as sns\n",
    "import matplotlib.pyplot as plt\n",
    "import pandas as pd\n",
    "\n",
    "import statsmodels.formula.api as smf\n",
    "%matplotlib inline\n",
    "plt.rc('figure', figsize=(6, 4))"
   ],
   "outputs": []
  },
  {
   "cell_type": "markdown",
   "metadata": {},
   "source": [
    "### 1. Padrão esperado de resíduos<a name=\"1\"></a>\n",
    "<div style=\"text-align: right\" \n",
    "     \n",
    "[Voltar ao índice](#topo)"
   ]
  },
  {
   "cell_type": "code",
   "execution_count": 2,
   "metadata": {},
   "source": [
    "df = pd.DataFrame({'y':np.random.randn(200), 'x':np.arange(0,1,.005)})\n",
    "\n",
    "sns.scatterplot(x = 'x', y = 'y', data = df, alpha = .75)\n",
    "plt.axhline(y=0, color='r', linestyle='--')"
   ],
   "outputs": []
  },
  {
   "cell_type": "markdown",
   "metadata": {},
   "source": [
    "### 2. Padrão côncavo<a name=\"2\"></a>\n",
    "<div style=\"text-align: right\" \n",
    "     \n",
    "[Voltar ao índice](#topo)"
   ]
  },
  {
   "cell_type": "code",
   "execution_count": 3,
   "metadata": {},
   "source": [
    "df['y'] = np.exp(2.5*(df['x']-(df['x'].min()-.1))) + np.random.randn(200)*.1\n",
    "df['y'] = df['y'] - df['y'].mean()\n",
    "\n",
    "reg = smf.ols('y ~ x', data = df).fit()\n",
    "df['res'] = reg.resid\n",
    "\n",
    "sns.scatterplot(x = 'x', y = 'res', data = df, alpha = .75)\n",
    "plt.axhline(y=0, color='r', linestyle='--')"
   ],
   "outputs": []
  },
  {
   "cell_type": "code",
   "execution_count": 4,
   "metadata": {},
   "source": [
    "sns.regplot(x = 'x', y = 'y', data = df)"
   ],
   "outputs": []
  },
  {
   "cell_type": "markdown",
   "metadata": {},
   "source": [
    "### 3. Padrão convexo<a name=\"3\"></a>\n",
    "<div style=\"text-align: right\" \n",
    "     \n",
    "[Voltar ao índice](#topo)"
   ]
  },
  {
   "cell_type": "code",
   "execution_count": 5,
   "metadata": {},
   "source": [
    "df['y'] = np.log((df['x']-(df['x'].min()-.1))) + np.random.randn(200)*.05\n",
    "df['y'] = df['y'] - df['y'].mean()\n",
    "\n",
    "reg = smf.ols('y ~ x', data = df).fit()\n",
    "df['res'] = reg.resid\n",
    "\n",
    "sns.scatterplot(x = 'x', y = 'res', data = df, alpha = .75)\n",
    "plt.axhline(y=0, color='r', linestyle='--')\n",
    "\n"
   ],
   "outputs": []
  },
  {
   "cell_type": "code",
   "execution_count": 6,
   "metadata": {
    "scrolled": true
   },
   "source": [
    "sns.regplot(x = 'x', y = 'y', data = df)\n",
    "plt.plot(df['x'], reg.fittedvalues, 'r,--')"
   ],
   "outputs": []
  },
  {
   "cell_type": "markdown",
   "metadata": {},
   "source": [
    "### 4. Padrão de variância crescente<a name=\"4\"></a>\n",
    "<div style=\"text-align: right\" \n",
    "     \n",
    "[Voltar ao índice](#topo)"
   ]
  },
  {
   "cell_type": "code",
   "execution_count": 7,
   "metadata": {},
   "source": [
    "df['y'] = 5*(df['x']-(df['x'].min()-.1)) + (df['x']-(df['x'].min()-.1))*np.random.randn(200)*1.5\n",
    "\n",
    "reg = smf.ols('y ~ x', data = df).fit()\n",
    "df['res'] = reg.resid\n",
    "\n",
    "sns.scatterplot(x = 'x', y = 'res', data = df, alpha = .75)\n",
    "plt.axhline(y=0, color='r', linestyle='--')"
   ],
   "outputs": []
  },
  {
   "cell_type": "code",
   "execution_count": 8,
   "metadata": {},
   "source": [
    "sns.regplot(x = 'x', y = 'y', data = df)"
   ],
   "outputs": []
  },
  {
   "cell_type": "markdown",
   "metadata": {},
   "source": [
    "### 5. Transformações em x<a name=\"5\"></a>\n",
    "<div style=\"text-align: right\"\n",
    "     \n",
    "[Voltar ao índice](#topo)</div>\n",
    "    \n",
    "Uma forma de buscar um melhor ajuste em uma regressão com padrão de relação não linear entre x e y é buscar uma função g(x) que linearize essa relação. Dentre as opções, podemos tentar:\n",
    "- categorizar x\n",
    "- ajustar um polinômio\n",
    "- transformar por uma função log, exponencial, raiz etc."
   ]
  },
  {
   "cell_type": "code",
   "execution_count": 9,
   "metadata": {},
   "source": [
    "df['y'] = np.log((df['x']-(df['x'].min()-.1))) + np.random.randn(200)*.05\n",
    "df['y'] = df['y'] - df['y'].mean()\n",
    "sns.regplot(x = 'x', y = 'y', data = df)"
   ],
   "outputs": []
  },
  {
   "cell_type": "markdown",
   "metadata": {},
   "source": [
    "A regressão com a variável ```x``` \"crua\" resulta em padrâo convexo nos resíduos"
   ]
  },
  {
   "cell_type": "code",
   "execution_count": 17,
   "metadata": {},
   "source": [
    "reg = smf.ols('y ~ x', data = df).fit()\n",
    "print(reg.summary())\n",
    "df['res'] = reg.resid\n",
    "\n",
    "sns.scatterplot(x = 'x', y = 'res', data = df, alpha = .75)\n",
    "plt.axhline(y=0, color='r', linestyle='--')\n"
   ],
   "outputs": []
  },
  {
   "cell_type": "markdown",
   "metadata": {},
   "source": [
    "#### Ajustando um polinômio de segundo grau"
   ]
  },
  {
   "cell_type": "code",
   "execution_count": 18,
   "metadata": {},
   "source": [
    "reg = smf.ols('y ~ x + np.power(x,2)', data = df).fit()\n",
    "print(reg.summary())\n",
    "df['res'] = reg.resid\n",
    "\n",
    "sns.scatterplot(x = 'x', y = 'res', data = df, alpha = .75)\n",
    "plt.axhline(y=0, color='r', linestyle='--')"
   ],
   "outputs": []
  },
  {
   "cell_type": "code",
   "execution_count": 19,
   "metadata": {},
   "source": [
    "sns.regplot(x = 'x', y = 'y', data = df)\n",
    "plt.plot(df['x'], reg.fittedvalues, 'r,--')"
   ],
   "outputs": []
  },
  {
   "cell_type": "markdown",
   "metadata": {},
   "source": [
    "#### Ajustando uma função exponencial"
   ]
  },
  {
   "cell_type": "code",
   "execution_count": 20,
   "metadata": {},
   "source": [
    "reg = smf.ols('y ~ np.exp(x)', data = df).fit()\n",
    "print(reg.summary())\n",
    "df['res'] = reg.resid\n",
    "\n",
    "sns.scatterplot(x = 'x', y = 'res', data = df, alpha = .75)\n",
    "plt.axhline(y=0, color='r', linestyle='--')"
   ],
   "outputs": []
  },
  {
   "cell_type": "code",
   "execution_count": 21,
   "metadata": {
    "scrolled": true
   },
   "source": [
    "sns.regplot(x = 'x', y = 'y', data = df)\n",
    "plt.plot(df['x'], reg.fittedvalues, 'r,--')"
   ],
   "outputs": []
  },
  {
   "cell_type": "markdown",
   "metadata": {},
   "source": [
    "#### Ajustando uma função logaritmica"
   ]
  },
  {
   "cell_type": "code",
   "execution_count": 23,
   "metadata": {},
   "source": [
    "reg = smf.ols('y ~ np.log(x+.1)', data = df).fit()\n",
    "print(reg.summary())\n",
    "df['res'] = reg.resid\n",
    "\n",
    "sns.scatterplot(x = 'x', y = 'res', data = df, alpha = .75)\n",
    "plt.axhline(y=0, color='r', linestyle='--')"
   ],
   "outputs": []
  },
  {
   "cell_type": "code",
   "execution_count": 24,
   "metadata": {
    "scrolled": true
   },
   "source": [
    "sns.regplot(x = 'x', y = 'y', data = df)\n",
    "plt.plot(df['x'], reg.fittedvalues, 'r,--')"
   ],
   "outputs": []
  },
  {
   "cell_type": "markdown",
   "metadata": {},
   "source": [
    "### 6. Transformação na variável resposta<a name=\"6\"></a>\n",
    "<div style=\"text-align: right\" \n",
    "     \n",
    "[Voltar ao índice](#topo)"
   ]
  },
  {
   "cell_type": "code",
   "execution_count": 70,
   "metadata": {},
   "source": [
    "x = np.arange(0,1,.001)\n",
    "df = pd.DataFrame({'y':np.exp(x + np.random.randn(1000)*.08), 'x':x})\n",
    "\n",
    "sns.regplot(x = 'x', y = 'y', data = df)"
   ],
   "outputs": []
  },
  {
   "cell_type": "code",
   "execution_count": 71,
   "metadata": {},
   "source": [
    "reg = smf.ols('y ~ x', data = df).fit()\n",
    "print(reg.summary())\n",
    "df['res'] = reg.resid\n",
    "\n",
    "sns.scatterplot(x = 'x', y = 'res', data = df, alpha = .75)\n",
    "plt.axhline(y=0, color='r', linestyle='--')"
   ],
   "outputs": []
  },
  {
   "cell_type": "code",
   "execution_count": 74,
   "metadata": {},
   "source": [
    "# outra forma de calcular o R^2\n",
    "df['pred'] = reg.fittedvalues\n",
    "\n",
    "r = df[['pred', 'y']].corr().iloc[0,1]"
   ],
   "outputs": []
  },
  {
   "cell_type": "code",
   "execution_count": 75,
   "metadata": {},
   "source": [
    "r**2"
   ],
   "outputs": []
  },
  {
   "cell_type": "markdown",
   "metadata": {},
   "source": [
    "#### Log na variável resposta usando o Patsy"
   ]
  },
  {
   "cell_type": "code",
   "execution_count": 76,
   "metadata": {},
   "source": [
    "reg = smf.ols('np.log(y) ~ x', data = df).fit()\n",
    "print(reg.summary())\n",
    "df['res'] = reg.resid\n",
    "\n",
    "sns.scatterplot(x = 'x', y = 'res', data = df, alpha = .75)\n",
    "plt.axhline(y=0, color='r', linestyle='--')"
   ],
   "outputs": []
  },
  {
   "cell_type": "markdown",
   "metadata": {},
   "source": [
    "#### Por que não posso comparar o R^2 desse modelo com o primeiro?"
   ]
  },
  {
   "cell_type": "code",
   "execution_count": 77,
   "metadata": {},
   "source": [
    "sns.regplot(x = 'x', y = 'y', data = df)\n",
    "plt.plot(df['x'], reg.fittedvalues, 'r,--')"
   ],
   "outputs": []
  },
  {
   "cell_type": "markdown",
   "metadata": {},
   "source": [
    "#### Então como eu calculo o R^2 no dado original?"
   ]
  },
  {
   "cell_type": "code",
   "execution_count": 78,
   "metadata": {},
   "source": [
    "df['pred_y'] = np.exp(reg.fittedvalues)\n",
    "\n",
    "df[['pred_y', 'y']].corr().iloc[0,1]**2"
   ],
   "outputs": []
  },
  {
   "cell_type": "code",
   "execution_count": 79,
   "metadata": {
    "scrolled": true
   },
   "source": [
    "sns.regplot(x = 'x', y = 'y', data = df)\n",
    "plt.plot(df['x'], df['pred_y'], 'r,--')"
   ],
   "outputs": []
  },
  {
   "cell_type": "code",
   "execution_count": null,
   "metadata": {},
   "source": [],
   "outputs": []
  }
 ],
 "metadata": {
  "kernelspec": {
   "display_name": "Python 3",
   "language": "python",
   "name": "python3"
  },
  "language_info": {
   "codemirror_mode": {
    "name": "ipython",
    "version": 3
   },
   "file_extension": ".py",
   "mimetype": "text/x-python",
   "name": "python",
   "nbconvert_exporter": "python",
   "pygments_lexer": "ipython3",
   "version": "3.8.5"
  }
 },
 "nbformat": 4,
 "nbformat_minor": 4
}
