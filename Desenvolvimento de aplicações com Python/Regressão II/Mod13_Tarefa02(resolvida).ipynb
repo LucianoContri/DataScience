{
 "cells": [
  {
   "cell_type": "markdown",
   "metadata": {},
   "source": [
    "# EBAC - Regressão II - regressão múltipla\n",
    "\n",
    "## Tarefa I"
   ]
  },
  {
   "cell_type": "markdown",
   "metadata": {},
   "source": [
    "#### Previsão de renda II\n",
    "\n",
    "Vamos continuar trabalhando com a base 'previsao_de_renda.csv', que é a base do seu próximo projeto. Vamos usar os recursos que vimos até aqui nesta base.\n",
    "\n",
    "|variavel|descrição|\n",
    "|-|-|\n",
    "|data_ref                | Data de referência de coleta das variáveis |\n",
    "|index                   | Código de identificação do cliente|\n",
    "|sexo                    | Sexo do cliente|\n",
    "|posse_de_veiculo        | Indica se o cliente possui veículo|\n",
    "|posse_de_imovel         | Indica se o cliente possui imóvel|\n",
    "|qtd_filhos              | Quantidade de filhos do cliente|\n",
    "|tipo_renda              | Tipo de renda do cliente|\n",
    "|educacao                | Grau de instrução do cliente|\n",
    "|estado_civil            | Estado civil do cliente|\n",
    "|tipo_residencia         | Tipo de residência do cliente (própria, alugada etc)|\n",
    "|idade                   | Idade do cliente|\n",
    "|tempo_emprego           | Tempo no emprego atual|\n",
    "|qt_pessoas_residencia   | Quantidade de pessoas que moram na residência|\n",
    "|renda                   | Renda em reais|"
   ]
  },
  {
   "cell_type": "code",
   "metadata": {
    "ExecuteTime": {
     "end_time": "2024-05-20T16:06:26.366443Z",
     "start_time": "2024-05-20T16:06:26.362981Z"
    }
   },
   "source": [
    "import pandas as pd"
   ],
   "outputs": [],
   "execution_count": 58
  },
  {
   "metadata": {
    "ExecuteTime": {
     "end_time": "2024-05-20T16:06:26.489090Z",
     "start_time": "2024-05-20T16:06:26.460706Z"
    }
   },
   "cell_type": "code",
   "source": "df = pd.read_csv('../../../../Datasets/previsao_de_renda.csv', sep = ',')",
   "outputs": [],
   "execution_count": 59
  },
  {
   "cell_type": "code",
   "metadata": {
    "ExecuteTime": {
     "end_time": "2024-05-20T16:06:26.509480Z",
     "start_time": "2024-05-20T16:06:26.490607Z"
    }
   },
   "source": [
    "df.info()"
   ],
   "outputs": [
    {
     "name": "stdout",
     "output_type": "stream",
     "text": [
      "<class 'pandas.core.frame.DataFrame'>\n",
      "RangeIndex: 15000 entries, 0 to 14999\n",
      "Data columns (total 16 columns):\n",
      " #   Column                 Non-Null Count  Dtype  \n",
      "---  ------                 --------------  -----  \n",
      " 0   Unnamed: 0             15000 non-null  int64  \n",
      " 1   data_ref               15000 non-null  object \n",
      " 2   index                  15000 non-null  int64  \n",
      " 3   sexo                   15000 non-null  object \n",
      " 4   posse_de_veiculo       15000 non-null  bool   \n",
      " 5   posse_de_imovel        15000 non-null  bool   \n",
      " 6   qtd_filhos             15000 non-null  int64  \n",
      " 7   tipo_renda             15000 non-null  object \n",
      " 8   educacao               15000 non-null  object \n",
      " 9   estado_civil           15000 non-null  object \n",
      " 10  tipo_residencia        15000 non-null  object \n",
      " 11  idade                  15000 non-null  int64  \n",
      " 12  tempo_emprego          12466 non-null  float64\n",
      " 13  qt_pessoas_residencia  15000 non-null  float64\n",
      " 14  mau                    15000 non-null  bool   \n",
      " 15  renda                  15000 non-null  float64\n",
      "dtypes: bool(3), float64(3), int64(4), object(6)\n",
      "memory usage: 1.5+ MB\n"
     ]
    }
   ],
   "execution_count": 60
  },
  {
   "cell_type": "markdown",
   "metadata": {},
   "source": [
    "1. Separe a base em treinamento e teste (25% para teste, 75% para treinamento).\n",
    "2. Rode uma regularização *ridge* com alpha = [0, 0.001, 0.005, 0.01, 0.05, 0.1] e avalie o $R^2$ na base de testes. Qual o melhor modelo?\n",
    "3. Faça o mesmo que no passo 2, com uma regressão *LASSO*. Qual método chega a um melhor resultado?\n",
    "4. Rode um modelo *stepwise*. Avalie o $R^2$ na vase de testes. Qual o melhor resultado?\n",
    "5. Compare os parâmetros e avalie eventuais diferenças. Qual modelo você acha o melhor de todos?\n",
    "6. Partindo dos modelos que você ajustou, tente melhorar o $R^2$ na base de testes. Use a criatividade, veja se consegue inserir alguma transformação ou combinação de variáveis.\n",
    "7. Ajuste uma árvore de regressão e veja se consegue um $R^2$ melhor com ela."
   ]
  },
  {
   "metadata": {},
   "cell_type": "markdown",
   "source": "#### 1. Separe a base em treinamento e teste (25% para teste, 75% para treinamento)."
  },
  {
   "metadata": {
    "ExecuteTime": {
     "end_time": "2024-05-20T16:06:26.780560Z",
     "start_time": "2024-05-20T16:06:26.509480Z"
    }
   },
   "cell_type": "code",
   "source": [
    "from sklearn.model_selection import train_test_split\n",
    "\n",
    "# utilizando patsy para criar a matriz de design e dummies\n",
    "import patsy\n",
    "\n",
    "# criando a matriz de design\n",
    "\n",
    "y, X = patsy.dmatrices('renda ~ sexo + posse_de_veiculo + posse_de_imovel + qtd_filhos + tipo_renda + educacao + estado_civil + tipo_residencia + idade + tempo_emprego + qt_pessoas_residencia', data = df, return_type = 'dataframe') \n",
    "\n",
    "# separando treino e teste\n",
    "X_train, X_test, y_train, y_test = train_test_split(X, y, test_size = 0.25, random_state = 42)\n"
   ],
   "outputs": [],
   "execution_count": 61
  },
  {
   "metadata": {},
   "cell_type": "markdown",
   "source": "#### 2. Rode uma regularização *ridge* com alpha = [0, 0.001, 0.005, 0.01, 0.05, 0.1] e avalie o $R^2$ na base de testes. Qual o melhor modelo?"
  },
  {
   "metadata": {
    "ExecuteTime": {
     "end_time": "2024-05-20T16:06:26.939747Z",
     "start_time": "2024-05-20T16:06:26.780560Z"
    }
   },
   "cell_type": "code",
   "source": [
    "#utilizando elastic net para fazer o ridge imprimindo o summary do statsmodels no final\n",
    "\n",
    "import statsmodels.api as sm\n",
    "import numpy as np\n",
    "from statsmodels.tools.tools import pinv_extended\n",
    "\n",
    "alpha = [0, 0.001, 0.005, 0.01, 0.05, 0.1]\n",
    "\n",
    "# diciionário para armazenar os resultados de cada alpha \n",
    "resultados_ridge = {}\n",
    "\n",
    "for a in alpha:\n",
    "    model = sm.OLS(y_train, X_train)\n",
    "    res = model.fit_regularized(method = 'elastic_net', alpha = a, L1_wt = 0)\n",
    "    pinv_wexog,_ = pinv_extended(model.wexog)\n",
    "    normalized_cov_params = np.dot(pinv_wexog, np.transpose(pinv_wexog))\n",
    "    summary = sm.regression.linear_model.OLSResults(model,res.params,normalized_cov_params)\n",
    "    print(summary.summary())\n",
    "    \n",
    "    # armazenando o R2 e R2 ajustado\n",
    "    resultados_ridge[a] = {'R2': summary.rsquared, 'R2 ajustado': summary.rsquared_adj}\n",
    "for a in resultados_ridge:\n",
    "    print(f'Alpha: {a} - R2: {resultados_ridge[a][\"R2\"]} - R2 ajustado: {resultados_ridge[a][\"R2 ajustado\"]}')  \n",
    "    "
   ],
   "outputs": [
    {
     "name": "stdout",
     "output_type": "stream",
     "text": [
      "                            OLS Regression Results                            \n",
      "==============================================================================\n",
      "Dep. Variable:                  renda   R-squared:                       0.225\n",
      "Model:                            OLS   Adj. R-squared:                  0.223\n",
      "Method:                 Least Squares   F-statistic:                     112.8\n",
      "Date:                Mon, 20 May 2024   Prob (F-statistic):               0.00\n",
      "Time:                        13:06:26   Log-Likelihood:                -91323.\n",
      "No. Observations:                9349   AIC:                         1.827e+05\n",
      "Df Residuals:                    9324   BIC:                         1.829e+05\n",
      "Df Model:                          24                                         \n",
      "Covariance Type:            nonrobust                                         \n",
      "====================================================================================================\n",
      "                                       coef    std err          t      P>|t|      [0.025      0.975]\n",
      "----------------------------------------------------------------------------------------------------\n",
      "Intercept                         -621.8967   1883.858     -0.330      0.741   -4314.669    3070.876\n",
      "sexo[T.M]                         2363.2479     99.725     23.698      0.000    2167.764    2558.731\n",
      "posse_de_veiculo[T.True]           -31.7072     96.031     -0.330      0.741    -219.950     156.535\n",
      "posse_de_imovel[T.True]            284.1145     94.616      3.003      0.003      98.647     469.582\n",
      "tipo_renda[T.Bolsista]            1686.9292   2995.408      0.563      0.573   -4184.725    7558.583\n",
      "tipo_renda[T.Empresário]           915.1136    102.012      8.971      0.000     715.148    1115.079\n",
      "tipo_renda[T.Pensionista]         2236.0714   1499.058      1.492      0.136    -702.410    5174.553\n",
      "tipo_renda[T.Servidor público]     456.6462    148.008      3.085      0.002     166.519     746.773\n",
      "educacao[T.Pós graduação]         2563.6361   1170.311      2.191      0.029     269.572    4857.701\n",
      "educacao[T.Secundário]            -305.7465    497.839     -0.614      0.539   -1281.619     670.126\n",
      "educacao[T.Superior completo]      289.1066    499.815      0.578      0.563    -690.640    1268.853\n",
      "educacao[T.Superior incompleto]   -511.5507    535.235     -0.956      0.339   -1560.729     537.628\n",
      "estado_civil[T.Separado]            97.6125    904.841      0.108      0.914   -1676.073    1871.298\n",
      "estado_civil[T.Solteiro]           402.7643    888.923      0.453      0.650   -1339.719    2145.247\n",
      "estado_civil[T.União]              -67.8339    163.308     -0.415      0.678    -387.954     252.286\n",
      "estado_civil[T.Viúvo]             -139.5803    930.357     -0.150      0.881   -1963.283    1684.122\n",
      "tipo_residencia[T.Casa]            224.6124    381.773      0.588      0.556    -523.746     972.971\n",
      "tipo_residencia[T.Com os pais]    -134.7341    425.663     -0.317      0.752    -969.127     699.659\n",
      "tipo_residencia[T.Comunitário]    -585.2164    709.896     -0.824      0.410   -1976.767     806.334\n",
      "tipo_residencia[T.Estúdio]        -556.9909    629.256     -0.885      0.376   -1790.471     676.489\n",
      "tipo_residencia[T.Governamental]  -337.0393    461.996     -0.730      0.466   -1242.652     568.573\n",
      "qtd_filhos                        -188.1679    886.181     -0.212      0.832   -1925.276    1548.940\n",
      "idade                               31.5014      5.466      5.763      0.000      20.787      42.216\n",
      "tempo_emprego                      295.4882      6.976     42.356      0.000     281.813     309.163\n",
      "qt_pessoas_residencia              236.6422    884.436      0.268      0.789   -1497.046    1970.330\n",
      "==============================================================================\n",
      "Omnibus:                     7002.155   Durbin-Watson:                   1.996\n",
      "Prob(Omnibus):                  0.000   Jarque-Bera (JB):           217600.598\n",
      "Skew:                           3.286   Prob(JB):                         0.00\n",
      "Kurtosis:                      25.703   Cond. No.                     2.91e+03\n",
      "==============================================================================\n",
      "\n",
      "Notes:\n",
      "[1] Standard Errors assume that the covariance matrix of the errors is correctly specified.\n",
      "[2] The condition number is large, 2.91e+03. This might indicate that there are\n",
      "strong multicollinearity or other numerical problems.\n",
      "                            OLS Regression Results                            \n",
      "==============================================================================\n",
      "Dep. Variable:                  renda   R-squared:                       0.225\n",
      "Model:                            OLS   Adj. R-squared:                  0.223\n",
      "Method:                 Least Squares   F-statistic:                     112.7\n",
      "Date:                Mon, 20 May 2024   Prob (F-statistic):               0.00\n",
      "Time:                        13:06:26   Log-Likelihood:                -91324.\n",
      "No. Observations:                9349   AIC:                         1.827e+05\n",
      "Df Residuals:                    9324   BIC:                         1.829e+05\n",
      "Df Model:                          24                                         \n",
      "Covariance Type:            nonrobust                                         \n",
      "====================================================================================================\n",
      "                                       coef    std err          t      P>|t|      [0.025      0.975]\n",
      "----------------------------------------------------------------------------------------------------\n",
      "Intercept                         -220.8768   1884.036     -0.117      0.907   -3914.000    3472.246\n",
      "sexo[T.M]                         2347.3514     99.735     23.536      0.000    2151.849    2542.853\n",
      "posse_de_veiculo[T.True]           -26.4719     96.040     -0.276      0.783    -214.732     161.788\n",
      "posse_de_imovel[T.True]            284.6489     94.625      3.008      0.003      99.164     470.134\n",
      "tipo_renda[T.Bolsista]             295.9168   2995.692      0.099      0.921   -5576.294    6168.127\n",
      "tipo_renda[T.Empresário]           908.1808    102.022      8.902      0.000     708.196    1108.165\n",
      "tipo_renda[T.Pensionista]         1027.7733   1499.200      0.686      0.493   -1910.987    3966.533\n",
      "tipo_renda[T.Servidor público]     444.5838    148.022      3.004      0.003     154.429     734.738\n",
      "educacao[T.Pós graduação]         1542.7362   1170.422      1.318      0.188    -751.546    3837.018\n",
      "educacao[T.Secundário]            -418.7769    497.886     -0.841      0.400   -1394.742     557.188\n",
      "educacao[T.Superior completo]      176.4111    499.862      0.353      0.724    -803.428    1156.250\n",
      "educacao[T.Superior incompleto]   -612.7618    535.286     -1.145      0.252   -1662.039     436.516\n",
      "estado_civil[T.Separado]           -73.0592    904.927     -0.081      0.936   -1846.913    1700.795\n",
      "estado_civil[T.Solteiro]           240.0039    889.007      0.270      0.787   -1502.644    1982.652\n",
      "estado_civil[T.União]              -72.8617    163.324     -0.446      0.656    -393.012     247.288\n",
      "estado_civil[T.Viúvo]             -301.0571    930.445     -0.324      0.746   -2124.933    1522.819\n",
      "tipo_residencia[T.Casa]            281.9103    381.809      0.738      0.460    -466.520    1030.340\n",
      "tipo_residencia[T.Com os pais]     -80.3581    425.704     -0.189      0.850    -914.831     754.114\n",
      "tipo_residencia[T.Comunitário]    -452.3928    709.963     -0.637      0.524   -1844.076     939.290\n",
      "tipo_residencia[T.Estúdio]        -436.1011    629.316     -0.693      0.488   -1669.698     797.496\n",
      "tipo_residencia[T.Governamental]  -274.5619    462.040     -0.594      0.552   -1180.260     631.137\n",
      "qtd_filhos                         -22.0738    886.265     -0.025      0.980   -1759.346    1715.199\n",
      "idade                               31.4599      5.467      5.755      0.000      20.744      42.176\n",
      "tempo_emprego                      295.2030      6.977     42.311      0.000     281.527     308.879\n",
      "qt_pessoas_residencia               70.0217    884.520      0.079      0.937   -1663.831    1803.874\n",
      "==============================================================================\n",
      "Omnibus:                     7005.428   Durbin-Watson:                   1.995\n",
      "Prob(Omnibus):                  0.000   Jarque-Bera (JB):           217737.364\n",
      "Skew:                           3.289   Prob(JB):                         0.00\n",
      "Kurtosis:                      25.709   Cond. No.                     2.91e+03\n",
      "==============================================================================\n",
      "\n",
      "Notes:\n",
      "[1] Standard Errors assume that the covariance matrix of the errors is correctly specified.\n",
      "[2] The condition number is large, 2.91e+03. This might indicate that there are\n",
      "strong multicollinearity or other numerical problems.\n",
      "                            OLS Regression Results                            \n",
      "==============================================================================\n",
      "Dep. Variable:                  renda   R-squared:                       0.224\n",
      "Model:                            OLS   Adj. R-squared:                  0.223\n",
      "Method:                 Least Squares   F-statistic:                     112.5\n",
      "Date:                Mon, 20 May 2024   Prob (F-statistic):               0.00\n",
      "Time:                        13:06:26   Log-Likelihood:                -91326.\n",
      "No. Observations:                9349   AIC:                         1.827e+05\n",
      "Df Residuals:                    9324   BIC:                         1.829e+05\n",
      "Df Model:                          24                                         \n",
      "Covariance Type:            nonrobust                                         \n",
      "====================================================================================================\n",
      "                                       coef    std err          t      P>|t|      [0.025      0.975]\n",
      "----------------------------------------------------------------------------------------------------\n",
      "Intercept                         -166.6619   1884.473     -0.088      0.930   -3860.640    3527.316\n",
      "sexo[T.M]                         2296.4993     99.758     23.021      0.000    2100.952    2492.047\n",
      "posse_de_veiculo[T.True]           -10.7058     96.063     -0.111      0.911    -199.010     177.598\n",
      "posse_de_imovel[T.True]            282.4037     94.647      2.984      0.003      96.876     467.932\n",
      "tipo_renda[T.Bolsista]              68.5284   2996.386      0.023      0.982   -5805.043    5942.100\n",
      "tipo_renda[T.Empresário]           885.2095    102.045      8.675      0.000     685.179    1085.240\n",
      "tipo_renda[T.Pensionista]          324.7568   1499.548      0.217      0.829   -2614.684    3264.198\n",
      "tipo_renda[T.Servidor público]     412.1631    148.056      2.784      0.005     121.941     702.385\n",
      "educacao[T.Pós graduação]          632.8771   1170.693      0.541      0.589   -1661.936    2927.691\n",
      "educacao[T.Secundário]            -372.4821    498.001     -0.748      0.455   -1348.673     603.709\n",
      "educacao[T.Superior completo]      216.4700    499.978      0.433      0.665    -763.596    1196.536\n",
      "educacao[T.Superior incompleto]   -527.5620    535.410     -0.985      0.324   -1577.083     521.959\n",
      "estado_civil[T.Separado]          -116.3301    905.136     -0.129      0.898   -1890.595    1657.935\n",
      "estado_civil[T.Solteiro]           190.8948    889.213      0.215      0.830   -1552.157    1933.947\n",
      "estado_civil[T.União]              -75.1495    163.362     -0.460      0.646    -395.374     245.075\n",
      "estado_civil[T.Viúvo]             -308.5917    930.661     -0.332      0.740   -2132.890    1515.707\n",
      "tipo_residencia[T.Casa]            323.7125    381.898      0.848      0.397    -424.891    1072.316\n",
      "tipo_residencia[T.Com os pais]     -42.2854    425.802     -0.099      0.921    -876.951     792.380\n",
      "tipo_residencia[T.Comunitário]    -255.1984    710.128     -0.359      0.719   -1647.204    1136.807\n",
      "tipo_residencia[T.Estúdio]        -257.8169    629.462     -0.410      0.682   -1491.700     976.066\n",
      "tipo_residencia[T.Governamental]  -206.9373    462.147     -0.448      0.654   -1112.846     698.971\n",
      "qtd_filhos                          22.9273    886.470      0.026      0.979   -1714.748    1760.602\n",
      "idade                               30.9106      5.468      5.653      0.000      20.192      41.629\n",
      "tempo_emprego                      294.7015      6.979     42.229      0.000     281.022     308.381\n",
      "qt_pessoas_residencia               24.2800    884.725      0.027      0.978   -1709.974    1758.534\n",
      "==============================================================================\n",
      "Omnibus:                     7017.016   Durbin-Watson:                   1.995\n",
      "Prob(Omnibus):                  0.000   Jarque-Bera (JB):           218473.192\n",
      "Skew:                           3.297   Prob(JB):                         0.00\n",
      "Kurtosis:                      25.746   Cond. No.                     2.91e+03\n",
      "==============================================================================\n",
      "\n",
      "Notes:\n",
      "[1] Standard Errors assume that the covariance matrix of the errors is correctly specified.\n",
      "[2] The condition number is large, 2.91e+03. This might indicate that there are\n",
      "strong multicollinearity or other numerical problems.\n",
      "                            OLS Regression Results                            \n",
      "==============================================================================\n",
      "Dep. Variable:                  renda   R-squared:                       0.224\n",
      "Model:                            OLS   Adj. R-squared:                  0.222\n",
      "Method:                 Least Squares   F-statistic:                     112.3\n",
      "Date:                Mon, 20 May 2024   Prob (F-statistic):               0.00\n",
      "Time:                        13:06:26   Log-Likelihood:                -91328.\n",
      "No. Observations:                9349   AIC:                         1.827e+05\n",
      "Df Residuals:                    9324   BIC:                         1.829e+05\n",
      "Df Model:                          24                                         \n",
      "Covariance Type:            nonrobust                                         \n",
      "====================================================================================================\n",
      "                                       coef    std err          t      P>|t|      [0.025      0.975]\n",
      "----------------------------------------------------------------------------------------------------\n",
      "Intercept                         -141.3733   1884.810     -0.075      0.940   -3836.013    3553.267\n",
      "sexo[T.M]                         2238.0943     99.776     22.431      0.000    2042.512    2433.677\n",
      "posse_de_veiculo[T.True]             6.6451     96.080      0.069      0.945    -181.692     194.983\n",
      "posse_de_imovel[T.True]            277.8205     94.663      2.935      0.003      92.259     463.382\n",
      "tipo_renda[T.Bolsista]              34.8069   2996.923      0.012      0.991   -5839.816    5909.430\n",
      "tipo_renda[T.Empresário]           858.4399    102.063      8.411      0.000     658.373    1058.507\n",
      "tipo_renda[T.Pensionista]          174.8843   1499.816      0.117      0.907   -2765.083    3114.852\n",
      "tipo_renda[T.Servidor público]     380.1558    148.082      2.567      0.010      89.882     670.430\n",
      "educacao[T.Pós graduação]          369.8261   1170.902      0.316      0.752   -1925.398    2665.051\n",
      "educacao[T.Secundário]            -318.1167    498.090     -0.639      0.523   -1294.483     658.249\n",
      "educacao[T.Superior completo]      262.8635    500.068      0.526      0.599    -717.378    1243.105\n",
      "educacao[T.Superior incompleto]   -439.8761    535.506     -0.821      0.411   -1489.585     609.833\n",
      "estado_civil[T.Separado]          -117.8854    905.298     -0.130      0.896   -1892.468    1656.697\n",
      "estado_civil[T.Solteiro]           175.8916    889.372      0.198      0.843   -1567.472    1919.256\n",
      "estado_civil[T.União]              -75.5153    163.391     -0.462      0.644    -395.797     244.766\n",
      "estado_civil[T.Viúvo]             -277.8146    930.827     -0.298      0.765   -2102.440    1546.810\n",
      "tipo_residencia[T.Casa]            313.7061    381.966      0.821      0.412    -435.031    1062.443\n",
      "tipo_residencia[T.Com os pais]     -50.9958    425.879     -0.120      0.905    -885.811     783.820\n",
      "tipo_residencia[T.Comunitário]    -174.2785    710.255     -0.245      0.806   -1566.533    1217.976\n",
      "tipo_residencia[T.Estúdio]        -176.5302    629.575     -0.280      0.779   -1410.634    1057.574\n",
      "tipo_residencia[T.Governamental]  -187.3676    462.229     -0.405      0.685   -1093.438     718.703\n",
      "qtd_filhos                          29.0193    886.629      0.033      0.974   -1708.967    1767.005\n",
      "idade                               30.3102      5.469      5.542      0.000      19.590      41.030\n",
      "tempo_emprego                      294.2787      6.980     42.161      0.000     280.597     307.961\n",
      "qt_pessoas_residencia               17.4817    884.884      0.020      0.984   -1717.083    1752.047\n",
      "==============================================================================\n",
      "Omnibus:                     7030.244   Durbin-Watson:                   1.996\n",
      "Prob(Omnibus):                  0.000   Jarque-Bera (JB):           219428.155\n",
      "Skew:                           3.305   Prob(JB):                         0.00\n",
      "Kurtosis:                      25.795   Cond. No.                     2.91e+03\n",
      "==============================================================================\n",
      "\n",
      "Notes:\n",
      "[1] Standard Errors assume that the covariance matrix of the errors is correctly specified.\n",
      "[2] The condition number is large, 2.91e+03. This might indicate that there are\n",
      "strong multicollinearity or other numerical problems.\n",
      "                            OLS Regression Results                            \n",
      "==============================================================================\n",
      "Dep. Variable:                  renda   R-squared:                       0.222\n",
      "Model:                            OLS   Adj. R-squared:                  0.220\n",
      "Method:                 Least Squares   F-statistic:                     110.5\n",
      "Date:                Mon, 20 May 2024   Prob (F-statistic):               0.00\n",
      "Time:                        13:06:26   Log-Likelihood:                -91344.\n",
      "No. Observations:                9349   AIC:                         1.827e+05\n",
      "Df Residuals:                    9324   BIC:                         1.829e+05\n",
      "Df Model:                          24                                         \n",
      "Covariance Type:            nonrobust                                         \n",
      "====================================================================================================\n",
      "                                       coef    std err          t      P>|t|      [0.025      0.975]\n",
      "----------------------------------------------------------------------------------------------------\n",
      "Intercept                          -12.1607   1888.100     -0.006      0.995   -3713.248    3688.927\n",
      "sexo[T.M]                         1875.4409     99.950     18.764      0.000    1679.517    2071.365\n",
      "posse_de_veiculo[T.True]           105.5266     96.248      1.096      0.273     -83.140     294.193\n",
      "posse_de_imovel[T.True]            246.3485     94.829      2.598      0.009      60.464     432.233\n",
      "tipo_renda[T.Bolsista]               6.7869   3002.153      0.002      0.998   -5878.088    5891.662\n",
      "tipo_renda[T.Empresário]           700.7276    102.242      6.854      0.000     500.312     901.143\n",
      "tipo_renda[T.Pensionista]           37.1200   1502.434      0.025      0.980   -2907.978    2982.218\n",
      "tipo_renda[T.Servidor público]     231.5897    148.341      1.561      0.119     -59.191     522.370\n",
      "educacao[T.Pós graduação]           86.1249   1172.946      0.073      0.941   -2213.105    2385.355\n",
      "educacao[T.Secundário]            -213.9481    498.960     -0.429      0.668   -1192.018     764.122\n",
      "educacao[T.Superior completo]      314.5544    500.940      0.628      0.530    -667.398    1296.507\n",
      "educacao[T.Superior incompleto]   -215.3734    536.441     -0.401      0.688   -1266.914     836.167\n",
      "estado_civil[T.Separado]           -75.3929    906.878     -0.083      0.934   -1853.073    1702.287\n",
      "estado_civil[T.Solteiro]           156.1902    890.924      0.175      0.861   -1590.216    1902.597\n",
      "estado_civil[T.União]              -69.8406    163.676     -0.427      0.670    -390.681     251.000\n",
      "estado_civil[T.Viúvo]             -147.5989    932.452     -0.158      0.874   -1975.408    1680.210\n",
      "tipo_residencia[T.Casa]            242.9321    382.633      0.635      0.526    -507.112     992.976\n",
      "tipo_residencia[T.Com os pais]     -69.6896    426.622     -0.163      0.870    -905.962     766.583\n",
      "tipo_residencia[T.Comunitário]     -53.0790    711.494     -0.075      0.941   -1447.763    1341.605\n",
      "tipo_residencia[T.Estúdio]         -41.0485    630.673     -0.065      0.948   -1277.306    1195.209\n",
      "tipo_residencia[T.Governamental]  -118.7749    463.036     -0.257      0.798   -1026.427     788.877\n",
      "qtd_filhos                           2.6785    888.176      0.003      0.998   -1738.341    1743.698\n",
      "idade                               29.3223      5.478      5.352      0.000      18.583      40.061\n",
      "tempo_emprego                      291.4835      6.992     41.688      0.000     277.778     305.189\n",
      "qt_pessoas_residencia               52.6929    886.428      0.059      0.953   -1684.899    1790.285\n",
      "==============================================================================\n",
      "Omnibus:                     7090.606   Durbin-Watson:                   1.997\n",
      "Prob(Omnibus):                  0.000   Jarque-Bera (JB):           223590.592\n",
      "Skew:                           3.346   Prob(JB):                         0.00\n",
      "Kurtosis:                      26.005   Cond. No.                     2.91e+03\n",
      "==============================================================================\n",
      "\n",
      "Notes:\n",
      "[1] Standard Errors assume that the covariance matrix of the errors is correctly specified.\n",
      "[2] The condition number is large, 2.91e+03. This might indicate that there are\n",
      "strong multicollinearity or other numerical problems.\n",
      "                            OLS Regression Results                            \n",
      "==============================================================================\n",
      "Dep. Variable:                  renda   R-squared:                       0.217\n",
      "Model:                            OLS   Adj. R-squared:                  0.215\n",
      "Method:                 Least Squares   F-statistic:                     107.9\n",
      "Date:                Mon, 20 May 2024   Prob (F-statistic):               0.00\n",
      "Time:                        13:06:26   Log-Likelihood:                -91369.\n",
      "No. Observations:                9349   AIC:                         1.828e+05\n",
      "Df Residuals:                    9324   BIC:                         1.830e+05\n",
      "Df Model:                          24                                         \n",
      "Covariance Type:            nonrobust                                         \n",
      "====================================================================================================\n",
      "                                       coef    std err          t      P>|t|      [0.025      0.975]\n",
      "----------------------------------------------------------------------------------------------------\n",
      "Intercept                           40.0283   1893.168      0.021      0.983   -3670.994    3751.051\n",
      "sexo[T.M]                         1572.7120    100.218     15.693      0.000    1376.262    1769.162\n",
      "posse_de_veiculo[T.True]           167.1991     96.506      1.733      0.083     -21.974     356.372\n",
      "posse_de_imovel[T.True]            217.9330     95.083      2.292      0.022      31.549     404.317\n",
      "tipo_renda[T.Bolsista]               3.2481   3010.212      0.001      0.999   -5897.424    5903.920\n",
      "tipo_renda[T.Empresário]           577.9462    102.516      5.638      0.000     376.992     778.900\n",
      "tipo_renda[T.Pensionista]           18.7241   1506.467      0.012      0.990   -2934.280    2971.728\n",
      "tipo_renda[T.Servidor público]     149.3926    148.739      1.004      0.315    -142.168     440.954\n",
      "educacao[T.Pós graduação]           43.8699   1176.094      0.037      0.970   -2261.532    2349.272\n",
      "educacao[T.Secundário]            -181.1664    500.299     -0.362      0.717   -1161.862     799.529\n",
      "educacao[T.Superior completo]      297.1821    502.285      0.592      0.554    -687.406    1281.770\n",
      "educacao[T.Superior incompleto]   -133.1458    537.881     -0.248      0.804   -1187.509     921.218\n",
      "estado_civil[T.Separado]           -53.9452    909.313     -0.059      0.953   -1836.397    1728.506\n",
      "estado_civil[T.Solteiro]           141.7724    893.316      0.159      0.874   -1609.322    1892.867\n",
      "estado_civil[T.União]              -59.6257    164.115     -0.363      0.716    -381.328     262.076\n",
      "estado_civil[T.Viúvo]              -99.9184    934.955     -0.107      0.915   -1932.634    1732.797\n",
      "tipo_residencia[T.Casa]            203.7667    383.660      0.531      0.595    -548.291     955.824\n",
      "tipo_residencia[T.Com os pais]     -55.9608    427.767     -0.131      0.896    -894.478     782.556\n",
      "tipo_residencia[T.Comunitário]     -28.5954    713.404     -0.040      0.968   -1427.023    1369.833\n",
      "tipo_residencia[T.Estúdio]         -15.2865    632.366     -0.024      0.981   -1254.863    1224.290\n",
      "tipo_residencia[T.Governamental]   -82.5500    464.279     -0.178      0.859    -992.638     827.538\n",
      "qtd_filhos                          -9.6802    890.560     -0.011      0.991   -1755.373    1736.012\n",
      "idade                               30.7155      5.493      5.592      0.000      19.948      41.483\n",
      "tempo_emprego                      288.5728      7.011     41.161      0.000     274.830     302.316\n",
      "qt_pessoas_residencia               84.8556    888.807      0.095      0.924   -1657.401    1827.112\n",
      "==============================================================================\n",
      "Omnibus:                     7115.003   Durbin-Watson:                   1.997\n",
      "Prob(Omnibus):                  0.000   Jarque-Bera (JB):           224529.424\n",
      "Skew:                           3.363   Prob(JB):                         0.00\n",
      "Kurtosis:                      26.047   Cond. No.                     2.91e+03\n",
      "==============================================================================\n",
      "\n",
      "Notes:\n",
      "[1] Standard Errors assume that the covariance matrix of the errors is correctly specified.\n",
      "[2] The condition number is large, 2.91e+03. This might indicate that there are\n",
      "strong multicollinearity or other numerical problems.\n",
      "Alpha: 0 - R2: 0.22500584787010303 - R2 ajustado: 0.22301101092768372\n",
      "Alpha: 0.001 - R2: 0.22485891899347143 - R2 ajustado: 0.2228637038557454\n",
      "Alpha: 0.005 - R2: 0.2244996745064365 - R2 ajustado: 0.2225035346724762\n",
      "Alpha: 0.01 - R2: 0.22422186008293588 - R2 ajustado: 0.2222250051539344\n",
      "Alpha: 0.05 - R2: 0.22151177903040065 - R2 ajustado: 0.21950794834579412\n",
      "Alpha: 0.1 - R2: 0.21732673992176277 - R2 ajustado: 0.21531213693571838\n"
     ]
    }
   ],
   "execution_count": 62
  },
  {
   "metadata": {},
   "cell_type": "markdown",
   "source": "#### 3. Faça o mesmo que no passo 2, com uma regressão *LASSO*. Qual método chega a um melhor resultado?"
  },
  {
   "metadata": {
    "ExecuteTime": {
     "end_time": "2024-05-20T16:06:28.795854Z",
     "start_time": "2024-05-20T16:06:26.939747Z"
    }
   },
   "cell_type": "code",
   "source": [
    "# diciionário para armazenar os resultados de cada alpha \n",
    "resultados_lasso = {}\n",
    "\n",
    "for a in alpha:\n",
    "    model = sm.OLS(y_train, X_train)\n",
    "    res = model.fit_regularized(method = 'elastic_net', alpha = a, L1_wt = 1)\n",
    "    pinv_wexog,_ = pinv_extended(model.wexog)\n",
    "    normalized_cov_params = np.dot(pinv_wexog, np.transpose(pinv_wexog))\n",
    "    summary = sm.regression.linear_model.OLSResults(model,res.params,normalized_cov_params)\n",
    "    # armazenando o R2 e R2 ajustado\n",
    "    resultados_lasso[a] = {'R2': summary.rsquared, 'R2 ajustado': summary.rsquared_adj}\n",
    "\n",
    "for a in resultados_lasso:\n",
    "    print(f'Alpha: {a} - R2: {resultados_lasso[a][\"R2\"]} - R2 ajustado: {resultados_lasso[a][\"R2 ajustado\"]}')\n"
   ],
   "outputs": [
    {
     "name": "stdout",
     "output_type": "stream",
     "text": [
      "Alpha: 0 - R2: 0.22424665311721348 - R2 ajustado: 0.22224986200554597\n",
      "Alpha: 0.001 - R2: 0.22424668399678582 - R2 ajustado: 0.2222498929646025\n",
      "Alpha: 0.005 - R2: 0.22424680127216368 - R2 ajustado: 0.22225001054184745\n",
      "Alpha: 0.01 - R2: 0.22424693381983907 - R2 ajustado: 0.22225014343070093\n",
      "Alpha: 0.05 - R2: 0.2242474323393483 - R2 ajustado: 0.2222506432334006\n",
      "Alpha: 0.1 - R2: 0.22424665083400142 - R2 ajustado: 0.22224985971645694\n"
     ]
    }
   ],
   "execution_count": 63
  },
  {
   "metadata": {},
   "cell_type": "markdown",
   "source": "#### 4. Rode um modelo *stepwise*. Avalie o $R^2$ na base de testes. Qual o melhor resultado?"
  },
  {
   "metadata": {
    "ExecuteTime": {
     "end_time": "2024-05-20T16:06:29.869860Z",
     "start_time": "2024-05-20T16:06:28.795854Z"
    }
   },
   "cell_type": "code",
   "source": [
    "# utilizando o stepwise para fazer a seleção de variáveis\n",
    "\n",
    "\n",
    "def stepwise_selection(X, y,\n",
    "                       initial_list=[],\n",
    "                       threshold_in=0.05,\n",
    "                       threshold_out=0.05,\n",
    "                       verbose=True):\n",
    "    \"\"\" Perform a forward-backward feature selection \n",
    "    based on p-value from statsmodels.api.OLS\n",
    "    Arguments:\n",
    "        X - pandas.DataFrame with candidate features\n",
    "        y - list-like with the target\n",
    "        initial_list - list of features to start with (column names of X)\n",
    "        threshold_in - include a feature if its p-value < threshold_in\n",
    "        threshold_out - exclude a feature if its p-value > threshold_out\n",
    "        verbose - whether to print the sequence of inclusions and exclusions\n",
    "    Returns: list of selected features \n",
    "    \"\"\"\n",
    "    included = list(initial_list)\n",
    "    while True:\n",
    "        changed = False\n",
    "        # forward step\n",
    "        excluded = list(set(X.columns) - set(included))\n",
    "        new_pval = pd.Series(index=excluded, dtype=np.float64)\n",
    "        for new_column in excluded:\n",
    "            model = sm.OLS(y, sm.add_constant(pd.DataFrame(X[included + [new_column]]))).fit()\n",
    "            new_pval[new_column] = model.pvalues[new_column]\n",
    "        best_pval = new_pval.min()\n",
    "        if best_pval < threshold_in:\n",
    "            best_feature = new_pval.idxmin()\n",
    "            included.append(best_feature)\n",
    "            changed = True\n",
    "            if verbose:\n",
    "                print('Add  {:30} with p-value {:.6}'.format(best_feature, best_pval))\n",
    "\n",
    "        # backward step\n",
    "        model = sm.OLS(y, sm.add_constant(pd.DataFrame(X[included]))).fit()\n",
    "        # use all coefs except intercept\n",
    "        pvalues = model.pvalues.iloc[1:]\n",
    "        worst_pval = pvalues.max()  # null if pvalues is empty\n",
    "        if worst_pval > threshold_out:\n",
    "            worst_feature = pvalues.idxmax()\n",
    "            included.remove(worst_feature)\n",
    "            changed = True\n",
    "            if verbose:\n",
    "                print('Drop {:30} with p-value {:.6}'.format(worst_feature, worst_pval))\n",
    "        if not changed:\n",
    "            break\n",
    "    return included\n",
    "\n",
    "variaveis = stepwise_selection(X_train, y_train['renda'])\n",
    "print('resulting features:')\n",
    "print(variaveis)"
   ],
   "outputs": [
    {
     "name": "stdout",
     "output_type": "stream",
     "text": [
      "Add  tempo_emprego                  with p-value 0.0\n",
      "Add  Intercept                      with p-value 7.03465e-304\n",
      "Add  sexo[T.M]                      with p-value 5.6563e-125\n",
      "Add  tipo_renda[T.Empresário]       with p-value 2.31513e-19\n",
      "Add  educacao[T.Superior completo]  with p-value 1.4263e-10\n",
      "Add  idade                          with p-value 1.25953e-10\n",
      "Drop Intercept                      with p-value 0.757668\n",
      "Add  posse_de_imovel[T.True]        with p-value 0.000126813\n",
      "Add  tipo_residencia[T.Casa]        with p-value 0.00259713\n",
      "Add  tipo_renda[T.Servidor público] with p-value 0.00250809\n",
      "Add  educacao[T.Pós graduação]      with p-value 0.00566679\n",
      "Add  Intercept                      with p-value 0.0152381\n",
      "resulting features:\n",
      "['tempo_emprego', 'sexo[T.M]', 'tipo_renda[T.Empresário]', 'educacao[T.Superior completo]', 'idade', 'posse_de_imovel[T.True]', 'tipo_residencia[T.Casa]', 'tipo_renda[T.Servidor público]', 'educacao[T.Pós graduação]', 'Intercept']\n"
     ]
    }
   ],
   "execution_count": 64
  },
  {
   "metadata": {
    "ExecuteTime": {
     "end_time": "2024-05-20T16:06:29.892364Z",
     "start_time": "2024-05-20T16:06:29.869860Z"
    }
   },
   "cell_type": "code",
   "source": [
    "# rodando o modelo com as variáveis selecionadas\n",
    "model = sm.OLS(y_train, X_train[variaveis])\n",
    "res = model.fit()\n",
    "print(res.summary())\n",
    "\n",
    "y_pred = res.predict(X_test[variaveis])\n",
    "\n",
    "from sklearn.metrics import r2_score\n",
    "\n",
    "r2_score(y_test, y_pred)"
   ],
   "outputs": [
    {
     "name": "stdout",
     "output_type": "stream",
     "text": [
      "                            OLS Regression Results                            \n",
      "==============================================================================\n",
      "Dep. Variable:                  renda   R-squared:                       0.224\n",
      "Model:                            OLS   Adj. R-squared:                  0.223\n",
      "Method:                 Least Squares   F-statistic:                     299.8\n",
      "Date:                Mon, 20 May 2024   Prob (F-statistic):               0.00\n",
      "Time:                        13:06:29   Log-Likelihood:                -91328.\n",
      "No. Observations:                9349   AIC:                         1.827e+05\n",
      "Df Residuals:                    9339   BIC:                         1.827e+05\n",
      "Df Model:                           9                                         \n",
      "Covariance Type:            nonrobust                                         \n",
      "==================================================================================================\n",
      "                                     coef    std err          t      P>|t|      [0.025      0.975]\n",
      "--------------------------------------------------------------------------------------------------\n",
      "tempo_emprego                    295.6833      6.954     42.520      0.000     282.052     309.315\n",
      "sexo[T.M]                       2370.1367     92.733     25.559      0.000    2188.359    2551.914\n",
      "tipo_renda[T.Empresário]         911.9046    101.617      8.974      0.000     712.713    1111.096\n",
      "educacao[T.Superior completo]    605.0954     91.660      6.602      0.000     425.422     784.769\n",
      "idade                             28.8288      5.019      5.744      0.000      18.990      38.667\n",
      "posse_de_imovel[T.True]          293.7467     93.956      3.126      0.002     109.572     477.921\n",
      "tipo_residencia[T.Casa]          445.9573    146.268      3.049      0.002     159.240     732.674\n",
      "tipo_renda[T.Servidor público]   447.2815    147.325      3.036      0.002     158.492     736.071\n",
      "educacao[T.Pós graduação]       2934.6815   1060.560      2.767      0.006     855.752    5013.611\n",
      "Intercept                       -575.8370    237.251     -2.427      0.015   -1040.901    -110.773\n",
      "==============================================================================\n",
      "Omnibus:                     6997.508   Durbin-Watson:                   1.997\n",
      "Prob(Omnibus):                  0.000   Jarque-Bera (JB):           216907.116\n",
      "Skew:                           3.284   Prob(JB):                         0.00\n",
      "Kurtosis:                      25.665   Cond. No.                     1.03e+03\n",
      "==============================================================================\n",
      "\n",
      "Notes:\n",
      "[1] Standard Errors assume that the covariance matrix of the errors is correctly specified.\n",
      "[2] The condition number is large, 1.03e+03. This might indicate that there are\n",
      "strong multicollinearity or other numerical problems.\n"
     ]
    },
    {
     "data": {
      "text/plain": [
       "0.20800524696610256"
      ]
     },
     "execution_count": 65,
     "metadata": {},
     "output_type": "execute_result"
    }
   ],
   "execution_count": 65
  },
  {
   "metadata": {},
   "cell_type": "markdown",
   "source": [
    "#### 5. Compare os parâmetros e avalie eventuais diferenças. Qual modelo você acha o melhor de todos?\n",
    "\n"
   ]
  },
  {
   "metadata": {
    "ExecuteTime": {
     "end_time": "2024-05-20T16:06:29.898539Z",
     "start_time": "2024-05-20T16:06:29.892364Z"
    }
   },
   "cell_type": "code",
   "source": [
    "# comparando os resultados\n",
    "melhor_ridge = max(resultados_ridge, key = lambda x: resultados_ridge[x]['R2 ajustado'])\n",
    "melhor_lasso = max(resultados_lasso, key = lambda x: resultados_lasso[x]['R2 ajustado'])\n",
    "\n",
    "\n",
    "print(f'Melhor modelo Ridge: {melhor_ridge} - R2: {resultados_ridge[melhor_ridge][\"R2\"]} - R2 ajustado: {resultados_ridge[melhor_ridge][\"R2 ajustado\"]}')\n",
    "print(f'Melhor modelo Lasso: {melhor_lasso} - R2: {resultados_lasso[melhor_lasso][\"R2\"]} - R2 ajustado: {resultados_lasso[melhor_lasso][\"R2 ajustado\"]}')\n",
    "print(f'Melhor modelo Stepwise:  - R2: {res.rsquared} - R2 ajustado: {res.rsquared_adj}')"
   ],
   "outputs": [
    {
     "name": "stdout",
     "output_type": "stream",
     "text": [
      "Melhor modelo Ridge: 0 - R2: 0.22500584787010303 - R2 ajustado: 0.22301101092768372\n",
      "Melhor modelo Lasso: 0.05 - R2: 0.2242474323393483 - R2 ajustado: 0.2222506432334006\n",
      "Melhor modelo Stepwise:  - R2: 0.2241591911764368 - R2 ajustado: 0.22341151291544392\n"
     ]
    }
   ],
   "execution_count": 66
  },
  {
   "metadata": {},
   "cell_type": "markdown",
   "source": " O modelo stepwise foi o que obteve o melhor resultado, com um R2 ajustado, mas o Ridge obteve o melhor R2, então a escolha do melhor modelo depende do que se deseja otimizar. A diferença é marginal demais para se escolher um modelo em detrimento do outro sem uma análise mais aprofundada observando o problema que se deseja resolver."
  },
  {
   "metadata": {},
   "cell_type": "markdown",
   "source": "#### 6. Partindo dos modelos que você ajustou, tente melhorar o $R^2$ na base de testes. Use a criatividade, veze se consegue inserir alguma transformação ou combinação de variáveis."
  },
  {
   "metadata": {},
   "cell_type": "markdown",
   "source": "Na célula abaixo, criei versões logarítmicas das features numéricas e adicionei essas features na fórmula patsy. Em seguida, rodei o modelo stepwise novamente para selecionar as variáveis mais relevantes entre normais e logaritmas, com o target renda também em log. O modelo resultante obteve um R2 ajustado  de 0.243 melhorando 0.02 do modelo anterior."
  },
  {
   "metadata": {
    "ExecuteTime": {
     "end_time": "2024-05-20T16:06:36.576204Z",
     "start_time": "2024-05-20T16:06:34.650945Z"
    }
   },
   "cell_type": "code",
   "source": [
    "# Criar versões logarítmicas das features numéricas\n",
    "for col in df.select_dtypes(include=[np.number]).columns:\n",
    "    df['log_' + col] = np.log1p(df[col])\n",
    "\n",
    "df['log_renda'] = np.log1p(df['renda'])\n",
    "\n",
    "# Combinar as features originais com as versões logarítmicas na fórmula patsy\n",
    "formula = 'log_renda ~ ' + ' + '.join(df.columns.drop(['data_ref', 'index', 'renda', 'log_renda']))\n",
    "\n",
    "print(formula)\n",
    "# Criar matrizes de design usando patsy\n",
    "y, X = patsy.dmatrices(formula, data=df, return_type='dataframe')\n",
    "X_train, X_test, y_train, y_test = train_test_split(X, y, test_size=0.25, random_state=42)\n",
    "\n",
    "# stepwise\n",
    "variaveis = stepwise_selection(X_train, y_train['log_renda'])\n",
    "\n",
    "# rodando o modelo com as variáveis selecionadas    \n",
    "model = sm.OLS(y_train, X_train[variaveis])\n",
    "res = model.fit()\n",
    "print(res.summary())"
   ],
   "outputs": [
    {
     "name": "stdout",
     "output_type": "stream",
     "text": [
      "log_renda ~ Unnamed: 0 + sexo + posse_de_veiculo + posse_de_imovel + qtd_filhos + tipo_renda + educacao + estado_civil + tipo_residencia + idade + tempo_emprego + qt_pessoas_residencia + mau + log_Unnamed: 0 + log_index + log_qtd_filhos + log_idade + log_tempo_emprego + log_qt_pessoas_residencia\n",
      "Add  tempo_emprego                  with p-value 0.0\n",
      "Add  Intercept                      with p-value 0.0\n",
      "Add  sexo[T.M]                      with p-value 2.70899e-192\n",
      "Add  tipo_renda[T.Empresário]       with p-value 2.15281e-24\n",
      "Add  posse_de_imovel[T.True]        with p-value 3.59157e-11\n",
      "Add  educacao[T.Superior completo]  with p-value 1.39477e-10\n",
      "Add  idade                          with p-value 1.23582e-09\n",
      "Add  tipo_renda[T.Servidor público] with p-value 8.25287e-05\n",
      "Add  tipo_residencia[T.Casa]        with p-value 0.000493137\n",
      "Add  educacao[T.Pós graduação]      with p-value 0.000814357\n",
      "Add  log_idade                      with p-value 0.00109358\n",
      "Add  qt_pessoas_residencia          with p-value 0.0433678\n",
      "Add  tipo_renda[T.Pensionista]      with p-value 0.0499501\n",
      "                            OLS Regression Results                            \n",
      "==============================================================================\n",
      "Dep. Variable:              log_renda   R-squared:                       0.244\n",
      "Model:                            OLS   Adj. R-squared:                  0.243\n",
      "Method:                 Least Squares   F-statistic:                     251.7\n",
      "Date:                Mon, 20 May 2024   Prob (F-statistic):               0.00\n",
      "Time:                        13:06:36   Log-Likelihood:                -9867.3\n",
      "No. Observations:                9349   AIC:                         1.976e+04\n",
      "Df Residuals:                    9336   BIC:                         1.985e+04\n",
      "Df Model:                          12                                         \n",
      "Covariance Type:            nonrobust                                         \n",
      "==================================================================================================\n",
      "                                     coef    std err          t      P>|t|      [0.025      0.975]\n",
      "--------------------------------------------------------------------------------------------------\n",
      "tempo_emprego                      0.0484      0.001     42.270      0.000       0.046       0.051\n",
      "Intercept                          9.8618      0.742     13.291      0.000       8.407      11.316\n",
      "sexo[T.M]                          0.4831      0.015     31.506      0.000       0.453       0.513\n",
      "tipo_renda[T.Empresário]           0.1738      0.017     10.399      0.000       0.141       0.207\n",
      "posse_de_imovel[T.True]            0.0776      0.015      5.023      0.000       0.047       0.108\n",
      "educacao[T.Superior completo]      0.0971      0.015      6.431      0.000       0.067       0.127\n",
      "idade                              0.0293      0.007      4.367      0.000       0.016       0.042\n",
      "tipo_renda[T.Servidor público]     0.0935      0.024      3.853      0.000       0.046       0.141\n",
      "tipo_residencia[T.Casa]            0.0830      0.024      3.445      0.001       0.036       0.130\n",
      "educacao[T.Pós graduação]          0.5728      0.174      3.284      0.001       0.231       0.915\n",
      "log_idade                         -0.9990      0.274     -3.647      0.000      -1.536      -0.462\n",
      "qt_pessoas_residencia              0.0168      0.008      2.068      0.039       0.001       0.033\n",
      "tipo_renda[T.Pensionista]          0.4830      0.246      1.961      0.050       0.000       0.966\n",
      "==============================================================================\n",
      "Omnibus:                        0.905   Durbin-Watson:                   1.949\n",
      "Prob(Omnibus):                  0.636   Jarque-Bera (JB):                0.867\n",
      "Skew:                          -0.017   Prob(JB):                        0.648\n",
      "Kurtosis:                       3.033   Cond. No.                     4.69e+03\n",
      "==============================================================================\n",
      "\n",
      "Notes:\n",
      "[1] Standard Errors assume that the covariance matrix of the errors is correctly specified.\n",
      "[2] The condition number is large, 4.69e+03. This might indicate that there are\n",
      "strong multicollinearity or other numerical problems.\n"
     ]
    }
   ],
   "execution_count": 67
  },
  {
   "metadata": {},
   "cell_type": "markdown",
   "source": "#### 7. Ajuste uma árvore de regressão e veja se consegue um $R^2$ melhor com ela."
  },
  {
   "metadata": {
    "ExecuteTime": {
     "end_time": "2024-05-20T16:29:52.783639Z",
     "start_time": "2024-05-20T16:29:15.423941Z"
    }
   },
   "cell_type": "code",
   "source": [
    "from sklearn.tree import DecisionTreeRegressor\n",
    "from sklearn.model_selection import RandomizedSearchCV\n",
    "from scipy.stats import randint, uniform\n",
    "\n",
    "# busca de hiperparâmetros com random search e cross validation\n",
    "param_dist = {\n",
    "    'criterion': ['squared_error', 'friedman_mse', 'absolute_error', 'poisson'],\n",
    "    'splitter': ['best', 'random'],\n",
    "    'max_depth': [None] + list(np.arange(1, 100)),\n",
    "    'min_samples_split': randint(2, 20),\n",
    "    'min_samples_leaf': randint(1, 20),\n",
    "    'min_weight_fraction_leaf': uniform(0, 0.5),\n",
    "    'max_leaf_nodes': [None] + list(np.arange(2, 100)),\n",
    "}\n",
    "\n",
    "model = DecisionTreeRegressor(random_state=42)\n",
    "\n",
    "search = RandomizedSearchCV(model, param_distributions=param_dist, n_iter=500, cv=5, scoring='r2', random_state=42, n_jobs=-1)\n",
    "\n",
    "search.fit(X_train[variaveis], y_train)\n",
    "\n",
    "# R2 na base de teste \n",
    "y_pred = search.predict(X_test[variaveis])\n",
    "r2_score(y_test, y_pred)"
   ],
   "outputs": [
    {
     "data": {
      "text/plain": [
       "0.2211122730663847"
      ]
     },
     "execution_count": 86,
     "metadata": {},
     "output_type": "execute_result"
    }
   ],
   "execution_count": 86
  },
  {
   "metadata": {},
   "cell_type": "markdown",
   "source": "O Melhor modelo segue sendo o stepwise, com um R2 ajustado de 0.243, mesmo realizando uma busca de hiperparâmetros com uma árvore de regressão, o R2 não melhorou."
  },
  {
   "metadata": {},
   "cell_type": "code",
   "outputs": [],
   "execution_count": null,
   "source": ""
  },
  {
   "metadata": {},
   "cell_type": "markdown",
   "source": [
    "\n",
    "\n",
    "\n"
   ]
  }
 ],
 "metadata": {
  "kernelspec": {
   "display_name": "Python 3",
   "language": "python",
   "name": "python3"
  },
  "language_info": {
   "codemirror_mode": {
    "name": "ipython",
    "version": 3
   },
   "file_extension": ".py",
   "mimetype": "text/x-python",
   "name": "python",
   "nbconvert_exporter": "python",
   "pygments_lexer": "ipython3",
   "version": "3.8.5"
  }
 },
 "nbformat": 4,
 "nbformat_minor": 4
}
