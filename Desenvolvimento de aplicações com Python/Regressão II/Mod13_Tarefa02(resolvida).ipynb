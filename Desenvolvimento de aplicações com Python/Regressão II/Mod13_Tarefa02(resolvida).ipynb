{
 "cells": [
  {
   "cell_type": "markdown",
   "metadata": {},
   "source": [
    "# EBAC - Regressão II - regressão múltipla\n",
    "\n",
    "## Tarefa I"
   ]
  },
  {
   "cell_type": "markdown",
   "metadata": {},
   "source": [
    "#### Previsão de renda II\n",
    "\n",
    "Vamos continuar trabalhando com a base 'previsao_de_renda.csv', que é a base do seu próximo projeto. Vamos usar os recursos que vimos até aqui nesta base.\n",
    "\n",
    "|variavel|descrição|\n",
    "|-|-|\n",
    "|data_ref                | Data de referência de coleta das variáveis |\n",
    "|index                   | Código de identificação do cliente|\n",
    "|sexo                    | Sexo do cliente|\n",
    "|posse_de_veiculo        | Indica se o cliente possui veículo|\n",
    "|posse_de_imovel         | Indica se o cliente possui imóvel|\n",
    "|qtd_filhos              | Quantidade de filhos do cliente|\n",
    "|tipo_renda              | Tipo de renda do cliente|\n",
    "|educacao                | Grau de instrução do cliente|\n",
    "|estado_civil            | Estado civil do cliente|\n",
    "|tipo_residencia         | Tipo de residência do cliente (própria, alugada etc)|\n",
    "|idade                   | Idade do cliente|\n",
    "|tempo_emprego           | Tempo no emprego atual|\n",
    "|qt_pessoas_residencia   | Quantidade de pessoas que moram na residência|\n",
    "|renda                   | Renda em reais|"
   ]
  },
  {
   "cell_type": "code",
   "metadata": {
    "ExecuteTime": {
     "end_time": "2024-05-20T16:06:26.366443Z",
     "start_time": "2024-05-20T16:06:26.362981Z"
    }
   },
   "source": [
    "import pandas as pd"
   ],
   "execution_count": 58,
   "outputs": []
  },
  {
   "metadata": {
    "ExecuteTime": {
     "end_time": "2024-05-20T16:06:26.489090Z",
     "start_time": "2024-05-20T16:06:26.460706Z"
    }
   },
   "cell_type": "code",
   "source": "df = pd.read_csv('../../../../Datasets/previsao_de_renda.csv', sep = ',')",
   "execution_count": 59,
   "outputs": []
  },
  {
   "cell_type": "code",
   "metadata": {
    "ExecuteTime": {
     "end_time": "2024-05-20T16:06:26.509480Z",
     "start_time": "2024-05-20T16:06:26.490607Z"
    }
   },
   "source": [
    "df.info()"
   ],
   "execution_count": 60,
   "outputs": []
  },
  {
   "cell_type": "markdown",
   "metadata": {},
   "source": [
    "1. Separe a base em treinamento e teste (25% para teste, 75% para treinamento).\n",
    "2. Rode uma regularização *ridge* com alpha = [0, 0.001, 0.005, 0.01, 0.05, 0.1] e avalie o $R^2$ na base de testes. Qual o melhor modelo?\n",
    "3. Faça o mesmo que no passo 2, com uma regressão *LASSO*. Qual método chega a um melhor resultado?\n",
    "4. Rode um modelo *stepwise*. Avalie o $R^2$ na vase de testes. Qual o melhor resultado?\n",
    "5. Compare os parâmetros e avalie eventuais diferenças. Qual modelo você acha o melhor de todos?\n",
    "6. Partindo dos modelos que você ajustou, tente melhorar o $R^2$ na base de testes. Use a criatividade, veja se consegue inserir alguma transformação ou combinação de variáveis.\n",
    "7. Ajuste uma árvore de regressão e veja se consegue um $R^2$ melhor com ela."
   ]
  },
  {
   "metadata": {},
   "cell_type": "markdown",
   "source": "#### 1. Separe a base em treinamento e teste (25% para teste, 75% para treinamento)."
  },
  {
   "metadata": {
    "ExecuteTime": {
     "end_time": "2024-05-20T16:06:26.780560Z",
     "start_time": "2024-05-20T16:06:26.509480Z"
    }
   },
   "cell_type": "code",
   "source": [
    "from sklearn.model_selection import train_test_split\n",
    "\n",
    "# utilizando patsy para criar a matriz de design e dummies\n",
    "import patsy\n",
    "\n",
    "# criando a matriz de design\n",
    "\n",
    "y, X = patsy.dmatrices('renda ~ sexo + posse_de_veiculo + posse_de_imovel + qtd_filhos + tipo_renda + educacao + estado_civil + tipo_residencia + idade + tempo_emprego + qt_pessoas_residencia', data = df, return_type = 'dataframe') \n",
    "\n",
    "# separando treino e teste\n",
    "X_train, X_test, y_train, y_test = train_test_split(X, y, test_size = 0.25, random_state = 42)\n"
   ],
   "execution_count": 61,
   "outputs": []
  },
  {
   "metadata": {},
   "cell_type": "markdown",
   "source": "#### 2. Rode uma regularização *ridge* com alpha = [0, 0.001, 0.005, 0.01, 0.05, 0.1] e avalie o $R^2$ na base de testes. Qual o melhor modelo?"
  },
  {
   "metadata": {
    "ExecuteTime": {
     "end_time": "2024-05-20T16:06:26.939747Z",
     "start_time": "2024-05-20T16:06:26.780560Z"
    }
   },
   "cell_type": "code",
   "source": [
    "#utilizando elastic net para fazer o ridge imprimindo o summary do statsmodels no final\n",
    "\n",
    "import statsmodels.api as sm\n",
    "import numpy as np\n",
    "from statsmodels.tools.tools import pinv_extended\n",
    "\n",
    "alpha = [0, 0.001, 0.005, 0.01, 0.05, 0.1]\n",
    "\n",
    "# diciionário para armazenar os resultados de cada alpha \n",
    "resultados_ridge = {}\n",
    "\n",
    "for a in alpha:\n",
    "    model = sm.OLS(y_train, X_train)\n",
    "    res = model.fit_regularized(method = 'elastic_net', alpha = a, L1_wt = 0)\n",
    "    pinv_wexog,_ = pinv_extended(model.wexog)\n",
    "    normalized_cov_params = np.dot(pinv_wexog, np.transpose(pinv_wexog))\n",
    "    summary = sm.regression.linear_model.OLSResults(model,res.params,normalized_cov_params)\n",
    "    print(summary.summary())\n",
    "    \n",
    "    # armazenando o R2 e R2 ajustado\n",
    "    resultados_ridge[a] = {'R2': summary.rsquared, 'R2 ajustado': summary.rsquared_adj}\n",
    "for a in resultados_ridge:\n",
    "    print(f'Alpha: {a} - R2: {resultados_ridge[a][\"R2\"]} - R2 ajustado: {resultados_ridge[a][\"R2 ajustado\"]}')  \n",
    "    "
   ],
   "execution_count": 62,
   "outputs": []
  },
  {
   "metadata": {},
   "cell_type": "markdown",
   "source": "#### 3. Faça o mesmo que no passo 2, com uma regressão *LASSO*. Qual método chega a um melhor resultado?"
  },
  {
   "metadata": {
    "ExecuteTime": {
     "end_time": "2024-05-20T16:06:28.795854Z",
     "start_time": "2024-05-20T16:06:26.939747Z"
    }
   },
   "cell_type": "code",
   "source": [
    "# diciionário para armazenar os resultados de cada alpha \n",
    "resultados_lasso = {}\n",
    "\n",
    "for a in alpha:\n",
    "    model = sm.OLS(y_train, X_train)\n",
    "    res = model.fit_regularized(method = 'elastic_net', alpha = a, L1_wt = 1)\n",
    "    pinv_wexog,_ = pinv_extended(model.wexog)\n",
    "    normalized_cov_params = np.dot(pinv_wexog, np.transpose(pinv_wexog))\n",
    "    summary = sm.regression.linear_model.OLSResults(model,res.params,normalized_cov_params)\n",
    "    # armazenando o R2 e R2 ajustado\n",
    "    resultados_lasso[a] = {'R2': summary.rsquared, 'R2 ajustado': summary.rsquared_adj}\n",
    "\n",
    "for a in resultados_lasso:\n",
    "    print(f'Alpha: {a} - R2: {resultados_lasso[a][\"R2\"]} - R2 ajustado: {resultados_lasso[a][\"R2 ajustado\"]}')\n"
   ],
   "execution_count": 63,
   "outputs": []
  },
  {
   "metadata": {},
   "cell_type": "markdown",
   "source": "#### 4. Rode um modelo *stepwise*. Avalie o $R^2$ na base de testes. Qual o melhor resultado?"
  },
  {
   "metadata": {
    "ExecuteTime": {
     "end_time": "2024-05-20T16:06:29.869860Z",
     "start_time": "2024-05-20T16:06:28.795854Z"
    }
   },
   "cell_type": "code",
   "source": [
    "# utilizando o stepwise para fazer a seleção de variáveis\n",
    "\n",
    "\n",
    "def stepwise_selection(X, y,\n",
    "                       initial_list=[],\n",
    "                       threshold_in=0.05,\n",
    "                       threshold_out=0.05,\n",
    "                       verbose=True):\n",
    "    \"\"\" Perform a forward-backward feature selection \n",
    "    based on p-value from statsmodels.api.OLS\n",
    "    Arguments:\n",
    "        X - pandas.DataFrame with candidate features\n",
    "        y - list-like with the target\n",
    "        initial_list - list of features to start with (column names of X)\n",
    "        threshold_in - include a feature if its p-value < threshold_in\n",
    "        threshold_out - exclude a feature if its p-value > threshold_out\n",
    "        verbose - whether to print the sequence of inclusions and exclusions\n",
    "    Returns: list of selected features \n",
    "    \"\"\"\n",
    "    included = list(initial_list)\n",
    "    while True:\n",
    "        changed = False\n",
    "        # forward step\n",
    "        excluded = list(set(X.columns) - set(included))\n",
    "        new_pval = pd.Series(index=excluded, dtype=np.float64)\n",
    "        for new_column in excluded:\n",
    "            model = sm.OLS(y, sm.add_constant(pd.DataFrame(X[included + [new_column]]))).fit()\n",
    "            new_pval[new_column] = model.pvalues[new_column]\n",
    "        best_pval = new_pval.min()\n",
    "        if best_pval < threshold_in:\n",
    "            best_feature = new_pval.idxmin()\n",
    "            included.append(best_feature)\n",
    "            changed = True\n",
    "            if verbose:\n",
    "                print('Add  {:30} with p-value {:.6}'.format(best_feature, best_pval))\n",
    "\n",
    "        # backward step\n",
    "        model = sm.OLS(y, sm.add_constant(pd.DataFrame(X[included]))).fit()\n",
    "        # use all coefs except intercept\n",
    "        pvalues = model.pvalues.iloc[1:]\n",
    "        worst_pval = pvalues.max()  # null if pvalues is empty\n",
    "        if worst_pval > threshold_out:\n",
    "            worst_feature = pvalues.idxmax()\n",
    "            included.remove(worst_feature)\n",
    "            changed = True\n",
    "            if verbose:\n",
    "                print('Drop {:30} with p-value {:.6}'.format(worst_feature, worst_pval))\n",
    "        if not changed:\n",
    "            break\n",
    "    return included\n",
    "\n",
    "variaveis = stepwise_selection(X_train, y_train['renda'])\n",
    "print('resulting features:')\n",
    "print(variaveis)"
   ],
   "execution_count": 64,
   "outputs": []
  },
  {
   "metadata": {
    "ExecuteTime": {
     "end_time": "2024-05-20T16:06:29.892364Z",
     "start_time": "2024-05-20T16:06:29.869860Z"
    }
   },
   "cell_type": "code",
   "source": [
    "# rodando o modelo com as variáveis selecionadas\n",
    "model = sm.OLS(y_train, X_train[variaveis])\n",
    "res = model.fit()\n",
    "print(res.summary())\n",
    "\n",
    "y_pred = res.predict(X_test[variaveis])\n",
    "\n",
    "from sklearn.metrics import r2_score\n",
    "\n",
    "r2_score(y_test, y_pred)"
   ],
   "execution_count": 65,
   "outputs": []
  },
  {
   "metadata": {},
   "cell_type": "markdown",
   "source": [
    "#### 5. Compare os parâmetros e avalie eventuais diferenças. Qual modelo você acha o melhor de todos?\n",
    "\n"
   ]
  },
  {
   "metadata": {
    "ExecuteTime": {
     "end_time": "2024-05-20T16:06:29.898539Z",
     "start_time": "2024-05-20T16:06:29.892364Z"
    }
   },
   "cell_type": "code",
   "source": [
    "# comparando os resultados\n",
    "melhor_ridge = max(resultados_ridge, key = lambda x: resultados_ridge[x]['R2 ajustado'])\n",
    "melhor_lasso = max(resultados_lasso, key = lambda x: resultados_lasso[x]['R2 ajustado'])\n",
    "\n",
    "\n",
    "print(f'Melhor modelo Ridge: {melhor_ridge} - R2: {resultados_ridge[melhor_ridge][\"R2\"]} - R2 ajustado: {resultados_ridge[melhor_ridge][\"R2 ajustado\"]}')\n",
    "print(f'Melhor modelo Lasso: {melhor_lasso} - R2: {resultados_lasso[melhor_lasso][\"R2\"]} - R2 ajustado: {resultados_lasso[melhor_lasso][\"R2 ajustado\"]}')\n",
    "print(f'Melhor modelo Stepwise:  - R2: {res.rsquared} - R2 ajustado: {res.rsquared_adj}')"
   ],
   "execution_count": 66,
   "outputs": []
  },
  {
   "metadata": {},
   "cell_type": "markdown",
   "source": " O modelo stepwise foi o que obteve o melhor resultado, com um R2 ajustado, mas o Ridge obteve o melhor R2, então a escolha do melhor modelo depende do que se deseja otimizar. A diferença é marginal demais para se escolher um modelo em detrimento do outro sem uma análise mais aprofundada observando o problema que se deseja resolver."
  },
  {
   "metadata": {},
   "cell_type": "markdown",
   "source": "#### 6. Partindo dos modelos que você ajustou, tente melhorar o $R^2$ na base de testes. Use a criatividade, veze se consegue inserir alguma transformação ou combinação de variáveis."
  },
  {
   "metadata": {},
   "cell_type": "markdown",
   "source": "Na célula abaixo, criei versões logarítmicas das features numéricas e adicionei essas features na fórmula patsy. Em seguida, rodei o modelo stepwise novamente para selecionar as variáveis mais relevantes entre normais e logaritmas, com o target renda também em log. O modelo resultante obteve um R2 ajustado  de 0.243 melhorando 0.02 do modelo anterior."
  },
  {
   "metadata": {
    "ExecuteTime": {
     "end_time": "2024-05-20T16:06:36.576204Z",
     "start_time": "2024-05-20T16:06:34.650945Z"
    }
   },
   "cell_type": "code",
   "source": [
    "# Criar versões logarítmicas das features numéricas\n",
    "for col in df.select_dtypes(include=[np.number]).columns:\n",
    "    df['log_' + col] = np.log1p(df[col])\n",
    "\n",
    "df['log_renda'] = np.log1p(df['renda'])\n",
    "\n",
    "# Combinar as features originais com as versões logarítmicas na fórmula patsy\n",
    "formula = 'log_renda ~ ' + ' + '.join(df.columns.drop(['data_ref', 'index', 'renda', 'log_renda']))\n",
    "\n",
    "print(formula)\n",
    "# Criar matrizes de design usando patsy\n",
    "y, X = patsy.dmatrices(formula, data=df, return_type='dataframe')\n",
    "X_train, X_test, y_train, y_test = train_test_split(X, y, test_size=0.25, random_state=42)\n",
    "\n",
    "# stepwise\n",
    "variaveis = stepwise_selection(X_train, y_train['log_renda'])\n",
    "\n",
    "# rodando o modelo com as variáveis selecionadas    \n",
    "model = sm.OLS(y_train, X_train[variaveis])\n",
    "res = model.fit()\n",
    "print(res.summary())"
   ],
   "execution_count": 67,
   "outputs": []
  },
  {
   "metadata": {},
   "cell_type": "markdown",
   "source": "#### 7. Ajuste uma árvore de regressão e veja se consegue um $R^2$ melhor com ela."
  },
  {
   "metadata": {
    "ExecuteTime": {
     "end_time": "2024-05-20T16:29:52.783639Z",
     "start_time": "2024-05-20T16:29:15.423941Z"
    }
   },
   "cell_type": "code",
   "source": [
    "from sklearn.tree import DecisionTreeRegressor\n",
    "from sklearn.model_selection import RandomizedSearchCV\n",
    "from scipy.stats import randint, uniform\n",
    "\n",
    "# busca de hiperparâmetros com random search e cross validation\n",
    "param_dist = {\n",
    "    'criterion': ['squared_error', 'friedman_mse', 'absolute_error', 'poisson'],\n",
    "    'splitter': ['best', 'random'],\n",
    "    'max_depth': [None] + list(np.arange(1, 100)),\n",
    "    'min_samples_split': randint(2, 20),\n",
    "    'min_samples_leaf': randint(1, 20),\n",
    "    'min_weight_fraction_leaf': uniform(0, 0.5),\n",
    "    'max_leaf_nodes': [None] + list(np.arange(2, 100)),\n",
    "}\n",
    "\n",
    "model = DecisionTreeRegressor(random_state=42)\n",
    "\n",
    "search = RandomizedSearchCV(model, param_distributions=param_dist, n_iter=500, cv=5, scoring='r2', random_state=42, n_jobs=-1)\n",
    "\n",
    "search.fit(X_train[variaveis], y_train)\n",
    "\n",
    "# R2 na base de teste \n",
    "y_pred = search.predict(X_test[variaveis])\n",
    "r2_score(y_test, y_pred)"
   ],
   "execution_count": 86,
   "outputs": []
  },
  {
   "metadata": {},
   "cell_type": "markdown",
   "source": "O Melhor modelo segue sendo o stepwise, com um R2 ajustado de 0.243, mesmo realizando uma busca de hiperparâmetros com uma árvore de regressão, o R2 não melhorou."
  },
  {
   "metadata": {},
   "cell_type": "code",
   "execution_count": null,
   "source": "",
   "outputs": []
  },
  {
   "metadata": {},
   "cell_type": "markdown",
   "source": [
    "\n",
    "\n",
    "\n"
   ]
  }
 ],
 "metadata": {
  "kernelspec": {
   "display_name": "Python 3",
   "language": "python",
   "name": "python3"
  },
  "language_info": {
   "codemirror_mode": {
    "name": "ipython",
    "version": 3
   },
   "file_extension": ".py",
   "mimetype": "text/x-python",
   "name": "python",
   "nbconvert_exporter": "python",
   "pygments_lexer": "ipython3",
   "version": "3.8.5"
  }
 },
 "nbformat": 4,
 "nbformat_minor": 4
}
