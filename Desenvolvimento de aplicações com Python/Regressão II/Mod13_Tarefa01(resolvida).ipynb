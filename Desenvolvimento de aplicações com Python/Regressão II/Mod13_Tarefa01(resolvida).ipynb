{
 "cells": [
  {
   "cell_type": "markdown",
   "metadata": {},
   "source": [
    "# EBAC - Regressão II - regressão múltipla\n",
    "\n",
    "## Tarefa I"
   ]
  },
  {
   "cell_type": "markdown",
   "metadata": {},
   "source": [
    "#### Previsão de renda\n",
    "\n",
    "Vamos trabalhar com a base 'previsao_de_renda.csv', que é a base do seu próximo projeto. Vamos usar os recursos que vimos até aqui nesta base.\n",
    "\n",
    "|variavel|descrição|\n",
    "|-|-|\n",
    "|data_ref                | Data de referência de coleta das variáveis |\n",
    "|index                   | Código de identificação do cliente|\n",
    "|sexo                    | Sexo do cliente|\n",
    "|posse_de_veiculo        | Indica se o cliente possui veículo|\n",
    "|posse_de_imovel         | Indica se o cliente possui imóvel|\n",
    "|qtd_filhos              | Quantidade de filhos do cliente|\n",
    "|tipo_renda              | Tipo de renda do cliente|\n",
    "|educacao                | Grau de instrução do cliente|\n",
    "|estado_civil            | Estado civil do cliente|\n",
    "|tipo_residencia         | Tipo de residência do cliente (própria, alugada etc)|\n",
    "|idade                   | Idade do cliente|\n",
    "|tempo_emprego           | Tempo no emprego atual|\n",
    "|qt_pessoas_residencia   | Quantidade de pessoas que moram na residência|\n",
    "|renda                   | Renda em reais|"
   ]
  },
  {
   "metadata": {
    "ExecuteTime": {
     "end_time": "2024-05-16T18:24:17.209805Z",
     "start_time": "2024-05-16T18:24:17.183545Z"
    }
   },
   "cell_type": "code",
   "source": [
    "import pandas as pd\n",
    "        \n",
    "df = pd.read_csv('../../../../Datasets/previsao_de_renda.csv', sep = ',')"
   ],
   "outputs": [],
   "execution_count": 52
  },
  {
   "cell_type": "code",
   "metadata": {
    "ExecuteTime": {
     "end_time": "2024-05-16T18:24:17.253110Z",
     "start_time": "2024-05-16T18:24:17.235831Z"
    }
   },
   "source": [
    "df.info()"
   ],
   "outputs": [
    {
     "name": "stdout",
     "output_type": "stream",
     "text": [
      "<class 'pandas.core.frame.DataFrame'>\n",
      "RangeIndex: 15000 entries, 0 to 14999\n",
      "Data columns (total 16 columns):\n",
      " #   Column                 Non-Null Count  Dtype  \n",
      "---  ------                 --------------  -----  \n",
      " 0   Unnamed: 0             15000 non-null  int64  \n",
      " 1   data_ref               15000 non-null  object \n",
      " 2   index                  15000 non-null  int64  \n",
      " 3   sexo                   15000 non-null  object \n",
      " 4   posse_de_veiculo       15000 non-null  bool   \n",
      " 5   posse_de_imovel        15000 non-null  bool   \n",
      " 6   qtd_filhos             15000 non-null  int64  \n",
      " 7   tipo_renda             15000 non-null  object \n",
      " 8   educacao               15000 non-null  object \n",
      " 9   estado_civil           15000 non-null  object \n",
      " 10  tipo_residencia        15000 non-null  object \n",
      " 11  idade                  15000 non-null  int64  \n",
      " 12  tempo_emprego          12466 non-null  float64\n",
      " 13  qt_pessoas_residencia  15000 non-null  float64\n",
      " 14  mau                    15000 non-null  bool   \n",
      " 15  renda                  15000 non-null  float64\n",
      "dtypes: bool(3), float64(3), int64(4), object(6)\n",
      "memory usage: 1.5+ MB\n"
     ]
    }
   ],
   "execution_count": 53
  },
  {
   "cell_type": "markdown",
   "metadata": {},
   "source": [
    "1. Ajuste um modelo para prever log(renda) considerando todas as covariáveis disponíveis.\n",
    "    - Utilizando os recursos do Patsy, coloque as variáveis qualitativas como *dummies*.\n",
    "    - Mantenha sempre a categoria mais frequente como casela de referência\n",
    "    - Avalie os parâmetros e veja se parecem fazer sentido prático.\n",
    "\n",
    "2. Remova a variável menos significante e analise:\n",
    "    - Observe os indicadores que vimos, e avalie se o modelo melhorou ou piorou na sua opinião.\n",
    "    - Observe os parâmetros e veja se algum se alterou muito.\n",
    "\n",
    "3. Siga removendo as variáveis menos significantes, sempre que o *p-value* for menor que 5%. Compare o modelo final com o inicial. Observe os indicadores e conclua se o modelo parece melhor. \n",
    "    "
   ]
  },
  {
   "metadata": {},
   "cell_type": "markdown",
   "source": "#### 1. Ajuste um modelo para prever log(renda) considerando todas as covariáveis disponíveis."
  },
  {
   "metadata": {
    "ExecuteTime": {
     "end_time": "2024-05-16T18:24:17.258265Z",
     "start_time": "2024-05-16T18:24:17.254112Z"
    }
   },
   "cell_type": "code",
   "source": [
    "import statsmodels.api as sm\n",
    "import numpy as np\n",
    "import statsmodels.formula.api as smf\n",
    "import patsy    \n",
    "\n",
    "qualitative = df.select_dtypes(include='object').columns    \n",
    "qualitative = qualitative.drop('data_ref')\n",
    "print(qualitative)"
   ],
   "outputs": [
    {
     "name": "stdout",
     "output_type": "stream",
     "text": [
      "Index(['sexo', 'tipo_renda', 'educacao', 'estado_civil', 'tipo_residencia'], dtype='object')\n"
     ]
    }
   ],
   "execution_count": 54
  },
  {
   "metadata": {
    "ExecuteTime": {
     "end_time": "2024-05-16T18:24:17.267636Z",
     "start_time": "2024-05-16T18:24:17.259267Z"
    }
   },
   "cell_type": "code",
   "source": [
    "# mantenha sempre a categoria mais frequente como casela de referência\n",
    "\n",
    "#achando a categoria mais frequente\n",
    "most_frequent = df[qualitative].mode().iloc[0]\n",
    "print(most_frequent)\n",
    "    "
   ],
   "outputs": [
    {
     "name": "stdout",
     "output_type": "stream",
     "text": [
      "sexo                         F\n",
      "tipo_renda         Assalariado\n",
      "educacao            Secundário\n",
      "estado_civil            Casado\n",
      "tipo_residencia           Casa\n",
      "Name: 0, dtype: object\n"
     ]
    }
   ],
   "execution_count": 55
  },
  {
   "metadata": {
    "ExecuteTime": {
     "end_time": "2024-05-16T18:24:17.532790Z",
     "start_time": "2024-05-16T18:24:17.268640Z"
    }
   },
   "cell_type": "code",
   "source": [
    "\n",
    "formula = 'np.log(renda) ~ ' + ' + '.join(\n",
    "    [f\"C({col}, Treatment(reference='{most_frequent[col]}'))\" for col in qualitative]\n",
    ")\n",
    "\n",
    "# Criar os arrays de design\n",
    "y, X = patsy.dmatrices(formula, df, return_type='dataframe')"
   ],
   "outputs": [],
   "execution_count": 56
  },
  {
   "metadata": {
    "ExecuteTime": {
     "end_time": "2024-05-16T18:24:17.560296Z",
     "start_time": "2024-05-16T18:24:17.533792Z"
    }
   },
   "cell_type": "code",
   "source": [
    "\n",
    "model = sm.OLS(y, X)\n",
    "result = model.fit()\n",
    "print(result.summary())"
   ],
   "outputs": [
    {
     "name": "stdout",
     "output_type": "stream",
     "text": [
      "                            OLS Regression Results                            \n",
      "==============================================================================\n",
      "Dep. Variable:          np.log(renda)   R-squared:                       0.080\n",
      "Model:                            OLS   Adj. R-squared:                  0.079\n",
      "Method:                 Least Squares   F-statistic:                     72.24\n",
      "Date:                Thu, 16 May 2024   Prob (F-statistic):          7.05e-254\n",
      "Time:                        15:24:17   Log-Likelihood:                -17264.\n",
      "No. Observations:               15000   AIC:                         3.457e+04\n",
      "Df Residuals:                   14981   BIC:                         3.471e+04\n",
      "Df Model:                          18                                         \n",
      "Covariance Type:            nonrobust                                         \n",
      "=========================================================================================================================================\n",
      "                                                                            coef    std err          t      P>|t|      [0.025      0.975]\n",
      "-----------------------------------------------------------------------------------------------------------------------------------------\n",
      "Intercept                                                                 7.9575      0.012    649.567      0.000       7.933       7.982\n",
      "C(sexo, Treatment(reference='F'))[T.M]                                    0.3911      0.014     28.268      0.000       0.364       0.418\n",
      "C(tipo_renda, Treatment(reference='Assalariado'))[T.Bolsista]             0.1291      0.383      0.337      0.736      -0.622       0.880\n",
      "C(tipo_renda, Treatment(reference='Assalariado'))[T.Empresário]           0.1220      0.016      7.644      0.000       0.091       0.153\n",
      "C(tipo_renda, Treatment(reference='Assalariado'))[T.Pensionista]         -0.1242      0.018     -6.800      0.000      -0.160      -0.088\n",
      "C(tipo_renda, Treatment(reference='Assalariado'))[T.Servidor público]     0.2246      0.023      9.763      0.000       0.179       0.270\n",
      "C(educacao, Treatment(reference='Secundário'))[T.Primário]               -0.1497      0.056     -2.673      0.008      -0.259      -0.040\n",
      "C(educacao, Treatment(reference='Secundário'))[T.Pós graduação]           0.4143      0.176      2.355      0.019       0.069       0.759\n",
      "C(educacao, Treatment(reference='Secundário'))[T.Superior completo]       0.0791      0.013      5.874      0.000       0.053       0.105\n",
      "C(educacao, Treatment(reference='Secundário'))[T.Superior incompleto]    -0.0891      0.033     -2.741      0.006      -0.153      -0.025\n",
      "C(estado_civil, Treatment(reference='Casado'))[T.Separado]               -0.0239      0.028     -0.867      0.386      -0.078       0.030\n",
      "C(estado_civil, Treatment(reference='Casado'))[T.Solteiro]               -0.0074      0.020     -0.372      0.710      -0.046       0.031\n",
      "C(estado_civil, Treatment(reference='Casado'))[T.União]                  -0.0567      0.024     -2.391      0.017      -0.103      -0.010\n",
      "C(estado_civil, Treatment(reference='Casado'))[T.Viúvo]                   0.0184      0.031      0.589      0.556      -0.043       0.080\n",
      "C(tipo_residencia, Treatment(reference='Casa'))[T.Aluguel]               -0.1210      0.057     -2.122      0.034      -0.233      -0.009\n",
      "C(tipo_residencia, Treatment(reference='Casa'))[T.Com os pais]           -0.2286      0.031     -7.298      0.000      -0.290      -0.167\n",
      "C(tipo_residencia, Treatment(reference='Casa'))[T.Comunitário]           -0.0322      0.097     -0.332      0.740      -0.222       0.158\n",
      "C(tipo_residencia, Treatment(reference='Casa'))[T.Estúdio]               -0.0780      0.075     -1.044      0.297      -0.224       0.068\n",
      "C(tipo_residencia, Treatment(reference='Casa'))[T.Governamental]         -0.1072      0.037     -2.897      0.004      -0.180      -0.035\n",
      "==============================================================================\n",
      "Omnibus:                       37.497   Durbin-Watson:                   2.007\n",
      "Prob(Omnibus):                  0.000   Jarque-Bera (JB):               39.367\n",
      "Skew:                           0.099   Prob(JB):                     2.83e-09\n",
      "Kurtosis:                       3.154   Cond. No.                         72.3\n",
      "==============================================================================\n",
      "\n",
      "Notes:\n",
      "[1] Standard Errors assume that the covariance matrix of the errors is correctly specified.\n"
     ]
    }
   ],
   "execution_count": 57
  },
  {
   "metadata": {},
   "cell_type": "markdown",
   "source": "#### 2. Remova a variável menos significante e analise:"
  },
  {
   "metadata": {
    "ExecuteTime": {
     "end_time": "2024-05-16T18:24:17.807122Z",
     "start_time": "2024-05-16T18:24:17.561299Z"
    }
   },
   "cell_type": "code",
   "source": [
    "qualitative = qualitative.drop('estado_civil')\n",
    "\n",
    "formula = 'np.log(renda) ~ ' + ' + '.join(\n",
    "    [f\"C({col}, Treatment(reference='{most_frequent[col]}'))\" for col in qualitative]\n",
    ")\n",
    "\n",
    "# Criar os arrays de design\n",
    "y, X = patsy.dmatrices(formula, df, return_type='dataframe')\n",
    "model = sm.OLS(y, X)\n",
    "result = model.fit()\n",
    "print(result.summary())"
   ],
   "outputs": [
    {
     "name": "stdout",
     "output_type": "stream",
     "text": [
      "                            OLS Regression Results                            \n",
      "==============================================================================\n",
      "Dep. Variable:          np.log(renda)   R-squared:                       0.079\n",
      "Model:                            OLS   Adj. R-squared:                  0.079\n",
      "Method:                 Least Squares   F-statistic:                     92.37\n",
      "Date:                Thu, 16 May 2024   Prob (F-statistic):          2.72e-256\n",
      "Time:                        15:24:17   Log-Likelihood:                -17268.\n",
      "No. Observations:               15000   AIC:                         3.457e+04\n",
      "Df Residuals:                   14985   BIC:                         3.468e+04\n",
      "Df Model:                          14                                         \n",
      "Covariance Type:            nonrobust                                         \n",
      "=========================================================================================================================================\n",
      "                                                                            coef    std err          t      P>|t|      [0.025      0.975]\n",
      "-----------------------------------------------------------------------------------------------------------------------------------------\n",
      "Intercept                                                                 7.9509      0.011    696.324      0.000       7.928       7.973\n",
      "C(sexo, Treatment(reference='F'))[T.M]                                    0.3927      0.014     28.706      0.000       0.366       0.420\n",
      "C(tipo_renda, Treatment(reference='Assalariado'))[T.Bolsista]             0.1351      0.383      0.353      0.724      -0.616       0.886\n",
      "C(tipo_renda, Treatment(reference='Assalariado'))[T.Empresário]           0.1200      0.016      7.534      0.000       0.089       0.151\n",
      "C(tipo_renda, Treatment(reference='Assalariado'))[T.Pensionista]         -0.1204      0.018     -6.696      0.000      -0.156      -0.085\n",
      "C(tipo_renda, Treatment(reference='Assalariado'))[T.Servidor público]     0.2250      0.023      9.786      0.000       0.180       0.270\n",
      "C(educacao, Treatment(reference='Secundário'))[T.Primário]               -0.1532      0.056     -2.738      0.006      -0.263      -0.044\n",
      "C(educacao, Treatment(reference='Secundário'))[T.Pós graduação]           0.4166      0.176      2.368      0.018       0.072       0.761\n",
      "C(educacao, Treatment(reference='Secundário'))[T.Superior completo]       0.0797      0.013      5.924      0.000       0.053       0.106\n",
      "C(educacao, Treatment(reference='Secundário'))[T.Superior incompleto]    -0.0893      0.033     -2.746      0.006      -0.153      -0.026\n",
      "C(tipo_residencia, Treatment(reference='Casa'))[T.Aluguel]               -0.1200      0.057     -2.107      0.035      -0.232      -0.008\n",
      "C(tipo_residencia, Treatment(reference='Casa'))[T.Com os pais]           -0.2329      0.031     -7.454      0.000      -0.294      -0.172\n",
      "C(tipo_residencia, Treatment(reference='Casa'))[T.Comunitário]           -0.0286      0.097     -0.295      0.768      -0.218       0.161\n",
      "C(tipo_residencia, Treatment(reference='Casa'))[T.Estúdio]               -0.0800      0.075     -1.070      0.284      -0.226       0.066\n",
      "C(tipo_residencia, Treatment(reference='Casa'))[T.Governamental]         -0.1055      0.037     -2.851      0.004      -0.178      -0.033\n",
      "==============================================================================\n",
      "Omnibus:                       37.054   Durbin-Watson:                   2.007\n",
      "Prob(Omnibus):                  0.000   Jarque-Bera (JB):               38.891\n",
      "Skew:                           0.099   Prob(JB):                     3.59e-09\n",
      "Kurtosis:                       3.153   Cond. No.                         71.7\n",
      "==============================================================================\n",
      "\n",
      "Notes:\n",
      "[1] Standard Errors assume that the covariance matrix of the errors is correctly specified.\n"
     ]
    }
   ],
   "execution_count": 58
  },
  {
   "metadata": {},
   "cell_type": "markdown",
   "source": "#### 3. Siga removendo as variáveis menos significantes, sempre que o *p-value* for menor que 5%. Compare o modelo final com o inicial. Observe os indicadores e conclua se o modelo parece melhor."
  },
  {
   "metadata": {
    "ExecuteTime": {
     "end_time": "2024-05-16T18:24:17.846832Z",
     "start_time": "2024-05-16T18:24:17.808246Z"
    }
   },
   "cell_type": "code",
   "source": [
    "# agrupando dummies com menos de 5% de significância\n",
    "\n",
    "# Identificar as variáveis dummies com p-valores maiores que 0.05\n",
    "p_values = result.pvalues\n",
    "high_p_values = p_values[p_values > 0.05]\n",
    "high_p_dummies = high_p_values.index.tolist()\n",
    "\n",
    "X_reduced = X.drop(columns=high_p_dummies)\n",
    "\n",
    "# Ajustar o modelo novamente com as variáveis restantes\n",
    "model_reduced = sm.OLS(y, X_reduced)\n",
    "result_reduced = model_reduced.fit()\n",
    "result_reduced.summary()"
   ],
   "outputs": [
    {
     "data": {
      "text/plain": [
       "<class 'statsmodels.iolib.summary.Summary'>\n",
       "\"\"\"\n",
       "                            OLS Regression Results                            \n",
       "==============================================================================\n",
       "Dep. Variable:          np.log(renda)   R-squared:                       0.079\n",
       "Model:                            OLS   Adj. R-squared:                  0.079\n",
       "Method:                 Least Squares   F-statistic:                     117.5\n",
       "Date:                Thu, 16 May 2024   Prob (F-statistic):          4.45e-259\n",
       "Time:                        15:24:17   Log-Likelihood:                -17268.\n",
       "No. Observations:               15000   AIC:                         3.456e+04\n",
       "Df Residuals:                   14988   BIC:                         3.465e+04\n",
       "Df Model:                          11                                         \n",
       "Covariance Type:            nonrobust                                         \n",
       "=========================================================================================================================================\n",
       "                                                                            coef    std err          t      P>|t|      [0.025      0.975]\n",
       "-----------------------------------------------------------------------------------------------------------------------------------------\n",
       "Intercept                                                                 7.9509      0.011    696.798      0.000       7.928       7.973\n",
       "C(sexo, Treatment(reference='F'))[T.M]                                    0.3915      0.014     28.706      0.000       0.365       0.418\n",
       "C(tipo_renda, Treatment(reference='Assalariado'))[T.Empresário]           0.1198      0.016      7.526      0.000       0.089       0.151\n",
       "C(tipo_renda, Treatment(reference='Assalariado'))[T.Pensionista]         -0.1204      0.018     -6.704      0.000      -0.156      -0.085\n",
       "C(tipo_renda, Treatment(reference='Assalariado'))[T.Servidor público]     0.2232      0.023      9.732      0.000       0.178       0.268\n",
       "C(educacao, Treatment(reference='Secundário'))[T.Primário]               -0.1534      0.056     -2.743      0.006      -0.263      -0.044\n",
       "C(educacao, Treatment(reference='Secundário'))[T.Pós graduação]           0.4170      0.176      2.371      0.018       0.072       0.762\n",
       "C(educacao, Treatment(reference='Secundário'))[T.Superior completo]       0.0794      0.013      5.908      0.000       0.053       0.106\n",
       "C(educacao, Treatment(reference='Secundário'))[T.Superior incompleto]    -0.0892      0.033     -2.744      0.006      -0.153      -0.025\n",
       "C(tipo_residencia, Treatment(reference='Casa'))[T.Aluguel]               -0.1191      0.057     -2.090      0.037      -0.231      -0.007\n",
       "C(tipo_residencia, Treatment(reference='Casa'))[T.Com os pais]           -0.2321      0.031     -7.430      0.000      -0.293      -0.171\n",
       "C(tipo_residencia, Treatment(reference='Casa'))[T.Governamental]         -0.1048      0.037     -2.834      0.005      -0.177      -0.032\n",
       "==============================================================================\n",
       "Omnibus:                       37.215   Durbin-Watson:                   2.006\n",
       "Prob(Omnibus):                  0.000   Jarque-Bera (JB):               39.033\n",
       "Skew:                           0.099   Prob(JB):                     3.34e-09\n",
       "Kurtosis:                       3.152   Cond. No.                         32.9\n",
       "==============================================================================\n",
       "\n",
       "Notes:\n",
       "[1] Standard Errors assume that the covariance matrix of the errors is correctly specified.\n",
       "\"\"\""
      ],
      "text/html": [
       "<table class=\"simpletable\">\n",
       "<caption>OLS Regression Results</caption>\n",
       "<tr>\n",
       "  <th>Dep. Variable:</th>      <td>np.log(renda)</td>  <th>  R-squared:         </th> <td>   0.079</td> \n",
       "</tr>\n",
       "<tr>\n",
       "  <th>Model:</th>                   <td>OLS</td>       <th>  Adj. R-squared:    </th> <td>   0.079</td> \n",
       "</tr>\n",
       "<tr>\n",
       "  <th>Method:</th>             <td>Least Squares</td>  <th>  F-statistic:       </th> <td>   117.5</td> \n",
       "</tr>\n",
       "<tr>\n",
       "  <th>Date:</th>             <td>Thu, 16 May 2024</td> <th>  Prob (F-statistic):</th> <td>4.45e-259</td>\n",
       "</tr>\n",
       "<tr>\n",
       "  <th>Time:</th>                 <td>15:24:17</td>     <th>  Log-Likelihood:    </th> <td> -17268.</td> \n",
       "</tr>\n",
       "<tr>\n",
       "  <th>No. Observations:</th>      <td> 15000</td>      <th>  AIC:               </th> <td>3.456e+04</td>\n",
       "</tr>\n",
       "<tr>\n",
       "  <th>Df Residuals:</th>          <td> 14988</td>      <th>  BIC:               </th> <td>3.465e+04</td>\n",
       "</tr>\n",
       "<tr>\n",
       "  <th>Df Model:</th>              <td>    11</td>      <th>                     </th>     <td> </td>    \n",
       "</tr>\n",
       "<tr>\n",
       "  <th>Covariance Type:</th>      <td>nonrobust</td>    <th>                     </th>     <td> </td>    \n",
       "</tr>\n",
       "</table>\n",
       "<table class=\"simpletable\">\n",
       "<tr>\n",
       "                                    <td></td>                                       <th>coef</th>     <th>std err</th>      <th>t</th>      <th>P>|t|</th>  <th>[0.025</th>    <th>0.975]</th>  \n",
       "</tr>\n",
       "<tr>\n",
       "  <th>Intercept</th>                                                             <td>    7.9509</td> <td>    0.011</td> <td>  696.798</td> <td> 0.000</td> <td>    7.928</td> <td>    7.973</td>\n",
       "</tr>\n",
       "<tr>\n",
       "  <th>C(sexo, Treatment(reference='F'))[T.M]</th>                                <td>    0.3915</td> <td>    0.014</td> <td>   28.706</td> <td> 0.000</td> <td>    0.365</td> <td>    0.418</td>\n",
       "</tr>\n",
       "<tr>\n",
       "  <th>C(tipo_renda, Treatment(reference='Assalariado'))[T.Empresário]</th>       <td>    0.1198</td> <td>    0.016</td> <td>    7.526</td> <td> 0.000</td> <td>    0.089</td> <td>    0.151</td>\n",
       "</tr>\n",
       "<tr>\n",
       "  <th>C(tipo_renda, Treatment(reference='Assalariado'))[T.Pensionista]</th>      <td>   -0.1204</td> <td>    0.018</td> <td>   -6.704</td> <td> 0.000</td> <td>   -0.156</td> <td>   -0.085</td>\n",
       "</tr>\n",
       "<tr>\n",
       "  <th>C(tipo_renda, Treatment(reference='Assalariado'))[T.Servidor público]</th> <td>    0.2232</td> <td>    0.023</td> <td>    9.732</td> <td> 0.000</td> <td>    0.178</td> <td>    0.268</td>\n",
       "</tr>\n",
       "<tr>\n",
       "  <th>C(educacao, Treatment(reference='Secundário'))[T.Primário]</th>            <td>   -0.1534</td> <td>    0.056</td> <td>   -2.743</td> <td> 0.006</td> <td>   -0.263</td> <td>   -0.044</td>\n",
       "</tr>\n",
       "<tr>\n",
       "  <th>C(educacao, Treatment(reference='Secundário'))[T.Pós graduação]</th>       <td>    0.4170</td> <td>    0.176</td> <td>    2.371</td> <td> 0.018</td> <td>    0.072</td> <td>    0.762</td>\n",
       "</tr>\n",
       "<tr>\n",
       "  <th>C(educacao, Treatment(reference='Secundário'))[T.Superior completo]</th>   <td>    0.0794</td> <td>    0.013</td> <td>    5.908</td> <td> 0.000</td> <td>    0.053</td> <td>    0.106</td>\n",
       "</tr>\n",
       "<tr>\n",
       "  <th>C(educacao, Treatment(reference='Secundário'))[T.Superior incompleto]</th> <td>   -0.0892</td> <td>    0.033</td> <td>   -2.744</td> <td> 0.006</td> <td>   -0.153</td> <td>   -0.025</td>\n",
       "</tr>\n",
       "<tr>\n",
       "  <th>C(tipo_residencia, Treatment(reference='Casa'))[T.Aluguel]</th>            <td>   -0.1191</td> <td>    0.057</td> <td>   -2.090</td> <td> 0.037</td> <td>   -0.231</td> <td>   -0.007</td>\n",
       "</tr>\n",
       "<tr>\n",
       "  <th>C(tipo_residencia, Treatment(reference='Casa'))[T.Com os pais]</th>        <td>   -0.2321</td> <td>    0.031</td> <td>   -7.430</td> <td> 0.000</td> <td>   -0.293</td> <td>   -0.171</td>\n",
       "</tr>\n",
       "<tr>\n",
       "  <th>C(tipo_residencia, Treatment(reference='Casa'))[T.Governamental]</th>      <td>   -0.1048</td> <td>    0.037</td> <td>   -2.834</td> <td> 0.005</td> <td>   -0.177</td> <td>   -0.032</td>\n",
       "</tr>\n",
       "</table>\n",
       "<table class=\"simpletable\">\n",
       "<tr>\n",
       "  <th>Omnibus:</th>       <td>37.215</td> <th>  Durbin-Watson:     </th> <td>   2.006</td>\n",
       "</tr>\n",
       "<tr>\n",
       "  <th>Prob(Omnibus):</th> <td> 0.000</td> <th>  Jarque-Bera (JB):  </th> <td>  39.033</td>\n",
       "</tr>\n",
       "<tr>\n",
       "  <th>Skew:</th>          <td> 0.099</td> <th>  Prob(JB):          </th> <td>3.34e-09</td>\n",
       "</tr>\n",
       "<tr>\n",
       "  <th>Kurtosis:</th>      <td> 3.152</td> <th>  Cond. No.          </th> <td>    32.9</td>\n",
       "</tr>\n",
       "</table><br/><br/>Notes:<br/>[1] Standard Errors assume that the covariance matrix of the errors is correctly specified."
      ],
      "text/latex": "\\begin{center}\n\\begin{tabular}{lclc}\n\\toprule\n\\textbf{Dep. Variable:}                                                         &  np.log(renda)   & \\textbf{  R-squared:         } &     0.079   \\\\\n\\textbf{Model:}                                                                 &       OLS        & \\textbf{  Adj. R-squared:    } &     0.079   \\\\\n\\textbf{Method:}                                                                &  Least Squares   & \\textbf{  F-statistic:       } &     117.5   \\\\\n\\textbf{Date:}                                                                  & Thu, 16 May 2024 & \\textbf{  Prob (F-statistic):} & 4.45e-259   \\\\\n\\textbf{Time:}                                                                  &     15:24:17     & \\textbf{  Log-Likelihood:    } &   -17268.   \\\\\n\\textbf{No. Observations:}                                                      &       15000      & \\textbf{  AIC:               } & 3.456e+04   \\\\\n\\textbf{Df Residuals:}                                                          &       14988      & \\textbf{  BIC:               } & 3.465e+04   \\\\\n\\textbf{Df Model:}                                                              &          11      & \\textbf{                     } &             \\\\\n\\textbf{Covariance Type:}                                                       &    nonrobust     & \\textbf{                     } &             \\\\\n\\bottomrule\n\\end{tabular}\n\\begin{tabular}{lcccccc}\n                                                                                & \\textbf{coef} & \\textbf{std err} & \\textbf{t} & \\textbf{P$> |$t$|$} & \\textbf{[0.025} & \\textbf{0.975]}  \\\\\n\\midrule\n\\textbf{Intercept}                                                              &       7.9509  &        0.011     &   696.798  &         0.000        &        7.928    &        7.973     \\\\\n\\textbf{C(sexo, Treatment(reference='F'))[T.M]}                                 &       0.3915  &        0.014     &    28.706  &         0.000        &        0.365    &        0.418     \\\\\n\\textbf{C(tipo\\_renda, Treatment(reference='Assalariado'))[T.Empresário]}       &       0.1198  &        0.016     &     7.526  &         0.000        &        0.089    &        0.151     \\\\\n\\textbf{C(tipo\\_renda, Treatment(reference='Assalariado'))[T.Pensionista]}      &      -0.1204  &        0.018     &    -6.704  &         0.000        &       -0.156    &       -0.085     \\\\\n\\textbf{C(tipo\\_renda, Treatment(reference='Assalariado'))[T.Servidor público]} &       0.2232  &        0.023     &     9.732  &         0.000        &        0.178    &        0.268     \\\\\n\\textbf{C(educacao, Treatment(reference='Secundário'))[T.Primário]}             &      -0.1534  &        0.056     &    -2.743  &         0.006        &       -0.263    &       -0.044     \\\\\n\\textbf{C(educacao, Treatment(reference='Secundário'))[T.Pós graduação]}        &       0.4170  &        0.176     &     2.371  &         0.018        &        0.072    &        0.762     \\\\\n\\textbf{C(educacao, Treatment(reference='Secundário'))[T.Superior completo]}    &       0.0794  &        0.013     &     5.908  &         0.000        &        0.053    &        0.106     \\\\\n\\textbf{C(educacao, Treatment(reference='Secundário'))[T.Superior incompleto]}  &      -0.0892  &        0.033     &    -2.744  &         0.006        &       -0.153    &       -0.025     \\\\\n\\textbf{C(tipo\\_residencia, Treatment(reference='Casa'))[T.Aluguel]}            &      -0.1191  &        0.057     &    -2.090  &         0.037        &       -0.231    &       -0.007     \\\\\n\\textbf{C(tipo\\_residencia, Treatment(reference='Casa'))[T.Com os pais]}        &      -0.2321  &        0.031     &    -7.430  &         0.000        &       -0.293    &       -0.171     \\\\\n\\textbf{C(tipo\\_residencia, Treatment(reference='Casa'))[T.Governamental]}      &      -0.1048  &        0.037     &    -2.834  &         0.005        &       -0.177    &       -0.032     \\\\\n\\bottomrule\n\\end{tabular}\n\\begin{tabular}{lclc}\n\\textbf{Omnibus:}       & 37.215 & \\textbf{  Durbin-Watson:     } &    2.006  \\\\\n\\textbf{Prob(Omnibus):} &  0.000 & \\textbf{  Jarque-Bera (JB):  } &   39.033  \\\\\n\\textbf{Skew:}          &  0.099 & \\textbf{  Prob(JB):          } & 3.34e-09  \\\\\n\\textbf{Kurtosis:}      &  3.152 & \\textbf{  Cond. No.          } &     32.9  \\\\\n\\bottomrule\n\\end{tabular}\n%\\caption{OLS Regression Results}\n\\end{center}\n\nNotes: \\newline\n [1] Standard Errors assume that the covariance matrix of the errors is correctly specified."
     },
     "execution_count": 59,
     "metadata": {},
     "output_type": "execute_result"
    }
   ],
   "execution_count": 59
  },
  {
   "metadata": {},
   "cell_type": "markdown",
   "source": [
    "# Conclusão\n",
    "\n",
    "    Sim o modelo melhorou, o F-statistic aumentou e o AIC e BIC diminuiram enquanto o R-squared ajustado se manteve o mesmo. Embora o modelo em si é bem ruim."
   ]
  },
  {
   "metadata": {},
   "cell_type": "code",
   "outputs": [],
   "execution_count": null,
   "source": ""
  }
 ],
 "metadata": {
  "kernelspec": {
   "display_name": "Python 3",
   "language": "python",
   "name": "python3"
  },
  "language_info": {
   "codemirror_mode": {
    "name": "ipython",
    "version": 3
   },
   "file_extension": ".py",
   "mimetype": "text/x-python",
   "name": "python",
   "nbconvert_exporter": "python",
   "pygments_lexer": "ipython3",
   "version": "3.8.5"
  }
 },
 "nbformat": 4,
 "nbformat_minor": 4
}
