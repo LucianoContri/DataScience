{
 "cells": [
  {
   "cell_type": "markdown",
   "metadata": {},
   "source": [
    "# EBAC - Regressão II - regressão múltipla\n",
    "\n",
    "## Tarefa I"
   ]
  },
  {
   "cell_type": "markdown",
   "metadata": {},
   "source": [
    "#### Previsão de renda\n",
    "\n",
    "Vamos trabalhar com a base 'previsao_de_renda.csv', que é a base do seu próximo projeto. Vamos usar os recursos que vimos até aqui nesta base.\n",
    "\n",
    "|variavel|descrição|\n",
    "|-|-|\n",
    "|data_ref                | Data de referência de coleta das variáveis |\n",
    "|index                   | Código de identificação do cliente|\n",
    "|sexo                    | Sexo do cliente|\n",
    "|posse_de_veiculo        | Indica se o cliente possui veículo|\n",
    "|posse_de_imovel         | Indica se o cliente possui imóvel|\n",
    "|qtd_filhos              | Quantidade de filhos do cliente|\n",
    "|tipo_renda              | Tipo de renda do cliente|\n",
    "|educacao                | Grau de instrução do cliente|\n",
    "|estado_civil            | Estado civil do cliente|\n",
    "|tipo_residencia         | Tipo de residência do cliente (própria, alugada etc)|\n",
    "|idade                   | Idade do cliente|\n",
    "|tempo_emprego           | Tempo no emprego atual|\n",
    "|qt_pessoas_residencia   | Quantidade de pessoas que moram na residência|\n",
    "|renda                   | Renda em reais|"
   ]
  },
  {
   "metadata": {
    "ExecuteTime": {
     "end_time": "2024-05-16T18:24:17.209805Z",
     "start_time": "2024-05-16T18:24:17.183545Z"
    }
   },
   "cell_type": "code",
   "source": [
    "import pandas as pd\n",
    "        \n",
    "df = pd.read_csv('../../../../Datasets/previsao_de_renda.csv', sep = ',')"
   ],
   "execution_count": 52,
   "outputs": []
  },
  {
   "cell_type": "code",
   "metadata": {
    "ExecuteTime": {
     "end_time": "2024-05-16T18:24:17.253110Z",
     "start_time": "2024-05-16T18:24:17.235831Z"
    }
   },
   "source": [
    "df.info()"
   ],
   "execution_count": 53,
   "outputs": []
  },
  {
   "cell_type": "markdown",
   "metadata": {},
   "source": [
    "1. Ajuste um modelo para prever log(renda) considerando todas as covariáveis disponíveis.\n",
    "    - Utilizando os recursos do Patsy, coloque as variáveis qualitativas como *dummies*.\n",
    "    - Mantenha sempre a categoria mais frequente como casela de referência\n",
    "    - Avalie os parâmetros e veja se parecem fazer sentido prático.\n",
    "\n",
    "2. Remova a variável menos significante e analise:\n",
    "    - Observe os indicadores que vimos, e avalie se o modelo melhorou ou piorou na sua opinião.\n",
    "    - Observe os parâmetros e veja se algum se alterou muito.\n",
    "\n",
    "3. Siga removendo as variáveis menos significantes, sempre que o *p-value* for menor que 5%. Compare o modelo final com o inicial. Observe os indicadores e conclua se o modelo parece melhor. \n",
    "    "
   ]
  },
  {
   "metadata": {},
   "cell_type": "markdown",
   "source": "#### 1. Ajuste um modelo para prever log(renda) considerando todas as covariáveis disponíveis."
  },
  {
   "metadata": {
    "ExecuteTime": {
     "end_time": "2024-05-16T18:24:17.258265Z",
     "start_time": "2024-05-16T18:24:17.254112Z"
    }
   },
   "cell_type": "code",
   "source": [
    "import statsmodels.api as sm\n",
    "import numpy as np\n",
    "import statsmodels.formula.api as smf\n",
    "import patsy    \n",
    "\n",
    "qualitative = df.select_dtypes(include='object').columns    \n",
    "qualitative = qualitative.drop('data_ref')\n",
    "print(qualitative)"
   ],
   "execution_count": 54,
   "outputs": []
  },
  {
   "metadata": {
    "ExecuteTime": {
     "end_time": "2024-05-16T18:24:17.267636Z",
     "start_time": "2024-05-16T18:24:17.259267Z"
    }
   },
   "cell_type": "code",
   "source": [
    "# mantenha sempre a categoria mais frequente como casela de referência\n",
    "\n",
    "#achando a categoria mais frequente\n",
    "most_frequent = df[qualitative].mode().iloc[0]\n",
    "print(most_frequent)\n",
    "    "
   ],
   "execution_count": 55,
   "outputs": []
  },
  {
   "metadata": {
    "ExecuteTime": {
     "end_time": "2024-05-16T18:24:17.532790Z",
     "start_time": "2024-05-16T18:24:17.268640Z"
    }
   },
   "cell_type": "code",
   "source": [
    "\n",
    "formula = 'np.log(renda) ~ ' + ' + '.join(\n",
    "    [f\"C({col}, Treatment(reference='{most_frequent[col]}'))\" for col in qualitative]\n",
    ")\n",
    "\n",
    "# Criar os arrays de design\n",
    "y, X = patsy.dmatrices(formula, df, return_type='dataframe')"
   ],
   "execution_count": 56,
   "outputs": []
  },
  {
   "metadata": {
    "ExecuteTime": {
     "end_time": "2024-05-16T18:24:17.560296Z",
     "start_time": "2024-05-16T18:24:17.533792Z"
    }
   },
   "cell_type": "code",
   "source": [
    "\n",
    "model = sm.OLS(y, X)\n",
    "result = model.fit()\n",
    "print(result.summary())"
   ],
   "execution_count": 57,
   "outputs": []
  },
  {
   "metadata": {},
   "cell_type": "markdown",
   "source": "#### 2. Remova a variável menos significante e analise:"
  },
  {
   "metadata": {
    "ExecuteTime": {
     "end_time": "2024-05-16T18:24:17.807122Z",
     "start_time": "2024-05-16T18:24:17.561299Z"
    }
   },
   "cell_type": "code",
   "source": [
    "qualitative = qualitative.drop('estado_civil')\n",
    "\n",
    "formula = 'np.log(renda) ~ ' + ' + '.join(\n",
    "    [f\"C({col}, Treatment(reference='{most_frequent[col]}'))\" for col in qualitative]\n",
    ")\n",
    "\n",
    "# Criar os arrays de design\n",
    "y, X = patsy.dmatrices(formula, df, return_type='dataframe')\n",
    "model = sm.OLS(y, X)\n",
    "result = model.fit()\n",
    "print(result.summary())"
   ],
   "execution_count": 58,
   "outputs": []
  },
  {
   "metadata": {},
   "cell_type": "markdown",
   "source": "#### 3. Siga removendo as variáveis menos significantes, sempre que o *p-value* for menor que 5%. Compare o modelo final com o inicial. Observe os indicadores e conclua se o modelo parece melhor."
  },
  {
   "metadata": {
    "ExecuteTime": {
     "end_time": "2024-05-16T18:24:17.846832Z",
     "start_time": "2024-05-16T18:24:17.808246Z"
    }
   },
   "cell_type": "code",
   "source": [
    "# agrupando dummies com menos de 5% de significância\n",
    "\n",
    "# Identificar as variáveis dummies com p-valores maiores que 0.05\n",
    "p_values = result.pvalues\n",
    "high_p_values = p_values[p_values > 0.05]\n",
    "high_p_dummies = high_p_values.index.tolist()\n",
    "\n",
    "X_reduced = X.drop(columns=high_p_dummies)\n",
    "\n",
    "# Ajustar o modelo novamente com as variáveis restantes\n",
    "model_reduced = sm.OLS(y, X_reduced)\n",
    "result_reduced = model_reduced.fit()\n",
    "result_reduced.summary()"
   ],
   "execution_count": 59,
   "outputs": []
  },
  {
   "metadata": {},
   "cell_type": "markdown",
   "source": [
    "# Conclusão\n",
    "\n",
    "    Sim o modelo melhorou, o F-statistic aumentou e o AIC e BIC diminuiram enquanto o R-squared ajustado se manteve o mesmo. Embora o modelo em si é bem ruim."
   ]
  },
  {
   "metadata": {},
   "cell_type": "code",
   "execution_count": null,
   "source": "",
   "outputs": []
  }
 ],
 "metadata": {
  "kernelspec": {
   "display_name": "Python 3",
   "language": "python",
   "name": "python3"
  },
  "language_info": {
   "codemirror_mode": {
    "name": "ipython",
    "version": 3
   },
   "file_extension": ".py",
   "mimetype": "text/x-python",
   "name": "python",
   "nbconvert_exporter": "python",
   "pygments_lexer": "ipython3",
   "version": "3.8.5"
  }
 },
 "nbformat": 4,
 "nbformat_minor": 4
}
