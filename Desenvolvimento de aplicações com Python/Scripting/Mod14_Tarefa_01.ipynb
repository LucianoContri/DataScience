{
 "cells": [
  {
   "metadata": {
    "ExecuteTime": {
     "end_time": "2024-05-21T02:04:49.746252Z",
     "start_time": "2024-05-21T02:04:46.116890Z"
    }
   },
   "cell_type": "code",
   "source": [
    "import pandas as pd\n",
    "import seaborn as sns\n",
    "import matplotlib.pyplot as plt\n",
    "import os\n",
    "\n",
    "sns.set()\n",
    "def plota_pivot_table(df, value, index, func, ylabel, xlabel, opcao='nada'):    \n",
    "    if opcao == 'nada':\n",
    "        pd.pivot_table(df, values=value, index=index,aggfunc=func).plot(figsize=[15, 5])\n",
    "    elif opcao == 'unstack':\n",
    "        pd.pivot_table(df, values=value, index=index,aggfunc=func).unstack().plot(figsize=[15, 5])\n",
    "    elif opcao == 'sort':\n",
    "        pd.pivot_table(df, values=value, index=index,aggfunc=func).sort_values(value).plot(figsize=[15, 5])\n",
    "    plt.ylabel(ylabel)\n",
    "    plt.xlabel(xlabel)\n",
    "    return None\n",
    "\n",
    "meses = ['MAR', 'ABR', 'MAI', 'JUN', 'DEZ']\n",
    "\n",
    "for mes in meses:\n",
    "    sinasc = pd.read_csv('./input/SINASC_RO_2019_'+mes+'.csv')\n",
    "    max_data = sinasc.DTNASC.max()[:7]\n",
    "    os.makedirs('./output/figs/'+max_data, exist_ok=True)\n",
    "    \n",
    "    plota_pivot_table(sinasc, 'IDADEMAE', 'DTNASC', 'mean', 'média idade mãe por data', 'data nascimento', 'nada')\n",
    "    plt.savefig('./output/figs/'+max_data+'/media idade mae por data.png')\n",
    "    plt.close()\n",
    "    \n",
    "    plota_pivot_table(sinasc, 'IDADEMAE', ['DTNASC', 'SEXO'], 'mean', 'media idade mae','data de nascimento','unstack')\n",
    "    plt.savefig('./output/figs/'+max_data+'/media idade mae por sexo.png')\n",
    "    plt.close()\n",
    "    \n",
    "    plota_pivot_table(sinasc, 'PESO', ['DTNASC', 'SEXO'], 'mean', 'media peso bebe','data de nascimento','unstack')\n",
    "    plt.savefig('./output/figs/'+max_data+'/media peso bebe por sexo.png')\n",
    "    plt.close()\n",
    "    \n",
    "    plota_pivot_table(sinasc, 'PESO', 'ESCMAE', 'median', 'PESO mediano','escolaridade mae','sort')\n",
    "    plt.savefig('./output/figs/'+max_data+'/PESO mediano por escolaridade mae.png')\n",
    "    plt.close()\n",
    "    \n",
    "    plota_pivot_table(sinasc, 'APGAR1', 'GESTACAO', 'mean', 'apgar1 medio','gestacao','sort')\n",
    "    plt.savefig('./output/figs/'+max_data+'/media apgar1 por gestacao.png')\n",
    "    plt.close()\n",
    "    "
   ],
   "id": "3bb2bfeae2288eaf",
   "execution_count": 2,
   "outputs": []
  },
  {
   "metadata": {},
   "cell_type": "markdown",
   "source": [
    "### Conclusão\n",
    "Para melhorar ainda mais a automação, poderíamos criar uma função que recebe o DF e tenta gerar para todos os meses ou recebe uma lista de meses. Além disso poderiamos deixar a função rodando com o cron do sistema operacional para que ela gere os gráficos automaticamente."
   ],
   "id": "b577fd622328e874"
  },
  {
   "metadata": {},
   "cell_type": "code",
   "execution_count": null,
   "source": "",
   "id": "d3447c1936e2bfc1",
   "outputs": []
  }
 ],
 "metadata": {
  "kernelspec": {
   "display_name": "Python 3",
   "language": "python",
   "name": "python3"
  },
  "language_info": {
   "codemirror_mode": {
    "name": "ipython",
    "version": 2
   },
   "file_extension": ".py",
   "mimetype": "text/x-python",
   "name": "python",
   "nbconvert_exporter": "python",
   "pygments_lexer": "ipython2",
   "version": "2.7.6"
  }
 },
 "nbformat": 4,
 "nbformat_minor": 5
}
