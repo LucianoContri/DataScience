{
 "cells": [
  {
   "cell_type": "markdown",
   "metadata": {},
   "source": [
    "# Tópicos\n",
    "- Gerar análises com a base de dados de janeiro\n",
    "- Criar uma função para gerar esses gráficos\n",
    "- Salvar os gráficos como imagens para utilização posterior em powerpoints ou documentos\n",
    "\n",
    "\n",
    "# Índice\n",
    "\n",
    "1. [Importando bibliotecas](#import)\n",
    "2. [Carregando o dataframe SINASC](#read)\n",
    "2. [Gráficos](#cont_idade_mae)\n",
    "    2. [Contagem da IDADEMAE x Tempo ](#exemplo_1)\n",
    "    2. [Quantidade de bebês ao longo do ano](#exemplo_2)\n",
    "    2. [Quantidade de bebês fem e masc por mês](#exemplo_3)\n",
    "    2. [Média peso dos bebês fem e masc](#exemplo_4)\n",
    "    2. [Peso x Escolaridade mãe (ESCMAE)](#exemplo_5)\n",
    "    2. [Gestacão](#exemplo_6)\n",
    "2. [Utilizando função](#funcao)\n",
    "2. [Salvando os gráficos](#salvando)\n",
    "\n",
    "\n",
    "\n"
   ]
  },
  {
   "cell_type": "markdown",
   "metadata": {},
   "source": [
    "# 1. Importando bibliotecas <a name=\"import\"></a>\n"
   ]
  },
  {
   "cell_type": "code",
   "execution_count": 21,
   "metadata": {
    "ExecuteTime": {
     "end_time": "2021-06-06T21:12:37.298706Z",
     "start_time": "2021-06-06T21:12:36.656481Z"
    }
   },
   "source": [
    "import numpy as np\n",
    "import pandas as pd\n",
    "import seaborn as sns\n",
    "import matplotlib.pyplot as plt\n",
    "\n",
    "\n",
    "sns.set_theme()  \n"
   ],
   "outputs": []
  },
  {
   "cell_type": "markdown",
   "metadata": {},
   "source": [
    "# 2. Carregando o dataframe SINASC <a name=\"read\"></a>\n"
   ]
  },
  {
   "cell_type": "markdown",
   "metadata": {},
   "source": [
    "![Janeiro](imagens/Jan.png)"
   ]
  },
  {
   "cell_type": "code",
   "execution_count": 40,
   "metadata": {
    "ExecuteTime": {
     "end_time": "2021-06-06T21:12:37.762376Z",
     "start_time": "2021-06-06T21:12:37.728383Z"
    },
    "scrolled": false
   },
   "source": [
    "sinasc = pd.read_csv('./input/SINASC_RO_2019_JAN.csv')\n",
    "sinasc.head()"
   ],
   "outputs": []
  },
  {
   "cell_type": "code",
   "execution_count": 23,
   "metadata": {
    "scrolled": false
   },
   "source": [
    "sinasc.DTNASC.value_counts()"
   ],
   "outputs": []
  },
  {
   "cell_type": "code",
   "execution_count": 24,
   "metadata": {},
   "source": [
    "sinasc.DTNASC.min(), sinasc.DTNASC.max()"
   ],
   "outputs": []
  },
  {
   "cell_type": "markdown",
   "metadata": {
    "heading_collapsed": true
   },
   "source": [
    "# 3. Gráficos"
   ]
  },
  {
   "cell_type": "markdown",
   "metadata": {
    "hidden": true
   },
   "source": [
    "## 3.1 Contagem da IDADEMAE x Tempo  <a name=\"exemplo_1\"></a>\n"
   ]
  },
  {
   "cell_type": "code",
   "execution_count": 25,
   "metadata": {
    "hidden": true,
    "scrolled": false
   },
   "source": [
    "pd.pivot_table(sinasc, values='IDADEMAE', index='DTNASC',\n",
    "               aggfunc='mean').plot(figsize=[15, 5])\n",
    "plt.ylabel('média idade mãe');\n"
   ],
   "outputs": []
  },
  {
   "cell_type": "markdown",
   "metadata": {
    "hidden": true
   },
   "source": [
    "## 3.2 Quantidade de bebês ao longo do ano <a name=\"exemplo_2\"></a>\n"
   ]
  },
  {
   "cell_type": "code",
   "execution_count": 26,
   "metadata": {
    "hidden": true
   },
   "source": [
    "pd.pivot_table(sinasc, values='IDADEMAE', index='DTNASC',\n",
    "               aggfunc='count').plot(figsize=[18, 6])\n",
    "plt.ylabel('quantidade de nascimentos');\n"
   ],
   "outputs": []
  },
  {
   "cell_type": "code",
   "execution_count": null,
   "metadata": {
    "hidden": true
   },
   "source": [],
   "outputs": []
  },
  {
   "cell_type": "markdown",
   "metadata": {
    "hidden": true
   },
   "source": [
    "## 3.3 Quantidade de bebês fem e masc por mês <a name=\"exemplo_3\"></a>"
   ]
  },
  {
   "cell_type": "code",
   "execution_count": 27,
   "metadata": {
    "hidden": true
   },
   "source": [
    "pd.pivot_table(sinasc, values='IDADEMAE', index=['DTNASC', 'SEXO'],\n",
    "               aggfunc='count').unstack().plot(figsize=[18, 6]);\n"
   ],
   "outputs": []
  },
  {
   "cell_type": "markdown",
   "metadata": {
    "hidden": true
   },
   "source": [
    "## 3.4 Média peso dos bebês fem e masc<a name=\"exemplo_4\"></a>"
   ]
  },
  {
   "cell_type": "code",
   "execution_count": 28,
   "metadata": {
    "hidden": true
   },
   "source": [
    "\n",
    "pd.pivot_table(sinasc, values='PESO', index=['DTNASC', 'SEXO'],\n",
    "               aggfunc='count').unstack().plot(figsize=[18, 6]);"
   ],
   "outputs": []
  },
  {
   "cell_type": "markdown",
   "metadata": {
    "hidden": true
   },
   "source": [
    "## 3.5 Peso x Escolaridade mãe (ESCMAE) <a name=\"exemplo_5\"></a>\n"
   ]
  },
  {
   "cell_type": "code",
   "execution_count": 29,
   "metadata": {
    "hidden": true
   },
   "source": [
    "pd.pivot_table(sinasc, values='PESO', index=['ESCMAE'],\n",
    "               aggfunc='median').sort_values('PESO').plot(figsize=[18, 6]);"
   ],
   "outputs": []
  },
  {
   "cell_type": "markdown",
   "metadata": {
    "hidden": true
   },
   "source": [
    "## 3.6 Gestacão <a name=\"exemplo_6\"></a>\n"
   ]
  },
  {
   "cell_type": "code",
   "execution_count": 30,
   "metadata": {
    "hidden": true
   },
   "source": [
    "pd.pivot_table(sinasc, values='APGAR1', index=['GESTACAO'],\n",
    "               aggfunc='mean').sort_values('APGAR1').plot(figsize=[18, 6])\n",
    "plt.ylabel('apgar1 medio')\n",
    "plt.xlabel('gestacao');\n",
    "\n"
   ],
   "outputs": []
  },
  {
   "cell_type": "code",
   "execution_count": 31,
   "metadata": {
    "hidden": true
   },
   "source": [
    "pd.pivot_table(sinasc, values='APGAR5', index=['GESTACAO'],\n",
    "               aggfunc='mean').sort_values('APGAR5').plot(figsize=[18, 6])\n",
    "plt.ylabel('apgar5 medio')\n",
    "plt.xlabel('gestacao');"
   ],
   "outputs": []
  },
  {
   "cell_type": "markdown",
   "metadata": {},
   "source": [
    "# 4. Utilizando função <a name=\"funcao\"></a>"
   ]
  },
  {
   "cell_type": "code",
   "execution_count": 33,
   "metadata": {
    "code_folding": []
   },
   "source": [
    "def plota_pivot_table(df, value, index, func, ylabel, xlabel, opcao='nada'):\n",
    "    if opcao == 'nada':\n",
    "        pd.pivot_table(df, values=value, index=index,\n",
    "                       aggfunc=func).plot(figsize=[15, 5])\n",
    "    elif opcao == 'sort':\n",
    "        pd.pivot_table(df, values=value, index=index,\n",
    "                       aggfunc=func).sort_values(value).plot(figsize=[15, 5])\n",
    "    elif opcao == 'unstack':\n",
    "        pd.pivot_table(df, values=value, index=index,\n",
    "                       aggfunc=func).unstack().plot(figsize=[15, 5])\n",
    "    plt.ylabel(ylabel)\n",
    "    plt.xlabel(xlabel)\n",
    "    return None"
   ],
   "outputs": []
  },
  {
   "cell_type": "code",
   "execution_count": 34,
   "metadata": {},
   "source": [
    "plota_pivot_table(sinasc, 'IDADEMAE', 'DTNASC', 'count', 'quantidade de nascimento','data de nascimento')\n"
   ],
   "outputs": []
  },
  {
   "cell_type": "markdown",
   "metadata": {},
   "source": [
    "# 5. Salvando os gráficos <a name=\"salvando\"></a>"
   ]
  },
  {
   "cell_type": "code",
   "execution_count": 41,
   "metadata": {},
   "source": [
    "import os"
   ],
   "outputs": []
  },
  {
   "cell_type": "code",
   "execution_count": 42,
   "metadata": {},
   "source": [
    "pwd"
   ],
   "outputs": []
  },
  {
   "cell_type": "code",
   "execution_count": 43,
   "metadata": {},
   "source": [
    "max_data = sinasc.DTNASC.max()[:7]\n",
    "max_data"
   ],
   "outputs": []
  },
  {
   "cell_type": "code",
   "execution_count": 46,
   "metadata": {},
   "source": [
    "os.makedirs('./output/figs/'+max_data, exist_ok=True)"
   ],
   "outputs": []
  },
  {
   "cell_type": "code",
   "execution_count": null,
   "metadata": {},
   "source": [
    "plota_pivot_table(sinasc, 'IDADEMAE', ['DTNASC', 'SEXO'], 'mean', 'media idade mae','data de nascimento','unstack')\n",
    "plt.savefig('./output/figs/'+max_data+'/media idade mae por sexo.png')"
   ],
   "outputs": []
  },
  {
   "cell_type": "code",
   "execution_count": null,
   "metadata": {},
   "source": [
    "plota_pivot_table(sinasc, 'PESO', ['DTNASC', 'SEXO'], 'mean', 'media peso bebe','data de nascimento','unstack')\n",
    "plt.savefig('./output/figs/'+max_data+'/media peso bebe por sexo.png')"
   ],
   "outputs": []
  },
  {
   "cell_type": "code",
   "execution_count": null,
   "metadata": {},
   "source": [
    "plota_pivot_table(sinasc, 'PESO', 'ESCMAE', 'median', 'apgar1 medio','gestacao','sort')\n",
    "plt.savefig('./output/figs/'+max_data+'/media apgar1 por escolaridade mae.png')"
   ],
   "outputs": []
  },
  {
   "cell_type": "code",
   "execution_count": null,
   "metadata": {},
   "source": [
    "plota_pivot_table(sinasc, 'APGAR1', 'GESTACAO', 'mean', 'apgar1 medio','gestacao','sort')\n",
    "plt.savefig('./output/figs/'+max_data+'/media apgar1 por gestacao.png')"
   ],
   "outputs": []
  },
  {
   "cell_type": "code",
   "execution_count": null,
   "metadata": {},
   "source": [
    "plota_pivot_table(sinasc, 'APGAR5', 'GESTACAO', 'mean', 'apgar5 medio','gestacao','sort')\n",
    "plt.savefig('./output/figs/'+max_data+'/media apgar5 por gestacao.png')"
   ],
   "outputs": []
  },
  {
   "cell_type": "code",
   "execution_count": null,
   "metadata": {},
   "source": [],
   "outputs": []
  },
  {
   "cell_type": "code",
   "execution_count": null,
   "metadata": {},
   "source": [],
   "outputs": []
  },
  {
   "cell_type": "code",
   "execution_count": null,
   "metadata": {},
   "source": [],
   "outputs": []
  },
  {
   "cell_type": "code",
   "execution_count": null,
   "metadata": {},
   "source": [],
   "outputs": []
  }
 ],
 "metadata": {
  "kernelspec": {
   "display_name": "Python 3",
   "language": "python",
   "name": "python3"
  },
  "language_info": {
   "codemirror_mode": {
    "name": "ipython",
    "version": 3
   },
   "file_extension": ".py",
   "mimetype": "text/x-python",
   "name": "python",
   "nbconvert_exporter": "python",
   "pygments_lexer": "ipython3",
   "version": "3.8.5"
  },
  "varInspector": {
   "cols": {
    "lenName": 16,
    "lenType": 16,
    "lenVar": 40
   },
   "kernels_config": {
    "python": {
     "delete_cmd_postfix": "",
     "delete_cmd_prefix": "del ",
     "library": "var_list.py",
     "varRefreshCmd": "print(var_dic_list())"
    },
    "r": {
     "delete_cmd_postfix": ") ",
     "delete_cmd_prefix": "rm(",
     "library": "var_list.r",
     "varRefreshCmd": "cat(var_dic_list()) "
    }
   },
   "types_to_exclude": [
    "module",
    "function",
    "builtin_function_or_method",
    "instance",
    "_Feature"
   ],
   "window_display": false
  }
 },
 "nbformat": 4,
 "nbformat_minor": 4
}
