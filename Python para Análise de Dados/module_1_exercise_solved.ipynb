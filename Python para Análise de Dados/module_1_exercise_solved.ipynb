{
  "nbformat": 4,
  "nbformat_minor": 0,
  "metadata": {
    "colab": {
      "provenance": [],
      "toc_visible": true
    },
    "kernelspec": {
      "name": "python3",
      "display_name": "Python 3"
    }
  },
  "cells": [
    {
      "cell_type": "markdown",
      "metadata": {
        "id": "KJqp9AANOCtf"
      },
      "source": [
        "<img src=\"https://raw.githubusercontent.com/andre-marcos-perez/ebac-course-utils/main/media/logo/newebac_logo_black_half.png\" alt=\"ebac-logo\">\n",
        "\n",
        "---\n",
        "\n",
        "# **Módulo 01** | Python: Variáveis & Tipos de Dados\n",
        "Caderno de **Exercícios**<br>\n",
        "Professor [André Perez](https://www.linkedin.com/in/andremarcosperez/)\n",
        "\n",
        "---"
      ]
    },
    {
      "cell_type": "markdown",
      "metadata": {
        "id": "d9jDtUbDOE1-"
      },
      "source": [
        "# **Tópicos**\n",
        "\n",
        "<ol type=\"1\">\n",
        "  <li>Introdução ao Google Colab;</li>\n",
        "  <li>Variáveis;</li>\n",
        "  <li>Números;</li>\n",
        "  <li><i>Strings;</i></li>\n",
        "  <li>Boleanos.</li>\n",
        "</ol>"
      ]
    },
    {
      "cell_type": "markdown",
      "metadata": {
        "id": "SmoHgt-lwkpD"
      },
      "source": [
        "---"
      ]
    },
    {
      "cell_type": "markdown",
      "metadata": {
        "id": "GABI6OW8OfQ2"
      },
      "source": [
        "# **Exercícios**"
      ]
    },
    {
      "cell_type": "markdown",
      "metadata": {
        "id": "muD1vxozykSC"
      },
      "source": [
        "## 1\\. Google Colab"
      ]
    },
    {
      "cell_type": "markdown",
      "metadata": {
        "id": "ahrFfCuBxJKs"
      },
      "source": [
        "Crie uma célula de código que escreva o texto \"Olá mundo!\", utilize o comando `print`."
      ]
    },
    {
      "cell_type": "code",
      "source": [
        "print(\"Olá mundo!\")"
      ],
      "metadata": {
        "colab": {
          "base_uri": "https://localhost:8080/"
        },
        "id": "09HdmlUThX_w",
        "outputId": "68212a3e-11ec-4c0a-ac01-78d3ca9d6643"
      },
      "execution_count": 2,
      "outputs": [
        {
          "output_type": "stream",
          "name": "stdout",
          "text": [
            "Olá mundo!\n"
          ]
        }
      ]
    },
    {
      "cell_type": "markdown",
      "metadata": {
        "id": "KI9zQRT2xa7m"
      },
      "source": [
        "Crie uma célua de texto e adicione uma imagem."
      ]
    },
    {
      "cell_type": "markdown",
      "source": [
        "![images.jpg](data:image/jpeg;base64,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)"
      ],
      "metadata": {
        "id": "14yGhuXWhiFC"
      }
    },
    {
      "cell_type": "markdown",
      "metadata": {
        "id": "zMN1Q3jdwoJm"
      },
      "source": [
        "---"
      ]
    },
    {
      "cell_type": "markdown",
      "metadata": {
        "id": "tFYOPLS3xiwe"
      },
      "source": [
        "## 2\\. Números"
      ]
    },
    {
      "cell_type": "markdown",
      "metadata": {
        "id": "O2G9gt7tx2c-"
      },
      "source": [
        "Preencha as células de código para preencher os valores de (A), (B) e (C) na tabela de ticket médio abaixo:\n",
        "\n",
        "<br>\n",
        "\n",
        "| Dia   | Valor Total Vendas | Qtd Total Vendas | Ticket Medio |\n",
        "|-------|--------------------|------------------|--------------|\n",
        "| 19/01 | (A)                | 3                | 320.52       |\n",
        "| 20/01 | 834.47             | (B)              | 119.21       |\n",
        "| 23/01 | 15378.12           | 5                | (C)          |"
      ]
    },
    {
      "cell_type": "code",
      "metadata": {
        "id": "nsrKH9EizNRD",
        "colab": {
          "base_uri": "https://localhost:8080/"
        },
        "outputId": "75c1fb9b-ea82-4e6c-9015-da72384bff70"
      },
      "source": [
        "# (A)\n",
        "A=3*320.52\n",
        "print(A)"
      ],
      "execution_count": 6,
      "outputs": [
        {
          "output_type": "stream",
          "name": "stdout",
          "text": [
            "961.56\n"
          ]
        }
      ]
    },
    {
      "cell_type": "code",
      "metadata": {
        "id": "QQ1GBGHJzMmi",
        "colab": {
          "base_uri": "https://localhost:8080/"
        },
        "outputId": "af44bf58-ee0f-4767-bb55-2a6156bf5ba3"
      },
      "source": [
        "# (B)\n",
        "B=834.47/119.21\n",
        "print(B)"
      ],
      "execution_count": 7,
      "outputs": [
        {
          "output_type": "stream",
          "name": "stdout",
          "text": [
            "7.000000000000001\n"
          ]
        }
      ]
    },
    {
      "cell_type": "code",
      "metadata": {
        "id": "W-li0nSMzKNa",
        "colab": {
          "base_uri": "https://localhost:8080/"
        },
        "outputId": "41531cd0-6cbc-413a-c08c-bfb2ad2b0ed6"
      },
      "source": [
        "# (C)\n",
        "C=15378.12/5\n",
        "print(C)"
      ],
      "execution_count": 8,
      "outputs": [
        {
          "output_type": "stream",
          "name": "stdout",
          "text": [
            "3075.6240000000003\n"
          ]
        }
      ]
    },
    {
      "cell_type": "markdown",
      "metadata": {
        "id": "3eoP-Vj9yzh8"
      },
      "source": [
        "---"
      ]
    },
    {
      "cell_type": "markdown",
      "metadata": {
        "id": "yUJ6kdony6Pr"
      },
      "source": [
        "## 3\\. Strings"
      ]
    },
    {
      "cell_type": "markdown",
      "metadata": {
        "id": "KDuZpg-5zCvO"
      },
      "source": [
        "Aplique três métodos distintos na *string* abaixo, você pode conferir alguns métodos neste [link](https://www.w3schools.com/python/python_ref_string.asp):"
      ]
    },
    {
      "cell_type": "code",
      "metadata": {
        "id": "k9zbyf7BzjKj"
      },
      "source": [
        "cancao = 'Roda mundo, roda gigante, roda moinho, roda pião.'"
      ],
      "execution_count": null,
      "outputs": []
    },
    {
      "cell_type": "markdown",
      "metadata": {
        "id": "guZMHXVq0FnC"
      },
      "source": [
        "Extraia da string abaixo o valor da taxa **selic** na variável `selic` e o valor do **ano** na variavel `ano`. Imprima os valores na tela."
      ]
    },
    {
      "cell_type": "code",
      "metadata": {
        "id": "cbx_P4IQ0agK",
        "colab": {
          "base_uri": "https://localhost:8080/"
        },
        "outputId": "4e7bc994-9072-40e0-ec8d-4bf08c66079b"
      },
      "source": [
        "noticia = 'Selic vai a 2,75% e supera expectativas; é a primeira alta em 6 anos.'\n",
        "selic = noticia.find('2')\n",
        "ano = noticia.find('anos')\n",
        "print(noticia[selic:selic+5])\n",
        "print(noticia[ano-2:ano-1])\n"
      ],
      "execution_count": 11,
      "outputs": [
        {
          "output_type": "stream",
          "name": "stdout",
          "text": [
            "2,75%\n",
            "6\n"
          ]
        }
      ]
    },
    {
      "cell_type": "markdown",
      "metadata": {
        "id": "wWzbu-OC0z3L"
      },
      "source": [
        "---"
      ]
    },
    {
      "cell_type": "markdown",
      "metadata": {
        "id": "no8w_Ati01xP"
      },
      "source": [
        "## 4\\. Booleanos"
      ]
    },
    {
      "cell_type": "markdown",
      "metadata": {
        "id": "D_0tC3SC099N"
      },
      "source": [
        "Utilize a tabela da verdade para responder: qual o valor da variável x?"
      ]
    },
    {
      "cell_type": "code",
      "metadata": {
        "id": "XwIEbxf91SpU"
      },
      "source": [
        "a = False\n",
        "b = True\n",
        "\n",
        "x = not a & b\n",
        "x = True"
      ],
      "execution_count": 14,
      "outputs": []
    }
  ]
}