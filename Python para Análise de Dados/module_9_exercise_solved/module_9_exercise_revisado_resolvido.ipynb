{
  "nbformat": 4,
  "nbformat_minor": 0,
  "metadata": {
    "colab": {
      "provenance": [],
      "toc_visible": true
    },
    "kernelspec": {
      "name": "python3",
      "display_name": "Python 3"
    }
  },
  "cells": [
    {
      "cell_type": "markdown",
      "metadata": {
        "id": "KJqp9AANOCtf"
      },
      "source": [
        "<img src=\"https://raw.githubusercontent.com/andre-marcos-perez/ebac-course-utils/main/media/logo/newebac_logo_black_half.png\" alt=\"ebac-logo\">\n",
        "\n",
        "---\n",
        "\n",
        "# **Módulo** | Python: Scripting\n",
        "Caderno de **Exercícios**<br>\n",
        "Professor [André Perez](https://www.linkedin.com/in/andremarcosperez/)\n",
        "\n",
        "---"
      ]
    },
    {
      "cell_type": "markdown",
      "metadata": {
        "id": "d9jDtUbDOE1-"
      },
      "source": [
        "# **Tópicos**\n",
        "\n",
        "<ol type=\"1\">\n",
        "  <li>Instalando o Python na própria máquina;</li>\n",
        "  <li>Executando código Python no terminal;</li>\n",
        "  <li>Criando arquivos de script Python.</li>\n",
        "</ol>"
      ]
    },
    {
      "cell_type": "markdown",
      "metadata": {
        "id": "SmoHgt-lwkpD"
      },
      "source": [
        "---"
      ]
    },
    {
      "cell_type": "markdown",
      "metadata": {
        "id": "GABI6OW8OfQ2"
      },
      "source": [
        "# **Exercícios**"
      ]
    },
    {
      "cell_type": "markdown",
      "metadata": {
        "id": "muD1vxozykSC"
      },
      "source": [
        "## 0\\. Preparando o ambiente"
      ]
    },
    {
      "cell_type": "markdown",
      "metadata": {
        "id": "4TT1IaG2DOuR"
      },
      "source": [
        " - Instalando o Python e o PIP na sua máquina."
      ]
    },
    {
      "cell_type": "markdown",
      "metadata": {
        "id": "eTI82AggBgY3"
      },
      "source": [
        "Nestes exercícios você vai precisar do Python (versão 3.x) e do PIP instalados na sua máquina. Abra o seu terminal (windows `cmd` ou linux/mcos `terminal`) e\n",
        "verifique se ambos estão instalados na sua máquina.\n",
        "\n",
        "```shell\n",
        "python -V # possível resultado: Python 3.8.5\n",
        "pip -V # possível resultado: pip 20.0.2 ...\n",
        "```\n",
        "\n",
        "Se pelo menos um dos softwares não estiver instalados na sua máquina, siga as instruções da aula para instala-los. Se você tiver enfrentando algum problema, entre em contato com o tutor."
      ]
    },
    {
      "cell_type": "markdown",
      "metadata": {
        "id": "PfJij-X6DS3o"
      },
      "source": [
        " - Instalando os pacotes necessários."
      ]
    },
    {
      "cell_type": "markdown",
      "metadata": {
        "id": "qfhQuCEaDb3H"
      },
      "source": [
        "Instale os pacotes necessários para conduzir os exercícios.\n",
        "\n",
        "```shell\n",
        "pip install pandas==1.2.4 seaborn==0.11.1 requests==2.25.1\n",
        "```"
      ]
    },
    {
      "cell_type": "markdown",
      "metadata": {
        "id": "zMN1Q3jdwoJm"
      },
      "source": [
        "---"
      ]
    },
    {
      "cell_type": "markdown",
      "metadata": {
        "id": "GWgNoJN8DHyY"
      },
      "source": [
        "## 1\\. Script de Extração"
      ]
    },
    {
      "cell_type": "markdown",
      "metadata": {
        "id": "YynK1vf2DHyj"
      },
      "source": [
        "O *script* para extrair a taxa CDI do site da B3 foi adaptado para ser executado 10 vezes para gerar nossa base de dados. Na sua máquina, crie o arquivo `extracao.py` com o `script` abaixo e execute-o com o comando:\n",
        "\n",
        "```shell\n",
        "python extracao.py\n",
        "```\n",
        "\n",
        "No final, você deve ter o arquivo `taxa-cdi.csv` com os dados extraídos."
      ]
    },
    {
      "cell_type": "code",
      "metadata": {
        "id": "hVK8QyFvE-wk"
      },
      "source": [
        "import os\n",
        "import time\n",
        "import json\n",
        "from random import random\n",
        "from datetime import datetime\n",
        "\n",
        "import requests\n",
        "\n",
        "URL = 'https://www2.cetip.com.br/ConsultarTaxaDi/ConsultarTaxaDICetip.aspx'\n",
        "\n",
        "# Criando a variável data e hora\n",
        "\n",
        "for _ in range(0, 10):\n",
        "\n",
        "  data_e_hora = datetime.now()\n",
        "  data = datetime.strftime(data_e_hora, '%Y/%m/%d')\n",
        "  hora = datetime.strftime(data_e_hora, '%H:%M:%S')\n",
        "\n",
        "  # Captando a taxa CDI do site da B3\n",
        "\n",
        "  try:\n",
        "    response = requests.get(URL)\n",
        "    response.raise_for_status()\n",
        "  except requests.HTTPError as exc:\n",
        "    print(\"Dado não encontrado, continuando.\")\n",
        "    cdi = None\n",
        "  except Exception as exc:\n",
        "    print(\"Erro, parando a execução.\")\n",
        "    raise exc\n",
        "  else:\n",
        "    dado = json.loads(response.text)\n",
        "    cdi = float(dado['taxa'].replace(',', '.')) + (random() - 0.5)\n",
        "\n",
        "  # Verificando se o arquivo \"taxa-cdi.csv\" existe\n",
        "\n",
        "  if os.path.exists('./taxa-cdi.csv') == False:\n",
        "\n",
        "    with open(file='./taxa-cdi.csv', mode='w', encoding='utf8') as fp:\n",
        "      fp.write('data,hora,taxa\\n')\n",
        "\n",
        "  # Salvando dados no arquivo \"taxa-cdi.csv\"\n",
        "\n",
        "  with open(file='./taxa-cdi.csv', mode='a', encoding='utf8') as fp:\n",
        "    fp.write(f'{data},{hora},{cdi}\\n')\n",
        "\n",
        "  time.sleep(2 + (random() - 0.5))\n",
        "\n",
        "print(\"Sucesso\")"
      ],
      "execution_count": null,
      "outputs": []
    },
    {
      "cell_type": "markdown",
      "metadata": {
        "id": "waxn4B2UDHyl"
      },
      "source": [
        "---"
      ]
    },
    {
      "cell_type": "markdown",
      "metadata": {
        "id": "finLQoyyGVmk"
      },
      "source": [
        "## 2\\. Script de Visualização"
      ]
    },
    {
      "cell_type": "markdown",
      "source": [],
      "metadata": {
        "id": "orkF5r82j_9w"
      }
    },
    {
      "cell_type": "markdown",
      "metadata": {
        "id": "99BrnqR4GVmy"
      },
      "source": [
        "Já o *script* para gerar um grafico da taxa CDI do site da B3 foi adaptado para utilizar o pacote Pandas. Na sua máquina, crie o arquivo `visualizacao.py` com o `script` abaixo e execute-o com o comando:\n",
        "\n",
        "```shell\n",
        "python visualizacao.py <nome-do-grafico>\n",
        "```\n",
        "\n",
        "O *script* espera um parametro de entrada com o nome do gráfico, portanto substitua o `<nome-do-grafico>` pelo nome do seu gráfico. No final, você deve ter uma imagem no formato png com o nome passado via parametro contendo a visualização dos dados gerados pelo *script* de extração.."
      ]
    },
    {
      "cell_type": "code",
      "metadata": {
        "id": "ozGsxHbPGVmz"
      },
      "source": [
        "import csv\n",
        "from sys import argv\n",
        "\n",
        "import pandas as pd\n",
        "import seaborn as sns\n",
        "\n",
        "# Extraindo as colunas hora e taxa\n",
        "\n",
        "df = pd.read_csv('./taxa-cdi.csv')\n",
        "\n",
        "# Salvando no grafico\n",
        "\n",
        "grafico = sns.lineplot(x=df['hora'], y=df['taxa'])\n",
        "_ = grafico.set_xticklabels(labels=df['hora'], rotation=90)\n",
        "grafico.get_figure().savefig(f\"{argv[1]}.png\")\n"
      ],
      "execution_count": null,
      "outputs": []
    },
    {
      "cell_type": "markdown",
      "metadata": {
        "id": "As3enQc2GVm1"
      },
      "source": [
        "---"
      ]
    },
    {
      "cell_type": "markdown",
      "metadata": {
        "id": "SS1PxxfHILHs"
      },
      "source": [
        "## 3\\. Combinando os scripts de extração e visualização."
      ]
    },
    {
      "cell_type": "markdown",
      "metadata": {
        "id": "R4hMJ6D2ILH3"
      },
      "source": [
        "Combine os *scripts* `visualizacao.py` e `extracao.py` no arquivo `analise.py` e execute-o na sua máquina, ele deve retornar os mesmos resultados: o arquivo csv e a imagem no formato png com o título escolhido via parametro de entrada. Procure seguir a organização proposta na aula (PEP8).\n",
        "\n",
        "```shell\n",
        "python analise.py <nome-do-grafico>\n",
        "```\n",
        "\n",
        "Além disso, copie o código na célula abaixo e tire os print's da tela executando o script na máquina como evidência para que o tutor possa avaliar seu exercício."
      ]
    },
    {
      "cell_type": "code",
      "metadata": {
        "id": "ogZClDvTILH3"
      },
      "source": [
        "# combinação dos scripts de extração e visualização\n",
        "\n",
        "import os\n",
        "import time\n",
        "import json\n",
        "import csv\n",
        "from sys import argv\n",
        "from random import random\n",
        "from datetime import datetime\n",
        "\n",
        "import pandas as pd\n",
        "import seaborn as sns\n",
        "import requests\n",
        "\n",
        "\n",
        "def extracao():\n",
        "    URL = 'https://www2.cetip.com.br/ConsultarTaxaDi/ConsultarTaxaDICetip.aspx'\n",
        "\n",
        "    # Criando a variável data e hora\n",
        "\n",
        "    for _ in range(0, 10):\n",
        "\n",
        "        data_e_hora = datetime.now()\n",
        "        data = datetime.strftime(data_e_hora, '%Y/%m/%d')\n",
        "        hora = datetime.strftime(data_e_hora, '%H:%M:%S')\n",
        "\n",
        "        # Captando a taxa CDI do site da B3\n",
        "\n",
        "        try:\n",
        "            response = requests.get(URL)\n",
        "            response.raise_for_status()\n",
        "        except requests.HTTPError as exc:\n",
        "            print(\"Dado não encontrado, continuando.\")\n",
        "            cdi = None\n",
        "        except Exception as exc:\n",
        "            print(\"Erro, parando a execução.\")\n",
        "            raise exc\n",
        "        else:\n",
        "            dado = json.loads(response.text)\n",
        "            cdi = float(dado['taxa'].replace(',', '.')) + (random() - 0.5)\n",
        "\n",
        "        # Verificando se o arquivo \"taxa-cdi.csv\" existe\n",
        "\n",
        "        if os.path.exists('./taxa-cdi.csv') == False:\n",
        "            with open(file='./taxa-cdi.csv', mode='w', encoding='utf8') as fp:\n",
        "                fp.write('data,hora,taxa\\n')\n",
        "\n",
        "        # Salvando dados no arquivo \"taxa-cdi.csv\"\n",
        "\n",
        "        with open(file='./taxa-cdi.csv', mode='a', encoding='utf8') as fp:\n",
        "            fp.write(f'{data},{hora},{cdi}\\n')\n",
        "\n",
        "        time.sleep(2 + (random() - 0.5))\n",
        "\n",
        "    print(\"Sucesso\")\n",
        "\n",
        "\n",
        "def visualizacao():\n",
        "    # Extraindo as colunas hora e taxa\n",
        "\n",
        "    df = pd.read_csv('taxa-cdi.csv')\n",
        "\n",
        "    # Salvando no grafico\n",
        "\n",
        "    grafico = sns.lineplot(x=df['hora'], y=df['taxa'])\n",
        "    _ = grafico.set_xticklabels(labels=df['hora'], rotation=90)\n",
        "    grafico.get_figure().savefig(f\"{argv[1]}.png\")\n",
        "\n",
        "\n",
        "extracao()\n",
        "visualizacao()\n"
      ],
      "execution_count": null,
      "outputs": []
    },
    {
      "cell_type": "markdown",
      "source": [
        "![imagem_2023-09-14_140141467.png](data:image/png;base64,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)\n"
      ],
      "metadata": {
        "id": "iWAEwC4xo1zJ"
      }
    },
    {
      "cell_type": "markdown",
      "metadata": {
        "id": "Fx--J2bOILH4"
      },
      "source": [
        "---"
      ]
    },
    {
      "cell_type": "markdown",
      "source": [
        "![image.png](data:image/png;base64,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)"
      ],
      "metadata": {
        "id": "gFI-FtsZpY3X"
      }
    }
  ]
}