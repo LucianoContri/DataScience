{
  "nbformat": 4,
  "nbformat_minor": 0,
  "metadata": {
    "colab": {
      "provenance": [],
      "toc_visible": true
    },
    "kernelspec": {
      "name": "python3",
      "display_name": "Python 3"
    }
  },
  "cells": [
    {
      "cell_type": "markdown",
      "metadata": {
        "id": "KJqp9AANOCtf"
      },
      "source": [
        "<img src=\"https://raw.githubusercontent.com/andre-marcos-perez/ebac-course-utils/main/media/logo/newebac_logo_black_half.png\" alt=\"ebac-logo\">\n",
        "\n",
        "---\n",
        "\n",
        "# **Módulo 02** | Python: Estruturas de Dados\n",
        "Caderno de **Exercícios**<br>\n",
        "Professor [André Perez](https://www.linkedin.com/in/andremarcosperez/)\n",
        "\n",
        "---"
      ]
    },
    {
      "cell_type": "markdown",
      "metadata": {
        "id": "d9jDtUbDOE1-"
      },
      "source": [
        "# **Tópicos**\n",
        "\n",
        "<ol type=\"1\">\n",
        "  <li>Listas;</li>\n",
        "  <li>Conjuntos;</li>\n",
        "  <li>Dicionários.</li>\n",
        "</ol>"
      ]
    },
    {
      "cell_type": "markdown",
      "metadata": {
        "id": "SmoHgt-lwkpD"
      },
      "source": [
        "---"
      ]
    },
    {
      "cell_type": "markdown",
      "metadata": {
        "id": "GABI6OW8OfQ2"
      },
      "source": [
        "# **Exercícios**"
      ]
    },
    {
      "cell_type": "markdown",
      "metadata": {
        "id": "muD1vxozykSC"
      },
      "source": [
        "## 1\\. Listas"
      ]
    },
    {
      "cell_type": "markdown",
      "metadata": {
        "id": "ahrFfCuBxJKs"
      },
      "source": [
        "Criei uma lista chamada `filmes` com o nome dos 10 primeiros filmes mais bem avaliados no site no [IMDB](https://www.imdb.com/chart/top/). Imprima o resultado."
      ]
    },
    {
      "cell_type": "code",
      "metadata": {
        "id": "OgL6Hv3bzOHI",
        "colab": {
          "base_uri": "https://localhost:8080/"
        },
        "outputId": "bfa6fd04-f8a3-4c78-882c-1af5a5e1dd63"
      },
      "source": [
        "filmes=[\n",
        "        'Um Sonho de Liberdade',\n",
        "        'O Poderoso Chefão',\n",
        "        'Batman: O Cavaleiro das Trevas',\n",
        "        'O Poderoso Chefão II',\n",
        "        '12 Homens e uma Sentença',\n",
        "        'A Lista de Schindler',\n",
        "        'O Senhor dos Anéis: O Retorno do Rei',\n",
        "        'Pulp Fiction - Tempo de Violência',\n",
        "        'O Senhor dos Anéis: A Sociedade do Anel',\n",
        "        'Três Homens em Conflito']\n",
        "print(filmes)"
      ],
      "execution_count": 5,
      "outputs": [
        {
          "output_type": "stream",
          "name": "stdout",
          "text": [
            "['Um Sonho de Liberdade', 'O Poderoso Chefão', 'Batman: O Cavaleiro das Trevas', 'O Poderoso Chefão II', '12 Homens e uma Sentença', 'A Lista de Schindler', 'O Senhor dos Anéis: O Retorno do Rei', 'Pulp Fiction - Tempo de Violência', 'O Senhor dos Anéis: A Sociedade do Anel', 'Três Homens em Conflito']\n"
          ]
        }
      ]
    },
    {
      "cell_type": "markdown",
      "metadata": {
        "id": "KI9zQRT2xa7m"
      },
      "source": [
        "Simule a movimentação do *ranking*. Utilize os métodos `insert` e `pop` para trocar a posição do primeiro e do segundo filme da lista. Imprima o resultado.\n",
        "\n"
      ]
    },
    {
      "cell_type": "code",
      "metadata": {
        "id": "zX3mA3_GzrXH",
        "colab": {
          "base_uri": "https://localhost:8080/"
        },
        "outputId": "be99cb22-636b-4444-d6e7-c291ddc27799"
      },
      "source": [
        "filmes.insert(0,filmes.pop(1))\n",
        "print(filmes)\n"
      ],
      "execution_count": 6,
      "outputs": [
        {
          "output_type": "stream",
          "name": "stdout",
          "text": [
            "['O Poderoso Chefão', 'Um Sonho de Liberdade', 'Batman: O Cavaleiro das Trevas', 'O Poderoso Chefão II', '12 Homens e uma Sentença', 'A Lista de Schindler', 'O Senhor dos Anéis: O Retorno do Rei', 'Pulp Fiction - Tempo de Violência', 'O Senhor dos Anéis: A Sociedade do Anel', 'Três Homens em Conflito']\n"
          ]
        }
      ]
    },
    {
      "cell_type": "markdown",
      "metadata": {
        "id": "zMN1Q3jdwoJm"
      },
      "source": [
        "---"
      ]
    },
    {
      "cell_type": "markdown",
      "metadata": {
        "id": "lxa5L6uF0ZJE"
      },
      "source": [
        "## 2\\. Conjuntos"
      ]
    },
    {
      "cell_type": "markdown",
      "metadata": {
        "id": "9JahS2Kj0d5u"
      },
      "source": [
        "Aconteceu um erro no seu *ranking*. Simule a duplicação dos três últimos filmes da lista. Imprima o resultado."
      ]
    },
    {
      "cell_type": "code",
      "metadata": {
        "id": "BnjnLBNC6PGe",
        "colab": {
          "base_uri": "https://localhost:8080/"
        },
        "outputId": "afa6cf04-4064-448e-db41-3ece598ad34c"
      },
      "source": [
        "duplicatas=filmes[len(filmes)-3:len(filmes)]\n",
        "filmes= filmes+duplicatas\n",
        "print(filmes)\n"
      ],
      "execution_count": 8,
      "outputs": [
        {
          "output_type": "stream",
          "name": "stdout",
          "text": [
            "['O Poderoso Chefão', 'Um Sonho de Liberdade', 'Batman: O Cavaleiro das Trevas', 'O Poderoso Chefão II', '12 Homens e uma Sentença', 'A Lista de Schindler', 'O Senhor dos Anéis: O Retorno do Rei', 'Pulp Fiction - Tempo de Violência', 'O Senhor dos Anéis: A Sociedade do Anel', 'Três Homens em Conflito', 'Pulp Fiction - Tempo de Violência', 'O Senhor dos Anéis: A Sociedade do Anel', 'Três Homens em Conflito']\n"
          ]
        }
      ]
    },
    {
      "cell_type": "markdown",
      "metadata": {
        "id": "suxTfCJB6ZiX"
      },
      "source": [
        "Utiliza a conversão `set` e `list` para remover os valores duplicados. Imprima o resultado."
      ]
    },
    {
      "cell_type": "code",
      "metadata": {
        "id": "ZvUGN-0n6joM",
        "colab": {
          "base_uri": "https://localhost:8080/"
        },
        "outputId": "8709c1aa-a77c-4e78-92a6-1016f18553c2"
      },
      "source": [
        "conjunto=set(filmes)\n",
        "print(conjunto)"
      ],
      "execution_count": 10,
      "outputs": [
        {
          "output_type": "stream",
          "name": "stdout",
          "text": [
            "{'O Senhor dos Anéis: A Sociedade do Anel', 'A Lista de Schindler', 'O Senhor dos Anéis: O Retorno do Rei', 'O Poderoso Chefão II', '12 Homens e uma Sentença', 'Um Sonho de Liberdade', 'O Poderoso Chefão', 'Três Homens em Conflito', 'Pulp Fiction - Tempo de Violência', 'Batman: O Cavaleiro das Trevas'}\n"
          ]
        }
      ]
    },
    {
      "cell_type": "markdown",
      "metadata": {
        "id": "ShkK35eQ6pAM"
      },
      "source": [
        "---"
      ]
    },
    {
      "cell_type": "markdown",
      "metadata": {
        "id": "EL_FzmxL6rTv"
      },
      "source": [
        "## 3\\. Dicionários"
      ]
    },
    {
      "cell_type": "markdown",
      "metadata": {
        "id": "i8l0gFqRCpfT"
      },
      "source": [
        "Repita os exercícios da parte 1 (listas). Os elementos da lista `filmes` devem ser dicionários no seguinte formato: `{'nome': <nome-do-filme>, 'ano': <ano do filme>}, 'sinopse': <sinopse do filme>}`."
      ]
    },
    {
      "cell_type": "code",
      "source": [
        "dicionario_top10={}\n",
        "ano=[1994, 1972, 2008, 1974, 1957, 1993, 2003, 1994, 2001, 1966]\n",
        "sinopse=[\"Dois homens presos se reúnem ao longo de vários anos, encontrando consolo e eventual redenção através de atos de decência comum.\",\"O patriarca idoso de uma dinastia do crime organizado transfere o controle de seu império clandestino para seu filho relutante.\",\"Quando a ameaça conhecida como O Coringa surge de seu passado, causa estragos e caos nas pessoas de Gotham. O Cavaleiro das Trevas deve aceitar um dos maiores testes para combater a injustiça.\",\"Em 1950, Michael Corleone, agora à frente da família, tenta expandir o negócio do crime a Las Vegas, Los Angeles e Cuba. Paralelamente, é revelada a história de Vito Corleone, e de como saiu da Sicília e chegou a Nova Iorque.\",\"O julgamento de um assassinato em Nova Iorque é frustrado por um único membro, cujo ceticismo força o júri a considerar cuidadosamente as evidências antes de dar o veredito.\",\"Na Polônia ocupada pelos alemães durante a Segunda Guerra Mundial, o industrial Oskar Schindler começa a ser preocupar com seus trabalhadores judeus depois de testemunhar sua perseguição pelos nazistas.\",\"Gandalf e Aragorn lideram o Mundo dos Homens contra o exército de Sauron para desviar o olhar de Frodo e Sam quando eles se aproximam á Montanha da Perdição com o Um Anel.\",\"As vidas de dois assassinos da máfia, um boxeador, um gângster e sua esposa, e um par de bandidos se entrelaçam em quatro histórias de violência e redenção.\",\"Um manso hobbit do Condado e oito companheiros partem em uma jornada para destruir o poderoso Um Anel e salvar a Terra-média das Trevas.\",\"Um impostor se junta com dois homens para encontrar fortuna num remoto cemitério.\"]\n",
        "for i in range (0,9):\n",
        "        dicionario_top10.update({i+1:{'nome':filmes[i],'ano':ano[i],'sinopse':sinopse[i]}})\n",
        "print(dicionario_top10)"
      ],
      "metadata": {
        "colab": {
          "base_uri": "https://localhost:8080/"
        },
        "id": "oY94AMOfnySo",
        "outputId": "3a718110-607a-4190-9e7d-790b6c45c1a3"
      },
      "execution_count": 21,
      "outputs": [
        {
          "output_type": "stream",
          "name": "stdout",
          "text": [
            "{1: {'nome': 'O Poderoso Chefão', 'ano': 1994, 'sinopse': 'Dois homens presos se reúnem ao longo de vários anos, encontrando consolo e eventual redenção através de atos de decência comum.'}, 2: {'nome': 'Um Sonho de Liberdade', 'ano': 1972, 'sinopse': 'O patriarca idoso de uma dinastia do crime organizado transfere o controle de seu império clandestino para seu filho relutante.'}, 3: {'nome': 'Batman: O Cavaleiro das Trevas', 'ano': 2008, 'sinopse': 'Quando a ameaça conhecida como O Coringa surge de seu passado, causa estragos e caos nas pessoas de Gotham. O Cavaleiro das Trevas deve aceitar um dos maiores testes para combater a injustiça.'}, 4: {'nome': 'O Poderoso Chefão II', 'ano': 1974, 'sinopse': 'Em 1950, Michael Corleone, agora à frente da família, tenta expandir o negócio do crime a Las Vegas, Los Angeles e Cuba. Paralelamente, é revelada a história de Vito Corleone, e de como saiu da Sicília e chegou a Nova Iorque.'}, 5: {'nome': '12 Homens e uma Sentença', 'ano': 1957, 'sinopse': 'O julgamento de um assassinato em Nova Iorque é frustrado por um único membro, cujo ceticismo força o júri a considerar cuidadosamente as evidências antes de dar o veredito.'}, 6: {'nome': 'A Lista de Schindler', 'ano': 1993, 'sinopse': 'Na Polônia ocupada pelos alemães durante a Segunda Guerra Mundial, o industrial Oskar Schindler começa a ser preocupar com seus trabalhadores judeus depois de testemunhar sua perseguição pelos nazistas.'}, 7: {'nome': 'O Senhor dos Anéis: O Retorno do Rei', 'ano': 2003, 'sinopse': 'Gandalf e Aragorn lideram o Mundo dos Homens contra o exército de Sauron para desviar o olhar de Frodo e Sam quando eles se aproximam á Montanha da Perdição com o Um Anel.'}, 8: {'nome': 'Pulp Fiction - Tempo de Violência', 'ano': 1994, 'sinopse': 'As vidas de dois assassinos da máfia, um boxeador, um gângster e sua esposa, e um par de bandidos se entrelaçam em quatro histórias de violência e redenção.'}, 9: {'nome': 'O Senhor dos Anéis: A Sociedade do Anel', 'ano': 2001, 'sinopse': 'Um manso hobbit do Condado e oito companheiros partem em uma jornada para destruir o poderoso Um Anel e salvar a Terra-média das Trevas.'}}\n"
          ]
        }
      ]
    }
  ]
}