{
 "nbformat": 4,
 "nbformat_minor": 0,
 "metadata": {
  "colab": {
   "provenance": []
  },
  "kernelspec": {
   "name": "python3",
   "display_name": "Python 3"
  }
 },
 "cells": [
  {
   "cell_type": "markdown",
   "metadata": {
    "id": "KJqp9AANOCtf"
   },
   "source": [
    "<img src=\"https://raw.githubusercontent.com/andre-marcos-perez/ebac-course-utils/main/media/logo/newebac_logo_black_half.png\" alt=\"ebac-logo\">\n",
    "\n",
    "---\n",
    "\n",
    "# **Módulo 07** | Python: Programação Orientada a Objetos\n",
    "Caderno de **Exercícios**<br>\n",
    "Professor [André Perez](https://www.linkedin.com/in/andremarcosperez/)\n",
    "\n",
    "---"
   ]
  },
  {
   "cell_type": "markdown",
   "metadata": {
    "id": "d9jDtUbDOE1-"
   },
   "source": [
    "# **Tópicos**\n",
    "\n",
    "<ol type=\"1\">\n",
    "  <li>from / import / as;</li>\n",
    "  <li>Módulo;</li>\n",
    "  <li>Pacote;</li>\n",
    "  <li>Baixando pacotes.</li>\n",
    "</ol>"
   ]
  },
  {
   "cell_type": "markdown",
   "metadata": {
    "id": "SmoHgt-lwkpD"
   },
   "source": [
    "---"
   ]
  },
  {
   "cell_type": "markdown",
   "metadata": {
    "id": "GABI6OW8OfQ2"
   },
   "source": [
    "# **Exercícios**"
   ]
  },
  {
   "cell_type": "markdown",
   "metadata": {
    "id": "muD1vxozykSC"
   },
   "source": [
    "## 0\\. Preparação do ambiente"
   ]
  },
  {
   "cell_type": "markdown",
   "metadata": {
    "id": "ahrFfCuBxJKs"
   },
   "source": [
    "Neste exercício vamos utilizar a base de dados de ações da bolsa de valores dos EUA, a Dow Jones. Os dados estão disponíveis para *download* neste [link](https://archive.ics.uci.edu/ml/datasets/Dow+Jones+Index). Vamos utilizar o pacote `wget` para fazer o *download* dos dados."
   ]
  },
  {
   "cell_type": "markdown",
   "metadata": {
    "id": "AtPc2994meNR"
   },
   "source": [
    " - Instalando o pacote `wget` na versão 3.2."
   ]
  },
  {
   "cell_type": "code",
   "metadata": {
    "id": "DzM3--8Gk_mU",
    "colab": {
     "base_uri": "https://localhost:8080/"
    },
    "outputId": "af8ad72a-185b-4f50-d989-a46c23424230"
   },
   "source": [
    "!pip install wget==3.2"
   ],
   "execution_count": 1,
   "outputs": []
  },
  {
   "cell_type": "markdown",
   "metadata": {
    "id": "tVc1aUTmmkIU"
   },
   "source": [
    " - Fazendo o download dos dados no arquivo compactado `dados.zip`."
   ]
  },
  {
   "cell_type": "code",
   "metadata": {
    "id": "SZWlsi2blOOt",
    "colab": {
     "base_uri": "https://localhost:8080/",
     "height": 35
    },
    "outputId": "fe6482b0-9432-495c-a9fc-c18f1bc82195"
   },
   "source": [
    "import wget\n",
    "\n",
    "wget.download(url='https://archive.ics.uci.edu/ml/machine-learning-databases/00312/dow_jones_index.zip', out='./dados.zip')"
   ],
   "execution_count": 2,
   "outputs": []
  },
  {
   "cell_type": "markdown",
   "metadata": {
    "id": "339oiie2mvCP"
   },
   "source": [
    " - Descompactando os `dados` na pasta dados com o pacote nativo `zipfile`."
   ]
  },
  {
   "cell_type": "code",
   "metadata": {
    "id": "6tFPV081loK4"
   },
   "source": [
    "import zipfile\n",
    "\n",
    "with zipfile.ZipFile('./dados.zip', 'r') as fp:\n",
    "  fp.extractall('./dados')"
   ],
   "execution_count": 3,
   "outputs": []
  },
  {
   "cell_type": "markdown",
   "metadata": {
    "id": "KI9zQRT2xa7m"
   },
   "source": [
    "Verifique a pasta dados criada, ela deve conter dois arquivos:\n",
    "\n",
    " - **dow_jones_index.data**: um arquivo com os dados;\n",
    " - **dow_jones_index.names**: um arquivo com a descrição completa dos dados.\n",
    "\n",
    "É possível observar que o arquivo de dados é um arquivo separado por virgulas, o famoso `csv`. Vamos renomear o arquivo de dados para que ele tenha a extensão `csv` com o pacote nativo `os`."
   ]
  },
  {
   "cell_type": "markdown",
   "metadata": {
    "id": "5k7LLQU5n8aY"
   },
   "source": [
    "- Renomeando o arquivo com o pacote nativo `os`."
   ]
  },
  {
   "cell_type": "code",
   "metadata": {
    "id": "PyZ2zqwcn5CU"
   },
   "source": [
    "import os\n",
    "\n",
    "os.rename('./dados/dow_jones_index.data', './dados/dow_jones_index.csv')"
   ],
   "execution_count": 4,
   "outputs": []
  },
  {
   "cell_type": "markdown",
   "metadata": {
    "id": "2Zf74P1yoeYc"
   },
   "source": [
    "Pronto! Abra o arquivo e o Google Colab irá apresentar uma visualização bem legal dos dados."
   ]
  },
  {
   "cell_type": "markdown",
   "metadata": {
    "id": "zMN1Q3jdwoJm"
   },
   "source": [
    "---"
   ]
  },
  {
   "cell_type": "markdown",
   "metadata": {
    "id": "FwqgmwxakNh6"
   },
   "source": [
    "## 1\\. Pandas"
   ]
  },
  {
   "cell_type": "markdown",
   "metadata": {
    "id": "It_mfyHzkRJ8"
   },
   "source": [
    "Para processar os dados, vamos utilizar o pacote `pandas` na versão `1.1.5`. A documentação completa por ser encontrada neste [link](https://pandas.pydata.org/docs/)"
   ]
  },
  {
   "cell_type": "code",
   "metadata": {
    "id": "DF3DkjPjpn1X",
    "colab": {
     "base_uri": "https://localhost:8080/"
    },
    "outputId": "e1da2c74-5a25-4b53-a1a1-2333a40600ed"
   },
   "source": [
    "!pip install pandas==1.1.5"
   ],
   "execution_count": 6,
   "outputs": []
  },
  {
   "cell_type": "markdown",
   "metadata": {
    "id": "CqVcTZE-wyBt"
   },
   "source": [
    "Vamos importar o pacote com o apelido (alias) `pd`."
   ]
  },
  {
   "cell_type": "code",
   "metadata": {
    "id": "qjA_H6WapxK3"
   },
   "source": [
    "import pandas as pd"
   ],
   "execution_count": 7,
   "outputs": []
  },
  {
   "cell_type": "markdown",
   "metadata": {
    "id": "KFQ77on-w0Fo"
   },
   "source": [
    "Estamos prontos para ler o arquivo."
   ]
  },
  {
   "cell_type": "code",
   "metadata": {
    "id": "-1yL07iwqWk3"
   },
   "source": [
    "df = pd.read_csv('./dados/dow_jones_index.csv')"
   ],
   "execution_count": 8,
   "outputs": []
  },
  {
   "cell_type": "markdown",
   "metadata": {
    "id": "mnLvLSWCxGt_"
   },
   "source": [
    "O pandas trabalha com o conceito de dataframe, uma estrutura de dados com muitos métodos e atributos que aceleram o processamento de dados. Alguns exemplos:"
   ]
  },
  {
   "cell_type": "markdown",
   "metadata": {
    "id": "rf6pevg7xIuQ"
   },
   "source": [
    " - Visualizando as `n` primeiras linhas:"
   ]
  },
  {
   "cell_type": "code",
   "metadata": {
    "id": "fqF7AQvRqn69",
    "colab": {
     "base_uri": "https://localhost:8080/",
     "height": 383
    },
    "outputId": "b7168f6e-1cc4-4103-cc55-38e34aabffd8"
   },
   "source": [
    "df.head(n=10)"
   ],
   "execution_count": 9,
   "outputs": []
  },
  {
   "cell_type": "markdown",
   "metadata": {
    "id": "Jna7T1eqxRmH"
   },
   "source": [
    " - Visualizando o nome das colunas:"
   ]
  },
  {
   "cell_type": "code",
   "metadata": {
    "id": "bX_7C45pxU8Q",
    "colab": {
     "base_uri": "https://localhost:8080/"
    },
    "outputId": "a1daaf20-25fe-4bf6-f2be-c306123658e1"
   },
   "source": [
    "df.columns.to_list()"
   ],
   "execution_count": 10,
   "outputs": []
  },
  {
   "cell_type": "markdown",
   "metadata": {
    "id": "sqLB9abQxbE-"
   },
   "source": [
    " - Verificando o número de linhas e colunas."
   ]
  },
  {
   "cell_type": "code",
   "metadata": {
    "id": "sBrOUuUVxe7A",
    "colab": {
     "base_uri": "https://localhost:8080/"
    },
    "outputId": "e20e2813-8064-40a5-ec5c-c762dce5bcc9"
   },
   "source": [
    "linhas, colunas = df.shape\n",
    "print(f'Número de linhas: {linhas}')\n",
    "print(f'Número de colunas: {colunas}')"
   ],
   "execution_count": 11,
   "outputs": []
  },
  {
   "cell_type": "markdown",
   "metadata": {
    "id": "bSN4zYEKyC7L"
   },
   "source": [
    "Vamos selecionar os valores de abertura, fechamento, máximo e mínimo das ações do McDonalds, listado na Dow Jones como MCD:"
   ]
  },
  {
   "cell_type": "markdown",
   "metadata": {
    "id": "CyTuPJmgzbZd"
   },
   "source": [
    " - Selecionando as linha do dataframe original `df` em que a coluna `stock` é igual a `MCD`."
   ]
  },
  {
   "cell_type": "code",
   "metadata": {
    "id": "25XUDMPqqwgH"
   },
   "source": [
    "df_mcd = df[df['stock'] == 'MCD']"
   ],
   "execution_count": 12,
   "outputs": []
  },
  {
   "cell_type": "markdown",
   "metadata": {
    "id": "ga7Z_GA0zxzA"
   },
   "source": [
    " - Selecionando apenas as colunas de data e valores de ações."
   ]
  },
  {
   "cell_type": "code",
   "metadata": {
    "id": "95LDI4jCrMGI"
   },
   "source": [
    "df_mcd = df_mcd[['date', 'open', 'high', 'low', 'close']]"
   ],
   "execution_count": 13,
   "outputs": []
  },
  {
   "cell_type": "markdown",
   "metadata": {
    "id": "ApnHMNYOyQ8T"
   },
   "source": [
    "Excelente, o problema é que as colunas com os valores possuem o carater `$` e são do tipo texto (`object` no `pandas`)."
   ]
  },
  {
   "cell_type": "code",
   "metadata": {
    "id": "DDZZralSr0Zk",
    "colab": {
     "base_uri": "https://localhost:8080/",
     "height": 363
    },
    "outputId": "8fb068de-9d2f-417f-e7e9-27f8e7d800e5"
   },
   "source": [
    "df_mcd.head(n=10)"
   ],
   "execution_count": 14,
   "outputs": []
  },
  {
   "cell_type": "code",
   "metadata": {
    "id": "8cx7gP6TyjOu",
    "colab": {
     "base_uri": "https://localhost:8080/"
    },
    "outputId": "6c05b62e-318d-40ff-9031-6cec0cfd5479"
   },
   "source": [
    "df_mcd.dtypes"
   ],
   "execution_count": 15,
   "outputs": []
  },
  {
   "cell_type": "markdown",
   "metadata": {
    "id": "IsSYxtOOys72"
   },
   "source": [
    "Vamos limpar as colunas com o método `apply`, que permite a aplicação de uma função anônima (`lambda`) qualquer. A função `lambda` remove o caracter **$** e faz a conversão do tipo de `str` para `float`."
   ]
  },
  {
   "cell_type": "code",
   "metadata": {
    "id": "u3OGT0r_sFCJ"
   },
   "source": [
    "for col in ['open', 'high', 'low', 'close']:\n",
    "  df_mcd[col] = df_mcd[col].apply(lambda value: float(value.split(sep='$')[-1]))"
   ],
   "execution_count": 16,
   "outputs": []
  },
  {
   "cell_type": "markdown",
   "metadata": {
    "id": "4xEkH-RdzLUi"
   },
   "source": [
    "Verifique novamente os dados e seus tipos."
   ]
  },
  {
   "cell_type": "code",
   "metadata": {
    "id": "4w3-4q1gsv3Y",
    "colab": {
     "base_uri": "https://localhost:8080/",
     "height": 363
    },
    "outputId": "53232c07-2d52-463c-b9de-0ea1aff99998"
   },
   "source": [
    "df_mcd.head(n=10)"
   ],
   "execution_count": 17,
   "outputs": []
  },
  {
   "cell_type": "code",
   "metadata": {
    "id": "FDZyy9SVzPoK",
    "colab": {
     "base_uri": "https://localhost:8080/"
    },
    "outputId": "b59b8c26-2a8e-40e2-e9db-be60810a1bdc"
   },
   "source": [
    "df_mcd.dtypes"
   ],
   "execution_count": 18,
   "outputs": []
  },
  {
   "cell_type": "markdown",
   "metadata": {
    "id": "lIzrYVGWkRJ9"
   },
   "source": [
    "Excelente, agora podemos explorar os dados visualmente."
   ]
  },
  {
   "cell_type": "markdown",
   "metadata": {
    "id": "_-TI78q1yuQa"
   },
   "source": [
    "**Agora é a sua vez!** Conduza o mesmo processo para extrair e tratar os dados da empresa Coca-Cola (`stock` column igual a `KO`)."
   ]
  },
  {
   "cell_type": "markdown",
   "metadata": {
    "id": "NUd49lN4-Wyv"
   },
   "source": [
    " - Selecionando as linha do dataframe original `df` em que a coluna `stock` é igual a `KO`."
   ]
  },
  {
   "cell_type": "code",
   "metadata": {
    "id": "fGbOS3kNzNNF"
   },
   "source": [
    "# extração e tratamento dos dados da empresa Coca-Cola.\n",
    "df_ko = df[df['stock'] == 'KO']"
   ],
   "execution_count": 43,
   "outputs": []
  },
  {
   "cell_type": "markdown",
   "metadata": {
    "id": "7fRSH8d4-IcX"
   },
   "source": [
    "Vamos selecionar os valores de abertura, fechamento, máximo e mínimo das ações da empresa Coca-Cola, listado na Dow Jones como KO:"
   ]
  },
  {
   "cell_type": "markdown",
   "metadata": {
    "id": "rXOSpT2A-dyR"
   },
   "source": [
    " - Selecionando apenas as colunas de data e valores de ações."
   ]
  },
  {
   "cell_type": "code",
   "source": [
    "df_ko= df_ko[['date', 'open', 'high', 'low', 'close']]"
   ],
   "metadata": {
    "id": "H8BPfG8t-eZu"
   },
   "execution_count": 44,
   "outputs": []
  },
  {
   "cell_type": "markdown",
   "metadata": {
    "id": "6GzON3XR-ohH"
   },
   "source": [
    "Excelente, o problema é que as colunas com os valores possuem o carater `$` e são do tipo texto (`object` no `pandas`)."
   ]
  },
  {
   "cell_type": "code",
   "metadata": {
    "id": "N-rvXLbD-ven",
    "colab": {
     "base_uri": "https://localhost:8080/",
     "height": 363
    },
    "outputId": "3978812f-954e-43ae-af4b-83955f2e9b1d"
   },
   "source": [
    "# Visualize os dados do dataframe\n",
    "df_ko.head(n=10)"
   ],
   "execution_count": 45,
   "outputs": []
  },
  {
   "cell_type": "code",
   "source": [
    "# Verifique o tipo dos dados\n",
    "df_ko.dtypes"
   ],
   "metadata": {
    "id": "R-ElTN_P-zOZ",
    "colab": {
     "base_uri": "https://localhost:8080/"
    },
    "outputId": "c76337ac-c300-4cd6-f793-02066e37d7f6"
   },
   "execution_count": 46,
   "outputs": []
  },
  {
   "cell_type": "markdown",
   "metadata": {
    "id": "92hVLZwJ-19w"
   },
   "source": [
    "Vamos limpar as colunas com o método `apply`, que permite a aplicação de uma função anônima (`lambda`) qualquer. A função `lambda` remove o caracter **$** e faz a conversão do tipo de `str` para `float`."
   ]
  },
  {
   "cell_type": "code",
   "source": [
    "for col in ['open', 'high', 'low', 'close']:\n",
    "  df_ko[col]=df_ko[col].apply(lambda value: float(value.split(sep='$')[-1]))"
   ],
   "metadata": {
    "id": "bmSrE0Bx-5-U"
   },
   "execution_count": 47,
   "outputs": []
  },
  {
   "cell_type": "markdown",
   "metadata": {
    "id": "X5jYir-f_Axf"
   },
   "source": [
    "Verifique novamente os dados e seus tipos."
   ]
  },
  {
   "cell_type": "code",
   "source": [
    "# Visualize novamente os dados do dataframe\n",
    "df_ko.head(n=10)"
   ],
   "metadata": {
    "id": "8xyny0qy_BU0",
    "colab": {
     "base_uri": "https://localhost:8080/",
     "height": 363
    },
    "outputId": "9c2cb8d5-3c70-4ba9-98e3-a10a3778cb20"
   },
   "execution_count": 48,
   "outputs": []
  },
  {
   "cell_type": "code",
   "source": [
    "# Verifique novamente o tipo dos dados\n",
    "df_ko.dtypes"
   ],
   "metadata": {
    "id": "R6e7i5ry_BhV",
    "colab": {
     "base_uri": "https://localhost:8080/"
    },
    "outputId": "57b88196-ac58-461d-a338-8c07fdc43d06"
   },
   "execution_count": 49,
   "outputs": []
  },
  {
   "cell_type": "markdown",
   "metadata": {
    "id": "pNBMYO0g--1X"
   },
   "source": [
    "Excelente, agora podemos explorar os dados visualmente."
   ]
  },
  {
   "cell_type": "markdown",
   "metadata": {
    "id": "AAyOBwWQkRJ-"
   },
   "source": [
    "---"
   ]
  },
  {
   "cell_type": "markdown",
   "metadata": {
    "id": "1YCQI-BskR5H"
   },
   "source": [
    "## 2\\. Seaborn"
   ]
  },
  {
   "cell_type": "markdown",
   "metadata": {
    "id": "VSgsKxY4kR5I"
   },
   "source": [
    "Para visualizar os dados, vamos utilizar o pacote `seaborn` na versão `0.11.1`. A documentação completa por ser encontrada neste [link](https://seaborn.pydata.org/)"
   ]
  },
  {
   "cell_type": "code",
   "metadata": {
    "id": "fYNfn2eDs1MN",
    "colab": {
     "base_uri": "https://localhost:8080/"
    },
    "outputId": "b0c1e08f-7c91-4892-f878-3fce48c81283"
   },
   "source": [
    "!pip install seaborn==0.11.1"
   ],
   "execution_count": 37,
   "outputs": []
  },
  {
   "cell_type": "markdown",
   "metadata": {
    "id": "DtuGrHyQ0CJ-"
   },
   "source": [
    "Vamos importar o pacote com o apelido (alias) `sns`."
   ]
  },
  {
   "cell_type": "code",
   "metadata": {
    "id": "fAeWYQjis8E5"
   },
   "source": [
    "import seaborn as sns"
   ],
   "execution_count": 38,
   "outputs": []
  },
  {
   "cell_type": "markdown",
   "metadata": {
    "id": "TqYmOY1m0Eh3"
   },
   "source": [
    "Vamos visualizar os valores de abertura das ações ao longo do tempo."
   ]
  },
  {
   "cell_type": "code",
   "metadata": {
    "id": "7-5D1wKcwAuO",
    "colab": {
     "base_uri": "https://localhost:8080/",
     "height": 561
    },
    "outputId": "04bd5e33-effd-4d68-db45-2f8de97ac6b9"
   },
   "source": [
    "plot = sns.lineplot(x=\"date\", y=\"open\", data=df_mcd)\n",
    "_ = plot.set_xticklabels(labels=df_mcd['date'], rotation=90)"
   ],
   "execution_count": 39,
   "outputs": []
  },
  {
   "cell_type": "markdown",
   "metadata": {
    "id": "gh5Fz23t0MA-"
   },
   "source": [
    "Vamos também visualizar os valores de fechamento das ações ao longo do tempo."
   ]
  },
  {
   "cell_type": "code",
   "metadata": {
    "id": "5QARzs47wP_O",
    "colab": {
     "base_uri": "https://localhost:8080/",
     "height": 561
    },
    "outputId": "b6c9c2b8-80e5-4ab2-c5b0-a6dbf355f6f6"
   },
   "source": [
    "plot = sns.lineplot(x=\"date\", y=\"close\", data=df_mcd)\n",
    "_ = plot.set_xticklabels(labels=df_mcd['date'], rotation=90)"
   ],
   "execution_count": 40,
   "outputs": []
  },
  {
   "cell_type": "markdown",
   "metadata": {
    "id": "08BOzhId0TfH"
   },
   "source": [
    "Para facilitar a comparação, vamo visualizar os quatro valores no mesmo gráfico."
   ]
  },
  {
   "cell_type": "code",
   "metadata": {
    "id": "boKoMZbXtAJV",
    "colab": {
     "base_uri": "https://localhost:8080/",
     "height": 561
    },
    "outputId": "7b1d2226-1386-42da-def6-cfbcb92883c9"
   },
   "source": [
    "plot = sns.lineplot(x=\"date\", y=\"value\", hue='variable', data=pd.melt(df_mcd, ['date']))\n",
    "_ = plot.set_xticklabels(labels=df_mcd['date'], rotation=90)"
   ],
   "execution_count": 41,
   "outputs": []
  },
  {
   "cell_type": "markdown",
   "metadata": {
    "id": "H6nM4hJQ1mnb"
   },
   "source": [
    "Para finalizar, vamos salvar o gráfico numa figura."
   ]
  },
  {
   "cell_type": "code",
   "metadata": {
    "id": "I7Wncbvd1lzE"
   },
   "source": [
    "plot.figure.savefig(\"./mcd.png\")"
   ],
   "execution_count": 42,
   "outputs": []
  },
  {
   "cell_type": "markdown",
   "metadata": {
    "id": "4mJNcUM7kR5J"
   },
   "source": [
    "**Agora é a sua vez,** faça o gráfico acima para a empresa Coca-Cola e salve a imagem com o nome `ko.png`."
   ]
  },
  {
   "cell_type": "code",
   "metadata": {
    "id": "0S_xMlt_zjwV"
   },
   "source": [
    "# visualização dos dados da Coca-Cola.\n"
   ],
   "execution_count": null,
   "outputs": []
  },
  {
   "cell_type": "markdown",
   "metadata": {
    "id": "0rYmjC-q_jCc"
   },
   "source": [
    "Vamos visualizar os valores de abertura das ações ao longo do tempo."
   ]
  },
  {
   "cell_type": "code",
   "source": [
    "plot= sns.lineplot(x='date',y='open',data=df_ko)\n",
    "_ = plot.set_xticklabels(labels=df_ko['date'], rotation=90)"
   ],
   "metadata": {
    "id": "SxPl6w-s_kVm",
    "colab": {
     "base_uri": "https://localhost:8080/",
     "height": 561
    },
    "outputId": "9165a8a0-e9af-4d1a-a985-ddcc7fae80ff"
   },
   "execution_count": 50,
   "outputs": []
  },
  {
   "cell_type": "markdown",
   "metadata": {
    "id": "d3GrC1rl_m4_"
   },
   "source": [
    "Vamos também visualizar os valores de fechamento das ações ao longo do tempo."
   ]
  },
  {
   "cell_type": "code",
   "source": [
    "plot= sns.lineplot(x='date',y='close',data=df_ko)\n",
    "_ = plot.set_xticklabels(labels=df_ko['date'], rotation=90)"
   ],
   "metadata": {
    "id": "VBSyo4p3_nvb",
    "colab": {
     "base_uri": "https://localhost:8080/",
     "height": 561
    },
    "outputId": "82533ae8-5976-4f5f-be6e-c95ccd26c3fe"
   },
   "execution_count": 51,
   "outputs": []
  },
  {
   "cell_type": "markdown",
   "metadata": {
    "id": "a9hHy2nA_qII"
   },
   "source": [
    "Para facilitar a comparação, vamo visualizar os quatro valores no mesmo gráfico."
   ]
  },
  {
   "cell_type": "code",
   "source": [
    "plot= sns.lineplot(x='date',y='value',hue='variable',data=pd.melt(df_ko,['date']))\n",
    "_ = plot.set_xticklabels(labels=df_ko['date'], rotation=90)"
   ],
   "metadata": {
    "id": "CM8Ghjdw_rt7",
    "colab": {
     "base_uri": "https://localhost:8080/",
     "height": 561
    },
    "outputId": "3a263d36-0658-4ce3-f659-29eec1032f85"
   },
   "execution_count": 55,
   "outputs": []
  },
  {
   "cell_type": "markdown",
   "metadata": {
    "id": "A1ul0Eve_vW3"
   },
   "source": [
    "Para finalizar, vamos salvar o gráfico numa figura."
   ]
  },
  {
   "cell_type": "code",
   "source": [
    "plot.figure.savefig(\"./ko.png\")"
   ],
   "metadata": {
    "id": "V7yzkTck_wFv"
   },
   "execution_count": 56,
   "outputs": []
  },
  {
   "cell_type": "markdown",
   "metadata": {
    "id": "fYM0WRi0zoQx"
   },
   "source": [
    "Analise as duas imagens e escreva pelo menos um *insight* que você consegue extrair dos dados. Fique a vontade para escrever quantos *insights* você quiser."
   ]
  },
  {
   "cell_type": "markdown",
   "source": [
    "Obs: *Insights* são observações sobre o que você percebe/entende/interpreta em suas análises. No caso deste exercício, você vai analisar os dados dos gráficos da empresa McDonalds e da empresa Cola-Cola e notar o que os dados gerados podem ser interessante, que tipo de interpretação o comportamento dos dados estão te trazendo."
   ],
   "metadata": {
    "id": "0RT4NASCA5QI"
   }
  },
  {
   "cell_type": "markdown",
   "metadata": {
    "id": "xGcI2Yl-0xBY"
   },
   "source": [
    "**Insight #1**: ..."
   ]
  },
  {
   "cell_type": "markdown",
   "source": [
    "os valores de abertura encostam mais nas mínimas e os de fechamento nas máximas.."
   ],
   "metadata": {
    "id": "nLFqjnibN3ux"
   }
  },
  {
   "cell_type": "markdown",
   "metadata": {
    "id": "8Ubx9z_NkR5K"
   },
   "source": [
    "---"
   ]
  }
 ]
}
